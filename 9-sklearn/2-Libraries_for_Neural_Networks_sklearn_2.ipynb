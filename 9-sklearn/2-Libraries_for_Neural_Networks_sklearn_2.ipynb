{
  "nbformat": 4,
  "nbformat_minor": 0,
  "metadata": {
    "colab": {
      "name": "Libraries for Neural Networks - sklearn 2.ipynb",
      "provenance": []
    },
    "kernelspec": {
      "name": "pythonjvsc74a57bd07215976ab57f31a6ebec70d3fd758ef1ca3de40a4ca79a502a790142e174e29a",
      "display_name": "Python 3.8.2 64-bit ('venv': venv)"
    },
    "metadata": {
      "interpreter": {
        "hash": "7215976ab57f31a6ebec70d3fd758ef1ca3de40a4ca79a502a790142e174e29a"
      }
    }
  },
  "cells": [
    {
      "cell_type": "markdown",
      "metadata": {
        "id": "LFopIDwcj4eR"
      },
      "source": [
        "# Libraries for Neural Networks - sklearn 2 (regression)\n"
      ]
    },
    {
      "cell_type": "markdown",
      "metadata": {
        "id": "hmwQCDnBmJil"
      },
      "source": [
        "## Loading the data\n",
        "\n",
        "https://www.cs.toronto.edu/~delve/data/boston/bostonDetail.html"
      ]
    },
    {
      "cell_type": "code",
      "metadata": {
        "id": "dJM3q5bMjtBi"
      },
      "source": [
        "from sklearn.neural_network import MLPRegressor\n",
        "from sklearn import datasets"
      ],
      "execution_count": 1,
      "outputs": []
    },
    {
      "cell_type": "code",
      "metadata": {
        "id": "seLQVWizktHd"
      },
      "source": [
        "boston = datasets.load_boston()"
      ],
      "execution_count": 2,
      "outputs": []
    },
    {
      "cell_type": "code",
      "metadata": {
        "id": "0Xt-g4ICk1Hn",
        "outputId": "5effd227-959d-49c4-c9d0-cc5da43c374a",
        "colab": {
          "base_uri": "https://localhost:8080/",
          "height": 235
        }
      },
      "source": [
        "inputs = boston.data\n",
        "inputs"
      ],
      "execution_count": 3,
      "outputs": [
        {
          "output_type": "execute_result",
          "data": {
            "text/plain": [
              "array([[6.3200e-03, 1.8000e+01, 2.3100e+00, ..., 1.5300e+01, 3.9690e+02,\n",
              "        4.9800e+00],\n",
              "       [2.7310e-02, 0.0000e+00, 7.0700e+00, ..., 1.7800e+01, 3.9690e+02,\n",
              "        9.1400e+00],\n",
              "       [2.7290e-02, 0.0000e+00, 7.0700e+00, ..., 1.7800e+01, 3.9283e+02,\n",
              "        4.0300e+00],\n",
              "       ...,\n",
              "       [6.0760e-02, 0.0000e+00, 1.1930e+01, ..., 2.1000e+01, 3.9690e+02,\n",
              "        5.6400e+00],\n",
              "       [1.0959e-01, 0.0000e+00, 1.1930e+01, ..., 2.1000e+01, 3.9345e+02,\n",
              "        6.4800e+00],\n",
              "       [4.7410e-02, 0.0000e+00, 1.1930e+01, ..., 2.1000e+01, 3.9690e+02,\n",
              "        7.8800e+00]])"
            ]
          },
          "metadata": {},
          "execution_count": 3
        }
      ]
    },
    {
      "cell_type": "code",
      "metadata": {
        "id": "eLqWkIrkk7La",
        "outputId": "257fb677-c024-428b-a8d3-0a44d496a213",
        "colab": {
          "base_uri": "https://localhost:8080/",
          "height": 50
        }
      },
      "source": [
        "boston.feature_names"
      ],
      "execution_count": 4,
      "outputs": [
        {
          "output_type": "execute_result",
          "data": {
            "text/plain": [
              "array(['CRIM', 'ZN', 'INDUS', 'CHAS', 'NOX', 'RM', 'AGE', 'DIS', 'RAD',\n",
              "       'TAX', 'PTRATIO', 'B', 'LSTAT'], dtype='<U7')"
            ]
          },
          "metadata": {},
          "execution_count": 4
        }
      ]
    },
    {
      "cell_type": "code",
      "metadata": {
        "id": "SUPFkDvok9-N",
        "outputId": "f61809b3-d136-4ac3-9864-c33e1b1e8593",
        "colab": {
          "base_uri": "https://localhost:8080/",
          "height": 790
        }
      },
      "source": [
        "outputs = boston.target\n",
        "outputs"
      ],
      "execution_count": 5,
      "outputs": [
        {
          "output_type": "execute_result",
          "data": {
            "text/plain": [
              "array([24. , 21.6, 34.7, 33.4, 36.2, 28.7, 22.9, 27.1, 16.5, 18.9, 15. ,\n",
              "       18.9, 21.7, 20.4, 18.2, 19.9, 23.1, 17.5, 20.2, 18.2, 13.6, 19.6,\n",
              "       15.2, 14.5, 15.6, 13.9, 16.6, 14.8, 18.4, 21. , 12.7, 14.5, 13.2,\n",
              "       13.1, 13.5, 18.9, 20. , 21. , 24.7, 30.8, 34.9, 26.6, 25.3, 24.7,\n",
              "       21.2, 19.3, 20. , 16.6, 14.4, 19.4, 19.7, 20.5, 25. , 23.4, 18.9,\n",
              "       35.4, 24.7, 31.6, 23.3, 19.6, 18.7, 16. , 22.2, 25. , 33. , 23.5,\n",
              "       19.4, 22. , 17.4, 20.9, 24.2, 21.7, 22.8, 23.4, 24.1, 21.4, 20. ,\n",
              "       20.8, 21.2, 20.3, 28. , 23.9, 24.8, 22.9, 23.9, 26.6, 22.5, 22.2,\n",
              "       23.6, 28.7, 22.6, 22. , 22.9, 25. , 20.6, 28.4, 21.4, 38.7, 43.8,\n",
              "       33.2, 27.5, 26.5, 18.6, 19.3, 20.1, 19.5, 19.5, 20.4, 19.8, 19.4,\n",
              "       21.7, 22.8, 18.8, 18.7, 18.5, 18.3, 21.2, 19.2, 20.4, 19.3, 22. ,\n",
              "       20.3, 20.5, 17.3, 18.8, 21.4, 15.7, 16.2, 18. , 14.3, 19.2, 19.6,\n",
              "       23. , 18.4, 15.6, 18.1, 17.4, 17.1, 13.3, 17.8, 14. , 14.4, 13.4,\n",
              "       15.6, 11.8, 13.8, 15.6, 14.6, 17.8, 15.4, 21.5, 19.6, 15.3, 19.4,\n",
              "       17. , 15.6, 13.1, 41.3, 24.3, 23.3, 27. , 50. , 50. , 50. , 22.7,\n",
              "       25. , 50. , 23.8, 23.8, 22.3, 17.4, 19.1, 23.1, 23.6, 22.6, 29.4,\n",
              "       23.2, 24.6, 29.9, 37.2, 39.8, 36.2, 37.9, 32.5, 26.4, 29.6, 50. ,\n",
              "       32. , 29.8, 34.9, 37. , 30.5, 36.4, 31.1, 29.1, 50. , 33.3, 30.3,\n",
              "       34.6, 34.9, 32.9, 24.1, 42.3, 48.5, 50. , 22.6, 24.4, 22.5, 24.4,\n",
              "       20. , 21.7, 19.3, 22.4, 28.1, 23.7, 25. , 23.3, 28.7, 21.5, 23. ,\n",
              "       26.7, 21.7, 27.5, 30.1, 44.8, 50. , 37.6, 31.6, 46.7, 31.5, 24.3,\n",
              "       31.7, 41.7, 48.3, 29. , 24. , 25.1, 31.5, 23.7, 23.3, 22. , 20.1,\n",
              "       22.2, 23.7, 17.6, 18.5, 24.3, 20.5, 24.5, 26.2, 24.4, 24.8, 29.6,\n",
              "       42.8, 21.9, 20.9, 44. , 50. , 36. , 30.1, 33.8, 43.1, 48.8, 31. ,\n",
              "       36.5, 22.8, 30.7, 50. , 43.5, 20.7, 21.1, 25.2, 24.4, 35.2, 32.4,\n",
              "       32. , 33.2, 33.1, 29.1, 35.1, 45.4, 35.4, 46. , 50. , 32.2, 22. ,\n",
              "       20.1, 23.2, 22.3, 24.8, 28.5, 37.3, 27.9, 23.9, 21.7, 28.6, 27.1,\n",
              "       20.3, 22.5, 29. , 24.8, 22. , 26.4, 33.1, 36.1, 28.4, 33.4, 28.2,\n",
              "       22.8, 20.3, 16.1, 22.1, 19.4, 21.6, 23.8, 16.2, 17.8, 19.8, 23.1,\n",
              "       21. , 23.8, 23.1, 20.4, 18.5, 25. , 24.6, 23. , 22.2, 19.3, 22.6,\n",
              "       19.8, 17.1, 19.4, 22.2, 20.7, 21.1, 19.5, 18.5, 20.6, 19. , 18.7,\n",
              "       32.7, 16.5, 23.9, 31.2, 17.5, 17.2, 23.1, 24.5, 26.6, 22.9, 24.1,\n",
              "       18.6, 30.1, 18.2, 20.6, 17.8, 21.7, 22.7, 22.6, 25. , 19.9, 20.8,\n",
              "       16.8, 21.9, 27.5, 21.9, 23.1, 50. , 50. , 50. , 50. , 50. , 13.8,\n",
              "       13.8, 15. , 13.9, 13.3, 13.1, 10.2, 10.4, 10.9, 11.3, 12.3,  8.8,\n",
              "        7.2, 10.5,  7.4, 10.2, 11.5, 15.1, 23.2,  9.7, 13.8, 12.7, 13.1,\n",
              "       12.5,  8.5,  5. ,  6.3,  5.6,  7.2, 12.1,  8.3,  8.5,  5. , 11.9,\n",
              "       27.9, 17.2, 27.5, 15. , 17.2, 17.9, 16.3,  7. ,  7.2,  7.5, 10.4,\n",
              "        8.8,  8.4, 16.7, 14.2, 20.8, 13.4, 11.7,  8.3, 10.2, 10.9, 11. ,\n",
              "        9.5, 14.5, 14.1, 16.1, 14.3, 11.7, 13.4,  9.6,  8.7,  8.4, 12.8,\n",
              "       10.5, 17.1, 18.4, 15.4, 10.8, 11.8, 14.9, 12.6, 14.1, 13. , 13.4,\n",
              "       15.2, 16.1, 17.8, 14.9, 14.1, 12.7, 13.5, 14.9, 20. , 16.4, 17.7,\n",
              "       19.5, 20.2, 21.4, 19.9, 19. , 19.1, 19.1, 20.1, 19.9, 19.6, 23.2,\n",
              "       29.8, 13.8, 13.3, 16.7, 12. , 14.6, 21.4, 23. , 23.7, 25. , 21.8,\n",
              "       20.6, 21.2, 19.1, 20.6, 15.2,  7. ,  8.1, 13.6, 20.1, 21.8, 24.5,\n",
              "       23.1, 19.7, 18.3, 21.2, 17.5, 16.8, 22.4, 20.6, 23.9, 22. , 11.9])"
            ]
          },
          "metadata": {},
          "execution_count": 5
        }
      ]
    },
    {
      "cell_type": "code",
      "metadata": {
        "id": "0TFN814OlB03",
        "outputId": "7fed3885-dd06-43e5-a772-05aa26350a11",
        "colab": {
          "base_uri": "https://localhost:8080/",
          "height": 422
        }
      },
      "source": [
        "boston.target_names"
      ],
      "execution_count": 6,
      "outputs": [
        {
          "output_type": "error",
          "ename": "AttributeError",
          "evalue": "target_names",
          "traceback": [
            "\u001b[1;31m---------------------------------------------------------------------------\u001b[0m",
            "\u001b[1;31mKeyError\u001b[0m                                  Traceback (most recent call last)",
            "\u001b[1;32me:\\UDEMY_3\\Computer Vision && Image Processing\\LAB\\venv\\lib\\site-packages\\sklearn\\utils\\__init__.py\u001b[0m in \u001b[0;36m__getattr__\u001b[1;34m(self, key)\u001b[0m\n\u001b[0;32m     93\u001b[0m         \u001b[1;32mtry\u001b[0m\u001b[1;33m:\u001b[0m\u001b[1;33m\u001b[0m\u001b[1;33m\u001b[0m\u001b[0m\n\u001b[1;32m---> 94\u001b[1;33m             \u001b[1;32mreturn\u001b[0m \u001b[0mself\u001b[0m\u001b[1;33m[\u001b[0m\u001b[0mkey\u001b[0m\u001b[1;33m]\u001b[0m\u001b[1;33m\u001b[0m\u001b[1;33m\u001b[0m\u001b[0m\n\u001b[0m\u001b[0;32m     95\u001b[0m         \u001b[1;32mexcept\u001b[0m \u001b[0mKeyError\u001b[0m\u001b[1;33m:\u001b[0m\u001b[1;33m\u001b[0m\u001b[1;33m\u001b[0m\u001b[0m\n",
            "\u001b[1;31mKeyError\u001b[0m: 'target_names'",
            "\nDuring handling of the above exception, another exception occurred:\n",
            "\u001b[1;31mAttributeError\u001b[0m                            Traceback (most recent call last)",
            "\u001b[1;32m<ipython-input-6-2ca3193be340>\u001b[0m in \u001b[0;36m<module>\u001b[1;34m\u001b[0m\n\u001b[1;32m----> 1\u001b[1;33m \u001b[0mboston\u001b[0m\u001b[1;33m.\u001b[0m\u001b[0mtarget_names\u001b[0m\u001b[1;33m\u001b[0m\u001b[1;33m\u001b[0m\u001b[0m\n\u001b[0m",
            "\u001b[1;32me:\\UDEMY_3\\Computer Vision && Image Processing\\LAB\\venv\\lib\\site-packages\\sklearn\\utils\\__init__.py\u001b[0m in \u001b[0;36m__getattr__\u001b[1;34m(self, key)\u001b[0m\n\u001b[0;32m     94\u001b[0m             \u001b[1;32mreturn\u001b[0m \u001b[0mself\u001b[0m\u001b[1;33m[\u001b[0m\u001b[0mkey\u001b[0m\u001b[1;33m]\u001b[0m\u001b[1;33m\u001b[0m\u001b[1;33m\u001b[0m\u001b[0m\n\u001b[0;32m     95\u001b[0m         \u001b[1;32mexcept\u001b[0m \u001b[0mKeyError\u001b[0m\u001b[1;33m:\u001b[0m\u001b[1;33m\u001b[0m\u001b[1;33m\u001b[0m\u001b[0m\n\u001b[1;32m---> 96\u001b[1;33m             \u001b[1;32mraise\u001b[0m \u001b[0mAttributeError\u001b[0m\u001b[1;33m(\u001b[0m\u001b[0mkey\u001b[0m\u001b[1;33m)\u001b[0m\u001b[1;33m\u001b[0m\u001b[1;33m\u001b[0m\u001b[0m\n\u001b[0m\u001b[0;32m     97\u001b[0m \u001b[1;33m\u001b[0m\u001b[0m\n\u001b[0;32m     98\u001b[0m     \u001b[1;32mdef\u001b[0m \u001b[0m__setstate__\u001b[0m\u001b[1;33m(\u001b[0m\u001b[0mself\u001b[0m\u001b[1;33m,\u001b[0m \u001b[0mstate\u001b[0m\u001b[1;33m)\u001b[0m\u001b[1;33m:\u001b[0m\u001b[1;33m\u001b[0m\u001b[1;33m\u001b[0m\u001b[0m\n",
            "\u001b[1;31mAttributeError\u001b[0m: target_names"
          ]
        }
      ]
    },
    {
      "cell_type": "code",
      "metadata": {
        "id": "Z40re0xClGbq",
        "outputId": "e0b22f8d-aff4-441b-aba8-8562c1991d43",
        "colab": {
          "base_uri": "https://localhost:8080/",
          "height": 34
        }
      },
      "source": [
        "inputs.shape"
      ],
      "execution_count": 7,
      "outputs": [
        {
          "output_type": "execute_result",
          "data": {
            "text/plain": [
              "(506, 13)"
            ]
          },
          "metadata": {},
          "execution_count": 7
        }
      ]
    },
    {
      "cell_type": "code",
      "metadata": {
        "id": "unWADzCblIKJ",
        "outputId": "743564b6-7ee8-4d09-86f8-9a67041286ca",
        "colab": {
          "base_uri": "https://localhost:8080/",
          "height": 34
        }
      },
      "source": [
        "outputs.shape"
      ],
      "execution_count": 8,
      "outputs": [
        {
          "output_type": "execute_result",
          "data": {
            "text/plain": [
              "(506,)"
            ]
          },
          "metadata": {},
          "execution_count": 8
        }
      ]
    },
    {
      "cell_type": "markdown",
      "metadata": {
        "id": "UF29OkpYmMsV"
      },
      "source": [
        "## Train and test datasets"
      ]
    },
    {
      "cell_type": "code",
      "metadata": {
        "id": "13aLh0tolo8B"
      },
      "source": [
        "from sklearn.model_selection import train_test_split\n",
        "X_train, X_test, y_train, y_test = train_test_split(inputs, outputs, test_size = 0.2)"
      ],
      "execution_count": 9,
      "outputs": []
    },
    {
      "cell_type": "code",
      "metadata": {
        "id": "rUo21vlal6TW",
        "outputId": "8ed04678-02bd-411a-9b37-3f5600a2548a",
        "colab": {
          "base_uri": "https://localhost:8080/",
          "height": 34
        }
      },
      "source": [
        "X_train.shape"
      ],
      "execution_count": 10,
      "outputs": [
        {
          "output_type": "execute_result",
          "data": {
            "text/plain": [
              "(404, 13)"
            ]
          },
          "metadata": {},
          "execution_count": 10
        }
      ]
    },
    {
      "cell_type": "code",
      "metadata": {
        "id": "tSmm6Pnjl8fc",
        "outputId": "7b00db77-1c1c-429e-b3de-4f8a515ff427",
        "colab": {
          "base_uri": "https://localhost:8080/",
          "height": 34
        }
      },
      "source": [
        "y_train.shape"
      ],
      "execution_count": 11,
      "outputs": [
        {
          "output_type": "execute_result",
          "data": {
            "text/plain": [
              "(404,)"
            ]
          },
          "metadata": {},
          "execution_count": 11
        }
      ]
    },
    {
      "cell_type": "code",
      "metadata": {
        "id": "5_hgLkU1mEFB",
        "outputId": "acfc92e4-5c9c-478d-ddc7-b88ec68815f8",
        "colab": {
          "base_uri": "https://localhost:8080/",
          "height": 34
        }
      },
      "source": [
        "X_test.shape"
      ],
      "execution_count": 12,
      "outputs": [
        {
          "output_type": "execute_result",
          "data": {
            "text/plain": [
              "(102, 13)"
            ]
          },
          "metadata": {},
          "execution_count": 12
        }
      ]
    },
    {
      "cell_type": "code",
      "metadata": {
        "id": "SaK4mWf1mGOL",
        "outputId": "56c967d0-844f-4640-d5c0-e91853dd908b",
        "colab": {
          "base_uri": "https://localhost:8080/",
          "height": 34
        }
      },
      "source": [
        "y_test.shape"
      ],
      "execution_count": 13,
      "outputs": [
        {
          "output_type": "execute_result",
          "data": {
            "text/plain": [
              "(102,)"
            ]
          },
          "metadata": {},
          "execution_count": 13
        }
      ]
    },
    {
      "cell_type": "code",
      "metadata": {
        "id": "93yYPF1IVNjM",
        "outputId": "a1eb8224-81d4-4a75-cbb0-3eba0c83bad0",
        "colab": {
          "base_uri": "https://localhost:8080/",
          "height": 34
        }
      },
      "source": [
        "max(X_train[0]) , min(X_train[0])"
      ],
      "execution_count": 15,
      "outputs": [
        {
          "output_type": "execute_result",
          "data": {
            "text/plain": [
              "(383.73, 0.0)"
            ]
          },
          "metadata": {},
          "execution_count": 15
        }
      ]
    },
    {
      "cell_type": "code",
      "metadata": {
        "id": "kop4bTqtVmjo"
      },
      "source": [
        "from sklearn.preprocessing import MinMaxScaler\n",
        "scaler1 = MinMaxScaler()\n",
        "X_train = scaler1.fit_transform(X_train)\n",
        "X_test = scaler1.transform(X_test)"
      ],
      "execution_count": 16,
      "outputs": []
    },
    {
      "cell_type": "code",
      "metadata": {
        "id": "0VhSioYKV_T3",
        "outputId": "066e099a-37dc-46ab-b53a-84e5bfc36704",
        "colab": {
          "base_uri": "https://localhost:8080/",
          "height": 34
        }
      },
      "source": [
        "max(X_train[0]), min(X_train[0])"
      ],
      "execution_count": 18,
      "outputs": [
        {
          "output_type": "execute_result",
          "data": {
            "text/plain": [
              "(0.9667910635937265, 0.0)"
            ]
          },
          "metadata": {},
          "execution_count": 18
        }
      ]
    },
    {
      "cell_type": "code",
      "metadata": {
        "id": "St22h9kFWcab"
      },
      "source": [
        "y_train = y_train.reshape(-1, 1)\n",
        "y_test = y_test.reshape(-1, 1)"
      ],
      "execution_count": 19,
      "outputs": []
    },
    {
      "cell_type": "code",
      "metadata": {
        "id": "5ViGtHIPWjne",
        "outputId": "26000779-2c76-458f-ceb6-4f775c41e9fa",
        "colab": {
          "base_uri": "https://localhost:8080/",
          "height": 34
        }
      },
      "source": [
        "y_train.shape"
      ],
      "execution_count": 20,
      "outputs": [
        {
          "output_type": "execute_result",
          "data": {
            "text/plain": [
              "(404, 1)"
            ]
          },
          "metadata": {},
          "execution_count": 20
        }
      ]
    },
    {
      "cell_type": "code",
      "metadata": {
        "id": "H6QIU3noWEfj"
      },
      "source": [
        "scaler2 = MinMaxScaler()\n",
        "y_train = scaler2.fit_transform(y_train)\n",
        "y_test = scaler2.transform(y_test)"
      ],
      "execution_count": 21,
      "outputs": []
    },
    {
      "cell_type": "code",
      "metadata": {
        "id": "egYxZF_bWpPP",
        "outputId": "c18957ce-997d-4189-94e5-0f7671e43377",
        "colab": {
          "base_uri": "https://localhost:8080/",
          "height": 34
        }
      },
      "source": [
        "max(y_train[0])"
      ],
      "execution_count": 22,
      "outputs": [
        {
          "output_type": "execute_result",
          "data": {
            "text/plain": [
              "0.4266666666666667"
            ]
          },
          "metadata": {},
          "execution_count": 22
        }
      ]
    },
    {
      "cell_type": "markdown",
      "metadata": {
        "id": "4S5gJUwomQ3U"
      },
      "source": [
        "## Neural network (training)"
      ]
    },
    {
      "cell_type": "code",
      "metadata": {
        "id": "TgTSthHBXQYo",
        "outputId": "958fab60-22cb-469b-80b2-374c653502b1",
        "colab": {
          "base_uri": "https://localhost:8080/",
          "height": 34
        }
      },
      "source": [
        "(13 + 1) / 2"
      ],
      "execution_count": 23,
      "outputs": [
        {
          "output_type": "execute_result",
          "data": {
            "text/plain": [
              "7.0"
            ]
          },
          "metadata": {},
          "execution_count": 23
        }
      ]
    },
    {
      "cell_type": "code",
      "metadata": {
        "id": "-BKo77XSW0p5",
        "outputId": "3c4fce2c-8e87-4c46-fb92-11e9fa4af70d",
        "colab": {
          "base_uri": "https://localhost:8080/",
          "height": 1000
        }
      },
      "source": [
        "network = MLPRegressor(max_iter=2000, verbose=True, hidden_layer_sizes=(7))\n",
        "network.fit(X_train, y_train)"
      ],
      "execution_count": 24,
      "outputs": [
        {
          "output_type": "stream",
          "name": "stdout",
          "text": [
            "Iteration 1, loss = 0.32374304\n",
            "Iteration 2, loss = 0.29938335\n",
            "Iteration 3, loss = 0.27660762\n",
            "Iteration 4, loss = 0.25513235\n",
            "Iteration 5, loss = 0.23488780\n",
            "Iteration 6, loss = 0.21597029\n",
            "Iteration 7, loss = 0.19814105\n",
            "Iteration 8, loss = 0.18163474\n",
            "Iteration 9, loss = 0.16614499\n",
            "Iteration 10, loss = 0.15170619\n",
            "Iteration 11, loss = 0.13812539\n",
            "Iteration 12, loss = 0.12560102\n",
            "Iteration 13, loss = 0.11413411\n",
            "Iteration 14, loss = 0.10366426\n",
            "Iteration 15, loss = 0.09385805\n",
            "Iteration 16, loss = 0.08492731\n",
            "Iteration 17, loss = 0.07677889\n",
            "Iteration 18, loss = 0.06945588\n",
            "Iteration 19, loss = 0.06293291\n",
            "Iteration 20, loss = 0.05719940\n",
            "Iteration 21, loss = 0.05195425\n",
            "Iteration 22, loss = 0.04729685\n",
            "Iteration 23, loss = 0.04316466\n",
            "Iteration 24, loss = 0.03960561\n",
            "Iteration 25, loss = 0.03669808\n",
            "Iteration 26, loss = 0.03423664\n",
            "Iteration 27, loss = 0.03215868\n",
            "Iteration 28, loss = 0.03042378\n",
            "Iteration 29, loss = 0.02896731\n",
            "Iteration 30, loss = 0.02787397\n",
            "Iteration 31, loss = 0.02687066\n",
            "Iteration 32, loss = 0.02598661\n",
            "Iteration 33, loss = 0.02525441\n",
            "Iteration 34, loss = 0.02457863\n",
            "Iteration 35, loss = 0.02402869\n",
            "Iteration 36, loss = 0.02358317\n",
            "Iteration 37, loss = 0.02317404\n",
            "Iteration 38, loss = 0.02288686\n",
            "Iteration 39, loss = 0.02264336\n",
            "Iteration 40, loss = 0.02242735\n",
            "Iteration 41, loss = 0.02219424\n",
            "Iteration 42, loss = 0.02200193\n",
            "Iteration 43, loss = 0.02180844\n",
            "Iteration 44, loss = 0.02162192\n",
            "Iteration 45, loss = 0.02143442\n",
            "Iteration 46, loss = 0.02127158\n",
            "Iteration 47, loss = 0.02111880\n",
            "Iteration 48, loss = 0.02093713\n",
            "Iteration 49, loss = 0.02075134\n",
            "Iteration 50, loss = 0.02057362\n",
            "Iteration 51, loss = 0.02040798\n",
            "Iteration 52, loss = 0.02024198\n",
            "Iteration 53, loss = 0.02009439\n",
            "Iteration 54, loss = 0.01995073\n",
            "Iteration 55, loss = 0.01979877\n",
            "Iteration 56, loss = 0.01965061\n",
            "Iteration 57, loss = 0.01951233\n",
            "Iteration 58, loss = 0.01937590\n",
            "Iteration 59, loss = 0.01929692\n",
            "Iteration 60, loss = 0.01922855\n",
            "Iteration 61, loss = 0.01916346\n",
            "Iteration 62, loss = 0.01910436\n",
            "Iteration 63, loss = 0.01900179\n",
            "Iteration 64, loss = 0.01885510\n",
            "Iteration 65, loss = 0.01867672\n",
            "Iteration 66, loss = 0.01847893\n",
            "Iteration 67, loss = 0.01830817\n",
            "Iteration 68, loss = 0.01814498\n",
            "Iteration 69, loss = 0.01802991\n",
            "Iteration 70, loss = 0.01790293\n",
            "Iteration 71, loss = 0.01778163\n",
            "Iteration 72, loss = 0.01767466\n",
            "Iteration 73, loss = 0.01757792\n",
            "Iteration 74, loss = 0.01748201\n",
            "Iteration 75, loss = 0.01738338\n",
            "Iteration 76, loss = 0.01727972\n",
            "Iteration 77, loss = 0.01716655\n",
            "Iteration 78, loss = 0.01706195\n",
            "Iteration 79, loss = 0.01696256\n",
            "Iteration 80, loss = 0.01686130\n",
            "Iteration 81, loss = 0.01677192\n",
            "Iteration 82, loss = 0.01668953\n",
            "Iteration 83, loss = 0.01660552\n",
            "Iteration 84, loss = 0.01651514\n",
            "Iteration 85, loss = 0.01639809\n",
            "Iteration 86, loss = 0.01629067\n",
            "Iteration 87, loss = 0.01619520\n",
            "Iteration 88, loss = 0.01610593\n",
            "Iteration 89, loss = 0.01602916\n",
            "Iteration 90, loss = 0.01594317\n",
            "Iteration 91, loss = 0.01586937\n",
            "Iteration 92, loss = 0.01579693\n",
            "Iteration 93, loss = 0.01571473\n",
            "Iteration 94, loss = 0.01564115\n",
            "Iteration 95, loss = 0.01556298\n",
            "Iteration 96, loss = 0.01548628\n",
            "Iteration 97, loss = 0.01541146\n",
            "Training loss did not improve more than tol=0.000100 for 10 consecutive epochs. Stopping.\n",
            "e:\\UDEMY_3\\Computer Vision && Image Processing\\LAB\\venv\\lib\\site-packages\\sklearn\\utils\\validation.py:63: DataConversionWarning: A column-vector y was passed when a 1d array was expected. Please change the shape of y to (n_samples, ), for example using ravel().\n",
            "  return f(*args, **kwargs)\n"
          ]
        },
        {
          "output_type": "execute_result",
          "data": {
            "text/plain": [
              "MLPRegressor(hidden_layer_sizes=7, max_iter=2000, verbose=True)"
            ]
          },
          "metadata": {},
          "execution_count": 24
        }
      ]
    },
    {
      "cell_type": "code",
      "execution_count": 36,
      "metadata": {},
      "outputs": [
        {
          "output_type": "execute_result",
          "data": {
            "text/plain": [
              "0.2496342813168706"
            ]
          },
          "metadata": {},
          "execution_count": 36
        }
      ],
      "source": [
        "network.score(X_train,y_train)"
      ]
    },
    {
      "cell_type": "code",
      "execution_count": 37,
      "metadata": {},
      "outputs": [
        {
          "output_type": "execute_result",
          "data": {
            "text/plain": [
              "0.19188485166314895"
            ]
          },
          "metadata": {},
          "execution_count": 37
        }
      ],
      "source": [
        "network.score(X_test,y_test)"
      ]
    },
    {
      "cell_type": "code",
      "metadata": {
        "id": "UdaztvVezhey",
        "outputId": "73a08193-76fd-4a3a-926f-2411e80fa321",
        "colab": {
          "base_uri": "https://localhost:8080/",
          "height": 1000
        }
      },
      "source": [
        "network.coefs_"
      ],
      "execution_count": 25,
      "outputs": [
        {
          "output_type": "execute_result",
          "data": {
            "text/plain": [
              "[array([[-0.07666886,  0.11872718,  0.14279577, -0.43211564,  0.20911126,\n",
              "         -0.41969997,  0.33602764],\n",
              "        [ 0.30397416,  0.37306821, -0.28213515,  0.20561199,  0.24405293,\n",
              "         -0.06806158,  0.2959383 ],\n",
              "        [-0.18543791, -0.19736857, -0.25927727,  0.0371245 , -0.33186418,\n",
              "         -0.44755277,  0.04661528],\n",
              "        [-0.09636373,  0.47472057,  0.0883073 ,  0.2044689 , -0.03079812,\n",
              "          0.23571634,  0.03470293],\n",
              "        [ 0.34679167,  0.32686627, -0.00763517,  0.10322446,  0.45831834,\n",
              "         -0.27200354,  0.45069486],\n",
              "        [ 0.13393004, -0.10515513,  0.17103296, -0.37786179,  0.47050075,\n",
              "          0.08555768,  0.40277389],\n",
              "        [ 0.29224248, -0.02479129, -0.34069114,  0.35990458,  0.11350216,\n",
              "          0.39827779,  0.00836564],\n",
              "        [-0.31013046,  0.42622137,  0.27758237,  0.06312055,  0.21508196,\n",
              "          0.12711847, -0.15426003],\n",
              "        [ 0.11834481,  0.08720985,  0.4587368 , -0.51571053, -0.22608125,\n",
              "         -0.60145598,  0.02694748],\n",
              "        [-0.18519679, -0.3644806 ,  0.1112018 , -0.0352018 ,  0.47129043,\n",
              "         -0.26487275, -0.17558368],\n",
              "        [-0.35945304,  0.13407773, -0.53635618, -0.40567597,  0.13082761,\n",
              "         -0.54811999,  0.37319114],\n",
              "        [ 0.00062628, -0.40038522, -0.16500765,  0.06327811,  0.47261833,\n",
              "          0.28767539, -0.24345279],\n",
              "        [-0.38016189, -0.41628661,  0.23191325, -0.26047816,  0.44892054,\n",
              "          0.23210756,  0.39374328]]),\n",
              " array([[ 0.21637475],\n",
              "        [-0.25507123],\n",
              "        [-0.54435431],\n",
              "        [-0.6736736 ],\n",
              "        [ 0.47892214],\n",
              "        [-0.07215744],\n",
              "        [-0.63174918]])]"
            ]
          },
          "metadata": {},
          "execution_count": 25
        }
      ]
    },
    {
      "cell_type": "code",
      "metadata": {
        "id": "3zBpcda3zsqr",
        "outputId": "3711903b-4742-4028-91eb-00205d7452af",
        "colab": {
          "base_uri": "https://localhost:8080/",
          "height": 370
        }
      },
      "source": [
        "network.intercepts_"
      ],
      "execution_count": 26,
      "outputs": [
        {
          "output_type": "execute_result",
          "data": {
            "text/plain": [
              "[array([ 0.65417781, -0.33874665,  0.04177009, -0.28205119,  0.38643821,\n",
              "        -0.03295152, -0.34092345]),\n",
              " array([-0.4045664])]"
            ]
          },
          "metadata": {},
          "execution_count": 26
        }
      ]
    },
    {
      "cell_type": "code",
      "metadata": {
        "id": "cjBTc9xiz03F",
        "outputId": "17dd6bee-3ed4-4020-fa82-81743d60960a",
        "colab": {
          "base_uri": "https://localhost:8080/",
          "height": 34
        }
      },
      "source": [
        "network.n_layers_"
      ],
      "execution_count": 27,
      "outputs": [
        {
          "output_type": "execute_result",
          "data": {
            "text/plain": [
              "3"
            ]
          },
          "metadata": {},
          "execution_count": 27
        }
      ]
    },
    {
      "cell_type": "code",
      "metadata": {
        "id": "uoTMTgwoz4z6",
        "outputId": "7809858f-16f9-4e17-877f-29b047083c47",
        "colab": {
          "base_uri": "https://localhost:8080/",
          "height": 34
        }
      },
      "source": [
        "network.n_outputs_"
      ],
      "execution_count": 28,
      "outputs": [
        {
          "output_type": "execute_result",
          "data": {
            "text/plain": [
              "1"
            ]
          },
          "metadata": {},
          "execution_count": 28
        }
      ]
    },
    {
      "cell_type": "code",
      "metadata": {
        "id": "QE4uaxjuz8ln",
        "outputId": "2ad4c08b-dbcd-43af-cbea-ab5aaea1f906",
        "colab": {
          "base_uri": "https://localhost:8080/",
          "height": 34
        }
      },
      "source": [
        "network.out_activation_"
      ],
      "execution_count": 29,
      "outputs": [
        {
          "output_type": "execute_result",
          "data": {
            "text/plain": [
              "'identity'"
            ]
          },
          "metadata": {},
          "execution_count": 29
        }
      ]
    },
    {
      "cell_type": "markdown",
      "metadata": {
        "id": "RTaTfbXNmUrn"
      },
      "source": [
        "## Neural network (evaluation)"
      ]
    },
    {
      "cell_type": "code",
      "metadata": {
        "id": "d2YjQaZQ0GC8",
        "outputId": "33124555-49a5-4284-df35-726e823c0ac5",
        "colab": {
          "base_uri": "https://localhost:8080/",
          "height": 34
        }
      },
      "source": [
        "X_test.shape"
      ],
      "execution_count": 30,
      "outputs": [
        {
          "output_type": "execute_result",
          "data": {
            "text/plain": [
              "(102, 13)"
            ]
          },
          "metadata": {},
          "execution_count": 30
        }
      ]
    },
    {
      "cell_type": "code",
      "metadata": {
        "id": "9w0ilRj00Le-",
        "outputId": "888dcd8e-a0a3-4745-ce8a-4908201f5559",
        "colab": {
          "base_uri": "https://localhost:8080/",
          "height": 454
        }
      },
      "source": [
        "predictions = network.predict(X_test)\n",
        "predictions"
      ],
      "execution_count": 31,
      "outputs": [
        {
          "output_type": "execute_result",
          "data": {
            "text/plain": [
              "array([ 0.32810431,  0.40572304,  0.43515221,  0.48155919,  0.40804738,\n",
              "        0.39564298,  0.39316684,  0.40252078,  0.43204794,  0.41309705,\n",
              "        0.47057823,  0.36583299,  0.48297151,  0.44077585,  0.39374069,\n",
              "        0.39006926,  0.51895645,  0.54131428,  0.03043919,  0.43278577,\n",
              "        0.53535649,  0.4428145 ,  0.04510756,  0.33264623,  0.48455775,\n",
              "        0.54428293,  0.07443558,  0.33032554,  0.57046803,  0.39037717,\n",
              "        0.4070274 ,  0.28113967,  0.26460282,  0.47747794,  0.39277133,\n",
              "        0.45632042,  0.5118447 ,  0.14955952,  0.32664608,  0.08592066,\n",
              "        0.4122832 ,  0.28691097,  0.56932471,  0.37588065,  0.33318793,\n",
              "        0.3907071 ,  0.42309795,  0.44322022,  0.3977019 ,  0.40703959,\n",
              "        0.51239887,  0.52255277,  0.35396951,  0.4087729 ,  0.47154104,\n",
              "        0.41214408,  0.3292376 ,  0.35062201,  0.40137514,  0.32791666,\n",
              "        0.30420599,  0.17007935,  0.44973665,  0.34881882,  0.51676895,\n",
              "        0.37850955,  0.39084992,  0.33776815,  0.45680004,  0.18916402,\n",
              "       -0.00785655,  0.44230323,  0.44715025,  0.40023311,  0.31201998,\n",
              "        0.35470403,  0.37596012,  0.37555288,  0.42836911,  0.36820745,\n",
              "        0.45457628,  0.39491122,  0.48809745,  0.57859038,  0.41342602,\n",
              "        0.35941187,  0.31986579,  0.21997481,  0.38092666,  0.36500362,\n",
              "        0.45751079,  0.39280481,  0.58271009,  0.48918784,  0.36532187,\n",
              "        0.47408317,  0.38753472,  0.35553593,  0.34691082,  0.35847617,\n",
              "        0.43319991,  0.29449821])"
            ]
          },
          "metadata": {},
          "execution_count": 31
        }
      ]
    },
    {
      "cell_type": "code",
      "metadata": {
        "id": "K6BmAplCYItw",
        "outputId": "cf72594f-344a-4d04-c347-ee1a4e5583e4",
        "colab": {
          "base_uri": "https://localhost:8080/",
          "height": 1000
        }
      },
      "source": [
        "y_test"
      ],
      "execution_count": 32,
      "outputs": [
        {
          "output_type": "execute_result",
          "data": {
            "text/plain": [
              "array([[0.28444444],\n",
              "       [0.67555556],\n",
              "       [0.22666667],\n",
              "       [0.81555556],\n",
              "       [0.39777778],\n",
              "       [0.32222222],\n",
              "       [0.48222222],\n",
              "       [0.32666667],\n",
              "       [0.69333333],\n",
              "       [0.40222222],\n",
              "       [1.        ],\n",
              "       [0.4       ],\n",
              "       [0.38888889],\n",
              "       [0.61111111],\n",
              "       [0.41777778],\n",
              "       [0.27555556],\n",
              "       [0.6       ],\n",
              "       [0.42      ],\n",
              "       [0.27111111],\n",
              "       [0.77333333],\n",
              "       [0.66444444],\n",
              "       [0.53555556],\n",
              "       [0.31111111],\n",
              "       [0.20444444],\n",
              "       [0.55111111],\n",
              "       [0.42444444],\n",
              "       [0.12      ],\n",
              "       [0.32444444],\n",
              "       [0.84666667],\n",
              "       [0.14444444],\n",
              "       [0.5       ],\n",
              "       [0.42      ],\n",
              "       [0.40888889],\n",
              "       [0.37777778],\n",
              "       [0.28444444],\n",
              "       [0.59111111],\n",
              "       [0.48      ],\n",
              "       [0.40222222],\n",
              "       [0.11555556],\n",
              "       [0.21111111],\n",
              "       [0.34444444],\n",
              "       [0.31777778],\n",
              "       [0.62      ],\n",
              "       [0.34222222],\n",
              "       [0.26      ],\n",
              "       [0.52222222],\n",
              "       [1.        ],\n",
              "       [1.        ],\n",
              "       [0.16888889],\n",
              "       [0.33333333],\n",
              "       [0.39777778],\n",
              "       [0.22222222],\n",
              "       [0.60888889],\n",
              "       [0.30888889],\n",
              "       [0.67555556],\n",
              "       [0.39111111],\n",
              "       [0.22      ],\n",
              "       [0.35111111],\n",
              "       [0.47111111],\n",
              "       [0.19777778],\n",
              "       [0.33333333],\n",
              "       [0.18222222],\n",
              "       [0.73111111],\n",
              "       [0.44444444],\n",
              "       [0.39555556],\n",
              "       [0.38222222],\n",
              "       [0.43111111],\n",
              "       [0.34      ],\n",
              "       [0.42      ],\n",
              "       [0.36444444],\n",
              "       [0.14888889],\n",
              "       [0.86222222],\n",
              "       [0.23555556],\n",
              "       [0.38      ],\n",
              "       [0.48      ],\n",
              "       [0.35777778],\n",
              "       [0.43111111],\n",
              "       [0.13111111],\n",
              "       [0.24888889],\n",
              "       [0.22666667],\n",
              "       [0.33555556],\n",
              "       [0.44666667],\n",
              "       [0.31555556],\n",
              "       [0.82888889],\n",
              "       [0.25777778],\n",
              "       [0.62666667],\n",
              "       [0.05333333],\n",
              "       [0.33777778],\n",
              "       [0.50888889],\n",
              "       [0.30444444],\n",
              "       [0.62222222],\n",
              "       [0.17111111],\n",
              "       [0.66444444],\n",
              "       [1.        ],\n",
              "       [0.38222222],\n",
              "       [0.58888889],\n",
              "       [0.54666667],\n",
              "       [0.32      ],\n",
              "       [0.22888889],\n",
              "       [0.29333333],\n",
              "       [0.38444444],\n",
              "       [0.34888889]])"
            ]
          },
          "metadata": {},
          "execution_count": 32
        }
      ]
    },
    {
      "cell_type": "code",
      "metadata": {
        "id": "TfCIiKLGYTl0",
        "outputId": "2379bc26-1c45-498f-b664-a27a9386ede2",
        "colab": {
          "base_uri": "https://localhost:8080/",
          "height": 34
        }
      },
      "source": [
        "from sklearn.metrics import mean_absolute_error, mean_squared_error\n",
        "mean_absolute_error(y_test, predictions)"
      ],
      "execution_count": 33,
      "outputs": [
        {
          "output_type": "execute_result",
          "data": {
            "text/plain": [
              "0.1426459550255563"
            ]
          },
          "metadata": {},
          "execution_count": 33
        }
      ]
    },
    {
      "cell_type": "code",
      "metadata": {
        "id": "0H_GuCr4Y4EZ",
        "outputId": "f17bea02-ef17-4c14-c87d-a461713c8512",
        "colab": {
          "base_uri": "https://localhost:8080/",
          "height": 34
        }
      },
      "source": [
        "mean_squared_error(y_test, predictions)"
      ],
      "execution_count": 34,
      "outputs": [
        {
          "output_type": "execute_result",
          "data": {
            "text/plain": [
              "0.034904914790524495"
            ]
          },
          "metadata": {},
          "execution_count": 34
        }
      ]
    },
    {
      "cell_type": "code",
      "metadata": {
        "id": "TExjVG4mZE1F",
        "outputId": "3f7f5629-14a8-4f1a-e9d7-da7d258c98a4",
        "colab": {
          "base_uri": "https://localhost:8080/",
          "height": 34
        }
      },
      "source": [
        "import numpy as np\n",
        "np.sqrt(mean_squared_error(y_test, predictions))"
      ],
      "execution_count": 35,
      "outputs": [
        {
          "output_type": "execute_result",
          "data": {
            "text/plain": [
              "0.18682857059487581"
            ]
          },
          "metadata": {},
          "execution_count": 35
        }
      ]
    },
    {
      "cell_type": "markdown",
      "metadata": {
        "id": "Nkf_QRkpmZ7u"
      },
      "source": [
        "## Neural network (classification)"
      ]
    },
    {
      "cell_type": "code",
      "metadata": {
        "id": "QqUpFkIf1XFO",
        "outputId": "341e602f-2b71-4dba-fb3e-72b44ff2ea31",
        "colab": {
          "base_uri": "https://localhost:8080/",
          "height": 67
        }
      },
      "source": [
        "X_test[0], y_test[0]"
      ],
      "execution_count": 38,
      "outputs": [
        {
          "output_type": "execute_result",
          "data": {
            "text/plain": [
              "(array([0.10089527, 0.        , 0.64662757, 1.        , 0.79218107,\n",
              "        0.50795171, 0.97234043, 0.0902618 , 1.        , 0.91412214,\n",
              "        0.80851064, 0.95166171, 0.43495146]),\n",
              " array([0.28444444]))"
            ]
          },
          "metadata": {},
          "execution_count": 38
        }
      ]
    },
    {
      "cell_type": "code",
      "metadata": {
        "id": "tr24nFnx1hzK",
        "outputId": "54b4b71f-9e77-40a3-9f20-e023afa83947",
        "colab": {
          "base_uri": "https://localhost:8080/",
          "height": 34
        }
      },
      "source": [
        "X_test[0].shape"
      ],
      "execution_count": 39,
      "outputs": [
        {
          "output_type": "execute_result",
          "data": {
            "text/plain": [
              "(13,)"
            ]
          },
          "metadata": {},
          "execution_count": 39
        }
      ]
    },
    {
      "cell_type": "code",
      "metadata": {
        "id": "pOJL7ixY1lHn",
        "outputId": "fe71a2fb-0927-43ad-e753-28718d6658ec",
        "colab": {
          "base_uri": "https://localhost:8080/",
          "height": 34
        }
      },
      "source": [
        "new = X_test[0].reshape(1, -1)\n",
        "new.shape"
      ],
      "execution_count": 40,
      "outputs": [
        {
          "output_type": "execute_result",
          "data": {
            "text/plain": [
              "(1, 13)"
            ]
          },
          "metadata": {},
          "execution_count": 40
        }
      ]
    },
    {
      "cell_type": "code",
      "metadata": {
        "id": "pN6DUvXN1cxW",
        "outputId": "42134502-0ac9-4488-a063-0da2bb7c817a",
        "colab": {
          "base_uri": "https://localhost:8080/",
          "height": 34
        }
      },
      "source": [
        "network.predict(new)"
      ],
      "execution_count": 41,
      "outputs": [
        {
          "output_type": "execute_result",
          "data": {
            "text/plain": [
              "array([0.32810431])"
            ]
          },
          "metadata": {},
          "execution_count": 41
        }
      ]
    },
    {
      "cell_type": "code",
      "metadata": {
        "id": "EmLcnWPTZh0U",
        "outputId": "9b988217-7851-4244-a876-965f41e96be0",
        "colab": {
          "base_uri": "https://localhost:8080/",
          "height": 34
        }
      },
      "source": [
        "scaler2.inverse_transform(network.predict(new).reshape(-1,1))"
      ],
      "execution_count": 42,
      "outputs": [
        {
          "output_type": "execute_result",
          "data": {
            "text/plain": [
              "array([[19.76469384]])"
            ]
          },
          "metadata": {},
          "execution_count": 42
        }
      ]
    },
    {
      "cell_type": "code",
      "metadata": {
        "id": "-bxkU2s9ZyIN",
        "outputId": "8c8afcff-9175-415c-a786-41d66b95540d",
        "colab": {
          "base_uri": "https://localhost:8080/",
          "height": 34
        }
      },
      "source": [
        "scaler2.inverse_transform(y_test[0].reshape(-1,1))"
      ],
      "execution_count": 43,
      "outputs": [
        {
          "output_type": "execute_result",
          "data": {
            "text/plain": [
              "array([[17.8]])"
            ]
          },
          "metadata": {},
          "execution_count": 43
        }
      ]
    },
    {
      "cell_type": "code",
      "execution_count": null,
      "metadata": {},
      "outputs": [],
      "source": []
    }
  ]
}