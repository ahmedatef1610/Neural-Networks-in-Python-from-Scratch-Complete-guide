{
  "nbformat": 4,
  "nbformat_minor": 0,
  "metadata": {
    "colab": {
      "name": "Homework solution sklearn Wine dataset.ipynb",
      "provenance": []
    },
    "kernelspec": {
      "name": "pythonjvsc74a57bd07215976ab57f31a6ebec70d3fd758ef1ca3de40a4ca79a502a790142e174e29a",
      "display_name": "Python 3.8.2 64-bit ('venv': venv)"
    },
    "metadata": {
      "interpreter": {
        "hash": "7215976ab57f31a6ebec70d3fd758ef1ca3de40a4ca79a502a790142e174e29a"
      }
    }
  },
  "cells": [
    {
      "cell_type": "markdown",
      "metadata": {
        "id": "LFopIDwcj4eR"
      },
      "source": [
        "# Homework solution - sklearn 1 (wine classification)\n"
      ]
    },
    {
      "cell_type": "markdown",
      "metadata": {
        "id": "hmwQCDnBmJil"
      },
      "source": [
        "## Loading the data\n",
        "\n",
        "http://archive.ics.uci.edu/ml/datasets/Wine/"
      ]
    },
    {
      "cell_type": "code",
      "metadata": {
        "id": "Ui7djQN6_oxN"
      },
      "source": [
        "from sklearn.neural_network import MLPClassifier\n",
        "from sklearn import datasets"
      ],
      "execution_count": 1,
      "outputs": []
    },
    {
      "cell_type": "code",
      "metadata": {
        "id": "hT6atVUN_2qh"
      },
      "source": [
        "wine = datasets.load_wine()"
      ],
      "execution_count": 2,
      "outputs": []
    },
    {
      "cell_type": "code",
      "metadata": {
        "id": "WlgWzsdq_-N9",
        "outputId": "ae276a1b-a97b-4c6e-ad45-169ceb352fc6",
        "colab": {
          "base_uri": "https://localhost:8080/",
          "height": 235
        }
      },
      "source": [
        "inputs = wine.data\n",
        "inputs"
      ],
      "execution_count": 3,
      "outputs": [
        {
          "output_type": "execute_result",
          "data": {
            "text/plain": [
              "array([[1.423e+01, 1.710e+00, 2.430e+00, ..., 1.040e+00, 3.920e+00,\n",
              "        1.065e+03],\n",
              "       [1.320e+01, 1.780e+00, 2.140e+00, ..., 1.050e+00, 3.400e+00,\n",
              "        1.050e+03],\n",
              "       [1.316e+01, 2.360e+00, 2.670e+00, ..., 1.030e+00, 3.170e+00,\n",
              "        1.185e+03],\n",
              "       ...,\n",
              "       [1.327e+01, 4.280e+00, 2.260e+00, ..., 5.900e-01, 1.560e+00,\n",
              "        8.350e+02],\n",
              "       [1.317e+01, 2.590e+00, 2.370e+00, ..., 6.000e-01, 1.620e+00,\n",
              "        8.400e+02],\n",
              "       [1.413e+01, 4.100e+00, 2.740e+00, ..., 6.100e-01, 1.600e+00,\n",
              "        5.600e+02]])"
            ]
          },
          "metadata": {},
          "execution_count": 3
        }
      ]
    },
    {
      "cell_type": "code",
      "metadata": {
        "id": "ZJsmHbR9AJQx",
        "outputId": "5a4ac8af-0624-48a4-c6a1-318d669c5777",
        "colab": {
          "base_uri": "https://localhost:8080/",
          "height": 235
        }
      },
      "source": [
        "wine.feature_names"
      ],
      "execution_count": 4,
      "outputs": [
        {
          "output_type": "execute_result",
          "data": {
            "text/plain": [
              "['alcohol',\n",
              " 'malic_acid',\n",
              " 'ash',\n",
              " 'alcalinity_of_ash',\n",
              " 'magnesium',\n",
              " 'total_phenols',\n",
              " 'flavanoids',\n",
              " 'nonflavanoid_phenols',\n",
              " 'proanthocyanins',\n",
              " 'color_intensity',\n",
              " 'hue',\n",
              " 'od280/od315_of_diluted_wines',\n",
              " 'proline']"
            ]
          },
          "metadata": {},
          "execution_count": 4
        }
      ]
    },
    {
      "cell_type": "code",
      "metadata": {
        "id": "ywNWxtC7APmQ",
        "outputId": "2f291c10-56fd-4027-fa58-091e9b562209",
        "colab": {
          "base_uri": "https://localhost:8080/",
          "height": 168
        }
      },
      "source": [
        "outputs = wine.target\n",
        "outputs"
      ],
      "execution_count": 5,
      "outputs": [
        {
          "output_type": "execute_result",
          "data": {
            "text/plain": [
              "array([0, 0, 0, 0, 0, 0, 0, 0, 0, 0, 0, 0, 0, 0, 0, 0, 0, 0, 0, 0, 0, 0,\n",
              "       0, 0, 0, 0, 0, 0, 0, 0, 0, 0, 0, 0, 0, 0, 0, 0, 0, 0, 0, 0, 0, 0,\n",
              "       0, 0, 0, 0, 0, 0, 0, 0, 0, 0, 0, 0, 0, 0, 0, 1, 1, 1, 1, 1, 1, 1,\n",
              "       1, 1, 1, 1, 1, 1, 1, 1, 1, 1, 1, 1, 1, 1, 1, 1, 1, 1, 1, 1, 1, 1,\n",
              "       1, 1, 1, 1, 1, 1, 1, 1, 1, 1, 1, 1, 1, 1, 1, 1, 1, 1, 1, 1, 1, 1,\n",
              "       1, 1, 1, 1, 1, 1, 1, 1, 1, 1, 1, 1, 1, 1, 1, 1, 1, 1, 1, 1, 2, 2,\n",
              "       2, 2, 2, 2, 2, 2, 2, 2, 2, 2, 2, 2, 2, 2, 2, 2, 2, 2, 2, 2, 2, 2,\n",
              "       2, 2, 2, 2, 2, 2, 2, 2, 2, 2, 2, 2, 2, 2, 2, 2, 2, 2, 2, 2, 2, 2,\n",
              "       2, 2])"
            ]
          },
          "metadata": {},
          "execution_count": 5
        }
      ]
    },
    {
      "cell_type": "code",
      "metadata": {
        "id": "bw-qvoPWAcjm",
        "outputId": "30361d92-0975-49e4-d51b-337c876430bd",
        "colab": {
          "base_uri": "https://localhost:8080/",
          "height": 34
        }
      },
      "source": [
        "wine.target_names"
      ],
      "execution_count": 6,
      "outputs": [
        {
          "output_type": "execute_result",
          "data": {
            "text/plain": [
              "array(['class_0', 'class_1', 'class_2'], dtype='<U7')"
            ]
          },
          "metadata": {},
          "execution_count": 6
        }
      ]
    },
    {
      "cell_type": "code",
      "metadata": {
        "id": "5SyaocNLAgiZ",
        "outputId": "31fabec8-688d-45cf-da96-cb498ee2d6f4",
        "colab": {
          "base_uri": "https://localhost:8080/",
          "height": 34
        }
      },
      "source": [
        "inputs.shape"
      ],
      "execution_count": 7,
      "outputs": [
        {
          "output_type": "execute_result",
          "data": {
            "text/plain": [
              "(178, 13)"
            ]
          },
          "metadata": {},
          "execution_count": 7
        }
      ]
    },
    {
      "cell_type": "code",
      "metadata": {
        "id": "U7mhrjwxAkmW",
        "outputId": "4ca21ea8-b280-43cc-f2d6-23a740342273",
        "colab": {
          "base_uri": "https://localhost:8080/",
          "height": 34
        }
      },
      "source": [
        "outputs.shape"
      ],
      "execution_count": 8,
      "outputs": [
        {
          "output_type": "execute_result",
          "data": {
            "text/plain": [
              "(178,)"
            ]
          },
          "metadata": {},
          "execution_count": 8
        }
      ]
    },
    {
      "cell_type": "markdown",
      "metadata": {
        "id": "UF29OkpYmMsV"
      },
      "source": [
        "## Train and test datasets"
      ]
    },
    {
      "cell_type": "code",
      "metadata": {
        "id": "RGXWZc5fBaEI"
      },
      "source": [
        "from sklearn.model_selection import train_test_split\n",
        "X_train, X_test, y_train, y_test = train_test_split(inputs, outputs, test_size = 0.2)"
      ],
      "execution_count": 9,
      "outputs": []
    },
    {
      "cell_type": "code",
      "metadata": {
        "id": "4BZ631mgB71t",
        "outputId": "4d1fb0e8-769c-485e-ac88-ab1a9a6e59e3",
        "colab": {
          "base_uri": "https://localhost:8080/",
          "height": 34
        }
      },
      "source": [
        "X_train.shape"
      ],
      "execution_count": 10,
      "outputs": [
        {
          "output_type": "execute_result",
          "data": {
            "text/plain": [
              "(142, 13)"
            ]
          },
          "metadata": {},
          "execution_count": 10
        }
      ]
    },
    {
      "cell_type": "code",
      "metadata": {
        "id": "xxIE6aWOCBug",
        "outputId": "42581444-9200-47d9-b3ad-2ada4b4e7ed0",
        "colab": {
          "base_uri": "https://localhost:8080/",
          "height": 34
        }
      },
      "source": [
        "y_train.shape"
      ],
      "execution_count": 11,
      "outputs": [
        {
          "output_type": "execute_result",
          "data": {
            "text/plain": [
              "(142,)"
            ]
          },
          "metadata": {},
          "execution_count": 11
        }
      ]
    },
    {
      "cell_type": "code",
      "metadata": {
        "id": "Lz9VXQm_CLrV",
        "outputId": "0284a14c-8071-486c-cc97-c2425f1d7037",
        "colab": {
          "base_uri": "https://localhost:8080/",
          "height": 34
        }
      },
      "source": [
        "X_test.shape"
      ],
      "execution_count": 12,
      "outputs": [
        {
          "output_type": "execute_result",
          "data": {
            "text/plain": [
              "(36, 13)"
            ]
          },
          "metadata": {},
          "execution_count": 12
        }
      ]
    },
    {
      "cell_type": "code",
      "metadata": {
        "id": "Ic-v5HmMCVGD",
        "outputId": "23a9ce40-2225-4c32-c96f-1ab4f428b4d0",
        "colab": {
          "base_uri": "https://localhost:8080/",
          "height": 34
        }
      },
      "source": [
        "y_test.shape"
      ],
      "execution_count": 13,
      "outputs": [
        {
          "output_type": "execute_result",
          "data": {
            "text/plain": [
              "(36,)"
            ]
          },
          "metadata": {},
          "execution_count": 13
        }
      ]
    },
    {
      "cell_type": "markdown",
      "metadata": {
        "id": "4S5gJUwomQ3U"
      },
      "source": [
        "## Neural network (training)"
      ]
    },
    {
      "cell_type": "code",
      "metadata": {
        "id": "duOEv22KMHLE",
        "outputId": "05d9a646-aac7-4d1c-b701-430c51d732c3",
        "colab": {
          "base_uri": "https://localhost:8080/",
          "height": 34
        }
      },
      "source": [
        "(13 + 3) / 2"
      ],
      "execution_count": 14,
      "outputs": [
        {
          "output_type": "execute_result",
          "data": {
            "text/plain": [
              "8.0"
            ]
          },
          "metadata": {},
          "execution_count": 14
        }
      ]
    },
    {
      "cell_type": "code",
      "metadata": {
        "id": "E22nm4baD8eO",
        "outputId": "7e6b24ae-75b2-4e57-a5ca-e93327483a10",
        "colab": {
          "base_uri": "https://localhost:8080/",
          "height": 1000
        },
        "tags": [
          "outputPrepend"
        ]
      },
      "source": [
        "# 13 -> 8 -> 8 -> 3\n",
        "network = MLPClassifier(max_iter=5000,\n",
        "                        verbose=True,\n",
        "                        activation = 'tanh',\n",
        "                        solver = 'adam',\n",
        "                        learning_rate = 'constant',\n",
        "                        learning_rate_init = 0.001,\n",
        "                        tol=0.000001,\n",
        "                        hidden_layer_sizes = (8, 8))\n",
        "network.fit(X_train, y_train)"
      ],
      "execution_count": 69,
      "outputs": [
        {
          "output_type": "stream",
          "name": "stdout",
          "text": [
            "ration 785, loss = 0.08646992\n",
            "Iteration 786, loss = 0.08659422\n",
            "Iteration 787, loss = 0.08606629\n",
            "Iteration 788, loss = 0.08578827\n",
            "Iteration 789, loss = 0.08581550\n",
            "Iteration 790, loss = 0.08536248\n",
            "Iteration 791, loss = 0.08513062\n",
            "Iteration 792, loss = 0.08507541\n",
            "Iteration 793, loss = 0.08470220\n",
            "Iteration 794, loss = 0.08446114\n",
            "Iteration 795, loss = 0.08439195\n",
            "Iteration 796, loss = 0.08403642\n",
            "Iteration 797, loss = 0.08383641\n",
            "Iteration 798, loss = 0.08370623\n",
            "Iteration 799, loss = 0.08341774\n",
            "Iteration 800, loss = 0.08319435\n",
            "Iteration 801, loss = 0.08307060\n",
            "Iteration 802, loss = 0.08279176\n",
            "Iteration 803, loss = 0.08259116\n",
            "Iteration 804, loss = 0.08243488\n",
            "Iteration 805, loss = 0.08220054\n",
            "Iteration 806, loss = 0.08198044\n",
            "Iteration 807, loss = 0.08183250\n",
            "Iteration 808, loss = 0.08160476\n",
            "Iteration 809, loss = 0.08139849\n",
            "Iteration 810, loss = 0.08123150\n",
            "Iteration 811, loss = 0.08103176\n",
            "Iteration 812, loss = 0.08081777\n",
            "Iteration 813, loss = 0.08065278\n",
            "Iteration 814, loss = 0.08045938\n",
            "Iteration 815, loss = 0.08025729\n",
            "Iteration 816, loss = 0.08008016\n",
            "Iteration 817, loss = 0.07990227\n",
            "Iteration 818, loss = 0.07970208\n",
            "Iteration 819, loss = 0.07952437\n",
            "Iteration 820, loss = 0.07934902\n",
            "Iteration 821, loss = 0.07916067\n",
            "Iteration 822, loss = 0.07897711\n",
            "Iteration 823, loss = 0.07880698\n",
            "Iteration 824, loss = 0.07862488\n",
            "Iteration 825, loss = 0.07844333\n",
            "Iteration 826, loss = 0.07827133\n",
            "Iteration 827, loss = 0.07809815\n",
            "Iteration 828, loss = 0.07791813\n",
            "Iteration 829, loss = 0.07774628\n",
            "Iteration 830, loss = 0.07757663\n",
            "Iteration 831, loss = 0.07740267\n",
            "Iteration 832, loss = 0.07722972\n",
            "Iteration 833, loss = 0.07706280\n",
            "Iteration 834, loss = 0.07689352\n",
            "Iteration 835, loss = 0.07672303\n",
            "Iteration 836, loss = 0.07655589\n",
            "Iteration 837, loss = 0.07639102\n",
            "Iteration 838, loss = 0.07622376\n",
            "Iteration 839, loss = 0.07605768\n",
            "Iteration 840, loss = 0.07589430\n",
            "Iteration 841, loss = 0.07573124\n",
            "Iteration 842, loss = 0.07556703\n",
            "Iteration 843, loss = 0.07540476\n",
            "Iteration 844, loss = 0.07524409\n",
            "Iteration 845, loss = 0.07508327\n",
            "Iteration 846, loss = 0.07492229\n",
            "Iteration 847, loss = 0.07476309\n",
            "Iteration 848, loss = 0.07460480\n",
            "Iteration 849, loss = 0.07444648\n",
            "Iteration 850, loss = 0.07428846\n",
            "Iteration 851, loss = 0.07413185\n",
            "Iteration 852, loss = 0.07397589\n",
            "Iteration 853, loss = 0.07382008\n",
            "Iteration 854, loss = 0.07366468\n",
            "Iteration 855, loss = 0.07351040\n",
            "Iteration 856, loss = 0.07335668\n",
            "Iteration 857, loss = 0.07320324\n",
            "Iteration 858, loss = 0.07305021\n",
            "Iteration 859, loss = 0.07289805\n",
            "Iteration 860, loss = 0.07274646\n",
            "Iteration 861, loss = 0.07259521\n",
            "Iteration 862, loss = 0.07244433\n",
            "Iteration 863, loss = 0.07229414\n",
            "Iteration 864, loss = 0.07214450\n",
            "Iteration 865, loss = 0.07199527\n",
            "Iteration 866, loss = 0.07184636\n",
            "Iteration 867, loss = 0.07169799\n",
            "Iteration 868, loss = 0.07155013\n",
            "Iteration 869, loss = 0.07140272\n",
            "Iteration 870, loss = 0.07125562\n",
            "Iteration 871, loss = 0.07110893\n",
            "Iteration 872, loss = 0.07096268\n",
            "Iteration 873, loss = 0.07081687\n",
            "Iteration 874, loss = 0.07067141\n",
            "Iteration 875, loss = 0.07052627\n",
            "Iteration 876, loss = 0.07038148\n",
            "Iteration 877, loss = 0.07023709\n",
            "Iteration 878, loss = 0.07009305\n",
            "Iteration 879, loss = 0.06994932\n",
            "Iteration 880, loss = 0.06980587\n",
            "Iteration 881, loss = 0.06966273\n",
            "Iteration 882, loss = 0.06951991\n",
            "Iteration 883, loss = 0.06937738\n",
            "Iteration 884, loss = 0.06923512\n",
            "Iteration 885, loss = 0.06909311\n",
            "Iteration 886, loss = 0.06895135\n",
            "Iteration 887, loss = 0.06880983\n",
            "Iteration 888, loss = 0.06866855\n",
            "Iteration 889, loss = 0.06852750\n",
            "Iteration 890, loss = 0.06838666\n",
            "Iteration 891, loss = 0.06824600\n",
            "Iteration 892, loss = 0.06810553\n",
            "Iteration 893, loss = 0.06796524\n",
            "Iteration 894, loss = 0.06782512\n",
            "Iteration 895, loss = 0.06768515\n",
            "Iteration 896, loss = 0.06754533\n",
            "Iteration 897, loss = 0.06740563\n",
            "Iteration 898, loss = 0.06726605\n",
            "Iteration 899, loss = 0.06712658\n",
            "Iteration 900, loss = 0.06698720\n",
            "Iteration 901, loss = 0.06684791\n",
            "Iteration 902, loss = 0.06670868\n",
            "Iteration 903, loss = 0.06656952\n",
            "Iteration 904, loss = 0.06643041\n",
            "Iteration 905, loss = 0.06629132\n",
            "Iteration 906, loss = 0.06615226\n",
            "Iteration 907, loss = 0.06601320\n",
            "Iteration 908, loss = 0.06587413\n",
            "Iteration 909, loss = 0.06573504\n",
            "Iteration 910, loss = 0.06559592\n",
            "Iteration 911, loss = 0.06545675\n",
            "Iteration 912, loss = 0.06531751\n",
            "Iteration 913, loss = 0.06517819\n",
            "Iteration 914, loss = 0.06503878\n",
            "Iteration 915, loss = 0.06489927\n",
            "Iteration 916, loss = 0.06475962\n",
            "Iteration 917, loss = 0.06461984\n",
            "Iteration 918, loss = 0.06447990\n",
            "Iteration 919, loss = 0.06433980\n",
            "Iteration 920, loss = 0.06419953\n",
            "Iteration 921, loss = 0.06405910\n",
            "Iteration 922, loss = 0.06391854\n",
            "Iteration 923, loss = 0.06377795\n",
            "Iteration 924, loss = 0.06363759\n",
            "Iteration 925, loss = 0.06349808\n",
            "Iteration 926, loss = 0.06336108\n",
            "Iteration 927, loss = 0.06323014\n",
            "Iteration 928, loss = 0.06311661\n",
            "Iteration 929, loss = 0.06304143\n",
            "Iteration 930, loss = 0.06309053\n",
            "Iteration 931, loss = 0.06335696\n",
            "Iteration 932, loss = 0.06448134\n",
            "Iteration 933, loss = 0.06593496\n",
            "Iteration 934, loss = 0.06989586\n",
            "Iteration 935, loss = 0.06750254\n",
            "Iteration 936, loss = 0.06370011\n",
            "Iteration 937, loss = 0.06244447\n",
            "Iteration 938, loss = 0.06584985\n",
            "Iteration 939, loss = 0.06563623\n",
            "Iteration 940, loss = 0.06159582\n",
            "Iteration 941, loss = 0.06480774\n",
            "Iteration 942, loss = 0.06599614\n",
            "Iteration 943, loss = 0.06108762\n",
            "Iteration 944, loss = 0.06527472\n",
            "Iteration 945, loss = 0.06581192\n",
            "Iteration 946, loss = 0.06085991\n",
            "Iteration 947, loss = 0.06591319\n",
            "Iteration 948, loss = 0.06420418\n",
            "Iteration 949, loss = 0.06143959\n",
            "Iteration 950, loss = 0.06606829\n",
            "Iteration 951, loss = 0.06115153\n",
            "Iteration 952, loss = 0.06236935\n",
            "Iteration 953, loss = 0.06240266\n",
            "Iteration 954, loss = 0.05996891\n",
            "Iteration 955, loss = 0.06199303\n",
            "Iteration 956, loss = 0.05954510\n",
            "Iteration 957, loss = 0.06105766\n",
            "Iteration 958, loss = 0.06053062\n",
            "Iteration 959, loss = 0.05937934\n",
            "Iteration 960, loss = 0.06068249\n",
            "Iteration 961, loss = 0.05897602\n",
            "Iteration 962, loss = 0.05971690\n",
            "Iteration 963, loss = 0.05906098\n",
            "Iteration 964, loss = 0.05875442\n",
            "Iteration 965, loss = 0.05920713\n",
            "Iteration 966, loss = 0.05816444\n",
            "Iteration 967, loss = 0.05874883\n",
            "Iteration 968, loss = 0.05819706\n",
            "Iteration 969, loss = 0.05802844\n",
            "Iteration 970, loss = 0.05815249\n",
            "Iteration 971, loss = 0.05751193\n",
            "Iteration 972, loss = 0.05778554\n",
            "Iteration 973, loss = 0.05738082\n",
            "Iteration 974, loss = 0.05718127\n",
            "Iteration 975, loss = 0.05726766\n",
            "Iteration 976, loss = 0.05680602\n",
            "Iteration 977, loss = 0.05689259\n",
            "Iteration 978, loss = 0.05664639\n",
            "Iteration 979, loss = 0.05641279\n",
            "Iteration 980, loss = 0.05643835\n",
            "Iteration 981, loss = 0.05609948\n",
            "Iteration 982, loss = 0.05602915\n",
            "Iteration 983, loss = 0.05591288\n",
            "Iteration 984, loss = 0.05562651\n",
            "Iteration 985, loss = 0.05559416\n",
            "Iteration 986, loss = 0.05539490\n",
            "Iteration 987, loss = 0.05518441\n",
            "Iteration 988, loss = 0.05511525\n",
            "Iteration 989, loss = 0.05489474\n",
            "Iteration 990, loss = 0.05473647\n",
            "Iteration 991, loss = 0.05462637\n",
            "Iteration 992, loss = 0.05440481\n",
            "Iteration 993, loss = 0.05426469\n",
            "Iteration 994, loss = 0.05413399\n",
            "Iteration 995, loss = 0.05392196\n",
            "Iteration 996, loss = 0.05377416\n",
            "Iteration 997, loss = 0.05363337\n",
            "Iteration 998, loss = 0.05343127\n",
            "Iteration 999, loss = 0.05327304\n",
            "Iteration 1000, loss = 0.05312749\n",
            "Iteration 1001, loss = 0.05293449\n",
            "Iteration 1002, loss = 0.05276067\n",
            "Iteration 1003, loss = 0.05260997\n",
            "Iteration 1004, loss = 0.05242698\n",
            "Iteration 1005, loss = 0.05224205\n",
            "Iteration 1006, loss = 0.05208210\n",
            "Iteration 1007, loss = 0.05190864\n",
            "Iteration 1008, loss = 0.05171852\n",
            "Iteration 1009, loss = 0.05154275\n",
            "Iteration 1010, loss = 0.05137381\n",
            "Iteration 1011, loss = 0.05118902\n",
            "Iteration 1012, loss = 0.05100037\n",
            "Iteration 1013, loss = 0.05082323\n",
            "Iteration 1014, loss = 0.05064602\n",
            "Iteration 1015, loss = 0.05045773\n",
            "Iteration 1016, loss = 0.05026740\n",
            "Iteration 1017, loss = 0.05008415\n",
            "Iteration 1018, loss = 0.04990184\n",
            "Iteration 1019, loss = 0.04971296\n",
            "Iteration 1020, loss = 0.04952048\n",
            "Iteration 1021, loss = 0.04933054\n",
            "Iteration 1022, loss = 0.04914328\n",
            "Iteration 1023, loss = 0.04895481\n",
            "Iteration 1024, loss = 0.04876276\n",
            "Iteration 1025, loss = 0.04856839\n",
            "Iteration 1026, loss = 0.04837465\n",
            "Iteration 1027, loss = 0.04818273\n",
            "Iteration 1028, loss = 0.04799135\n",
            "Iteration 1029, loss = 0.04779889\n",
            "Iteration 1030, loss = 0.04760492\n",
            "Iteration 1031, loss = 0.04740978\n",
            "Iteration 1032, loss = 0.04721411\n",
            "Iteration 1033, loss = 0.04701875\n",
            "Iteration 1034, loss = 0.04682399\n",
            "Iteration 1035, loss = 0.04662972\n",
            "Iteration 1036, loss = 0.04643587\n",
            "Iteration 1037, loss = 0.04624253\n",
            "Iteration 1038, loss = 0.04604970\n",
            "Iteration 1039, loss = 0.04585765\n",
            "Iteration 1040, loss = 0.04566709\n",
            "Iteration 1041, loss = 0.04547925\n",
            "Iteration 1042, loss = 0.04529668\n",
            "Iteration 1043, loss = 0.04512560\n",
            "Iteration 1044, loss = 0.04497853\n",
            "Iteration 1045, loss = 0.04489032\n",
            "Iteration 1046, loss = 0.04493154\n",
            "Iteration 1047, loss = 0.04532044\n",
            "Iteration 1048, loss = 0.04636826\n",
            "Iteration 1049, loss = 0.04889714\n",
            "Iteration 1050, loss = 0.05182615\n",
            "Iteration 1051, loss = 0.05242076\n",
            "Iteration 1052, loss = 0.04745184\n",
            "Iteration 1053, loss = 0.04350751\n",
            "Iteration 1054, loss = 0.04617488\n",
            "Iteration 1055, loss = 0.05154381\n",
            "Iteration 1056, loss = 0.05164303\n",
            "Iteration 1057, loss = 0.04606730\n",
            "Iteration 1058, loss = 0.04385774\n",
            "Iteration 1059, loss = 0.04751008\n",
            "Iteration 1060, loss = 0.04616807\n",
            "Iteration 1061, loss = 0.04231372\n",
            "Iteration 1062, loss = 0.04451480\n",
            "Iteration 1063, loss = 0.04749505\n",
            "Iteration 1064, loss = 0.04447122\n",
            "Iteration 1065, loss = 0.04213561\n",
            "Iteration 1066, loss = 0.04418652\n",
            "Iteration 1067, loss = 0.04350517\n",
            "Iteration 1068, loss = 0.04124065\n",
            "Iteration 1069, loss = 0.04265839\n",
            "Iteration 1070, loss = 0.04329628\n",
            "Iteration 1071, loss = 0.04181577\n",
            "Iteration 1072, loss = 0.04081590\n",
            "Iteration 1073, loss = 0.04188987\n",
            "Iteration 1074, loss = 0.04135975\n",
            "Iteration 1075, loss = 0.04035722\n",
            "Iteration 1076, loss = 0.04105305\n",
            "Iteration 1077, loss = 0.04117496\n",
            "Iteration 1078, loss = 0.04028046\n",
            "Iteration 1079, loss = 0.03990689\n",
            "Iteration 1080, loss = 0.04040876\n",
            "Iteration 1081, loss = 0.03993078\n",
            "Iteration 1082, loss = 0.03954795\n",
            "Iteration 1083, loss = 0.03970085\n",
            "Iteration 1084, loss = 0.03955636\n",
            "Iteration 1085, loss = 0.03915302\n",
            "Iteration 1086, loss = 0.03905707\n",
            "Iteration 1087, loss = 0.03911761\n",
            "Iteration 1088, loss = 0.03881685\n",
            "Iteration 1089, loss = 0.03863300\n",
            "Iteration 1090, loss = 0.03860822\n",
            "Iteration 1091, loss = 0.03849982\n",
            "Iteration 1092, loss = 0.03821786\n",
            "Iteration 1093, loss = 0.03815715\n",
            "Iteration 1094, loss = 0.03812517\n",
            "Iteration 1095, loss = 0.03792451\n",
            "Iteration 1096, loss = 0.03774023\n",
            "Iteration 1097, loss = 0.03767541\n",
            "Iteration 1098, loss = 0.03760124\n",
            "Iteration 1099, loss = 0.03739355\n",
            "Iteration 1100, loss = 0.03727691\n",
            "Iteration 1101, loss = 0.03720629\n",
            "Iteration 1102, loss = 0.03710308\n",
            "Iteration 1103, loss = 0.03692713\n",
            "Iteration 1104, loss = 0.03681748\n",
            "Iteration 1105, loss = 0.03674140\n",
            "Iteration 1106, loss = 0.03661759\n",
            "Iteration 1107, loss = 0.03647651\n",
            "Iteration 1108, loss = 0.03637004\n",
            "Iteration 1109, loss = 0.03628947\n",
            "Iteration 1110, loss = 0.03616580\n",
            "Iteration 1111, loss = 0.03604036\n",
            "Iteration 1112, loss = 0.03593328\n",
            "Iteration 1113, loss = 0.03584493\n",
            "Iteration 1114, loss = 0.03572915\n",
            "Iteration 1115, loss = 0.03561143\n",
            "Iteration 1116, loss = 0.03550867\n",
            "Iteration 1117, loss = 0.03541396\n",
            "Iteration 1118, loss = 0.03530777\n",
            "Iteration 1119, loss = 0.03519394\n",
            "Iteration 1120, loss = 0.03509234\n",
            "Iteration 1121, loss = 0.03499476\n",
            "Iteration 1122, loss = 0.03489436\n",
            "Iteration 1123, loss = 0.03478616\n",
            "Iteration 1124, loss = 0.03468484\n",
            "Iteration 1125, loss = 0.03458704\n",
            "Iteration 1126, loss = 0.03448972\n",
            "Iteration 1127, loss = 0.03438753\n",
            "Iteration 1128, loss = 0.03428640\n",
            "Iteration 1129, loss = 0.03418917\n",
            "Iteration 1130, loss = 0.03409327\n",
            "Iteration 1131, loss = 0.03399614\n",
            "Iteration 1132, loss = 0.03389685\n",
            "Iteration 1133, loss = 0.03380017\n",
            "Iteration 1134, loss = 0.03370523\n",
            "Iteration 1135, loss = 0.03361136\n",
            "Iteration 1136, loss = 0.03351527\n",
            "Iteration 1137, loss = 0.03341964\n",
            "Iteration 1138, loss = 0.03332562\n",
            "Iteration 1139, loss = 0.03323337\n",
            "Iteration 1140, loss = 0.03314052\n",
            "Iteration 1141, loss = 0.03304684\n",
            "Iteration 1142, loss = 0.03295402\n",
            "Iteration 1143, loss = 0.03286255\n",
            "Iteration 1144, loss = 0.03277194\n",
            "Iteration 1145, loss = 0.03268074\n",
            "Iteration 1146, loss = 0.03258975\n",
            "Iteration 1147, loss = 0.03249927\n",
            "Iteration 1148, loss = 0.03240986\n",
            "Iteration 1149, loss = 0.03232074\n",
            "Iteration 1150, loss = 0.03223182\n",
            "Iteration 1151, loss = 0.03214299\n",
            "Iteration 1152, loss = 0.03205462\n",
            "Iteration 1153, loss = 0.03196691\n",
            "Iteration 1154, loss = 0.03187970\n",
            "Iteration 1155, loss = 0.03179278\n",
            "Iteration 1156, loss = 0.03170592\n",
            "Iteration 1157, loss = 0.03161948\n",
            "Iteration 1158, loss = 0.03153354\n",
            "Iteration 1159, loss = 0.03144814\n",
            "Iteration 1160, loss = 0.03136298\n",
            "Iteration 1161, loss = 0.03127807\n",
            "Iteration 1162, loss = 0.03119345\n",
            "Iteration 1163, loss = 0.03110927\n",
            "Iteration 1164, loss = 0.03102549\n",
            "Iteration 1165, loss = 0.03094207\n",
            "Iteration 1166, loss = 0.03085896\n",
            "Iteration 1167, loss = 0.03077610\n",
            "Iteration 1168, loss = 0.03069359\n",
            "Iteration 1169, loss = 0.03061142\n",
            "Iteration 1170, loss = 0.03052965\n",
            "Iteration 1171, loss = 0.03044819\n",
            "Iteration 1172, loss = 0.03036701\n",
            "Iteration 1173, loss = 0.03028612\n",
            "Iteration 1174, loss = 0.03020556\n",
            "Iteration 1175, loss = 0.03012533\n",
            "Iteration 1176, loss = 0.03004542\n",
            "Iteration 1177, loss = 0.02996583\n",
            "Iteration 1178, loss = 0.02988652\n",
            "Iteration 1179, loss = 0.02980750\n",
            "Iteration 1180, loss = 0.02972877\n",
            "Iteration 1181, loss = 0.02965036\n",
            "Iteration 1182, loss = 0.02957225\n",
            "Iteration 1183, loss = 0.02949444\n",
            "Iteration 1184, loss = 0.02941691\n",
            "Iteration 1185, loss = 0.02933966\n",
            "Iteration 1186, loss = 0.02926269\n",
            "Iteration 1187, loss = 0.02918601\n",
            "Iteration 1188, loss = 0.02910961\n",
            "Iteration 1189, loss = 0.02903350\n",
            "Iteration 1190, loss = 0.02895767\n",
            "Iteration 1191, loss = 0.02888211\n",
            "Iteration 1192, loss = 0.02880681\n",
            "Iteration 1193, loss = 0.02873179\n",
            "Iteration 1194, loss = 0.02865703\n",
            "Iteration 1195, loss = 0.02858255\n",
            "Iteration 1196, loss = 0.02850833\n",
            "Iteration 1197, loss = 0.02843438\n",
            "Iteration 1198, loss = 0.02836068\n",
            "Iteration 1199, loss = 0.02828725\n",
            "Iteration 1200, loss = 0.02821406\n",
            "Iteration 1201, loss = 0.02814114\n",
            "Iteration 1202, loss = 0.02806847\n",
            "Iteration 1203, loss = 0.02799605\n",
            "Iteration 1204, loss = 0.02792389\n",
            "Iteration 1205, loss = 0.02785197\n",
            "Iteration 1206, loss = 0.02778029\n",
            "Iteration 1207, loss = 0.02770887\n",
            "Iteration 1208, loss = 0.02763768\n",
            "Iteration 1209, loss = 0.02756674\n",
            "Iteration 1210, loss = 0.02749603\n",
            "Iteration 1211, loss = 0.02742557\n",
            "Iteration 1212, loss = 0.02735534\n",
            "Iteration 1213, loss = 0.02728535\n",
            "Iteration 1214, loss = 0.02721558\n",
            "Iteration 1215, loss = 0.02714606\n",
            "Iteration 1216, loss = 0.02707676\n",
            "Iteration 1217, loss = 0.02700768\n",
            "Iteration 1218, loss = 0.02693884\n",
            "Iteration 1219, loss = 0.02687022\n",
            "Iteration 1220, loss = 0.02680183\n",
            "Iteration 1221, loss = 0.02673366\n",
            "Iteration 1222, loss = 0.02666571\n",
            "Iteration 1223, loss = 0.02659797\n",
            "Iteration 1224, loss = 0.02653046\n",
            "Iteration 1225, loss = 0.02646316\n",
            "Iteration 1226, loss = 0.02639608\n",
            "Iteration 1227, loss = 0.02632921\n",
            "Iteration 1228, loss = 0.02626255\n",
            "Iteration 1229, loss = 0.02619611\n",
            "Iteration 1230, loss = 0.02612987\n",
            "Iteration 1231, loss = 0.02606384\n",
            "Iteration 1232, loss = 0.02599802\n",
            "Iteration 1233, loss = 0.02593240\n",
            "Iteration 1234, loss = 0.02586699\n",
            "Iteration 1235, loss = 0.02580177\n",
            "Iteration 1236, loss = 0.02573676\n",
            "Iteration 1237, loss = 0.02567195\n",
            "Iteration 1238, loss = 0.02560734\n",
            "Iteration 1239, loss = 0.02554293\n",
            "Iteration 1240, loss = 0.02547871\n",
            "Iteration 1241, loss = 0.02541468\n",
            "Iteration 1242, loss = 0.02535085\n",
            "Iteration 1243, loss = 0.02528721\n",
            "Iteration 1244, loss = 0.02522376\n",
            "Iteration 1245, loss = 0.02516050\n",
            "Iteration 1246, loss = 0.02509743\n",
            "Iteration 1247, loss = 0.02503455\n",
            "Iteration 1248, loss = 0.02497185\n",
            "Iteration 1249, loss = 0.02490933\n",
            "Iteration 1250, loss = 0.02484700\n",
            "Iteration 1251, loss = 0.02478486\n",
            "Iteration 1252, loss = 0.02472289\n",
            "Iteration 1253, loss = 0.02466110\n",
            "Iteration 1254, loss = 0.02459950\n",
            "Iteration 1255, loss = 0.02453807\n",
            "Iteration 1256, loss = 0.02447681\n",
            "Iteration 1257, loss = 0.02441573\n",
            "Iteration 1258, loss = 0.02435483\n",
            "Iteration 1259, loss = 0.02429410\n",
            "Iteration 1260, loss = 0.02423354\n",
            "Iteration 1261, loss = 0.02417315\n",
            "Iteration 1262, loss = 0.02411293\n",
            "Iteration 1263, loss = 0.02405289\n",
            "Iteration 1264, loss = 0.02399301\n",
            "Iteration 1265, loss = 0.02393329\n",
            "Iteration 1266, loss = 0.02387374\n",
            "Iteration 1267, loss = 0.02381436\n",
            "Iteration 1268, loss = 0.02375514\n",
            "Iteration 1269, loss = 0.02369609\n",
            "Iteration 1270, loss = 0.02363719\n",
            "Iteration 1271, loss = 0.02357846\n",
            "Iteration 1272, loss = 0.02351988\n",
            "Iteration 1273, loss = 0.02346147\n",
            "Iteration 1274, loss = 0.02340321\n",
            "Iteration 1275, loss = 0.02334512\n",
            "Iteration 1276, loss = 0.02328717\n",
            "Iteration 1277, loss = 0.02322939\n",
            "Iteration 1278, loss = 0.02317175\n",
            "Iteration 1279, loss = 0.02311427\n",
            "Iteration 1280, loss = 0.02305695\n",
            "Iteration 1281, loss = 0.02299978\n",
            "Iteration 1282, loss = 0.02294275\n",
            "Iteration 1283, loss = 0.02288588\n",
            "Iteration 1284, loss = 0.02282916\n",
            "Iteration 1285, loss = 0.02277258\n",
            "Iteration 1286, loss = 0.02271616\n",
            "Iteration 1287, loss = 0.02265988\n",
            "Iteration 1288, loss = 0.02260375\n",
            "Iteration 1289, loss = 0.02254776\n",
            "Iteration 1290, loss = 0.02249192\n",
            "Iteration 1291, loss = 0.02243623\n",
            "Iteration 1292, loss = 0.02238067\n",
            "Iteration 1293, loss = 0.02232526\n",
            "Iteration 1294, loss = 0.02227000\n",
            "Iteration 1295, loss = 0.02221487\n",
            "Iteration 1296, loss = 0.02215989\n",
            "Iteration 1297, loss = 0.02210504\n",
            "Iteration 1298, loss = 0.02205034\n",
            "Iteration 1299, loss = 0.02199577\n",
            "Iteration 1300, loss = 0.02194135\n",
            "Iteration 1301, loss = 0.02188706\n",
            "Iteration 1302, loss = 0.02183291\n",
            "Iteration 1303, loss = 0.02177890\n",
            "Iteration 1304, loss = 0.02172502\n",
            "Iteration 1305, loss = 0.02167128\n",
            "Iteration 1306, loss = 0.02161767\n",
            "Iteration 1307, loss = 0.02156420\n",
            "Iteration 1308, loss = 0.02151087\n",
            "Iteration 1309, loss = 0.02145767\n",
            "Iteration 1310, loss = 0.02140460\n",
            "Iteration 1311, loss = 0.02135167\n",
            "Iteration 1312, loss = 0.02129886\n",
            "Iteration 1313, loss = 0.02124620\n",
            "Iteration 1314, loss = 0.02119366\n",
            "Iteration 1315, loss = 0.02114126\n",
            "Iteration 1316, loss = 0.02108898\n",
            "Iteration 1317, loss = 0.02103684\n",
            "Iteration 1318, loss = 0.02098483\n",
            "Iteration 1319, loss = 0.02093295\n",
            "Iteration 1320, loss = 0.02088120\n",
            "Iteration 1321, loss = 0.02082958\n",
            "Iteration 1322, loss = 0.02077809\n",
            "Iteration 1323, loss = 0.02072673\n",
            "Iteration 1324, loss = 0.02067549\n",
            "Iteration 1325, loss = 0.02062439\n",
            "Iteration 1326, loss = 0.02057342\n",
            "Iteration 1327, loss = 0.02052257\n",
            "Iteration 1328, loss = 0.02047186\n",
            "Iteration 1329, loss = 0.02042127\n",
            "Iteration 1330, loss = 0.02037081\n",
            "Iteration 1331, loss = 0.02032048\n",
            "Iteration 1332, loss = 0.02027027\n",
            "Iteration 1333, loss = 0.02022020\n",
            "Iteration 1334, loss = 0.02017025\n",
            "Iteration 1335, loss = 0.02012043\n",
            "Iteration 1336, loss = 0.02007073\n",
            "Iteration 1337, loss = 0.02002117\n",
            "Iteration 1338, loss = 0.01997173\n",
            "Iteration 1339, loss = 0.01992243\n",
            "Iteration 1340, loss = 0.01987325\n",
            "Iteration 1341, loss = 0.01982419\n",
            "Iteration 1342, loss = 0.01977527\n",
            "Iteration 1343, loss = 0.01972648\n",
            "Iteration 1344, loss = 0.01967782\n",
            "Iteration 1345, loss = 0.01962930\n",
            "Iteration 1346, loss = 0.01958091\n",
            "Iteration 1347, loss = 0.01953266\n",
            "Iteration 1348, loss = 0.01948455\n",
            "Iteration 1349, loss = 0.01943660\n",
            "Iteration 1350, loss = 0.01938882\n",
            "Iteration 1351, loss = 0.01934121\n",
            "Iteration 1352, loss = 0.01929382\n",
            "Iteration 1353, loss = 0.01924667\n",
            "Iteration 1354, loss = 0.01919983\n",
            "Iteration 1355, loss = 0.01915337\n",
            "Iteration 1356, loss = 0.01910743\n",
            "Iteration 1357, loss = 0.01906215\n",
            "Iteration 1358, loss = 0.01901788\n",
            "Iteration 1359, loss = 0.01897488\n",
            "Iteration 1360, loss = 0.01893399\n",
            "Iteration 1361, loss = 0.01889569\n",
            "Iteration 1362, loss = 0.01886205\n",
            "Iteration 1363, loss = 0.01883371\n",
            "Iteration 1364, loss = 0.01881601\n",
            "Iteration 1365, loss = 0.01880899\n",
            "Iteration 1366, loss = 0.01882683\n",
            "Iteration 1367, loss = 0.01886485\n",
            "Iteration 1368, loss = 0.01896124\n",
            "Iteration 1369, loss = 0.01909024\n",
            "Iteration 1370, loss = 0.01935283\n",
            "Iteration 1371, loss = 0.01964692\n",
            "Iteration 1372, loss = 0.02021535\n",
            "Iteration 1373, loss = 0.02072807\n",
            "Iteration 1374, loss = 0.02162731\n",
            "Iteration 1375, loss = 0.02204855\n",
            "Iteration 1376, loss = 0.02236370\n",
            "Training loss did not improve more than tol=0.000001 for 10 consecutive epochs. Stopping.\n"
          ]
        },
        {
          "output_type": "execute_result",
          "data": {
            "text/plain": [
              "MLPClassifier(activation='tanh', hidden_layer_sizes=(8, 8), max_iter=5000,\n",
              "              tol=1e-06, verbose=True)"
            ]
          },
          "metadata": {},
          "execution_count": 69
        }
      ]
    },
    {
      "cell_type": "code",
      "execution_count": 70,
      "metadata": {},
      "outputs": [
        {
          "output_type": "execute_result",
          "data": {
            "text/plain": [
              "0.9929577464788732"
            ]
          },
          "metadata": {},
          "execution_count": 70
        }
      ],
      "source": [
        "network.score(X_train,y_train)"
      ]
    },
    {
      "cell_type": "code",
      "execution_count": 71,
      "metadata": {},
      "outputs": [
        {
          "output_type": "execute_result",
          "data": {
            "text/plain": [
              "0.9722222222222222"
            ]
          },
          "metadata": {},
          "execution_count": 71
        }
      ],
      "source": [
        "network.score(X_test,y_test)"
      ]
    },
    {
      "cell_type": "code",
      "metadata": {
        "id": "adSet8VkNt4U",
        "outputId": "fe6153da-025d-46c5-d929-10b418f52f89",
        "colab": {
          "base_uri": "https://localhost:8080/",
          "height": 34
        }
      },
      "source": [
        "network.classes_"
      ],
      "execution_count": 39,
      "outputs": [
        {
          "output_type": "execute_result",
          "data": {
            "text/plain": [
              "array([0, 1, 2])"
            ]
          },
          "metadata": {},
          "execution_count": 39
        }
      ]
    },
    {
      "cell_type": "code",
      "metadata": {
        "id": "0c9uGEYZNxy3",
        "outputId": "5f4d92a1-1622-4bb0-dcd9-bfc26bdac740",
        "colab": {
          "base_uri": "https://localhost:8080/",
          "height": 1000
        }
      },
      "source": [
        "network.coefs_"
      ],
      "execution_count": 40,
      "outputs": [
        {
          "output_type": "execute_result",
          "data": {
            "text/plain": [
              "[array([[ 2.91622321e-01,  1.30440125e-03,  6.14558961e-02,\n",
              "          1.74114784e-01, -9.66692550e-01,  7.37812911e-01,\n",
              "         -5.65490789e-01,  1.38677640e-03],\n",
              "        [-1.31777700e+00,  2.82590879e-04,  1.53624253e+00,\n",
              "         -8.44437608e-02,  1.34825245e+00, -1.07422550e+00,\n",
              "          1.80339878e+00,  3.02270065e-04],\n",
              "        [-1.35033117e+00,  2.32520301e-04,  2.57775671e+00,\n",
              "         -1.76423112e-01,  2.55759808e+00, -2.72386632e+00,\n",
              "          1.94271682e+00,  2.47917602e-04],\n",
              "        [ 3.03509506e-02,  2.03991754e-03, -1.22622466e+00,\n",
              "         -1.98611676e-01, -8.03353465e-02,  4.04675991e-01,\n",
              "          4.14738439e-02,  2.16942522e-03],\n",
              "        [-3.41151058e-02,  9.35468952e-03,  8.29862136e-03,\n",
              "         -2.52655288e-01, -1.20797602e-02, -9.36051880e-03,\n",
              "          3.57025705e-02,  9.96463864e-03],\n",
              "        [ 7.38211697e-01,  2.35766834e-04,  6.77115770e-01,\n",
              "          1.49220121e-01, -2.00949770e+00,  3.40509699e-01,\n",
              "         -9.82759275e-01,  2.52951760e-04],\n",
              "        [ 2.19323880e+00,  2.19202907e-04,  2.01527313e+00,\n",
              "         -1.06408590e-01,  2.80431343e-01, -2.02606357e+00,\n",
              "         -1.44013207e+00,  2.35933026e-04],\n",
              "        [ 1.87522787e+00,  3.83617836e-05, -3.20920408e-01,\n",
              "         -4.10256691e-02, -1.99921648e+00, -1.04201137e+00,\n",
              "          2.31376721e-01,  4.04997068e-05],\n",
              "        [ 1.31178179e+00,  1.62173835e-04, -1.03938983e+00,\n",
              "          1.09482060e-01, -7.01039547e-01,  1.30617989e+00,\n",
              "         -1.42090666e+00,  1.74733858e-04],\n",
              "        [-1.30769154e+00,  2.79285632e-04,  1.06063740e-01,\n",
              "         -1.44076341e-01,  1.72793461e+00,  4.69912966e-01,\n",
              "          1.30841230e+00,  2.97769273e-04],\n",
              "        [ 2.89301413e+00,  1.05002197e-04, -1.66173164e+00,\n",
              "          1.23750782e-01, -3.81930363e+00,  2.87378305e+00,\n",
              "         -1.81948284e+00,  1.12185039e-04],\n",
              "        [ 2.23162433e+00,  3.10148905e-04,  1.63604320e+00,\n",
              "          6.06094442e-02, -9.24115686e-01, -8.32351555e-01,\n",
              "         -1.75028662e+00,  3.31812749e-04],\n",
              "        [-2.98612706e-03,  3.71595945e-02,  7.72024697e-03,\n",
              "          1.19282945e-01,  2.15814289e-02, -1.42641767e-02,\n",
              "          1.24215972e-05,  3.71834139e-02]]),\n",
              " array([[ 1.71588203, -2.17678564, -0.76411869, -1.09080964,  0.4464383 ,\n",
              "         -2.00329854,  2.03569437,  1.35663236],\n",
              "        [ 0.196796  , -0.65955657,  0.21336662,  0.217008  , -0.3105751 ,\n",
              "         -0.46508946,  0.16222845, -0.23704876],\n",
              "        [ 1.33420254, -1.32543098, -1.78777017, -1.68033324,  2.04488507,\n",
              "         -1.53276354, -0.30554472,  1.76761512],\n",
              "        [ 0.04448686, -0.48594967,  0.66380217,  0.69122842, -0.33765054,\n",
              "         -0.49424629,  0.54218188, -0.2744435 ],\n",
              "        [-0.05770432,  2.27087036, -2.49471649, -2.44548345,  1.5626671 ,\n",
              "          2.13740518, -2.11398177,  1.17079362],\n",
              "        [-1.37824399,  1.01386895,  2.35728333,  2.24787441, -2.30441268,\n",
              "          1.18940173,  0.80101631, -2.6301402 ],\n",
              "        [-1.44335715,  1.90248542,  1.53577462,  1.50804407, -1.04600068,\n",
              "          1.71537868, -2.19136463, -2.03995668],\n",
              "        [-0.03375344, -0.668181  ,  0.49793879,  0.31495086, -0.29122732,\n",
              "         -0.80547537,  0.1471033 , -0.20845727]]),\n",
              " array([[ 1.15596634, -0.17504195, -2.31274052],\n",
              "        [-0.80954678, -0.75430372,  2.86399836],\n",
              "        [-1.65964   ,  1.70577148,  1.39797563],\n",
              "        [-1.94532003,  1.18440308,  1.35433931],\n",
              "        [ 2.0184426 , -2.17117078, -1.3715028 ],\n",
              "        [-0.97415744, -0.20343373,  2.73244256],\n",
              "        [ 0.06789771,  1.74451404, -3.01952592],\n",
              "        [ 1.41214699, -1.10886763, -2.08007037]])]"
            ]
          },
          "metadata": {},
          "execution_count": 40
        }
      ]
    },
    {
      "cell_type": "code",
      "metadata": {
        "id": "YAdAAg7AN3Hm",
        "outputId": "691571c1-3778-4d56-a76a-e0907c8170da",
        "colab": {
          "base_uri": "https://localhost:8080/",
          "height": 101
        }
      },
      "source": [
        "network.intercepts_"
      ],
      "execution_count": 41,
      "outputs": [
        {
          "output_type": "execute_result",
          "data": {
            "text/plain": [
              "[array([ 0.61212026,  0.29426397, -2.1991347 ,  0.15591778, -3.5698961 ,\n",
              "         3.52855187, -0.79173026,  0.20564413]),\n",
              " array([ 0.30959683, -0.68165839,  0.20463907,  0.63823549,  0.08823675,\n",
              "        -0.66733868, -0.07557832, -0.23802185]),\n",
              " array([-0.0844619 ,  0.06387088, -0.07682307])]"
            ]
          },
          "metadata": {},
          "execution_count": 41
        }
      ]
    },
    {
      "cell_type": "code",
      "metadata": {
        "id": "P5_1ACCZOIhJ",
        "outputId": "2157bbe7-77eb-4889-8e30-0eb6ede340af",
        "colab": {
          "base_uri": "https://localhost:8080/",
          "height": 34
        }
      },
      "source": [
        "network.n_layers_"
      ],
      "execution_count": 42,
      "outputs": [
        {
          "output_type": "execute_result",
          "data": {
            "text/plain": [
              "4"
            ]
          },
          "metadata": {},
          "execution_count": 42
        }
      ]
    },
    {
      "cell_type": "code",
      "metadata": {
        "id": "pHDUyZqwOM7a",
        "outputId": "8063e1d9-d487-43ff-ac4f-3d204ec03373",
        "colab": {
          "base_uri": "https://localhost:8080/",
          "height": 34
        }
      },
      "source": [
        "network.n_outputs_"
      ],
      "execution_count": 43,
      "outputs": [
        {
          "output_type": "execute_result",
          "data": {
            "text/plain": [
              "3"
            ]
          },
          "metadata": {},
          "execution_count": 43
        }
      ]
    },
    {
      "cell_type": "code",
      "metadata": {
        "id": "10D1sM9IOTGG",
        "outputId": "45975015-2fa2-4bc0-fd60-4fecc35a2a40",
        "colab": {
          "base_uri": "https://localhost:8080/",
          "height": 34
        }
      },
      "source": [
        "network.out_activation_"
      ],
      "execution_count": 44,
      "outputs": [
        {
          "output_type": "execute_result",
          "data": {
            "text/plain": [
              "'softmax'"
            ]
          },
          "metadata": {},
          "execution_count": 44
        }
      ]
    },
    {
      "cell_type": "code",
      "execution_count": 45,
      "metadata": {},
      "outputs": [
        {
          "output_type": "display_data",
          "data": {
            "text/plain": "<Figure size 576x396 with 1 Axes>",
            "image/svg+xml": "<?xml version=\"1.0\" encoding=\"utf-8\" standalone=\"no\"?>\r\n<!DOCTYPE svg PUBLIC \"-//W3C//DTD SVG 1.1//EN\"\r\n  \"http://www.w3.org/Graphics/SVG/1.1/DTD/svg11.dtd\">\r\n<!-- Created with matplotlib (https://matplotlib.org/) -->\r\n<svg height=\"343.585156pt\" version=\"1.1\" viewBox=\"0 0 495.759844 343.585156\" width=\"495.759844pt\" xmlns=\"http://www.w3.org/2000/svg\" xmlns:xlink=\"http://www.w3.org/1999/xlink\">\r\n <metadata>\r\n  <rdf:RDF xmlns:cc=\"http://creativecommons.org/ns#\" xmlns:dc=\"http://purl.org/dc/elements/1.1/\" xmlns:rdf=\"http://www.w3.org/1999/02/22-rdf-syntax-ns#\">\r\n   <cc:Work>\r\n    <dc:type rdf:resource=\"http://purl.org/dc/dcmitype/StillImage\"/>\r\n    <dc:date>2021-05-15T17:37:26.590968</dc:date>\r\n    <dc:format>image/svg+xml</dc:format>\r\n    <dc:creator>\r\n     <cc:Agent>\r\n      <dc:title>Matplotlib v3.3.3, https://matplotlib.org/</dc:title>\r\n     </cc:Agent>\r\n    </dc:creator>\r\n   </cc:Work>\r\n  </rdf:RDF>\r\n </metadata>\r\n <defs>\r\n  <style type=\"text/css\">*{stroke-linecap:butt;stroke-linejoin:round;}</style>\r\n </defs>\r\n <g id=\"figure_1\">\r\n  <g id=\"patch_1\">\r\n   <path d=\"M 0 343.585156 \r\nL 495.759844 343.585156 \r\nL 495.759844 0 \r\nL 0 0 \r\nz\r\n\" style=\"fill:#ffffff;\"/>\r\n  </g>\r\n  <g id=\"axes_1\">\r\n   <g id=\"patch_2\">\r\n    <path d=\"M 42.159844 306.18 \r\nL 488.559844 306.18 \r\nL 488.559844 7.2 \r\nL 42.159844 7.2 \r\nz\r\n\" style=\"fill:#ffffff;\"/>\r\n   </g>\r\n   <g id=\"matplotlib.axis_1\">\r\n    <g id=\"xtick_1\">\r\n     <g id=\"line2d_1\">\r\n      <path clip-path=\"url(#p797848813b)\" d=\"M 62.450753 306.18 \r\nL 62.450753 7.2 \r\n\" style=\"fill:none;stroke:#cccccc;stroke-linecap:round;\"/>\r\n     </g>\r\n     <g id=\"line2d_2\"/>\r\n     <g id=\"text_1\">\r\n      <!-- 0 -->\r\n      <g style=\"fill:#262626;\" transform=\"translate(59.670284 320.337812)scale(0.1 -0.1)\">\r\n       <defs>\r\n        <path d=\"M 4.15625 35.296875 \r\nQ 4.15625 48 6.765625 55.734375 \r\nQ 9.375 63.484375 14.515625 67.671875 \r\nQ 19.671875 71.875 27.484375 71.875 \r\nQ 33.25 71.875 37.59375 69.546875 \r\nQ 41.9375 67.234375 44.765625 62.859375 \r\nQ 47.609375 58.5 49.21875 52.21875 \r\nQ 50.828125 45.953125 50.828125 35.296875 \r\nQ 50.828125 22.703125 48.234375 14.96875 \r\nQ 45.65625 7.234375 40.5 3 \r\nQ 35.359375 -1.21875 27.484375 -1.21875 \r\nQ 17.140625 -1.21875 11.234375 6.203125 \r\nQ 4.15625 15.140625 4.15625 35.296875 \r\nz\r\nM 13.1875 35.296875 \r\nQ 13.1875 17.671875 17.3125 11.828125 \r\nQ 21.4375 6 27.484375 6 \r\nQ 33.546875 6 37.671875 11.859375 \r\nQ 41.796875 17.71875 41.796875 35.296875 \r\nQ 41.796875 52.984375 37.671875 58.78125 \r\nQ 33.546875 64.59375 27.390625 64.59375 \r\nQ 21.34375 64.59375 17.71875 59.46875 \r\nQ 13.1875 52.9375 13.1875 35.296875 \r\nz\r\n\" id=\"ArialMT-48\"/>\r\n       </defs>\r\n       <use xlink:href=\"#ArialMT-48\"/>\r\n      </g>\r\n     </g>\r\n    </g>\r\n    <g id=\"xtick_2\">\r\n     <g id=\"line2d_3\">\r\n      <path clip-path=\"url(#p797848813b)\" d=\"M 161.069995 306.18 \r\nL 161.069995 7.2 \r\n\" style=\"fill:none;stroke:#cccccc;stroke-linecap:round;\"/>\r\n     </g>\r\n     <g id=\"line2d_4\"/>\r\n     <g id=\"text_2\">\r\n      <!-- 1000 -->\r\n      <g style=\"fill:#262626;\" transform=\"translate(149.94812 320.337812)scale(0.1 -0.1)\">\r\n       <defs>\r\n        <path d=\"M 37.25 0 \r\nL 28.46875 0 \r\nL 28.46875 56 \r\nQ 25.296875 52.984375 20.140625 49.953125 \r\nQ 14.984375 46.921875 10.890625 45.40625 \r\nL 10.890625 53.90625 \r\nQ 18.265625 57.375 23.78125 62.296875 \r\nQ 29.296875 67.234375 31.59375 71.875 \r\nL 37.25 71.875 \r\nz\r\n\" id=\"ArialMT-49\"/>\r\n       </defs>\r\n       <use xlink:href=\"#ArialMT-49\"/>\r\n       <use x=\"55.615234\" xlink:href=\"#ArialMT-48\"/>\r\n       <use x=\"111.230469\" xlink:href=\"#ArialMT-48\"/>\r\n       <use x=\"166.845703\" xlink:href=\"#ArialMT-48\"/>\r\n      </g>\r\n     </g>\r\n    </g>\r\n    <g id=\"xtick_3\">\r\n     <g id=\"line2d_5\">\r\n      <path clip-path=\"url(#p797848813b)\" d=\"M 259.689237 306.18 \r\nL 259.689237 7.2 \r\n\" style=\"fill:none;stroke:#cccccc;stroke-linecap:round;\"/>\r\n     </g>\r\n     <g id=\"line2d_6\"/>\r\n     <g id=\"text_3\">\r\n      <!-- 2000 -->\r\n      <g style=\"fill:#262626;\" transform=\"translate(248.567362 320.337812)scale(0.1 -0.1)\">\r\n       <defs>\r\n        <path d=\"M 50.34375 8.453125 \r\nL 50.34375 0 \r\nL 3.03125 0 \r\nQ 2.9375 3.171875 4.046875 6.109375 \r\nQ 5.859375 10.9375 9.828125 15.625 \r\nQ 13.8125 20.3125 21.34375 26.46875 \r\nQ 33.015625 36.03125 37.109375 41.625 \r\nQ 41.21875 47.21875 41.21875 52.203125 \r\nQ 41.21875 57.421875 37.46875 61 \r\nQ 33.734375 64.59375 27.734375 64.59375 \r\nQ 21.390625 64.59375 17.578125 60.78125 \r\nQ 13.765625 56.984375 13.71875 50.25 \r\nL 4.6875 51.171875 \r\nQ 5.609375 61.28125 11.65625 66.578125 \r\nQ 17.71875 71.875 27.9375 71.875 \r\nQ 38.234375 71.875 44.234375 66.15625 \r\nQ 50.25 60.453125 50.25 52 \r\nQ 50.25 47.703125 48.484375 43.546875 \r\nQ 46.734375 39.40625 42.65625 34.8125 \r\nQ 38.578125 30.21875 29.109375 22.21875 \r\nQ 21.1875 15.578125 18.9375 13.203125 \r\nQ 16.703125 10.84375 15.234375 8.453125 \r\nz\r\n\" id=\"ArialMT-50\"/>\r\n       </defs>\r\n       <use xlink:href=\"#ArialMT-50\"/>\r\n       <use x=\"55.615234\" xlink:href=\"#ArialMT-48\"/>\r\n       <use x=\"111.230469\" xlink:href=\"#ArialMT-48\"/>\r\n       <use x=\"166.845703\" xlink:href=\"#ArialMT-48\"/>\r\n      </g>\r\n     </g>\r\n    </g>\r\n    <g id=\"xtick_4\">\r\n     <g id=\"line2d_7\">\r\n      <path clip-path=\"url(#p797848813b)\" d=\"M 358.30848 306.18 \r\nL 358.30848 7.2 \r\n\" style=\"fill:none;stroke:#cccccc;stroke-linecap:round;\"/>\r\n     </g>\r\n     <g id=\"line2d_8\"/>\r\n     <g id=\"text_4\">\r\n      <!-- 3000 -->\r\n      <g style=\"fill:#262626;\" transform=\"translate(347.186605 320.337812)scale(0.1 -0.1)\">\r\n       <defs>\r\n        <path d=\"M 4.203125 18.890625 \r\nL 12.984375 20.0625 \r\nQ 14.5 12.59375 18.140625 9.296875 \r\nQ 21.78125 6 27 6 \r\nQ 33.203125 6 37.46875 10.296875 \r\nQ 41.75 14.59375 41.75 20.953125 \r\nQ 41.75 27 37.796875 30.921875 \r\nQ 33.84375 34.859375 27.734375 34.859375 \r\nQ 25.25 34.859375 21.53125 33.890625 \r\nL 22.515625 41.609375 \r\nQ 23.390625 41.5 23.921875 41.5 \r\nQ 29.546875 41.5 34.03125 44.421875 \r\nQ 38.53125 47.359375 38.53125 53.46875 \r\nQ 38.53125 58.296875 35.25 61.46875 \r\nQ 31.984375 64.65625 26.8125 64.65625 \r\nQ 21.6875 64.65625 18.265625 61.421875 \r\nQ 14.84375 58.203125 13.875 51.765625 \r\nL 5.078125 53.328125 \r\nQ 6.6875 62.15625 12.390625 67.015625 \r\nQ 18.109375 71.875 26.609375 71.875 \r\nQ 32.46875 71.875 37.390625 69.359375 \r\nQ 42.328125 66.84375 44.9375 62.5 \r\nQ 47.5625 58.15625 47.5625 53.265625 \r\nQ 47.5625 48.640625 45.0625 44.828125 \r\nQ 42.578125 41.015625 37.703125 38.765625 \r\nQ 44.046875 37.3125 47.5625 32.6875 \r\nQ 51.078125 28.078125 51.078125 21.140625 \r\nQ 51.078125 11.765625 44.234375 5.25 \r\nQ 37.40625 -1.265625 26.953125 -1.265625 \r\nQ 17.53125 -1.265625 11.296875 4.34375 \r\nQ 5.078125 9.96875 4.203125 18.890625 \r\nz\r\n\" id=\"ArialMT-51\"/>\r\n       </defs>\r\n       <use xlink:href=\"#ArialMT-51\"/>\r\n       <use x=\"55.615234\" xlink:href=\"#ArialMT-48\"/>\r\n       <use x=\"111.230469\" xlink:href=\"#ArialMT-48\"/>\r\n       <use x=\"166.845703\" xlink:href=\"#ArialMT-48\"/>\r\n      </g>\r\n     </g>\r\n    </g>\r\n    <g id=\"xtick_5\">\r\n     <g id=\"line2d_9\">\r\n      <path clip-path=\"url(#p797848813b)\" d=\"M 456.927722 306.18 \r\nL 456.927722 7.2 \r\n\" style=\"fill:none;stroke:#cccccc;stroke-linecap:round;\"/>\r\n     </g>\r\n     <g id=\"line2d_10\"/>\r\n     <g id=\"text_5\">\r\n      <!-- 4000 -->\r\n      <g style=\"fill:#262626;\" transform=\"translate(445.805847 320.337812)scale(0.1 -0.1)\">\r\n       <defs>\r\n        <path d=\"M 32.328125 0 \r\nL 32.328125 17.140625 \r\nL 1.265625 17.140625 \r\nL 1.265625 25.203125 \r\nL 33.9375 71.578125 \r\nL 41.109375 71.578125 \r\nL 41.109375 25.203125 \r\nL 50.78125 25.203125 \r\nL 50.78125 17.140625 \r\nL 41.109375 17.140625 \r\nL 41.109375 0 \r\nz\r\nM 32.328125 25.203125 \r\nL 32.328125 57.46875 \r\nL 9.90625 25.203125 \r\nz\r\n\" id=\"ArialMT-52\"/>\r\n       </defs>\r\n       <use xlink:href=\"#ArialMT-52\"/>\r\n       <use x=\"55.615234\" xlink:href=\"#ArialMT-48\"/>\r\n       <use x=\"111.230469\" xlink:href=\"#ArialMT-48\"/>\r\n       <use x=\"166.845703\" xlink:href=\"#ArialMT-48\"/>\r\n      </g>\r\n     </g>\r\n    </g>\r\n    <g id=\"text_6\">\r\n     <!-- Epoch -->\r\n     <g style=\"fill:#262626;\" transform=\"translate(249.765625 334.198906)scale(0.11 -0.11)\">\r\n      <defs>\r\n       <path d=\"M 7.90625 0 \r\nL 7.90625 71.578125 \r\nL 59.671875 71.578125 \r\nL 59.671875 63.140625 \r\nL 17.390625 63.140625 \r\nL 17.390625 41.21875 \r\nL 56.984375 41.21875 \r\nL 56.984375 32.8125 \r\nL 17.390625 32.8125 \r\nL 17.390625 8.453125 \r\nL 61.328125 8.453125 \r\nL 61.328125 0 \r\nz\r\n\" id=\"ArialMT-69\"/>\r\n       <path d=\"M 6.59375 -19.875 \r\nL 6.59375 51.859375 \r\nL 14.59375 51.859375 \r\nL 14.59375 45.125 \r\nQ 17.4375 49.078125 21 51.046875 \r\nQ 24.5625 53.03125 29.640625 53.03125 \r\nQ 36.28125 53.03125 41.359375 49.609375 \r\nQ 46.4375 46.1875 49.015625 39.953125 \r\nQ 51.609375 33.734375 51.609375 26.3125 \r\nQ 51.609375 18.359375 48.75 11.984375 \r\nQ 45.90625 5.609375 40.453125 2.21875 \r\nQ 35.015625 -1.171875 29 -1.171875 \r\nQ 24.609375 -1.171875 21.109375 0.6875 \r\nQ 17.625 2.546875 15.375 5.375 \r\nL 15.375 -19.875 \r\nz\r\nM 14.546875 25.640625 \r\nQ 14.546875 15.625 18.59375 10.84375 \r\nQ 22.65625 6.0625 28.421875 6.0625 \r\nQ 34.28125 6.0625 38.453125 11.015625 \r\nQ 42.625 15.96875 42.625 26.375 \r\nQ 42.625 36.28125 38.546875 41.203125 \r\nQ 34.46875 46.140625 28.8125 46.140625 \r\nQ 23.1875 46.140625 18.859375 40.890625 \r\nQ 14.546875 35.640625 14.546875 25.640625 \r\nz\r\n\" id=\"ArialMT-112\"/>\r\n       <path d=\"M 3.328125 25.921875 \r\nQ 3.328125 40.328125 11.328125 47.265625 \r\nQ 18.015625 53.03125 27.640625 53.03125 \r\nQ 38.328125 53.03125 45.109375 46.015625 \r\nQ 51.90625 39.015625 51.90625 26.65625 \r\nQ 51.90625 16.65625 48.90625 10.90625 \r\nQ 45.90625 5.171875 40.15625 2 \r\nQ 34.421875 -1.171875 27.640625 -1.171875 \r\nQ 16.75 -1.171875 10.03125 5.8125 \r\nQ 3.328125 12.796875 3.328125 25.921875 \r\nz\r\nM 12.359375 25.921875 \r\nQ 12.359375 15.96875 16.703125 11.015625 \r\nQ 21.046875 6.0625 27.640625 6.0625 \r\nQ 34.1875 6.0625 38.53125 11.03125 \r\nQ 42.875 16.015625 42.875 26.21875 \r\nQ 42.875 35.84375 38.5 40.796875 \r\nQ 34.125 45.75 27.640625 45.75 \r\nQ 21.046875 45.75 16.703125 40.8125 \r\nQ 12.359375 35.890625 12.359375 25.921875 \r\nz\r\n\" id=\"ArialMT-111\"/>\r\n       <path d=\"M 40.4375 19 \r\nL 49.078125 17.875 \r\nQ 47.65625 8.9375 41.8125 3.875 \r\nQ 35.984375 -1.171875 27.484375 -1.171875 \r\nQ 16.84375 -1.171875 10.375 5.78125 \r\nQ 3.90625 12.75 3.90625 25.734375 \r\nQ 3.90625 34.125 6.6875 40.421875 \r\nQ 9.46875 46.734375 15.15625 49.875 \r\nQ 20.84375 53.03125 27.546875 53.03125 \r\nQ 35.984375 53.03125 41.359375 48.75 \r\nQ 46.734375 44.484375 48.25 36.625 \r\nL 39.703125 35.296875 \r\nQ 38.484375 40.53125 35.375 43.15625 \r\nQ 32.28125 45.796875 27.875 45.796875 \r\nQ 21.234375 45.796875 17.078125 41.03125 \r\nQ 12.9375 36.28125 12.9375 25.984375 \r\nQ 12.9375 15.53125 16.9375 10.796875 \r\nQ 20.953125 6.0625 27.390625 6.0625 \r\nQ 32.5625 6.0625 36.03125 9.234375 \r\nQ 39.5 12.40625 40.4375 19 \r\nz\r\n\" id=\"ArialMT-99\"/>\r\n       <path d=\"M 6.59375 0 \r\nL 6.59375 71.578125 \r\nL 15.375 71.578125 \r\nL 15.375 45.90625 \r\nQ 21.53125 53.03125 30.90625 53.03125 \r\nQ 36.671875 53.03125 40.921875 50.75 \r\nQ 45.171875 48.484375 47 44.484375 \r\nQ 48.828125 40.484375 48.828125 32.859375 \r\nL 48.828125 0 \r\nL 40.046875 0 \r\nL 40.046875 32.859375 \r\nQ 40.046875 39.453125 37.1875 42.453125 \r\nQ 34.328125 45.453125 29.109375 45.453125 \r\nQ 25.203125 45.453125 21.75 43.421875 \r\nQ 18.3125 41.40625 16.84375 37.9375 \r\nQ 15.375 34.46875 15.375 28.375 \r\nL 15.375 0 \r\nz\r\n\" id=\"ArialMT-104\"/>\r\n      </defs>\r\n      <use xlink:href=\"#ArialMT-69\"/>\r\n      <use x=\"66.699219\" xlink:href=\"#ArialMT-112\"/>\r\n      <use x=\"122.314453\" xlink:href=\"#ArialMT-111\"/>\r\n      <use x=\"177.929688\" xlink:href=\"#ArialMT-99\"/>\r\n      <use x=\"227.929688\" xlink:href=\"#ArialMT-104\"/>\r\n     </g>\r\n    </g>\r\n   </g>\r\n   <g id=\"matplotlib.axis_2\">\r\n    <g id=\"ytick_1\">\r\n     <g id=\"line2d_11\">\r\n      <path clip-path=\"url(#p797848813b)\" d=\"M 42.159844 294.357489 \r\nL 488.559844 294.357489 \r\n\" style=\"fill:none;stroke:#cccccc;stroke-linecap:round;\"/>\r\n     </g>\r\n     <g id=\"line2d_12\"/>\r\n     <g id=\"text_7\">\r\n      <!-- 0.0 -->\r\n      <g style=\"fill:#262626;\" transform=\"translate(21.259844 297.936395)scale(0.1 -0.1)\">\r\n       <defs>\r\n        <path d=\"M 9.078125 0 \r\nL 9.078125 10.015625 \r\nL 19.09375 10.015625 \r\nL 19.09375 0 \r\nz\r\n\" id=\"ArialMT-46\"/>\r\n       </defs>\r\n       <use xlink:href=\"#ArialMT-48\"/>\r\n       <use x=\"55.615234\" xlink:href=\"#ArialMT-46\"/>\r\n       <use x=\"83.398438\" xlink:href=\"#ArialMT-48\"/>\r\n      </g>\r\n     </g>\r\n    </g>\r\n    <g id=\"ytick_2\">\r\n     <g id=\"line2d_13\">\r\n      <path clip-path=\"url(#p797848813b)\" d=\"M 42.159844 252.836535 \r\nL 488.559844 252.836535 \r\n\" style=\"fill:none;stroke:#cccccc;stroke-linecap:round;\"/>\r\n     </g>\r\n     <g id=\"line2d_14\"/>\r\n     <g id=\"text_8\">\r\n      <!-- 0.2 -->\r\n      <g style=\"fill:#262626;\" transform=\"translate(21.259844 256.415441)scale(0.1 -0.1)\">\r\n       <use xlink:href=\"#ArialMT-48\"/>\r\n       <use x=\"55.615234\" xlink:href=\"#ArialMT-46\"/>\r\n       <use x=\"83.398438\" xlink:href=\"#ArialMT-50\"/>\r\n      </g>\r\n     </g>\r\n    </g>\r\n    <g id=\"ytick_3\">\r\n     <g id=\"line2d_15\">\r\n      <path clip-path=\"url(#p797848813b)\" d=\"M 42.159844 211.315581 \r\nL 488.559844 211.315581 \r\n\" style=\"fill:none;stroke:#cccccc;stroke-linecap:round;\"/>\r\n     </g>\r\n     <g id=\"line2d_16\"/>\r\n     <g id=\"text_9\">\r\n      <!-- 0.4 -->\r\n      <g style=\"fill:#262626;\" transform=\"translate(21.259844 214.894487)scale(0.1 -0.1)\">\r\n       <use xlink:href=\"#ArialMT-48\"/>\r\n       <use x=\"55.615234\" xlink:href=\"#ArialMT-46\"/>\r\n       <use x=\"83.398438\" xlink:href=\"#ArialMT-52\"/>\r\n      </g>\r\n     </g>\r\n    </g>\r\n    <g id=\"ytick_4\">\r\n     <g id=\"line2d_17\">\r\n      <path clip-path=\"url(#p797848813b)\" d=\"M 42.159844 169.794627 \r\nL 488.559844 169.794627 \r\n\" style=\"fill:none;stroke:#cccccc;stroke-linecap:round;\"/>\r\n     </g>\r\n     <g id=\"line2d_18\"/>\r\n     <g id=\"text_10\">\r\n      <!-- 0.6 -->\r\n      <g style=\"fill:#262626;\" transform=\"translate(21.259844 173.373533)scale(0.1 -0.1)\">\r\n       <defs>\r\n        <path d=\"M 49.75 54.046875 \r\nL 41.015625 53.375 \r\nQ 39.84375 58.546875 37.703125 60.890625 \r\nQ 34.125 64.65625 28.90625 64.65625 \r\nQ 24.703125 64.65625 21.53125 62.3125 \r\nQ 17.390625 59.28125 14.984375 53.46875 \r\nQ 12.59375 47.65625 12.5 36.921875 \r\nQ 15.671875 41.75 20.265625 44.09375 \r\nQ 24.859375 46.4375 29.890625 46.4375 \r\nQ 38.671875 46.4375 44.84375 39.96875 \r\nQ 51.03125 33.5 51.03125 23.25 \r\nQ 51.03125 16.5 48.125 10.71875 \r\nQ 45.21875 4.9375 40.140625 1.859375 \r\nQ 35.0625 -1.21875 28.609375 -1.21875 \r\nQ 17.625 -1.21875 10.6875 6.859375 \r\nQ 3.765625 14.9375 3.765625 33.5 \r\nQ 3.765625 54.25 11.421875 63.671875 \r\nQ 18.109375 71.875 29.4375 71.875 \r\nQ 37.890625 71.875 43.28125 67.140625 \r\nQ 48.6875 62.40625 49.75 54.046875 \r\nz\r\nM 13.875 23.1875 \r\nQ 13.875 18.65625 15.796875 14.5 \r\nQ 17.71875 10.359375 21.1875 8.171875 \r\nQ 24.65625 6 28.46875 6 \r\nQ 34.03125 6 38.03125 10.484375 \r\nQ 42.046875 14.984375 42.046875 22.703125 \r\nQ 42.046875 30.125 38.078125 34.390625 \r\nQ 34.125 38.671875 28.125 38.671875 \r\nQ 22.171875 38.671875 18.015625 34.390625 \r\nQ 13.875 30.125 13.875 23.1875 \r\nz\r\n\" id=\"ArialMT-54\"/>\r\n       </defs>\r\n       <use xlink:href=\"#ArialMT-48\"/>\r\n       <use x=\"55.615234\" xlink:href=\"#ArialMT-46\"/>\r\n       <use x=\"83.398438\" xlink:href=\"#ArialMT-54\"/>\r\n      </g>\r\n     </g>\r\n    </g>\r\n    <g id=\"ytick_5\">\r\n     <g id=\"line2d_19\">\r\n      <path clip-path=\"url(#p797848813b)\" d=\"M 42.159844 128.273672 \r\nL 488.559844 128.273672 \r\n\" style=\"fill:none;stroke:#cccccc;stroke-linecap:round;\"/>\r\n     </g>\r\n     <g id=\"line2d_20\"/>\r\n     <g id=\"text_11\">\r\n      <!-- 0.8 -->\r\n      <g style=\"fill:#262626;\" transform=\"translate(21.259844 131.852579)scale(0.1 -0.1)\">\r\n       <defs>\r\n        <path d=\"M 17.671875 38.8125 \r\nQ 12.203125 40.828125 9.5625 44.53125 \r\nQ 6.9375 48.25 6.9375 53.421875 \r\nQ 6.9375 61.234375 12.546875 66.546875 \r\nQ 18.171875 71.875 27.484375 71.875 \r\nQ 36.859375 71.875 42.578125 66.421875 \r\nQ 48.296875 60.984375 48.296875 53.171875 \r\nQ 48.296875 48.1875 45.671875 44.5 \r\nQ 43.0625 40.828125 37.75 38.8125 \r\nQ 44.34375 36.671875 47.78125 31.875 \r\nQ 51.21875 27.09375 51.21875 20.453125 \r\nQ 51.21875 11.28125 44.71875 5.03125 \r\nQ 38.234375 -1.21875 27.640625 -1.21875 \r\nQ 17.046875 -1.21875 10.546875 5.046875 \r\nQ 4.046875 11.328125 4.046875 20.703125 \r\nQ 4.046875 27.6875 7.59375 32.390625 \r\nQ 11.140625 37.109375 17.671875 38.8125 \r\nz\r\nM 15.921875 53.71875 \r\nQ 15.921875 48.640625 19.1875 45.40625 \r\nQ 22.46875 42.1875 27.6875 42.1875 \r\nQ 32.765625 42.1875 36.015625 45.375 \r\nQ 39.265625 48.578125 39.265625 53.21875 \r\nQ 39.265625 58.0625 35.90625 61.359375 \r\nQ 32.5625 64.65625 27.59375 64.65625 \r\nQ 22.5625 64.65625 19.234375 61.421875 \r\nQ 15.921875 58.203125 15.921875 53.71875 \r\nz\r\nM 13.09375 20.65625 \r\nQ 13.09375 16.890625 14.875 13.375 \r\nQ 16.65625 9.859375 20.171875 7.921875 \r\nQ 23.6875 6 27.734375 6 \r\nQ 34.03125 6 38.125 10.046875 \r\nQ 42.234375 14.109375 42.234375 20.359375 \r\nQ 42.234375 26.703125 38.015625 30.859375 \r\nQ 33.796875 35.015625 27.4375 35.015625 \r\nQ 21.234375 35.015625 17.15625 30.90625 \r\nQ 13.09375 26.8125 13.09375 20.65625 \r\nz\r\n\" id=\"ArialMT-56\"/>\r\n       </defs>\r\n       <use xlink:href=\"#ArialMT-48\"/>\r\n       <use x=\"55.615234\" xlink:href=\"#ArialMT-46\"/>\r\n       <use x=\"83.398438\" xlink:href=\"#ArialMT-56\"/>\r\n      </g>\r\n     </g>\r\n    </g>\r\n    <g id=\"ytick_6\">\r\n     <g id=\"line2d_21\">\r\n      <path clip-path=\"url(#p797848813b)\" d=\"M 42.159844 86.752718 \r\nL 488.559844 86.752718 \r\n\" style=\"fill:none;stroke:#cccccc;stroke-linecap:round;\"/>\r\n     </g>\r\n     <g id=\"line2d_22\"/>\r\n     <g id=\"text_12\">\r\n      <!-- 1.0 -->\r\n      <g style=\"fill:#262626;\" transform=\"translate(21.259844 90.331624)scale(0.1 -0.1)\">\r\n       <use xlink:href=\"#ArialMT-49\"/>\r\n       <use x=\"55.615234\" xlink:href=\"#ArialMT-46\"/>\r\n       <use x=\"83.398438\" xlink:href=\"#ArialMT-48\"/>\r\n      </g>\r\n     </g>\r\n    </g>\r\n    <g id=\"ytick_7\">\r\n     <g id=\"line2d_23\">\r\n      <path clip-path=\"url(#p797848813b)\" d=\"M 42.159844 45.231764 \r\nL 488.559844 45.231764 \r\n\" style=\"fill:none;stroke:#cccccc;stroke-linecap:round;\"/>\r\n     </g>\r\n     <g id=\"line2d_24\"/>\r\n     <g id=\"text_13\">\r\n      <!-- 1.2 -->\r\n      <g style=\"fill:#262626;\" transform=\"translate(21.259844 48.81067)scale(0.1 -0.1)\">\r\n       <use xlink:href=\"#ArialMT-49\"/>\r\n       <use x=\"55.615234\" xlink:href=\"#ArialMT-46\"/>\r\n       <use x=\"83.398438\" xlink:href=\"#ArialMT-50\"/>\r\n      </g>\r\n     </g>\r\n    </g>\r\n    <g id=\"text_14\">\r\n     <!-- Error -->\r\n     <g style=\"fill:#262626;\" transform=\"translate(15.073594 168.911172)rotate(-90)scale(0.11 -0.11)\">\r\n      <defs>\r\n       <path d=\"M 6.5 0 \r\nL 6.5 51.859375 \r\nL 14.40625 51.859375 \r\nL 14.40625 44 \r\nQ 17.4375 49.515625 20 51.265625 \r\nQ 22.5625 53.03125 25.640625 53.03125 \r\nQ 30.078125 53.03125 34.671875 50.203125 \r\nL 31.640625 42.046875 \r\nQ 28.421875 43.953125 25.203125 43.953125 \r\nQ 22.3125 43.953125 20.015625 42.21875 \r\nQ 17.71875 40.484375 16.75 37.40625 \r\nQ 15.28125 32.71875 15.28125 27.15625 \r\nL 15.28125 0 \r\nz\r\n\" id=\"ArialMT-114\"/>\r\n      </defs>\r\n      <use xlink:href=\"#ArialMT-69\"/>\r\n      <use x=\"66.699219\" xlink:href=\"#ArialMT-114\"/>\r\n      <use x=\"100\" xlink:href=\"#ArialMT-114\"/>\r\n      <use x=\"133.300781\" xlink:href=\"#ArialMT-111\"/>\r\n      <use x=\"188.916016\" xlink:href=\"#ArialMT-114\"/>\r\n     </g>\r\n    </g>\r\n   </g>\r\n   <g id=\"line2d_25\">\r\n    <path clip-path=\"url(#p797848813b)\" d=\"M 62.450753 20.79 \r\nL 63.831422 29.8106 \r\nL 65.212092 37.557403 \r\nL 66.69138 44.503974 \r\nL 68.07205 49.913388 \r\nL 69.452719 54.484565 \r\nL 70.932008 58.621084 \r\nL 72.411296 62.093636 \r\nL 73.101631 63.761391 \r\nL 73.496108 64.775999 \r\nL 73.989204 65.759503 \r\nL 74.383681 66.582408 \r\nL 77.440878 71.604406 \r\nL 79.216024 73.766758 \r\nL 81.385647 76.009336 \r\nL 89.768283 84.325533 \r\nL 92.72686 87.727279 \r\nL 95.488199 91.252363 \r\nL 98.150919 95.02617 \r\nL 100.419161 98.609121 \r\nL 101.89845 101.347435 \r\nL 102.687404 103.056998 \r\nL 102.983261 103.846642 \r\nL 104.46255 108.030955 \r\nL 110.576943 126.426815 \r\nL 114.521713 141.071161 \r\nL 116.691336 148.194273 \r\nL 119.748533 157.750279 \r\nL 124.087779 170.181749 \r\nL 127.440833 179.057272 \r\nL 130.596649 186.745984 \r\nL 133.357988 192.907693 \r\nL 136.217946 198.770508 \r\nL 139.176523 204.337657 \r\nL 141.740624 208.952091 \r\nL 141.937862 209.375951 \r\nL 142.430958 210.276271 \r\nL 144.206105 213.46005 \r\nL 149.630163 222.319204 \r\nL 154.363887 229.380628 \r\nL 158.407276 235.128931 \r\nL 161.267234 238.543184 \r\nL 163.732715 241.298075 \r\nL 167.085769 244.747833 \r\nL 169.847108 247.388695 \r\nL 173.200162 250.336523 \r\nL 174.580831 251.481214 \r\nL 178.920078 254.81896 \r\nL 182.56899 257.331706 \r\nL 183.555182 257.979356 \r\nL 185.527567 259.230432 \r\nL 189.866814 261.757594 \r\nL 194.403299 264.133295 \r\nL 198.742546 266.186279 \r\nL 203.476269 268.210741 \r\nL 207.32242 269.706692 \r\nL 213.634051 271.900744 \r\nL 222.213925 274.454548 \r\nL 236.612335 277.871896 \r\nL 242.43087 279.003596 \r\nL 262.647815 282.192546 \r\nL 265.409153 282.469565 \r\nL 265.705011 282.526924 \r\nL 266.000869 282.589082 \r\nL 266.691204 282.695547 \r\nL 267.381538 282.793666 \r\nL 269.156685 283.014709 \r\nL 283.850952 284.504994 \r\nL 284.04819 284.540051 \r\nL 284.344048 284.64138 \r\nL 284.639906 284.656554 \r\nL 285.231621 284.73427 \r\nL 287.598483 284.963891 \r\nL 294.304591 285.56265 \r\nL 301.701035 286.09023 \r\nL 301.996892 286.087417 \r\nL 302.29275 286.201217 \r\nL 302.588608 286.201231 \r\nL 302.983085 286.233355 \r\nL 303.870658 286.323293 \r\nL 315.211871 287.146354 \r\nL 322.016598 287.532528 \r\nL 322.411075 287.508981 \r\nL 322.706933 287.61291 \r\nL 323.002791 287.620741 \r\nL 323.298649 287.634881 \r\nL 332.864715 288.250839 \r\nL 341.247351 288.706724 \r\nL 341.641828 288.36891 \r\nL 341.839066 288.770735 \r\nL 342.036305 288.562474 \r\nL 342.233543 288.816727 \r\nL 342.430782 288.706021 \r\nL 342.62802 288.789244 \r\nL 342.726639 288.699914 \r\nL 342.923878 288.854245 \r\nL 343.121116 288.827936 \r\nL 343.318355 288.810395 \r\nL 343.811451 288.911182 \r\nL 344.304547 288.930173 \r\nL 345.093501 288.992245 \r\nL 387.006679 290.821281 \r\nL 412.549063 291.559533 \r\nL 442.82517 292.204344 \r\nL 467.874458 292.56132 \r\nL 468.268935 292.481048 \r\nL 468.268935 292.481048 \r\n\" style=\"fill:none;stroke:#0272a2;stroke-linecap:round;stroke-width:1.75;\"/>\r\n   </g>\r\n   <g id=\"patch_3\">\r\n    <path d=\"M 42.159844 306.18 \r\nL 42.159844 7.2 \r\n\" style=\"fill:none;stroke:#cccccc;stroke-linecap:square;stroke-linejoin:miter;stroke-width:1.25;\"/>\r\n   </g>\r\n   <g id=\"patch_4\">\r\n    <path d=\"M 488.559844 306.18 \r\nL 488.559844 7.2 \r\n\" style=\"fill:none;stroke:#cccccc;stroke-linecap:square;stroke-linejoin:miter;stroke-width:1.25;\"/>\r\n   </g>\r\n   <g id=\"patch_5\">\r\n    <path d=\"M 42.159844 306.18 \r\nL 488.559844 306.18 \r\n\" style=\"fill:none;stroke:#cccccc;stroke-linecap:square;stroke-linejoin:miter;stroke-width:1.25;\"/>\r\n   </g>\r\n   <g id=\"patch_6\">\r\n    <path d=\"M 42.159844 7.2 \r\nL 488.559844 7.2 \r\n\" style=\"fill:none;stroke:#cccccc;stroke-linecap:square;stroke-linejoin:miter;stroke-width:1.25;\"/>\r\n   </g>\r\n  </g>\r\n </g>\r\n <defs>\r\n  <clipPath id=\"p797848813b\">\r\n   <rect height=\"298.98\" width=\"446.4\" x=\"42.159844\" y=\"7.2\"/>\r\n  </clipPath>\r\n </defs>\r\n</svg>\r\n",
            "image/png": "[encoded data removed]"
          },
          "metadata": {}
        }
      ],
      "source": [
        "import matplotlib.pyplot as plt\n",
        "plt.xlabel('Epoch')\n",
        "plt.ylabel('Error')\n",
        "plt.plot(network.loss_curve_)\n",
        "plt.show()"
      ]
    },
    {
      "cell_type": "markdown",
      "metadata": {
        "id": "RTaTfbXNmUrn"
      },
      "source": [
        "## Neural network (evaluation)"
      ]
    },
    {
      "cell_type": "code",
      "metadata": {
        "id": "zVsg-V0pOy5_",
        "outputId": "1f09745f-91d2-4057-b20e-975eb5edc27e",
        "colab": {
          "base_uri": "https://localhost:8080/",
          "height": 34
        }
      },
      "source": [
        "X_test.shape"
      ],
      "execution_count": 46,
      "outputs": [
        {
          "output_type": "execute_result",
          "data": {
            "text/plain": [
              "(36, 13)"
            ]
          },
          "metadata": {},
          "execution_count": 46
        }
      ]
    },
    {
      "cell_type": "code",
      "metadata": {
        "id": "xJmwyvk7O5kp",
        "outputId": "e85348a0-80c2-4850-b9cf-90fe24f33f8b",
        "colab": {
          "base_uri": "https://localhost:8080/",
          "height": 50
        }
      },
      "source": [
        "predictions = network.predict(X_test)\n",
        "predictions"
      ],
      "execution_count": 47,
      "outputs": [
        {
          "output_type": "execute_result",
          "data": {
            "text/plain": [
              "array([2, 2, 1, 1, 1, 1, 1, 0, 0, 0, 2, 2, 2, 0, 2, 1, 1, 0, 2, 2, 2, 1,\n",
              "       2, 0, 0, 1, 1, 0, 1, 0, 2, 0, 1, 1, 0, 1])"
            ]
          },
          "metadata": {},
          "execution_count": 47
        }
      ]
    },
    {
      "cell_type": "code",
      "metadata": {
        "id": "Zjt0xKZDPNlw",
        "outputId": "fa4f6e10-36ce-4f49-8315-9e6ca2b55ebf",
        "colab": {
          "base_uri": "https://localhost:8080/",
          "height": 50
        }
      },
      "source": [
        "y_test"
      ],
      "execution_count": 48,
      "outputs": [
        {
          "output_type": "execute_result",
          "data": {
            "text/plain": [
              "array([2, 2, 1, 1, 1, 1, 1, 0, 0, 0, 2, 2, 2, 0, 2, 1, 1, 0, 2, 2, 2, 1,\n",
              "       2, 0, 0, 1, 1, 0, 1, 0, 1, 0, 1, 1, 0, 1])"
            ]
          },
          "metadata": {},
          "execution_count": 48
        }
      ]
    },
    {
      "cell_type": "code",
      "metadata": {
        "id": "lkCZGjnVPdU3",
        "outputId": "577d2017-3fc2-4f6d-e61c-6e9f65102e78",
        "colab": {
          "base_uri": "https://localhost:8080/",
          "height": 34
        }
      },
      "source": [
        "from sklearn.metrics import accuracy_score, confusion_matrix\n",
        "accuracy_score(y_test, predictions)"
      ],
      "execution_count": 72,
      "outputs": [
        {
          "output_type": "execute_result",
          "data": {
            "text/plain": [
              "0.9722222222222222"
            ]
          },
          "metadata": {},
          "execution_count": 72
        }
      ]
    },
    {
      "cell_type": "code",
      "metadata": {
        "id": "zSqMoc33Pvkz",
        "outputId": "acc83284-a39e-4cf2-9133-0cc315f4a21a",
        "colab": {
          "base_uri": "https://localhost:8080/",
          "height": 67
        }
      },
      "source": [
        "cm = confusion_matrix(y_test, predictions)\n",
        "cm"
      ],
      "execution_count": 73,
      "outputs": [
        {
          "output_type": "execute_result",
          "data": {
            "text/plain": [
              "array([[11,  0,  0],\n",
              "       [ 0, 14,  1],\n",
              "       [ 0,  0, 10]], dtype=int64)"
            ]
          },
          "metadata": {},
          "execution_count": 73
        }
      ]
    },
    {
      "cell_type": "code",
      "execution_count": 77,
      "metadata": {},
      "outputs": [
        {
          "output_type": "display_data",
          "data": {
            "text/plain": "<Figure size 576x396 with 2 Axes>",
            "image/svg+xml": "<?xml version=\"1.0\" encoding=\"utf-8\" standalone=\"no\"?>\r\n<!DOCTYPE svg PUBLIC \"-//W3C//DTD SVG 1.1//EN\"\r\n  \"http://www.w3.org/Graphics/SVG/1.1/DTD/svg11.dtd\">\r\n<!-- Created with matplotlib (https://matplotlib.org/) -->\r\n<svg height=\"333.133906pt\" version=\"1.1\" viewBox=\"0 0 467.815563 333.133906\" width=\"467.815563pt\" xmlns=\"http://www.w3.org/2000/svg\" xmlns:xlink=\"http://www.w3.org/1999/xlink\">\r\n <metadata>\r\n  <rdf:RDF xmlns:cc=\"http://creativecommons.org/ns#\" xmlns:dc=\"http://purl.org/dc/elements/1.1/\" xmlns:rdf=\"http://www.w3.org/1999/02/22-rdf-syntax-ns#\">\r\n   <cc:Work>\r\n    <dc:type rdf:resource=\"http://purl.org/dc/dcmitype/StillImage\"/>\r\n    <dc:date>2021-05-15T17:40:45.778534</dc:date>\r\n    <dc:format>image/svg+xml</dc:format>\r\n    <dc:creator>\r\n     <cc:Agent>\r\n      <dc:title>Matplotlib v3.3.3, https://matplotlib.org/</dc:title>\r\n     </cc:Agent>\r\n    </dc:creator>\r\n   </cc:Work>\r\n  </rdf:RDF>\r\n </metadata>\r\n <defs>\r\n  <style type=\"text/css\">*{stroke-linecap:butt;stroke-linejoin:round;}</style>\r\n </defs>\r\n <g id=\"figure_1\">\r\n  <g id=\"patch_1\">\r\n   <path d=\"M 0 333.133906 \r\nL 467.815563 333.133906 \r\nL 467.815563 0 \r\nL 0 0 \r\nz\r\n\" style=\"fill:#ffffff;\"/>\r\n  </g>\r\n  <g id=\"axes_1\">\r\n   <g id=\"patch_2\">\r\n    <path d=\"M 48.104687 309.758906 \r\nL 405.224688 309.758906 \r\nL 405.224688 10.778906 \r\nL 48.104687 10.778906 \r\nz\r\n\" style=\"fill:#ffffff;\"/>\r\n   </g>\r\n   <g id=\"matplotlib.axis_1\">\r\n    <g id=\"xtick_1\">\r\n     <g id=\"line2d_1\"/>\r\n     <g id=\"text_1\">\r\n      <!-- class_0 -->\r\n      <g style=\"fill:#262626;\" transform=\"translate(90.672344 323.946406)scale(0.1 -0.1)\">\r\n       <defs>\r\n        <path d=\"M 40.4375 19 \r\nL 49.078125 17.875 \r\nQ 47.65625 8.9375 41.8125 3.875 \r\nQ 35.984375 -1.171875 27.484375 -1.171875 \r\nQ 16.84375 -1.171875 10.375 5.78125 \r\nQ 3.90625 12.75 3.90625 25.734375 \r\nQ 3.90625 34.125 6.6875 40.421875 \r\nQ 9.46875 46.734375 15.15625 49.875 \r\nQ 20.84375 53.03125 27.546875 53.03125 \r\nQ 35.984375 53.03125 41.359375 48.75 \r\nQ 46.734375 44.484375 48.25 36.625 \r\nL 39.703125 35.296875 \r\nQ 38.484375 40.53125 35.375 43.15625 \r\nQ 32.28125 45.796875 27.875 45.796875 \r\nQ 21.234375 45.796875 17.078125 41.03125 \r\nQ 12.9375 36.28125 12.9375 25.984375 \r\nQ 12.9375 15.53125 16.9375 10.796875 \r\nQ 20.953125 6.0625 27.390625 6.0625 \r\nQ 32.5625 6.0625 36.03125 9.234375 \r\nQ 39.5 12.40625 40.4375 19 \r\nz\r\n\" id=\"ArialMT-99\"/>\r\n        <path d=\"M 6.390625 0 \r\nL 6.390625 71.578125 \r\nL 15.1875 71.578125 \r\nL 15.1875 0 \r\nz\r\n\" id=\"ArialMT-108\"/>\r\n        <path d=\"M 40.4375 6.390625 \r\nQ 35.546875 2.25 31.03125 0.53125 \r\nQ 26.515625 -1.171875 21.34375 -1.171875 \r\nQ 12.796875 -1.171875 8.203125 3 \r\nQ 3.609375 7.171875 3.609375 13.671875 \r\nQ 3.609375 17.484375 5.34375 20.625 \r\nQ 7.078125 23.78125 9.890625 25.6875 \r\nQ 12.703125 27.59375 16.21875 28.5625 \r\nQ 18.796875 29.25 24.03125 29.890625 \r\nQ 34.671875 31.15625 39.703125 32.90625 \r\nQ 39.75 34.71875 39.75 35.203125 \r\nQ 39.75 40.578125 37.25 42.78125 \r\nQ 33.890625 45.75 27.25 45.75 \r\nQ 21.046875 45.75 18.09375 43.578125 \r\nQ 15.140625 41.40625 13.71875 35.890625 \r\nL 5.125 37.0625 \r\nQ 6.296875 42.578125 8.984375 45.96875 \r\nQ 11.671875 49.359375 16.75 51.1875 \r\nQ 21.828125 53.03125 28.515625 53.03125 \r\nQ 35.15625 53.03125 39.296875 51.46875 \r\nQ 43.453125 49.90625 45.40625 47.53125 \r\nQ 47.359375 45.171875 48.140625 41.546875 \r\nQ 48.578125 39.3125 48.578125 33.453125 \r\nL 48.578125 21.734375 \r\nQ 48.578125 9.46875 49.140625 6.21875 \r\nQ 49.703125 2.984375 51.375 0 \r\nL 42.1875 0 \r\nQ 40.828125 2.734375 40.4375 6.390625 \r\nz\r\nM 39.703125 26.03125 \r\nQ 34.90625 24.078125 25.34375 22.703125 \r\nQ 19.921875 21.921875 17.671875 20.9375 \r\nQ 15.4375 19.96875 14.203125 18.09375 \r\nQ 12.984375 16.21875 12.984375 13.921875 \r\nQ 12.984375 10.40625 15.640625 8.0625 \r\nQ 18.3125 5.71875 23.4375 5.71875 \r\nQ 28.515625 5.71875 32.46875 7.9375 \r\nQ 36.421875 10.15625 38.28125 14.015625 \r\nQ 39.703125 17 39.703125 22.796875 \r\nz\r\n\" id=\"ArialMT-97\"/>\r\n        <path d=\"M 3.078125 15.484375 \r\nL 11.765625 16.84375 \r\nQ 12.5 11.625 15.84375 8.84375 \r\nQ 19.1875 6.0625 25.203125 6.0625 \r\nQ 31.25 6.0625 34.171875 8.515625 \r\nQ 37.109375 10.984375 37.109375 14.3125 \r\nQ 37.109375 17.28125 34.515625 19 \r\nQ 32.71875 20.171875 25.53125 21.96875 \r\nQ 15.875 24.421875 12.140625 26.203125 \r\nQ 8.40625 27.984375 6.46875 31.125 \r\nQ 4.546875 34.28125 4.546875 38.09375 \r\nQ 4.546875 41.546875 6.125 44.5 \r\nQ 7.71875 47.46875 10.453125 49.421875 \r\nQ 12.5 50.921875 16.03125 51.96875 \r\nQ 19.578125 53.03125 23.640625 53.03125 \r\nQ 29.734375 53.03125 34.34375 51.265625 \r\nQ 38.96875 49.515625 41.15625 46.5 \r\nQ 43.359375 43.5 44.1875 38.484375 \r\nL 35.59375 37.3125 \r\nQ 35.015625 41.3125 32.203125 43.546875 \r\nQ 29.390625 45.796875 24.265625 45.796875 \r\nQ 18.21875 45.796875 15.625 43.796875 \r\nQ 13.03125 41.796875 13.03125 39.109375 \r\nQ 13.03125 37.40625 14.109375 36.03125 \r\nQ 15.1875 34.625 17.484375 33.6875 \r\nQ 18.796875 33.203125 25.25 31.453125 \r\nQ 34.578125 28.953125 38.25 27.359375 \r\nQ 41.9375 25.78125 44.03125 22.75 \r\nQ 46.140625 19.734375 46.140625 15.234375 \r\nQ 46.140625 10.84375 43.578125 6.953125 \r\nQ 41.015625 3.078125 36.171875 0.953125 \r\nQ 31.34375 -1.171875 25.25 -1.171875 \r\nQ 15.140625 -1.171875 9.84375 3.03125 \r\nQ 4.546875 7.234375 3.078125 15.484375 \r\nz\r\n\" id=\"ArialMT-115\"/>\r\n        <path d=\"M -1.515625 -19.875 \r\nL -1.515625 -13.53125 \r\nL 56.734375 -13.53125 \r\nL 56.734375 -19.875 \r\nz\r\n\" id=\"ArialMT-95\"/>\r\n        <path d=\"M 4.15625 35.296875 \r\nQ 4.15625 48 6.765625 55.734375 \r\nQ 9.375 63.484375 14.515625 67.671875 \r\nQ 19.671875 71.875 27.484375 71.875 \r\nQ 33.25 71.875 37.59375 69.546875 \r\nQ 41.9375 67.234375 44.765625 62.859375 \r\nQ 47.609375 58.5 49.21875 52.21875 \r\nQ 50.828125 45.953125 50.828125 35.296875 \r\nQ 50.828125 22.703125 48.234375 14.96875 \r\nQ 45.65625 7.234375 40.5 3 \r\nQ 35.359375 -1.21875 27.484375 -1.21875 \r\nQ 17.140625 -1.21875 11.234375 6.203125 \r\nQ 4.15625 15.140625 4.15625 35.296875 \r\nz\r\nM 13.1875 35.296875 \r\nQ 13.1875 17.671875 17.3125 11.828125 \r\nQ 21.4375 6 27.484375 6 \r\nQ 33.546875 6 37.671875 11.859375 \r\nQ 41.796875 17.71875 41.796875 35.296875 \r\nQ 41.796875 52.984375 37.671875 58.78125 \r\nQ 33.546875 64.59375 27.390625 64.59375 \r\nQ 21.34375 64.59375 17.71875 59.46875 \r\nQ 13.1875 52.9375 13.1875 35.296875 \r\nz\r\n\" id=\"ArialMT-48\"/>\r\n       </defs>\r\n       <use xlink:href=\"#ArialMT-99\"/>\r\n       <use x=\"50\" xlink:href=\"#ArialMT-108\"/>\r\n       <use x=\"72.216797\" xlink:href=\"#ArialMT-97\"/>\r\n       <use x=\"127.832031\" xlink:href=\"#ArialMT-115\"/>\r\n       <use x=\"177.832031\" xlink:href=\"#ArialMT-115\"/>\r\n       <use x=\"227.832031\" xlink:href=\"#ArialMT-95\"/>\r\n       <use x=\"283.447266\" xlink:href=\"#ArialMT-48\"/>\r\n      </g>\r\n     </g>\r\n    </g>\r\n    <g id=\"xtick_2\">\r\n     <g id=\"line2d_2\"/>\r\n     <g id=\"text_2\">\r\n      <!-- class_1 -->\r\n      <g style=\"fill:#262626;\" transform=\"translate(209.712344 323.946406)scale(0.1 -0.1)\">\r\n       <defs>\r\n        <path d=\"M 37.25 0 \r\nL 28.46875 0 \r\nL 28.46875 56 \r\nQ 25.296875 52.984375 20.140625 49.953125 \r\nQ 14.984375 46.921875 10.890625 45.40625 \r\nL 10.890625 53.90625 \r\nQ 18.265625 57.375 23.78125 62.296875 \r\nQ 29.296875 67.234375 31.59375 71.875 \r\nL 37.25 71.875 \r\nz\r\n\" id=\"ArialMT-49\"/>\r\n       </defs>\r\n       <use xlink:href=\"#ArialMT-99\"/>\r\n       <use x=\"50\" xlink:href=\"#ArialMT-108\"/>\r\n       <use x=\"72.216797\" xlink:href=\"#ArialMT-97\"/>\r\n       <use x=\"127.832031\" xlink:href=\"#ArialMT-115\"/>\r\n       <use x=\"177.832031\" xlink:href=\"#ArialMT-115\"/>\r\n       <use x=\"227.832031\" xlink:href=\"#ArialMT-95\"/>\r\n       <use x=\"283.447266\" xlink:href=\"#ArialMT-49\"/>\r\n      </g>\r\n     </g>\r\n    </g>\r\n    <g id=\"xtick_3\">\r\n     <g id=\"line2d_3\"/>\r\n     <g id=\"text_3\">\r\n      <!-- class_2 -->\r\n      <g style=\"fill:#262626;\" transform=\"translate(328.752344 323.946406)scale(0.1 -0.1)\">\r\n       <defs>\r\n        <path d=\"M 50.34375 8.453125 \r\nL 50.34375 0 \r\nL 3.03125 0 \r\nQ 2.9375 3.171875 4.046875 6.109375 \r\nQ 5.859375 10.9375 9.828125 15.625 \r\nQ 13.8125 20.3125 21.34375 26.46875 \r\nQ 33.015625 36.03125 37.109375 41.625 \r\nQ 41.21875 47.21875 41.21875 52.203125 \r\nQ 41.21875 57.421875 37.46875 61 \r\nQ 33.734375 64.59375 27.734375 64.59375 \r\nQ 21.390625 64.59375 17.578125 60.78125 \r\nQ 13.765625 56.984375 13.71875 50.25 \r\nL 4.6875 51.171875 \r\nQ 5.609375 61.28125 11.65625 66.578125 \r\nQ 17.71875 71.875 27.9375 71.875 \r\nQ 38.234375 71.875 44.234375 66.15625 \r\nQ 50.25 60.453125 50.25 52 \r\nQ 50.25 47.703125 48.484375 43.546875 \r\nQ 46.734375 39.40625 42.65625 34.8125 \r\nQ 38.578125 30.21875 29.109375 22.21875 \r\nQ 21.1875 15.578125 18.9375 13.203125 \r\nQ 16.703125 10.84375 15.234375 8.453125 \r\nz\r\n\" id=\"ArialMT-50\"/>\r\n       </defs>\r\n       <use xlink:href=\"#ArialMT-99\"/>\r\n       <use x=\"50\" xlink:href=\"#ArialMT-108\"/>\r\n       <use x=\"72.216797\" xlink:href=\"#ArialMT-97\"/>\r\n       <use x=\"127.832031\" xlink:href=\"#ArialMT-115\"/>\r\n       <use x=\"177.832031\" xlink:href=\"#ArialMT-115\"/>\r\n       <use x=\"227.832031\" xlink:href=\"#ArialMT-95\"/>\r\n       <use x=\"283.447266\" xlink:href=\"#ArialMT-50\"/>\r\n      </g>\r\n     </g>\r\n    </g>\r\n   </g>\r\n   <g id=\"matplotlib.axis_2\">\r\n    <g id=\"ytick_1\">\r\n     <g id=\"line2d_4\"/>\r\n     <g id=\"text_4\">\r\n      <!-- class_0 -->\r\n      <g style=\"fill:#262626;\" transform=\"translate(7.2 64.202656)scale(0.1 -0.1)\">\r\n       <use xlink:href=\"#ArialMT-99\"/>\r\n       <use x=\"50\" xlink:href=\"#ArialMT-108\"/>\r\n       <use x=\"72.216797\" xlink:href=\"#ArialMT-97\"/>\r\n       <use x=\"127.832031\" xlink:href=\"#ArialMT-115\"/>\r\n       <use x=\"177.832031\" xlink:href=\"#ArialMT-115\"/>\r\n       <use x=\"227.832031\" xlink:href=\"#ArialMT-95\"/>\r\n       <use x=\"283.447266\" xlink:href=\"#ArialMT-48\"/>\r\n      </g>\r\n     </g>\r\n    </g>\r\n    <g id=\"ytick_2\">\r\n     <g id=\"line2d_5\"/>\r\n     <g id=\"text_5\">\r\n      <!-- class_1 -->\r\n      <g style=\"fill:#262626;\" transform=\"translate(7.2 163.862656)scale(0.1 -0.1)\">\r\n       <use xlink:href=\"#ArialMT-99\"/>\r\n       <use x=\"50\" xlink:href=\"#ArialMT-108\"/>\r\n       <use x=\"72.216797\" xlink:href=\"#ArialMT-97\"/>\r\n       <use x=\"127.832031\" xlink:href=\"#ArialMT-115\"/>\r\n       <use x=\"177.832031\" xlink:href=\"#ArialMT-115\"/>\r\n       <use x=\"227.832031\" xlink:href=\"#ArialMT-95\"/>\r\n       <use x=\"283.447266\" xlink:href=\"#ArialMT-49\"/>\r\n      </g>\r\n     </g>\r\n    </g>\r\n    <g id=\"ytick_3\">\r\n     <g id=\"line2d_6\"/>\r\n     <g id=\"text_6\">\r\n      <!-- class_2 -->\r\n      <g style=\"fill:#262626;\" transform=\"translate(7.2 263.522656)scale(0.1 -0.1)\">\r\n       <use xlink:href=\"#ArialMT-99\"/>\r\n       <use x=\"50\" xlink:href=\"#ArialMT-108\"/>\r\n       <use x=\"72.216797\" xlink:href=\"#ArialMT-97\"/>\r\n       <use x=\"127.832031\" xlink:href=\"#ArialMT-115\"/>\r\n       <use x=\"177.832031\" xlink:href=\"#ArialMT-115\"/>\r\n       <use x=\"227.832031\" xlink:href=\"#ArialMT-95\"/>\r\n       <use x=\"283.447266\" xlink:href=\"#ArialMT-50\"/>\r\n      </g>\r\n     </g>\r\n    </g>\r\n   </g>\r\n   <g id=\"QuadMesh_1\">\r\n    <path clip-path=\"url(#p7ffb378acb)\" d=\"M 48.104687 10.778906 \r\nL 167.144688 10.778906 \r\nL 167.144688 110.438906 \r\nL 48.104687 110.438906 \r\nL 48.104687 10.778906 \r\n\" style=\"fill:#f5976e;\"/>\r\n    <path clip-path=\"url(#p7ffb378acb)\" d=\"M 167.144688 10.778906 \r\nL 286.184688 10.778906 \r\nL 286.184688 110.438906 \r\nL 167.144688 110.438906 \r\nL 167.144688 10.778906 \r\n\" style=\"fill:#03051a;\"/>\r\n    <path clip-path=\"url(#p7ffb378acb)\" d=\"M 286.184688 10.778906 \r\nL 405.224688 10.778906 \r\nL 405.224688 110.438906 \r\nL 286.184688 110.438906 \r\nL 286.184688 10.778906 \r\n\" style=\"fill:#03051a;\"/>\r\n    <path clip-path=\"url(#p7ffb378acb)\" d=\"M 48.104687 110.438906 \r\nL 167.144688 110.438906 \r\nL 167.144688 210.098906 \r\nL 48.104687 210.098906 \r\nL 48.104687 110.438906 \r\n\" style=\"fill:#03051a;\"/>\r\n    <path clip-path=\"url(#p7ffb378acb)\" d=\"M 167.144688 110.438906 \r\nL 286.184688 110.438906 \r\nL 286.184688 210.098906 \r\nL 167.144688 210.098906 \r\nL 167.144688 110.438906 \r\n\" style=\"fill:#faebdd;\"/>\r\n    <path clip-path=\"url(#p7ffb378acb)\" d=\"M 286.184688 110.438906 \r\nL 405.224688 110.438906 \r\nL 405.224688 210.098906 \r\nL 286.184688 210.098906 \r\nL 286.184688 110.438906 \r\n\" style=\"fill:#1b112b;\"/>\r\n    <path clip-path=\"url(#p7ffb378acb)\" d=\"M 48.104687 210.098906 \r\nL 167.144688 210.098906 \r\nL 167.144688 309.758906 \r\nL 48.104687 309.758906 \r\nL 48.104687 210.098906 \r\n\" style=\"fill:#03051a;\"/>\r\n    <path clip-path=\"url(#p7ffb378acb)\" d=\"M 167.144688 210.098906 \r\nL 286.184688 210.098906 \r\nL 286.184688 309.758906 \r\nL 167.144688 309.758906 \r\nL 167.144688 210.098906 \r\n\" style=\"fill:#03051a;\"/>\r\n    <path clip-path=\"url(#p7ffb378acb)\" d=\"M 286.184688 210.098906 \r\nL 405.224688 210.098906 \r\nL 405.224688 309.758906 \r\nL 286.184688 309.758906 \r\nL 286.184688 210.098906 \r\n\" style=\"fill:#f37651;\"/>\r\n   </g>\r\n   <g id=\"text_7\">\r\n    <!-- 11 -->\r\n    <g style=\"fill:#262626;\" transform=\"translate(101.394063 63.711094)scale(0.12 -0.12)\">\r\n     <use xlink:href=\"#ArialMT-49\"/>\r\n     <use x=\"48.240234\" xlink:href=\"#ArialMT-49\"/>\r\n    </g>\r\n   </g>\r\n   <g id=\"text_8\">\r\n    <!-- 0 -->\r\n    <g style=\"fill:#ffffff;\" transform=\"translate(223.328125 63.711094)scale(0.12 -0.12)\">\r\n     <use xlink:href=\"#ArialMT-48\"/>\r\n    </g>\r\n   </g>\r\n   <g id=\"text_9\">\r\n    <!-- 0 -->\r\n    <g style=\"fill:#ffffff;\" transform=\"translate(342.368125 63.711094)scale(0.12 -0.12)\">\r\n     <use xlink:href=\"#ArialMT-48\"/>\r\n    </g>\r\n   </g>\r\n   <g id=\"text_10\">\r\n    <!-- 0 -->\r\n    <g style=\"fill:#ffffff;\" transform=\"translate(104.288125 163.371094)scale(0.12 -0.12)\">\r\n     <use xlink:href=\"#ArialMT-48\"/>\r\n    </g>\r\n   </g>\r\n   <g id=\"text_11\">\r\n    <!-- 14 -->\r\n    <g style=\"fill:#262626;\" transform=\"translate(219.991563 163.371094)scale(0.12 -0.12)\">\r\n     <defs>\r\n      <path d=\"M 32.328125 0 \r\nL 32.328125 17.140625 \r\nL 1.265625 17.140625 \r\nL 1.265625 25.203125 \r\nL 33.9375 71.578125 \r\nL 41.109375 71.578125 \r\nL 41.109375 25.203125 \r\nL 50.78125 25.203125 \r\nL 50.78125 17.140625 \r\nL 41.109375 17.140625 \r\nL 41.109375 0 \r\nz\r\nM 32.328125 25.203125 \r\nL 32.328125 57.46875 \r\nL 9.90625 25.203125 \r\nz\r\n\" id=\"ArialMT-52\"/>\r\n     </defs>\r\n     <use xlink:href=\"#ArialMT-49\"/>\r\n     <use x=\"55.615234\" xlink:href=\"#ArialMT-52\"/>\r\n    </g>\r\n   </g>\r\n   <g id=\"text_12\">\r\n    <!-- 1 -->\r\n    <g style=\"fill:#ffffff;\" transform=\"translate(342.368125 163.371094)scale(0.12 -0.12)\">\r\n     <use xlink:href=\"#ArialMT-49\"/>\r\n    </g>\r\n   </g>\r\n   <g id=\"text_13\">\r\n    <!-- 0 -->\r\n    <g style=\"fill:#ffffff;\" transform=\"translate(104.288125 263.031094)scale(0.12 -0.12)\">\r\n     <use xlink:href=\"#ArialMT-48\"/>\r\n    </g>\r\n   </g>\r\n   <g id=\"text_14\">\r\n    <!-- 0 -->\r\n    <g style=\"fill:#ffffff;\" transform=\"translate(223.328125 263.031094)scale(0.12 -0.12)\">\r\n     <use xlink:href=\"#ArialMT-48\"/>\r\n    </g>\r\n   </g>\r\n   <g id=\"text_15\">\r\n    <!-- 10 -->\r\n    <g style=\"fill:#ffffff;\" transform=\"translate(339.031563 263.031094)scale(0.12 -0.12)\">\r\n     <use xlink:href=\"#ArialMT-49\"/>\r\n     <use x=\"55.615234\" xlink:href=\"#ArialMT-48\"/>\r\n    </g>\r\n   </g>\r\n  </g>\r\n  <g id=\"axes_2\">\r\n   <g id=\"patch_3\">\r\n    <path clip-path=\"url(#pba80e29e62)\" d=\"M 427.544688 309.758906 \r\nL 427.544688 308.591016 \r\nL 427.544688 11.946797 \r\nL 427.544688 10.778906 \r\nL 442.493688 10.778906 \r\nL 442.493688 11.946797 \r\nL 442.493688 308.591016 \r\nL 442.493688 309.758906 \r\nz\r\n\" style=\"fill:#ffffff;stroke:#ffffff;stroke-linejoin:miter;stroke-width:0.01;\"/>\r\n   </g>\r\n   <g id=\"matplotlib.axis_3\"/>\r\n   <g id=\"matplotlib.axis_4\">\r\n    <g id=\"ytick_4\">\r\n     <g id=\"line2d_7\"/>\r\n     <g id=\"text_16\">\r\n      <!-- 0 -->\r\n      <g style=\"fill:#262626;\" transform=\"translate(449.493688 313.337812)scale(0.1 -0.1)\">\r\n       <use xlink:href=\"#ArialMT-48\"/>\r\n      </g>\r\n     </g>\r\n    </g>\r\n    <g id=\"ytick_5\">\r\n     <g id=\"line2d_8\"/>\r\n     <g id=\"text_17\">\r\n      <!-- 2 -->\r\n      <g style=\"fill:#262626;\" transform=\"translate(449.493688 270.626384)scale(0.1 -0.1)\">\r\n       <use xlink:href=\"#ArialMT-50\"/>\r\n      </g>\r\n     </g>\r\n    </g>\r\n    <g id=\"ytick_6\">\r\n     <g id=\"line2d_9\"/>\r\n     <g id=\"text_18\">\r\n      <!-- 4 -->\r\n      <g style=\"fill:#262626;\" transform=\"translate(449.493688 227.914955)scale(0.1 -0.1)\">\r\n       <use xlink:href=\"#ArialMT-52\"/>\r\n      </g>\r\n     </g>\r\n    </g>\r\n    <g id=\"ytick_7\">\r\n     <g id=\"line2d_10\"/>\r\n     <g id=\"text_19\">\r\n      <!-- 6 -->\r\n      <g style=\"fill:#262626;\" transform=\"translate(449.493688 185.203527)scale(0.1 -0.1)\">\r\n       <defs>\r\n        <path d=\"M 49.75 54.046875 \r\nL 41.015625 53.375 \r\nQ 39.84375 58.546875 37.703125 60.890625 \r\nQ 34.125 64.65625 28.90625 64.65625 \r\nQ 24.703125 64.65625 21.53125 62.3125 \r\nQ 17.390625 59.28125 14.984375 53.46875 \r\nQ 12.59375 47.65625 12.5 36.921875 \r\nQ 15.671875 41.75 20.265625 44.09375 \r\nQ 24.859375 46.4375 29.890625 46.4375 \r\nQ 38.671875 46.4375 44.84375 39.96875 \r\nQ 51.03125 33.5 51.03125 23.25 \r\nQ 51.03125 16.5 48.125 10.71875 \r\nQ 45.21875 4.9375 40.140625 1.859375 \r\nQ 35.0625 -1.21875 28.609375 -1.21875 \r\nQ 17.625 -1.21875 10.6875 6.859375 \r\nQ 3.765625 14.9375 3.765625 33.5 \r\nQ 3.765625 54.25 11.421875 63.671875 \r\nQ 18.109375 71.875 29.4375 71.875 \r\nQ 37.890625 71.875 43.28125 67.140625 \r\nQ 48.6875 62.40625 49.75 54.046875 \r\nz\r\nM 13.875 23.1875 \r\nQ 13.875 18.65625 15.796875 14.5 \r\nQ 17.71875 10.359375 21.1875 8.171875 \r\nQ 24.65625 6 28.46875 6 \r\nQ 34.03125 6 38.03125 10.484375 \r\nQ 42.046875 14.984375 42.046875 22.703125 \r\nQ 42.046875 30.125 38.078125 34.390625 \r\nQ 34.125 38.671875 28.125 38.671875 \r\nQ 22.171875 38.671875 18.015625 34.390625 \r\nQ 13.875 30.125 13.875 23.1875 \r\nz\r\n\" id=\"ArialMT-54\"/>\r\n       </defs>\r\n       <use xlink:href=\"#ArialMT-54\"/>\r\n      </g>\r\n     </g>\r\n    </g>\r\n    <g id=\"ytick_8\">\r\n     <g id=\"line2d_11\"/>\r\n     <g id=\"text_20\">\r\n      <!-- 8 -->\r\n      <g style=\"fill:#262626;\" transform=\"translate(449.493688 142.492098)scale(0.1 -0.1)\">\r\n       <defs>\r\n        <path d=\"M 17.671875 38.8125 \r\nQ 12.203125 40.828125 9.5625 44.53125 \r\nQ 6.9375 48.25 6.9375 53.421875 \r\nQ 6.9375 61.234375 12.546875 66.546875 \r\nQ 18.171875 71.875 27.484375 71.875 \r\nQ 36.859375 71.875 42.578125 66.421875 \r\nQ 48.296875 60.984375 48.296875 53.171875 \r\nQ 48.296875 48.1875 45.671875 44.5 \r\nQ 43.0625 40.828125 37.75 38.8125 \r\nQ 44.34375 36.671875 47.78125 31.875 \r\nQ 51.21875 27.09375 51.21875 20.453125 \r\nQ 51.21875 11.28125 44.71875 5.03125 \r\nQ 38.234375 -1.21875 27.640625 -1.21875 \r\nQ 17.046875 -1.21875 10.546875 5.046875 \r\nQ 4.046875 11.328125 4.046875 20.703125 \r\nQ 4.046875 27.6875 7.59375 32.390625 \r\nQ 11.140625 37.109375 17.671875 38.8125 \r\nz\r\nM 15.921875 53.71875 \r\nQ 15.921875 48.640625 19.1875 45.40625 \r\nQ 22.46875 42.1875 27.6875 42.1875 \r\nQ 32.765625 42.1875 36.015625 45.375 \r\nQ 39.265625 48.578125 39.265625 53.21875 \r\nQ 39.265625 58.0625 35.90625 61.359375 \r\nQ 32.5625 64.65625 27.59375 64.65625 \r\nQ 22.5625 64.65625 19.234375 61.421875 \r\nQ 15.921875 58.203125 15.921875 53.71875 \r\nz\r\nM 13.09375 20.65625 \r\nQ 13.09375 16.890625 14.875 13.375 \r\nQ 16.65625 9.859375 20.171875 7.921875 \r\nQ 23.6875 6 27.734375 6 \r\nQ 34.03125 6 38.125 10.046875 \r\nQ 42.234375 14.109375 42.234375 20.359375 \r\nQ 42.234375 26.703125 38.015625 30.859375 \r\nQ 33.796875 35.015625 27.4375 35.015625 \r\nQ 21.234375 35.015625 17.15625 30.90625 \r\nQ 13.09375 26.8125 13.09375 20.65625 \r\nz\r\n\" id=\"ArialMT-56\"/>\r\n       </defs>\r\n       <use xlink:href=\"#ArialMT-56\"/>\r\n      </g>\r\n     </g>\r\n    </g>\r\n    <g id=\"ytick_9\">\r\n     <g id=\"line2d_12\"/>\r\n     <g id=\"text_21\">\r\n      <!-- 10 -->\r\n      <g style=\"fill:#262626;\" transform=\"translate(449.493688 99.78067)scale(0.1 -0.1)\">\r\n       <use xlink:href=\"#ArialMT-49\"/>\r\n       <use x=\"55.615234\" xlink:href=\"#ArialMT-48\"/>\r\n      </g>\r\n     </g>\r\n    </g>\r\n    <g id=\"ytick_10\">\r\n     <g id=\"line2d_13\"/>\r\n     <g id=\"text_22\">\r\n      <!-- 12 -->\r\n      <g style=\"fill:#262626;\" transform=\"translate(449.493688 57.069241)scale(0.1 -0.1)\">\r\n       <use xlink:href=\"#ArialMT-49\"/>\r\n       <use x=\"55.615234\" xlink:href=\"#ArialMT-50\"/>\r\n      </g>\r\n     </g>\r\n    </g>\r\n    <g id=\"ytick_11\">\r\n     <g id=\"line2d_14\"/>\r\n     <g id=\"text_23\">\r\n      <!-- 14 -->\r\n      <g style=\"fill:#262626;\" transform=\"translate(449.493688 14.357812)scale(0.1 -0.1)\">\r\n       <use xlink:href=\"#ArialMT-49\"/>\r\n       <use x=\"55.615234\" xlink:href=\"#ArialMT-52\"/>\r\n      </g>\r\n     </g>\r\n    </g>\r\n   </g>\r\n   <image height=\"299\" id=\"imagec3ebae9935\" transform=\"scale(1 -1)translate(0 -299)\" width=\"14\" x=\"428\" xlink:href=\"data:image/png;base64,\r\niVBORw0KGgoAAAANSUhEUgAAAA4AAAErCAYAAADuXrLgAAABrElEQVR4nO2bQRKDMAwD7ZB+ov//J30BPaxnpBHAXSNH6zhAaR+f71ng2k1UVbW7mRQLF1JV1e4Sl7oXDoeWyh3lOFYQDuyoXqNhdzwgVew4wNFM6+AY4zgYVvcPJ2lY6SdATqqGYcXXiB3vz9GCA4fDLsc9gGF3YKF+dLBLv60MOAyjA8km45GG43juyHGUN4Dh7AjCwbdV0rDCji+Oa0f0dtUUDhYGDSsqpBwdOKgQrnFylEOhPpyWb2T9nVVSk6tLncwcVmvU2XHSNUJHy8xRc2zsyAw9ONRrHDhSIew5XKrj8QEekHtR4eBdB3WEwsmvSLhU6GjgqC7VgQOeAYNwuKO4AQZnB5TyNSZxhMLJFwhUyNdIHXkDUEc9DlpqGcJRC2muDhwx4eyGd7oWHOJSd1HHnFItONRC/Fu5vFSOoxb8mNDR5FRIP5h04MCpqjnKU8W9asChDyenARw4cDj8CMA4coYVb3L6BbthP4qFExz63ZGSKg7HcmeVg0PtmDSsclK1HOUx4XQfYsdH7A7uSHE8YFgZevUBqea0HP9z6Ivjr+OL41oIcfwAS6suFU7y1qoAAAAASUVORK5CYII=\" y=\"-11\"/>\r\n   <g id=\"patch_4\">\r\n    <path d=\"M 427.544688 309.758906 \r\nL 427.544688 308.591016 \r\nL 427.544688 11.946797 \r\nL 427.544688 10.778906 \r\nL 442.493688 10.778906 \r\nL 442.493688 11.946797 \r\nL 442.493688 308.591016 \r\nL 442.493688 309.758906 \r\nz\r\n\" style=\"fill:none;\"/>\r\n   </g>\r\n  </g>\r\n </g>\r\n <defs>\r\n  <clipPath id=\"p7ffb378acb\">\r\n   <rect height=\"298.98\" width=\"357.12\" x=\"48.104687\" y=\"10.778906\"/>\r\n  </clipPath>\r\n  <clipPath id=\"pba80e29e62\">\r\n   <rect height=\"298.98\" width=\"14.949\" x=\"427.544688\" y=\"10.778906\"/>\r\n  </clipPath>\r\n </defs>\r\n</svg>\r\n",
            "image/png": "[encoded data removed]"
          },
          "metadata": {}
        }
      ],
      "source": [
        "import seaborn as sns\n",
        "import matplotlib.pyplot as plt\n",
        "\n",
        "sns.heatmap(cm, annot=True, xticklabels=wine.target_names, yticklabels=wine.target_names,)\n",
        "plt.yticks(rotation = 0)\n",
        "plt.show()"
      ]
    },
    {
      "cell_type": "code",
      "metadata": {
        "id": "nEMJsIY9QBh6",
        "outputId": "c7075766-1754-472e-8d77-aa312b9df948",
        "colab": {
          "base_uri": "https://localhost:8080/",
          "height": 339
        }
      },
      "source": [
        "# !pip install yellowbrick --upgrade"
      ],
      "execution_count": 74,
      "outputs": []
    },
    {
      "cell_type": "code",
      "metadata": {
        "id": "3tP25AS-QIcp",
        "outputId": "659b21b8-3a25-4a7a-8d1c-260eab9904b6",
        "colab": {
          "base_uri": "https://localhost:8080/",
          "height": 511
        }
      },
      "source": [
        "from yellowbrick.classifier import ConfusionMatrix\n",
        "confusion_matrix = ConfusionMatrix(network, classes = wine.target_names)\n",
        "confusion_matrix.fit(X_train, y_train)\n",
        "confusion_matrix.score(X_test, y_test)\n",
        "confusion_matrix.show()"
      ],
      "execution_count": 75,
      "outputs": [
        {
          "output_type": "display_data",
          "data": {
            "text/plain": "<Figure size 576x396 with 1 Axes>",
            "image/svg+xml": "<?xml version=\"1.0\" encoding=\"utf-8\" standalone=\"no\"?>\r\n<!DOCTYPE svg PUBLIC \"-//W3C//DTD SVG 1.1//EN\"\r\n  \"http://www.w3.org/Graphics/SVG/1.1/DTD/svg11.dtd\">\r\n<!-- Created with matplotlib (https://matplotlib.org/) -->\r\n<svg height=\"385.189844pt\" version=\"1.1\" viewBox=\"0 0 564.600469 385.189844\" width=\"564.600469pt\" xmlns=\"http://www.w3.org/2000/svg\" xmlns:xlink=\"http://www.w3.org/1999/xlink\">\r\n <metadata>\r\n  <rdf:RDF xmlns:cc=\"http://creativecommons.org/ns#\" xmlns:dc=\"http://purl.org/dc/elements/1.1/\" xmlns:rdf=\"http://www.w3.org/1999/02/22-rdf-syntax-ns#\">\r\n   <cc:Work>\r\n    <dc:type rdf:resource=\"http://purl.org/dc/dcmitype/StillImage\"/>\r\n    <dc:date>2021-05-15T17:40:24.981996</dc:date>\r\n    <dc:format>image/svg+xml</dc:format>\r\n    <dc:creator>\r\n     <cc:Agent>\r\n      <dc:title>Matplotlib v3.3.3, https://matplotlib.org/</dc:title>\r\n     </cc:Agent>\r\n    </dc:creator>\r\n   </cc:Work>\r\n  </rdf:RDF>\r\n </metadata>\r\n <defs>\r\n  <style type=\"text/css\">*{stroke-linecap:butt;stroke-linejoin:round;}</style>\r\n </defs>\r\n <g id=\"figure_1\">\r\n  <g id=\"patch_1\">\r\n   <path d=\"M 0 385.189844 \r\nL 564.600469 385.189844 \r\nL 564.600469 0 \r\nL 0 0 \r\nz\r\n\" style=\"fill:#ffffff;\"/>\r\n  </g>\r\n  <g id=\"axes_1\">\r\n   <g id=\"patch_2\">\r\n    <path d=\"M 68.945469 316.244375 \r\nL 557.400469 316.244375 \r\nL 557.400469 21.789375 \r\nL 68.945469 21.789375 \r\nz\r\n\" style=\"fill:#ffffff;\"/>\r\n   </g>\r\n   <g id=\"matplotlib.axis_1\">\r\n    <g id=\"xtick_1\">\r\n     <g id=\"line2d_1\"/>\r\n     <g id=\"text_1\">\r\n      <!-- class_0 -->\r\n      <g style=\"fill:#262626;\" transform=\"translate(153.474635 363.93)rotate(-90)scale(0.12 -0.12)\">\r\n       <defs>\r\n        <path d=\"M 40.4375 19 \r\nL 49.078125 17.875 \r\nQ 47.65625 8.9375 41.8125 3.875 \r\nQ 35.984375 -1.171875 27.484375 -1.171875 \r\nQ 16.84375 -1.171875 10.375 5.78125 \r\nQ 3.90625 12.75 3.90625 25.734375 \r\nQ 3.90625 34.125 6.6875 40.421875 \r\nQ 9.46875 46.734375 15.15625 49.875 \r\nQ 20.84375 53.03125 27.546875 53.03125 \r\nQ 35.984375 53.03125 41.359375 48.75 \r\nQ 46.734375 44.484375 48.25 36.625 \r\nL 39.703125 35.296875 \r\nQ 38.484375 40.53125 35.375 43.15625 \r\nQ 32.28125 45.796875 27.875 45.796875 \r\nQ 21.234375 45.796875 17.078125 41.03125 \r\nQ 12.9375 36.28125 12.9375 25.984375 \r\nQ 12.9375 15.53125 16.9375 10.796875 \r\nQ 20.953125 6.0625 27.390625 6.0625 \r\nQ 32.5625 6.0625 36.03125 9.234375 \r\nQ 39.5 12.40625 40.4375 19 \r\nz\r\n\" id=\"ArialMT-99\"/>\r\n        <path d=\"M 6.390625 0 \r\nL 6.390625 71.578125 \r\nL 15.1875 71.578125 \r\nL 15.1875 0 \r\nz\r\n\" id=\"ArialMT-108\"/>\r\n        <path d=\"M 40.4375 6.390625 \r\nQ 35.546875 2.25 31.03125 0.53125 \r\nQ 26.515625 -1.171875 21.34375 -1.171875 \r\nQ 12.796875 -1.171875 8.203125 3 \r\nQ 3.609375 7.171875 3.609375 13.671875 \r\nQ 3.609375 17.484375 5.34375 20.625 \r\nQ 7.078125 23.78125 9.890625 25.6875 \r\nQ 12.703125 27.59375 16.21875 28.5625 \r\nQ 18.796875 29.25 24.03125 29.890625 \r\nQ 34.671875 31.15625 39.703125 32.90625 \r\nQ 39.75 34.71875 39.75 35.203125 \r\nQ 39.75 40.578125 37.25 42.78125 \r\nQ 33.890625 45.75 27.25 45.75 \r\nQ 21.046875 45.75 18.09375 43.578125 \r\nQ 15.140625 41.40625 13.71875 35.890625 \r\nL 5.125 37.0625 \r\nQ 6.296875 42.578125 8.984375 45.96875 \r\nQ 11.671875 49.359375 16.75 51.1875 \r\nQ 21.828125 53.03125 28.515625 53.03125 \r\nQ 35.15625 53.03125 39.296875 51.46875 \r\nQ 43.453125 49.90625 45.40625 47.53125 \r\nQ 47.359375 45.171875 48.140625 41.546875 \r\nQ 48.578125 39.3125 48.578125 33.453125 \r\nL 48.578125 21.734375 \r\nQ 48.578125 9.46875 49.140625 6.21875 \r\nQ 49.703125 2.984375 51.375 0 \r\nL 42.1875 0 \r\nQ 40.828125 2.734375 40.4375 6.390625 \r\nz\r\nM 39.703125 26.03125 \r\nQ 34.90625 24.078125 25.34375 22.703125 \r\nQ 19.921875 21.921875 17.671875 20.9375 \r\nQ 15.4375 19.96875 14.203125 18.09375 \r\nQ 12.984375 16.21875 12.984375 13.921875 \r\nQ 12.984375 10.40625 15.640625 8.0625 \r\nQ 18.3125 5.71875 23.4375 5.71875 \r\nQ 28.515625 5.71875 32.46875 7.9375 \r\nQ 36.421875 10.15625 38.28125 14.015625 \r\nQ 39.703125 17 39.703125 22.796875 \r\nz\r\n\" id=\"ArialMT-97\"/>\r\n        <path d=\"M 3.078125 15.484375 \r\nL 11.765625 16.84375 \r\nQ 12.5 11.625 15.84375 8.84375 \r\nQ 19.1875 6.0625 25.203125 6.0625 \r\nQ 31.25 6.0625 34.171875 8.515625 \r\nQ 37.109375 10.984375 37.109375 14.3125 \r\nQ 37.109375 17.28125 34.515625 19 \r\nQ 32.71875 20.171875 25.53125 21.96875 \r\nQ 15.875 24.421875 12.140625 26.203125 \r\nQ 8.40625 27.984375 6.46875 31.125 \r\nQ 4.546875 34.28125 4.546875 38.09375 \r\nQ 4.546875 41.546875 6.125 44.5 \r\nQ 7.71875 47.46875 10.453125 49.421875 \r\nQ 12.5 50.921875 16.03125 51.96875 \r\nQ 19.578125 53.03125 23.640625 53.03125 \r\nQ 29.734375 53.03125 34.34375 51.265625 \r\nQ 38.96875 49.515625 41.15625 46.5 \r\nQ 43.359375 43.5 44.1875 38.484375 \r\nL 35.59375 37.3125 \r\nQ 35.015625 41.3125 32.203125 43.546875 \r\nQ 29.390625 45.796875 24.265625 45.796875 \r\nQ 18.21875 45.796875 15.625 43.796875 \r\nQ 13.03125 41.796875 13.03125 39.109375 \r\nQ 13.03125 37.40625 14.109375 36.03125 \r\nQ 15.1875 34.625 17.484375 33.6875 \r\nQ 18.796875 33.203125 25.25 31.453125 \r\nQ 34.578125 28.953125 38.25 27.359375 \r\nQ 41.9375 25.78125 44.03125 22.75 \r\nQ 46.140625 19.734375 46.140625 15.234375 \r\nQ 46.140625 10.84375 43.578125 6.953125 \r\nQ 41.015625 3.078125 36.171875 0.953125 \r\nQ 31.34375 -1.171875 25.25 -1.171875 \r\nQ 15.140625 -1.171875 9.84375 3.03125 \r\nQ 4.546875 7.234375 3.078125 15.484375 \r\nz\r\n\" id=\"ArialMT-115\"/>\r\n        <path d=\"M -1.515625 -19.875 \r\nL -1.515625 -13.53125 \r\nL 56.734375 -13.53125 \r\nL 56.734375 -19.875 \r\nz\r\n\" id=\"ArialMT-95\"/>\r\n        <path d=\"M 4.15625 35.296875 \r\nQ 4.15625 48 6.765625 55.734375 \r\nQ 9.375 63.484375 14.515625 67.671875 \r\nQ 19.671875 71.875 27.484375 71.875 \r\nQ 33.25 71.875 37.59375 69.546875 \r\nQ 41.9375 67.234375 44.765625 62.859375 \r\nQ 47.609375 58.5 49.21875 52.21875 \r\nQ 50.828125 45.953125 50.828125 35.296875 \r\nQ 50.828125 22.703125 48.234375 14.96875 \r\nQ 45.65625 7.234375 40.5 3 \r\nQ 35.359375 -1.21875 27.484375 -1.21875 \r\nQ 17.140625 -1.21875 11.234375 6.203125 \r\nQ 4.15625 15.140625 4.15625 35.296875 \r\nz\r\nM 13.1875 35.296875 \r\nQ 13.1875 17.671875 17.3125 11.828125 \r\nQ 21.4375 6 27.484375 6 \r\nQ 33.546875 6 37.671875 11.859375 \r\nQ 41.796875 17.71875 41.796875 35.296875 \r\nQ 41.796875 52.984375 37.671875 58.78125 \r\nQ 33.546875 64.59375 27.390625 64.59375 \r\nQ 21.34375 64.59375 17.71875 59.46875 \r\nQ 13.1875 52.9375 13.1875 35.296875 \r\nz\r\n\" id=\"ArialMT-48\"/>\r\n       </defs>\r\n       <use xlink:href=\"#ArialMT-99\"/>\r\n       <use x=\"50\" xlink:href=\"#ArialMT-108\"/>\r\n       <use x=\"72.216797\" xlink:href=\"#ArialMT-97\"/>\r\n       <use x=\"127.832031\" xlink:href=\"#ArialMT-115\"/>\r\n       <use x=\"177.832031\" xlink:href=\"#ArialMT-115\"/>\r\n       <use x=\"227.832031\" xlink:href=\"#ArialMT-95\"/>\r\n       <use x=\"283.447266\" xlink:href=\"#ArialMT-48\"/>\r\n      </g>\r\n     </g>\r\n    </g>\r\n    <g id=\"xtick_2\">\r\n     <g id=\"line2d_2\"/>\r\n     <g id=\"text_2\">\r\n      <!-- class_1 -->\r\n      <g style=\"fill:#262626;\" transform=\"translate(316.292969 363.93)rotate(-90)scale(0.12 -0.12)\">\r\n       <defs>\r\n        <path d=\"M 37.25 0 \r\nL 28.46875 0 \r\nL 28.46875 56 \r\nQ 25.296875 52.984375 20.140625 49.953125 \r\nQ 14.984375 46.921875 10.890625 45.40625 \r\nL 10.890625 53.90625 \r\nQ 18.265625 57.375 23.78125 62.296875 \r\nQ 29.296875 67.234375 31.59375 71.875 \r\nL 37.25 71.875 \r\nz\r\n\" id=\"ArialMT-49\"/>\r\n       </defs>\r\n       <use xlink:href=\"#ArialMT-99\"/>\r\n       <use x=\"50\" xlink:href=\"#ArialMT-108\"/>\r\n       <use x=\"72.216797\" xlink:href=\"#ArialMT-97\"/>\r\n       <use x=\"127.832031\" xlink:href=\"#ArialMT-115\"/>\r\n       <use x=\"177.832031\" xlink:href=\"#ArialMT-115\"/>\r\n       <use x=\"227.832031\" xlink:href=\"#ArialMT-95\"/>\r\n       <use x=\"283.447266\" xlink:href=\"#ArialMT-49\"/>\r\n      </g>\r\n     </g>\r\n    </g>\r\n    <g id=\"xtick_3\">\r\n     <g id=\"line2d_3\"/>\r\n     <g id=\"text_3\">\r\n      <!-- class_2 -->\r\n      <g style=\"fill:#262626;\" transform=\"translate(479.111302 363.93)rotate(-90)scale(0.12 -0.12)\">\r\n       <defs>\r\n        <path d=\"M 50.34375 8.453125 \r\nL 50.34375 0 \r\nL 3.03125 0 \r\nQ 2.9375 3.171875 4.046875 6.109375 \r\nQ 5.859375 10.9375 9.828125 15.625 \r\nQ 13.8125 20.3125 21.34375 26.46875 \r\nQ 33.015625 36.03125 37.109375 41.625 \r\nQ 41.21875 47.21875 41.21875 52.203125 \r\nQ 41.21875 57.421875 37.46875 61 \r\nQ 33.734375 64.59375 27.734375 64.59375 \r\nQ 21.390625 64.59375 17.578125 60.78125 \r\nQ 13.765625 56.984375 13.71875 50.25 \r\nL 4.6875 51.171875 \r\nQ 5.609375 61.28125 11.65625 66.578125 \r\nQ 17.71875 71.875 27.9375 71.875 \r\nQ 38.234375 71.875 44.234375 66.15625 \r\nQ 50.25 60.453125 50.25 52 \r\nQ 50.25 47.703125 48.484375 43.546875 \r\nQ 46.734375 39.40625 42.65625 34.8125 \r\nQ 38.578125 30.21875 29.109375 22.21875 \r\nQ 21.1875 15.578125 18.9375 13.203125 \r\nQ 16.703125 10.84375 15.234375 8.453125 \r\nz\r\n\" id=\"ArialMT-50\"/>\r\n       </defs>\r\n       <use xlink:href=\"#ArialMT-99\"/>\r\n       <use x=\"50\" xlink:href=\"#ArialMT-108\"/>\r\n       <use x=\"72.216797\" xlink:href=\"#ArialMT-97\"/>\r\n       <use x=\"127.832031\" xlink:href=\"#ArialMT-115\"/>\r\n       <use x=\"177.832031\" xlink:href=\"#ArialMT-115\"/>\r\n       <use x=\"227.832031\" xlink:href=\"#ArialMT-95\"/>\r\n       <use x=\"283.447266\" xlink:href=\"#ArialMT-50\"/>\r\n      </g>\r\n     </g>\r\n    </g>\r\n    <g id=\"text_4\">\r\n     <!-- Predicted Class -->\r\n     <g style=\"fill:#262626;\" transform=\"translate(274.658359 375.803594)scale(0.11 -0.11)\">\r\n      <defs>\r\n       <path d=\"M 7.71875 0 \r\nL 7.71875 71.578125 \r\nL 34.71875 71.578125 \r\nQ 41.84375 71.578125 45.609375 70.90625 \r\nQ 50.875 70.015625 54.4375 67.546875 \r\nQ 58.015625 65.09375 60.1875 60.640625 \r\nQ 62.359375 56.203125 62.359375 50.875 \r\nQ 62.359375 41.75 56.546875 35.421875 \r\nQ 50.734375 29.109375 35.546875 29.109375 \r\nL 17.1875 29.109375 \r\nL 17.1875 0 \r\nz\r\nM 17.1875 37.546875 \r\nL 35.6875 37.546875 \r\nQ 44.875 37.546875 48.734375 40.96875 \r\nQ 52.59375 44.390625 52.59375 50.59375 \r\nQ 52.59375 55.078125 50.3125 58.265625 \r\nQ 48.046875 61.46875 44.34375 62.5 \r\nQ 41.9375 63.140625 35.5 63.140625 \r\nL 17.1875 63.140625 \r\nz\r\n\" id=\"ArialMT-80\"/>\r\n       <path d=\"M 6.5 0 \r\nL 6.5 51.859375 \r\nL 14.40625 51.859375 \r\nL 14.40625 44 \r\nQ 17.4375 49.515625 20 51.265625 \r\nQ 22.5625 53.03125 25.640625 53.03125 \r\nQ 30.078125 53.03125 34.671875 50.203125 \r\nL 31.640625 42.046875 \r\nQ 28.421875 43.953125 25.203125 43.953125 \r\nQ 22.3125 43.953125 20.015625 42.21875 \r\nQ 17.71875 40.484375 16.75 37.40625 \r\nQ 15.28125 32.71875 15.28125 27.15625 \r\nL 15.28125 0 \r\nz\r\n\" id=\"ArialMT-114\"/>\r\n       <path d=\"M 42.09375 16.703125 \r\nL 51.171875 15.578125 \r\nQ 49.03125 7.625 43.21875 3.21875 \r\nQ 37.40625 -1.171875 28.375 -1.171875 \r\nQ 17 -1.171875 10.328125 5.828125 \r\nQ 3.65625 12.84375 3.65625 25.484375 \r\nQ 3.65625 38.578125 10.390625 45.796875 \r\nQ 17.140625 53.03125 27.875 53.03125 \r\nQ 38.28125 53.03125 44.875 45.953125 \r\nQ 51.46875 38.875 51.46875 26.03125 \r\nQ 51.46875 25.25 51.421875 23.6875 \r\nL 12.75 23.6875 \r\nQ 13.234375 15.140625 17.578125 10.59375 \r\nQ 21.921875 6.0625 28.421875 6.0625 \r\nQ 33.25 6.0625 36.671875 8.59375 \r\nQ 40.09375 11.140625 42.09375 16.703125 \r\nz\r\nM 13.234375 30.90625 \r\nL 42.1875 30.90625 \r\nQ 41.609375 37.453125 38.875 40.71875 \r\nQ 34.671875 45.796875 27.984375 45.796875 \r\nQ 21.921875 45.796875 17.796875 41.75 \r\nQ 13.671875 37.703125 13.234375 30.90625 \r\nz\r\n\" id=\"ArialMT-101\"/>\r\n       <path d=\"M 40.234375 0 \r\nL 40.234375 6.546875 \r\nQ 35.296875 -1.171875 25.734375 -1.171875 \r\nQ 19.53125 -1.171875 14.328125 2.25 \r\nQ 9.125 5.671875 6.265625 11.796875 \r\nQ 3.421875 17.921875 3.421875 25.875 \r\nQ 3.421875 33.640625 6 39.96875 \r\nQ 8.59375 46.296875 13.765625 49.65625 \r\nQ 18.953125 53.03125 25.34375 53.03125 \r\nQ 30.03125 53.03125 33.6875 51.046875 \r\nQ 37.359375 49.078125 39.65625 45.90625 \r\nL 39.65625 71.578125 \r\nL 48.390625 71.578125 \r\nL 48.390625 0 \r\nz\r\nM 12.453125 25.875 \r\nQ 12.453125 15.921875 16.640625 10.984375 \r\nQ 20.84375 6.0625 26.5625 6.0625 \r\nQ 32.328125 6.0625 36.34375 10.765625 \r\nQ 40.375 15.484375 40.375 25.140625 \r\nQ 40.375 35.796875 36.265625 40.765625 \r\nQ 32.171875 45.75 26.171875 45.75 \r\nQ 20.3125 45.75 16.375 40.96875 \r\nQ 12.453125 36.1875 12.453125 25.875 \r\nz\r\n\" id=\"ArialMT-100\"/>\r\n       <path d=\"M 6.640625 61.46875 \r\nL 6.640625 71.578125 \r\nL 15.4375 71.578125 \r\nL 15.4375 61.46875 \r\nz\r\nM 6.640625 0 \r\nL 6.640625 51.859375 \r\nL 15.4375 51.859375 \r\nL 15.4375 0 \r\nz\r\n\" id=\"ArialMT-105\"/>\r\n       <path d=\"M 25.78125 7.859375 \r\nL 27.046875 0.09375 \r\nQ 23.34375 -0.6875 20.40625 -0.6875 \r\nQ 15.625 -0.6875 12.984375 0.828125 \r\nQ 10.359375 2.34375 9.28125 4.8125 \r\nQ 8.203125 7.28125 8.203125 15.1875 \r\nL 8.203125 45.015625 \r\nL 1.765625 45.015625 \r\nL 1.765625 51.859375 \r\nL 8.203125 51.859375 \r\nL 8.203125 64.703125 \r\nL 16.9375 69.96875 \r\nL 16.9375 51.859375 \r\nL 25.78125 51.859375 \r\nL 25.78125 45.015625 \r\nL 16.9375 45.015625 \r\nL 16.9375 14.703125 \r\nQ 16.9375 10.9375 17.40625 9.859375 \r\nQ 17.875 8.796875 18.921875 8.15625 \r\nQ 19.96875 7.515625 21.921875 7.515625 \r\nQ 23.390625 7.515625 25.78125 7.859375 \r\nz\r\n\" id=\"ArialMT-116\"/>\r\n       <path id=\"ArialMT-32\"/>\r\n       <path d=\"M 58.796875 25.09375 \r\nL 68.265625 22.703125 \r\nQ 65.28125 11.03125 57.546875 4.90625 \r\nQ 49.8125 -1.21875 38.625 -1.21875 \r\nQ 27.046875 -1.21875 19.796875 3.484375 \r\nQ 12.546875 8.203125 8.765625 17.140625 \r\nQ 4.984375 26.078125 4.984375 36.328125 \r\nQ 4.984375 47.515625 9.25 55.828125 \r\nQ 13.53125 64.15625 21.40625 68.46875 \r\nQ 29.296875 72.796875 38.765625 72.796875 \r\nQ 49.515625 72.796875 56.828125 67.328125 \r\nQ 64.15625 61.859375 67.046875 51.953125 \r\nL 57.71875 49.75 \r\nQ 55.21875 57.5625 50.484375 61.125 \r\nQ 45.75 64.703125 38.578125 64.703125 \r\nQ 30.328125 64.703125 24.78125 60.734375 \r\nQ 19.234375 56.78125 16.984375 50.109375 \r\nQ 14.75 43.453125 14.75 36.375 \r\nQ 14.75 27.25 17.40625 20.4375 \r\nQ 20.0625 13.625 25.671875 10.25 \r\nQ 31.296875 6.890625 37.84375 6.890625 \r\nQ 45.796875 6.890625 51.3125 11.46875 \r\nQ 56.84375 16.0625 58.796875 25.09375 \r\nz\r\n\" id=\"ArialMT-67\"/>\r\n      </defs>\r\n      <use xlink:href=\"#ArialMT-80\"/>\r\n      <use x=\"66.699219\" xlink:href=\"#ArialMT-114\"/>\r\n      <use x=\"100\" xlink:href=\"#ArialMT-101\"/>\r\n      <use x=\"155.615234\" xlink:href=\"#ArialMT-100\"/>\r\n      <use x=\"211.230469\" xlink:href=\"#ArialMT-105\"/>\r\n      <use x=\"233.447266\" xlink:href=\"#ArialMT-99\"/>\r\n      <use x=\"283.447266\" xlink:href=\"#ArialMT-116\"/>\r\n      <use x=\"311.230469\" xlink:href=\"#ArialMT-101\"/>\r\n      <use x=\"366.845703\" xlink:href=\"#ArialMT-100\"/>\r\n      <use x=\"422.460938\" xlink:href=\"#ArialMT-32\"/>\r\n      <use x=\"450.244141\" xlink:href=\"#ArialMT-67\"/>\r\n      <use x=\"522.460938\" xlink:href=\"#ArialMT-108\"/>\r\n      <use x=\"544.677734\" xlink:href=\"#ArialMT-97\"/>\r\n      <use x=\"600.292969\" xlink:href=\"#ArialMT-115\"/>\r\n      <use x=\"650.292969\" xlink:href=\"#ArialMT-115\"/>\r\n     </g>\r\n    </g>\r\n   </g>\r\n   <g id=\"matplotlib.axis_2\">\r\n    <g id=\"ytick_1\">\r\n     <g id=\"line2d_4\"/>\r\n     <g id=\"text_5\">\r\n      <!-- class_2 -->\r\n      <g style=\"fill:#262626;\" transform=\"translate(21.259844 271.481042)scale(0.12 -0.12)\">\r\n       <use xlink:href=\"#ArialMT-99\"/>\r\n       <use x=\"50\" xlink:href=\"#ArialMT-108\"/>\r\n       <use x=\"72.216797\" xlink:href=\"#ArialMT-97\"/>\r\n       <use x=\"127.832031\" xlink:href=\"#ArialMT-115\"/>\r\n       <use x=\"177.832031\" xlink:href=\"#ArialMT-115\"/>\r\n       <use x=\"227.832031\" xlink:href=\"#ArialMT-95\"/>\r\n       <use x=\"283.447266\" xlink:href=\"#ArialMT-50\"/>\r\n      </g>\r\n     </g>\r\n    </g>\r\n    <g id=\"ytick_2\">\r\n     <g id=\"line2d_5\"/>\r\n     <g id=\"text_6\">\r\n      <!-- class_1 -->\r\n      <g style=\"fill:#262626;\" transform=\"translate(21.259844 173.329375)scale(0.12 -0.12)\">\r\n       <use xlink:href=\"#ArialMT-99\"/>\r\n       <use x=\"50\" xlink:href=\"#ArialMT-108\"/>\r\n       <use x=\"72.216797\" xlink:href=\"#ArialMT-97\"/>\r\n       <use x=\"127.832031\" xlink:href=\"#ArialMT-115\"/>\r\n       <use x=\"177.832031\" xlink:href=\"#ArialMT-115\"/>\r\n       <use x=\"227.832031\" xlink:href=\"#ArialMT-95\"/>\r\n       <use x=\"283.447266\" xlink:href=\"#ArialMT-49\"/>\r\n      </g>\r\n     </g>\r\n    </g>\r\n    <g id=\"ytick_3\">\r\n     <g id=\"line2d_6\"/>\r\n     <g id=\"text_7\">\r\n      <!-- class_0 -->\r\n      <g style=\"fill:#262626;\" transform=\"translate(21.259844 75.177708)scale(0.12 -0.12)\">\r\n       <use xlink:href=\"#ArialMT-99\"/>\r\n       <use x=\"50\" xlink:href=\"#ArialMT-108\"/>\r\n       <use x=\"72.216797\" xlink:href=\"#ArialMT-97\"/>\r\n       <use x=\"127.832031\" xlink:href=\"#ArialMT-115\"/>\r\n       <use x=\"177.832031\" xlink:href=\"#ArialMT-115\"/>\r\n       <use x=\"227.832031\" xlink:href=\"#ArialMT-95\"/>\r\n       <use x=\"283.447266\" xlink:href=\"#ArialMT-48\"/>\r\n      </g>\r\n     </g>\r\n    </g>\r\n    <g id=\"text_8\">\r\n     <!-- True Class -->\r\n     <g style=\"fill:#262626;\" transform=\"translate(15.073594 195.398828)rotate(-90)scale(0.11 -0.11)\">\r\n      <defs>\r\n       <path d=\"M 25.921875 0 \r\nL 25.921875 63.140625 \r\nL 2.34375 63.140625 \r\nL 2.34375 71.578125 \r\nL 59.078125 71.578125 \r\nL 59.078125 63.140625 \r\nL 35.40625 63.140625 \r\nL 35.40625 0 \r\nz\r\n\" id=\"ArialMT-84\"/>\r\n       <path d=\"M 40.578125 0 \r\nL 40.578125 7.625 \r\nQ 34.515625 -1.171875 24.125 -1.171875 \r\nQ 19.53125 -1.171875 15.546875 0.578125 \r\nQ 11.578125 2.34375 9.640625 5 \r\nQ 7.71875 7.671875 6.9375 11.53125 \r\nQ 6.390625 14.109375 6.390625 19.734375 \r\nL 6.390625 51.859375 \r\nL 15.1875 51.859375 \r\nL 15.1875 23.09375 \r\nQ 15.1875 16.21875 15.71875 13.8125 \r\nQ 16.546875 10.359375 19.234375 8.375 \r\nQ 21.921875 6.390625 25.875 6.390625 \r\nQ 29.828125 6.390625 33.296875 8.421875 \r\nQ 36.765625 10.453125 38.203125 13.9375 \r\nQ 39.65625 17.4375 39.65625 24.078125 \r\nL 39.65625 51.859375 \r\nL 48.4375 51.859375 \r\nL 48.4375 0 \r\nz\r\n\" id=\"ArialMT-117\"/>\r\n      </defs>\r\n      <use xlink:href=\"#ArialMT-84\"/>\r\n      <use x=\"57.333984\" xlink:href=\"#ArialMT-114\"/>\r\n      <use x=\"90.634766\" xlink:href=\"#ArialMT-117\"/>\r\n      <use x=\"146.25\" xlink:href=\"#ArialMT-101\"/>\r\n      <use x=\"201.865234\" xlink:href=\"#ArialMT-32\"/>\r\n      <use x=\"229.648438\" xlink:href=\"#ArialMT-67\"/>\r\n      <use x=\"301.865234\" xlink:href=\"#ArialMT-108\"/>\r\n      <use x=\"324.082031\" xlink:href=\"#ArialMT-97\"/>\r\n      <use x=\"379.697266\" xlink:href=\"#ArialMT-115\"/>\r\n      <use x=\"429.697266\" xlink:href=\"#ArialMT-115\"/>\r\n     </g>\r\n    </g>\r\n   </g>\r\n   <g id=\"QuadMesh_1\">\r\n    <path clip-path=\"url(#p934e15a3f1)\" d=\"M 68.945469 316.244375 \r\nL 231.763802 316.244375 \r\nL 231.763802 218.092708 \r\nL 68.945469 218.092708 \r\nL 68.945469 316.244375 \r\n\" style=\"fill:#ffffff;stroke:#ffffff;stroke-width:0.01;\"/>\r\n    <path clip-path=\"url(#p934e15a3f1)\" d=\"M 231.763802 316.244375 \r\nL 394.582135 316.244375 \r\nL 394.582135 218.092708 \r\nL 231.763802 218.092708 \r\nL 231.763802 316.244375 \r\n\" style=\"fill:#ffffff;stroke:#ffffff;stroke-width:0.01;\"/>\r\n    <path clip-path=\"url(#p934e15a3f1)\" d=\"M 394.582135 316.244375 \r\nL 557.400469 316.244375 \r\nL 557.400469 218.092708 \r\nL 394.582135 218.092708 \r\nL 394.582135 316.244375 \r\n\" style=\"fill:#e31a1c;stroke:#111111;stroke-width:0.01;\"/>\r\n    <path clip-path=\"url(#p934e15a3f1)\" d=\"M 68.945469 218.092708 \r\nL 231.763802 218.092708 \r\nL 231.763802 119.941042 \r\nL 68.945469 119.941042 \r\nL 68.945469 218.092708 \r\n\" style=\"fill:#ffffff;stroke:#ffffff;stroke-width:0.01;\"/>\r\n    <path clip-path=\"url(#p934e15a3f1)\" d=\"M 231.763802 218.092708 \r\nL 394.582135 218.092708 \r\nL 394.582135 119.941042 \r\nL 231.763802 119.941042 \r\nL 231.763802 218.092708 \r\n\" style=\"fill:#800026;stroke:#111111;stroke-width:0.01;\"/>\r\n    <path clip-path=\"url(#p934e15a3f1)\" d=\"M 394.582135 218.092708 \r\nL 557.400469 218.092708 \r\nL 557.400469 119.941042 \r\nL 394.582135 119.941042 \r\nL 394.582135 218.092708 \r\n\" style=\"fill:#ffffcc;stroke:#ffffff;stroke-width:0.01;\"/>\r\n    <path clip-path=\"url(#p934e15a3f1)\" d=\"M 68.945469 119.941042 \r\nL 231.763802 119.941042 \r\nL 231.763802 21.789375 \r\nL 68.945469 21.789375 \r\nL 68.945469 119.941042 \r\n\" style=\"fill:#bd0026;stroke:#111111;stroke-width:0.01;\"/>\r\n    <path clip-path=\"url(#p934e15a3f1)\" d=\"M 231.763802 119.941042 \r\nL 394.582135 119.941042 \r\nL 394.582135 21.789375 \r\nL 231.763802 21.789375 \r\nL 231.763802 119.941042 \r\n\" style=\"fill:#ffffff;stroke:#ffffff;stroke-width:0.01;\"/>\r\n    <path clip-path=\"url(#p934e15a3f1)\" d=\"M 394.582135 119.941042 \r\nL 557.400469 119.941042 \r\nL 557.400469 21.789375 \r\nL 394.582135 21.789375 \r\nL 394.582135 119.941042 \r\n\" style=\"fill:#ffffff;stroke:#ffffff;stroke-width:0.01;\"/>\r\n   </g>\r\n   <g id=\"patch_3\">\r\n    <path d=\"M 68.945469 316.244375 \r\nL 68.945469 21.789375 \r\n\" style=\"fill:none;stroke:#cccccc;stroke-linecap:square;stroke-linejoin:miter;stroke-width:1.25;\"/>\r\n   </g>\r\n   <g id=\"patch_4\">\r\n    <path d=\"M 557.400469 316.244375 \r\nL 557.400469 21.789375 \r\n\" style=\"fill:none;stroke:#cccccc;stroke-linecap:square;stroke-linejoin:miter;stroke-width:1.25;\"/>\r\n   </g>\r\n   <g id=\"patch_5\">\r\n    <path d=\"M 68.945469 316.244375 \r\nL 557.400469 316.244375 \r\n\" style=\"fill:none;stroke:#cccccc;stroke-linecap:square;stroke-linejoin:miter;stroke-width:1.25;\"/>\r\n   </g>\r\n   <g id=\"patch_6\">\r\n    <path d=\"M 68.945469 21.789375 \r\nL 557.400469 21.789375 \r\n\" style=\"fill:none;stroke:#cccccc;stroke-linecap:square;stroke-linejoin:miter;stroke-width:1.25;\"/>\r\n   </g>\r\n   <g id=\"text_9\">\r\n    <!-- 0 -->\r\n    <g style=\"fill:#bfbfbf;\" transform=\"translate(147.018073 270.270729)scale(0.12 -0.12)\">\r\n     <use xlink:href=\"#ArialMT-48\"/>\r\n    </g>\r\n   </g>\r\n   <g id=\"text_10\">\r\n    <!-- 0 -->\r\n    <g style=\"fill:#bfbfbf;\" transform=\"translate(309.836406 270.270729)scale(0.12 -0.12)\">\r\n     <use xlink:href=\"#ArialMT-48\"/>\r\n    </g>\r\n   </g>\r\n   <g id=\"text_11\">\r\n    <!-- 10 -->\r\n    <g style=\"fill:#ffffff;\" transform=\"translate(469.318177 270.270729)scale(0.12 -0.12)\">\r\n     <use xlink:href=\"#ArialMT-49\"/>\r\n     <use x=\"55.615234\" xlink:href=\"#ArialMT-48\"/>\r\n    </g>\r\n   </g>\r\n   <g id=\"text_12\">\r\n    <!-- 0 -->\r\n    <g style=\"fill:#bfbfbf;\" transform=\"translate(147.018073 172.119062)scale(0.12 -0.12)\">\r\n     <use xlink:href=\"#ArialMT-48\"/>\r\n    </g>\r\n   </g>\r\n   <g id=\"text_13\">\r\n    <!-- 14 -->\r\n    <g style=\"fill:#ffffff;\" transform=\"translate(306.499844 172.119062)scale(0.12 -0.12)\">\r\n     <defs>\r\n      <path d=\"M 32.328125 0 \r\nL 32.328125 17.140625 \r\nL 1.265625 17.140625 \r\nL 1.265625 25.203125 \r\nL 33.9375 71.578125 \r\nL 41.109375 71.578125 \r\nL 41.109375 25.203125 \r\nL 50.78125 25.203125 \r\nL 50.78125 17.140625 \r\nL 41.109375 17.140625 \r\nL 41.109375 0 \r\nz\r\nM 32.328125 25.203125 \r\nL 32.328125 57.46875 \r\nL 9.90625 25.203125 \r\nz\r\n\" id=\"ArialMT-52\"/>\r\n     </defs>\r\n     <use xlink:href=\"#ArialMT-49\"/>\r\n     <use x=\"55.615234\" xlink:href=\"#ArialMT-52\"/>\r\n    </g>\r\n   </g>\r\n   <g id=\"text_14\">\r\n    <!-- 1 -->\r\n    <g transform=\"translate(472.65474 172.119062)scale(0.12 -0.12)\">\r\n     <use xlink:href=\"#ArialMT-49\"/>\r\n    </g>\r\n   </g>\r\n   <g id=\"text_15\">\r\n    <!-- 11 -->\r\n    <g style=\"fill:#ffffff;\" transform=\"translate(144.12401 73.967396)scale(0.12 -0.12)\">\r\n     <use xlink:href=\"#ArialMT-49\"/>\r\n     <use x=\"48.240234\" xlink:href=\"#ArialMT-49\"/>\r\n    </g>\r\n   </g>\r\n   <g id=\"text_16\">\r\n    <!-- 0 -->\r\n    <g style=\"fill:#bfbfbf;\" transform=\"translate(309.836406 73.967396)scale(0.12 -0.12)\">\r\n     <use xlink:href=\"#ArialMT-48\"/>\r\n    </g>\r\n   </g>\r\n   <g id=\"text_17\">\r\n    <!-- 0 -->\r\n    <g style=\"fill:#bfbfbf;\" transform=\"translate(472.65474 73.967396)scale(0.12 -0.12)\">\r\n     <use xlink:href=\"#ArialMT-48\"/>\r\n    </g>\r\n   </g>\r\n   <g id=\"text_18\">\r\n    <!-- MLPClassifier Confusion Matrix -->\r\n    <g style=\"fill:#262626;\" transform=\"translate(229.484219 15.789375)scale(0.12 -0.12)\">\r\n     <defs>\r\n      <path d=\"M 7.421875 0 \r\nL 7.421875 71.578125 \r\nL 21.6875 71.578125 \r\nL 38.625 20.90625 \r\nQ 40.96875 13.8125 42.046875 10.296875 \r\nQ 43.265625 14.203125 45.84375 21.78125 \r\nL 62.984375 71.578125 \r\nL 75.734375 71.578125 \r\nL 75.734375 0 \r\nL 66.609375 0 \r\nL 66.609375 59.90625 \r\nL 45.796875 0 \r\nL 37.25 0 \r\nL 16.546875 60.9375 \r\nL 16.546875 0 \r\nz\r\n\" id=\"ArialMT-77\"/>\r\n      <path d=\"M 7.328125 0 \r\nL 7.328125 71.578125 \r\nL 16.796875 71.578125 \r\nL 16.796875 8.453125 \r\nL 52.046875 8.453125 \r\nL 52.046875 0 \r\nz\r\n\" id=\"ArialMT-76\"/>\r\n      <path d=\"M 8.6875 0 \r\nL 8.6875 45.015625 \r\nL 0.921875 45.015625 \r\nL 0.921875 51.859375 \r\nL 8.6875 51.859375 \r\nL 8.6875 57.375 \r\nQ 8.6875 62.59375 9.625 65.140625 \r\nQ 10.890625 68.5625 14.078125 70.671875 \r\nQ 17.28125 72.796875 23.046875 72.796875 \r\nQ 26.765625 72.796875 31.25 71.921875 \r\nL 29.9375 64.265625 \r\nQ 27.203125 64.75 24.75 64.75 \r\nQ 20.75 64.75 19.09375 63.03125 \r\nQ 17.4375 61.328125 17.4375 56.640625 \r\nL 17.4375 51.859375 \r\nL 27.546875 51.859375 \r\nL 27.546875 45.015625 \r\nL 17.4375 45.015625 \r\nL 17.4375 0 \r\nz\r\n\" id=\"ArialMT-102\"/>\r\n      <path d=\"M 3.328125 25.921875 \r\nQ 3.328125 40.328125 11.328125 47.265625 \r\nQ 18.015625 53.03125 27.640625 53.03125 \r\nQ 38.328125 53.03125 45.109375 46.015625 \r\nQ 51.90625 39.015625 51.90625 26.65625 \r\nQ 51.90625 16.65625 48.90625 10.90625 \r\nQ 45.90625 5.171875 40.15625 2 \r\nQ 34.421875 -1.171875 27.640625 -1.171875 \r\nQ 16.75 -1.171875 10.03125 5.8125 \r\nQ 3.328125 12.796875 3.328125 25.921875 \r\nz\r\nM 12.359375 25.921875 \r\nQ 12.359375 15.96875 16.703125 11.015625 \r\nQ 21.046875 6.0625 27.640625 6.0625 \r\nQ 34.1875 6.0625 38.53125 11.03125 \r\nQ 42.875 16.015625 42.875 26.21875 \r\nQ 42.875 35.84375 38.5 40.796875 \r\nQ 34.125 45.75 27.640625 45.75 \r\nQ 21.046875 45.75 16.703125 40.8125 \r\nQ 12.359375 35.890625 12.359375 25.921875 \r\nz\r\n\" id=\"ArialMT-111\"/>\r\n      <path d=\"M 6.59375 0 \r\nL 6.59375 51.859375 \r\nL 14.5 51.859375 \r\nL 14.5 44.484375 \r\nQ 20.21875 53.03125 31 53.03125 \r\nQ 35.6875 53.03125 39.625 51.34375 \r\nQ 43.5625 49.65625 45.515625 46.921875 \r\nQ 47.46875 44.1875 48.25 40.4375 \r\nQ 48.734375 37.984375 48.734375 31.890625 \r\nL 48.734375 0 \r\nL 39.9375 0 \r\nL 39.9375 31.546875 \r\nQ 39.9375 36.921875 38.90625 39.578125 \r\nQ 37.890625 42.234375 35.28125 43.8125 \r\nQ 32.671875 45.40625 29.15625 45.40625 \r\nQ 23.53125 45.40625 19.453125 41.84375 \r\nQ 15.375 38.28125 15.375 28.328125 \r\nL 15.375 0 \r\nz\r\n\" id=\"ArialMT-110\"/>\r\n      <path d=\"M 0.734375 0 \r\nL 19.671875 26.953125 \r\nL 2.15625 51.859375 \r\nL 13.140625 51.859375 \r\nL 21.09375 39.703125 \r\nQ 23.34375 36.234375 24.703125 33.890625 \r\nQ 26.859375 37.109375 28.65625 39.59375 \r\nL 37.40625 51.859375 \r\nL 47.90625 51.859375 \r\nL 29.984375 27.4375 \r\nL 49.265625 0 \r\nL 38.484375 0 \r\nL 27.828125 16.109375 \r\nL 25 20.453125 \r\nL 11.375 0 \r\nz\r\n\" id=\"ArialMT-120\"/>\r\n     </defs>\r\n     <use xlink:href=\"#ArialMT-77\"/>\r\n     <use x=\"83.300781\" xlink:href=\"#ArialMT-76\"/>\r\n     <use x=\"138.916016\" xlink:href=\"#ArialMT-80\"/>\r\n     <use x=\"205.615234\" xlink:href=\"#ArialMT-67\"/>\r\n     <use x=\"277.832031\" xlink:href=\"#ArialMT-108\"/>\r\n     <use x=\"300.048828\" xlink:href=\"#ArialMT-97\"/>\r\n     <use x=\"355.664062\" xlink:href=\"#ArialMT-115\"/>\r\n     <use x=\"405.664062\" xlink:href=\"#ArialMT-115\"/>\r\n     <use x=\"455.664062\" xlink:href=\"#ArialMT-105\"/>\r\n     <use x=\"477.880859\" xlink:href=\"#ArialMT-102\"/>\r\n     <use x=\"505.664062\" xlink:href=\"#ArialMT-105\"/>\r\n     <use x=\"527.880859\" xlink:href=\"#ArialMT-101\"/>\r\n     <use x=\"583.496094\" xlink:href=\"#ArialMT-114\"/>\r\n     <use x=\"616.796875\" xlink:href=\"#ArialMT-32\"/>\r\n     <use x=\"644.580078\" xlink:href=\"#ArialMT-67\"/>\r\n     <use x=\"716.796875\" xlink:href=\"#ArialMT-111\"/>\r\n     <use x=\"772.412109\" xlink:href=\"#ArialMT-110\"/>\r\n     <use x=\"828.027344\" xlink:href=\"#ArialMT-102\"/>\r\n     <use x=\"855.810547\" xlink:href=\"#ArialMT-117\"/>\r\n     <use x=\"911.425781\" xlink:href=\"#ArialMT-115\"/>\r\n     <use x=\"961.425781\" xlink:href=\"#ArialMT-105\"/>\r\n     <use x=\"983.642578\" xlink:href=\"#ArialMT-111\"/>\r\n     <use x=\"1039.257812\" xlink:href=\"#ArialMT-110\"/>\r\n     <use x=\"1094.873047\" xlink:href=\"#ArialMT-32\"/>\r\n     <use x=\"1122.65625\" xlink:href=\"#ArialMT-77\"/>\r\n     <use x=\"1205.957031\" xlink:href=\"#ArialMT-97\"/>\r\n     <use x=\"1261.572266\" xlink:href=\"#ArialMT-116\"/>\r\n     <use x=\"1289.355469\" xlink:href=\"#ArialMT-114\"/>\r\n     <use x=\"1322.65625\" xlink:href=\"#ArialMT-105\"/>\r\n     <use x=\"1344.873047\" xlink:href=\"#ArialMT-120\"/>\r\n    </g>\r\n   </g>\r\n  </g>\r\n </g>\r\n <defs>\r\n  <clipPath id=\"p934e15a3f1\">\r\n   <rect height=\"294.455\" width=\"488.455\" x=\"68.945469\" y=\"21.789375\"/>\r\n  </clipPath>\r\n </defs>\r\n</svg>\r\n",
            "image/png": "[encoded data removed]"
          },
          "metadata": {}
        },
        {
          "output_type": "execute_result",
          "data": {
            "text/plain": [
              "<AxesSubplot:title={'center':'MLPClassifier Confusion Matrix'}, xlabel='Predicted Class', ylabel='True Class'>"
            ]
          },
          "metadata": {},
          "execution_count": 75
        }
      ]
    },
    {
      "cell_type": "markdown",
      "metadata": {
        "id": "Nkf_QRkpmZ7u"
      },
      "source": [
        "## Neural network (classification)"
      ]
    },
    {
      "cell_type": "code",
      "metadata": {
        "id": "pwunTr7AQ7vI",
        "outputId": "d5e00f21-6641-4926-ea37-a67fbbe72e8e",
        "colab": {
          "base_uri": "https://localhost:8080/",
          "height": 67
        }
      },
      "source": [
        "X_test[0], y_test[0]"
      ],
      "execution_count": 53,
      "outputs": [
        {
          "output_type": "execute_result",
          "data": {
            "text/plain": [
              "(array([ 14.13,   4.1 ,   2.74,  24.5 ,  96.  ,   2.05,   0.76,   0.56,\n",
              "          1.35,   9.2 ,   0.61,   1.6 , 560.  ]),\n",
              " 2)"
            ]
          },
          "metadata": {},
          "execution_count": 53
        }
      ]
    },
    {
      "cell_type": "code",
      "metadata": {
        "id": "ZGUxWMJMREcK",
        "outputId": "c7477033-9cf2-4d85-9f05-e2baf3d53b47",
        "colab": {
          "base_uri": "https://localhost:8080/",
          "height": 34
        }
      },
      "source": [
        "X_test[0].shape"
      ],
      "execution_count": 54,
      "outputs": [
        {
          "output_type": "execute_result",
          "data": {
            "text/plain": [
              "(13,)"
            ]
          },
          "metadata": {},
          "execution_count": 54
        }
      ]
    },
    {
      "cell_type": "code",
      "metadata": {
        "id": "bzFuBVn_RLGT",
        "outputId": "b0d29807-289c-4cef-8aac-1438ecb78ef8",
        "colab": {
          "base_uri": "https://localhost:8080/",
          "height": 34
        }
      },
      "source": [
        "new = X_test[0].reshape(1, -1)\n",
        "new.shape"
      ],
      "execution_count": 55,
      "outputs": [
        {
          "output_type": "execute_result",
          "data": {
            "text/plain": [
              "(1, 13)"
            ]
          },
          "metadata": {},
          "execution_count": 55
        }
      ]
    },
    {
      "cell_type": "code",
      "metadata": {
        "id": "DzfNwQSMRUNX",
        "outputId": "0233366f-7458-49e7-e65c-d264d9210cd3",
        "colab": {
          "base_uri": "https://localhost:8080/",
          "height": 67
        }
      },
      "source": [
        "new"
      ],
      "execution_count": 56,
      "outputs": [
        {
          "output_type": "execute_result",
          "data": {
            "text/plain": [
              "array([[ 14.13,   4.1 ,   2.74,  24.5 ,  96.  ,   2.05,   0.76,   0.56,\n",
              "          1.35,   9.2 ,   0.61,   1.6 , 560.  ]])"
            ]
          },
          "metadata": {},
          "execution_count": 56
        }
      ]
    },
    {
      "cell_type": "code",
      "metadata": {
        "id": "oSxnsC4yRZn0",
        "outputId": "a8483aaf-d9cc-45a7-ff62-80865f850503",
        "colab": {
          "base_uri": "https://localhost:8080/",
          "height": 34
        }
      },
      "source": [
        "network.predict(new)[0]"
      ],
      "execution_count": 60,
      "outputs": [
        {
          "output_type": "execute_result",
          "data": {
            "text/plain": [
              "2"
            ]
          },
          "metadata": {},
          "execution_count": 60
        }
      ]
    },
    {
      "cell_type": "code",
      "metadata": {
        "id": "A2xAgLwmRfDB",
        "outputId": "6f38393a-323d-4d79-b98a-6ddf020dbdea",
        "colab": {
          "base_uri": "https://localhost:8080/",
          "height": 34
        }
      },
      "source": [
        "wine.target_names[network.predict(new)][0]"
      ],
      "execution_count": 59,
      "outputs": [
        {
          "output_type": "execute_result",
          "data": {
            "text/plain": [
              "'class_2'"
            ]
          },
          "metadata": {},
          "execution_count": 59
        }
      ]
    },
    {
      "cell_type": "code",
      "execution_count": null,
      "metadata": {},
      "outputs": [],
      "source": []
    }
  ]
}