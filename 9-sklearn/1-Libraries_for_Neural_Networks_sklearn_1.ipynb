{
  "nbformat": 4,
  "nbformat_minor": 0,
  "metadata": {
    "colab": {
      "name": "Libraries for Neural Networks - sklearn 1.ipynb",
      "provenance": [],
      "collapsed_sections": []
    },
    "kernelspec": {
      "name": "python3",
      "display_name": "Python 3.8.2 64-bit",
      "metadata": {
        "interpreter": {
          "hash": "1baa965d5efe3ac65b79dfc60c0d706280b1da80fedb7760faf2759126c4f253"
        }
      }
    },
    "metadata": {
      "interpreter": {
        "hash": "7215976ab57f31a6ebec70d3fd758ef1ca3de40a4ca79a502a790142e174e29a"
      }
    }
  },
  "cells": [
    {
      "cell_type": "markdown",
      "metadata": {
        "id": "LFopIDwcj4eR"
      },
      "source": [
        "# Libraries for Neural Networks - sklearn 1 (classification)\n",
        "\n",
        "\n",
        "![alt text](https://drive.google.com/uc?id=1xgZhek0467AtlfupqvovcjoFIJ2dB4in)\n"
      ]
    },
    {
      "cell_type": "markdown",
      "metadata": {
        "id": "hmwQCDnBmJil"
      },
      "source": [
        "## Loading the data"
      ]
    },
    {
      "cell_type": "code",
      "metadata": {
        "id": "dJM3q5bMjtBi"
      },
      "source": [
        "from sklearn.neural_network import MLPClassifier\n",
        "from sklearn import datasets"
      ],
      "execution_count": 1,
      "outputs": []
    },
    {
      "cell_type": "code",
      "metadata": {
        "id": "seLQVWizktHd"
      },
      "source": [
        "iris = datasets.load_iris()"
      ],
      "execution_count": 2,
      "outputs": []
    },
    {
      "cell_type": "code",
      "metadata": {
        "id": "0Xt-g4ICk1Hn",
        "outputId": "b2c94fa7-781b-4e21-ada3-5710b157de4e",
        "colab": {
          "base_uri": "https://localhost:8080/",
          "height": 1000
        }
      },
      "source": [
        "inputs = iris.data\n",
        "inputs"
      ],
      "execution_count": 3,
      "outputs": [
        {
          "output_type": "execute_result",
          "data": {
            "text/plain": [
              "array([[5.1, 3.5, 1.4, 0.2],\n",
              "       [4.9, 3. , 1.4, 0.2],\n",
              "       [4.7, 3.2, 1.3, 0.2],\n",
              "       [4.6, 3.1, 1.5, 0.2],\n",
              "       [5. , 3.6, 1.4, 0.2],\n",
              "       [5.4, 3.9, 1.7, 0.4],\n",
              "       [4.6, 3.4, 1.4, 0.3],\n",
              "       [5. , 3.4, 1.5, 0.2],\n",
              "       [4.4, 2.9, 1.4, 0.2],\n",
              "       [4.9, 3.1, 1.5, 0.1],\n",
              "       [5.4, 3.7, 1.5, 0.2],\n",
              "       [4.8, 3.4, 1.6, 0.2],\n",
              "       [4.8, 3. , 1.4, 0.1],\n",
              "       [4.3, 3. , 1.1, 0.1],\n",
              "       [5.8, 4. , 1.2, 0.2],\n",
              "       [5.7, 4.4, 1.5, 0.4],\n",
              "       [5.4, 3.9, 1.3, 0.4],\n",
              "       [5.1, 3.5, 1.4, 0.3],\n",
              "       [5.7, 3.8, 1.7, 0.3],\n",
              "       [5.1, 3.8, 1.5, 0.3],\n",
              "       [5.4, 3.4, 1.7, 0.2],\n",
              "       [5.1, 3.7, 1.5, 0.4],\n",
              "       [4.6, 3.6, 1. , 0.2],\n",
              "       [5.1, 3.3, 1.7, 0.5],\n",
              "       [4.8, 3.4, 1.9, 0.2],\n",
              "       [5. , 3. , 1.6, 0.2],\n",
              "       [5. , 3.4, 1.6, 0.4],\n",
              "       [5.2, 3.5, 1.5, 0.2],\n",
              "       [5.2, 3.4, 1.4, 0.2],\n",
              "       [4.7, 3.2, 1.6, 0.2],\n",
              "       [4.8, 3.1, 1.6, 0.2],\n",
              "       [5.4, 3.4, 1.5, 0.4],\n",
              "       [5.2, 4.1, 1.5, 0.1],\n",
              "       [5.5, 4.2, 1.4, 0.2],\n",
              "       [4.9, 3.1, 1.5, 0.2],\n",
              "       [5. , 3.2, 1.2, 0.2],\n",
              "       [5.5, 3.5, 1.3, 0.2],\n",
              "       [4.9, 3.6, 1.4, 0.1],\n",
              "       [4.4, 3. , 1.3, 0.2],\n",
              "       [5.1, 3.4, 1.5, 0.2],\n",
              "       [5. , 3.5, 1.3, 0.3],\n",
              "       [4.5, 2.3, 1.3, 0.3],\n",
              "       [4.4, 3.2, 1.3, 0.2],\n",
              "       [5. , 3.5, 1.6, 0.6],\n",
              "       [5.1, 3.8, 1.9, 0.4],\n",
              "       [4.8, 3. , 1.4, 0.3],\n",
              "       [5.1, 3.8, 1.6, 0.2],\n",
              "       [4.6, 3.2, 1.4, 0.2],\n",
              "       [5.3, 3.7, 1.5, 0.2],\n",
              "       [5. , 3.3, 1.4, 0.2],\n",
              "       [7. , 3.2, 4.7, 1.4],\n",
              "       [6.4, 3.2, 4.5, 1.5],\n",
              "       [6.9, 3.1, 4.9, 1.5],\n",
              "       [5.5, 2.3, 4. , 1.3],\n",
              "       [6.5, 2.8, 4.6, 1.5],\n",
              "       [5.7, 2.8, 4.5, 1.3],\n",
              "       [6.3, 3.3, 4.7, 1.6],\n",
              "       [4.9, 2.4, 3.3, 1. ],\n",
              "       [6.6, 2.9, 4.6, 1.3],\n",
              "       [5.2, 2.7, 3.9, 1.4],\n",
              "       [5. , 2. , 3.5, 1. ],\n",
              "       [5.9, 3. , 4.2, 1.5],\n",
              "       [6. , 2.2, 4. , 1. ],\n",
              "       [6.1, 2.9, 4.7, 1.4],\n",
              "       [5.6, 2.9, 3.6, 1.3],\n",
              "       [6.7, 3.1, 4.4, 1.4],\n",
              "       [5.6, 3. , 4.5, 1.5],\n",
              "       [5.8, 2.7, 4.1, 1. ],\n",
              "       [6.2, 2.2, 4.5, 1.5],\n",
              "       [5.6, 2.5, 3.9, 1.1],\n",
              "       [5.9, 3.2, 4.8, 1.8],\n",
              "       [6.1, 2.8, 4. , 1.3],\n",
              "       [6.3, 2.5, 4.9, 1.5],\n",
              "       [6.1, 2.8, 4.7, 1.2],\n",
              "       [6.4, 2.9, 4.3, 1.3],\n",
              "       [6.6, 3. , 4.4, 1.4],\n",
              "       [6.8, 2.8, 4.8, 1.4],\n",
              "       [6.7, 3. , 5. , 1.7],\n",
              "       [6. , 2.9, 4.5, 1.5],\n",
              "       [5.7, 2.6, 3.5, 1. ],\n",
              "       [5.5, 2.4, 3.8, 1.1],\n",
              "       [5.5, 2.4, 3.7, 1. ],\n",
              "       [5.8, 2.7, 3.9, 1.2],\n",
              "       [6. , 2.7, 5.1, 1.6],\n",
              "       [5.4, 3. , 4.5, 1.5],\n",
              "       [6. , 3.4, 4.5, 1.6],\n",
              "       [6.7, 3.1, 4.7, 1.5],\n",
              "       [6.3, 2.3, 4.4, 1.3],\n",
              "       [5.6, 3. , 4.1, 1.3],\n",
              "       [5.5, 2.5, 4. , 1.3],\n",
              "       [5.5, 2.6, 4.4, 1.2],\n",
              "       [6.1, 3. , 4.6, 1.4],\n",
              "       [5.8, 2.6, 4. , 1.2],\n",
              "       [5. , 2.3, 3.3, 1. ],\n",
              "       [5.6, 2.7, 4.2, 1.3],\n",
              "       [5.7, 3. , 4.2, 1.2],\n",
              "       [5.7, 2.9, 4.2, 1.3],\n",
              "       [6.2, 2.9, 4.3, 1.3],\n",
              "       [5.1, 2.5, 3. , 1.1],\n",
              "       [5.7, 2.8, 4.1, 1.3],\n",
              "       [6.3, 3.3, 6. , 2.5],\n",
              "       [5.8, 2.7, 5.1, 1.9],\n",
              "       [7.1, 3. , 5.9, 2.1],\n",
              "       [6.3, 2.9, 5.6, 1.8],\n",
              "       [6.5, 3. , 5.8, 2.2],\n",
              "       [7.6, 3. , 6.6, 2.1],\n",
              "       [4.9, 2.5, 4.5, 1.7],\n",
              "       [7.3, 2.9, 6.3, 1.8],\n",
              "       [6.7, 2.5, 5.8, 1.8],\n",
              "       [7.2, 3.6, 6.1, 2.5],\n",
              "       [6.5, 3.2, 5.1, 2. ],\n",
              "       [6.4, 2.7, 5.3, 1.9],\n",
              "       [6.8, 3. , 5.5, 2.1],\n",
              "       [5.7, 2.5, 5. , 2. ],\n",
              "       [5.8, 2.8, 5.1, 2.4],\n",
              "       [6.4, 3.2, 5.3, 2.3],\n",
              "       [6.5, 3. , 5.5, 1.8],\n",
              "       [7.7, 3.8, 6.7, 2.2],\n",
              "       [7.7, 2.6, 6.9, 2.3],\n",
              "       [6. , 2.2, 5. , 1.5],\n",
              "       [6.9, 3.2, 5.7, 2.3],\n",
              "       [5.6, 2.8, 4.9, 2. ],\n",
              "       [7.7, 2.8, 6.7, 2. ],\n",
              "       [6.3, 2.7, 4.9, 1.8],\n",
              "       [6.7, 3.3, 5.7, 2.1],\n",
              "       [7.2, 3.2, 6. , 1.8],\n",
              "       [6.2, 2.8, 4.8, 1.8],\n",
              "       [6.1, 3. , 4.9, 1.8],\n",
              "       [6.4, 2.8, 5.6, 2.1],\n",
              "       [7.2, 3. , 5.8, 1.6],\n",
              "       [7.4, 2.8, 6.1, 1.9],\n",
              "       [7.9, 3.8, 6.4, 2. ],\n",
              "       [6.4, 2.8, 5.6, 2.2],\n",
              "       [6.3, 2.8, 5.1, 1.5],\n",
              "       [6.1, 2.6, 5.6, 1.4],\n",
              "       [7.7, 3. , 6.1, 2.3],\n",
              "       [6.3, 3.4, 5.6, 2.4],\n",
              "       [6.4, 3.1, 5.5, 1.8],\n",
              "       [6. , 3. , 4.8, 1.8],\n",
              "       [6.9, 3.1, 5.4, 2.1],\n",
              "       [6.7, 3.1, 5.6, 2.4],\n",
              "       [6.9, 3.1, 5.1, 2.3],\n",
              "       [5.8, 2.7, 5.1, 1.9],\n",
              "       [6.8, 3.2, 5.9, 2.3],\n",
              "       [6.7, 3.3, 5.7, 2.5],\n",
              "       [6.7, 3. , 5.2, 2.3],\n",
              "       [6.3, 2.5, 5. , 1.9],\n",
              "       [6.5, 3. , 5.2, 2. ],\n",
              "       [6.2, 3.4, 5.4, 2.3],\n",
              "       [5.9, 3. , 5.1, 1.8]])"
            ]
          },
          "metadata": {},
          "execution_count": 3
        }
      ]
    },
    {
      "cell_type": "code",
      "metadata": {
        "id": "eLqWkIrkk7La",
        "outputId": "98d9ad2e-bb87-4787-dc01-8d9547b83b44",
        "colab": {
          "base_uri": "https://localhost:8080/",
          "height": 84
        }
      },
      "source": [
        "iris.feature_names"
      ],
      "execution_count": 4,
      "outputs": [
        {
          "output_type": "execute_result",
          "data": {
            "text/plain": [
              "['sepal length (cm)',\n",
              " 'sepal width (cm)',\n",
              " 'petal length (cm)',\n",
              " 'petal width (cm)']"
            ]
          },
          "metadata": {},
          "execution_count": 4
        }
      ]
    },
    {
      "cell_type": "code",
      "metadata": {
        "id": "SUPFkDvok9-N",
        "outputId": "d08753be-29b1-4667-f39b-e882c6fb1582",
        "colab": {
          "base_uri": "https://localhost:8080/",
          "height": 134
        }
      },
      "source": [
        "outputs = iris.target\n",
        "outputs"
      ],
      "execution_count": 5,
      "outputs": [
        {
          "output_type": "execute_result",
          "data": {
            "text/plain": [
              "array([0, 0, 0, 0, 0, 0, 0, 0, 0, 0, 0, 0, 0, 0, 0, 0, 0, 0, 0, 0, 0, 0,\n",
              "       0, 0, 0, 0, 0, 0, 0, 0, 0, 0, 0, 0, 0, 0, 0, 0, 0, 0, 0, 0, 0, 0,\n",
              "       0, 0, 0, 0, 0, 0, 1, 1, 1, 1, 1, 1, 1, 1, 1, 1, 1, 1, 1, 1, 1, 1,\n",
              "       1, 1, 1, 1, 1, 1, 1, 1, 1, 1, 1, 1, 1, 1, 1, 1, 1, 1, 1, 1, 1, 1,\n",
              "       1, 1, 1, 1, 1, 1, 1, 1, 1, 1, 1, 1, 2, 2, 2, 2, 2, 2, 2, 2, 2, 2,\n",
              "       2, 2, 2, 2, 2, 2, 2, 2, 2, 2, 2, 2, 2, 2, 2, 2, 2, 2, 2, 2, 2, 2,\n",
              "       2, 2, 2, 2, 2, 2, 2, 2, 2, 2, 2, 2, 2, 2, 2, 2, 2, 2])"
            ]
          },
          "metadata": {},
          "execution_count": 5
        }
      ]
    },
    {
      "cell_type": "code",
      "metadata": {
        "id": "0TFN814OlB03",
        "outputId": "d01e2558-0455-48df-c968-d7a56faca8fd",
        "colab": {
          "base_uri": "https://localhost:8080/",
          "height": 34
        }
      },
      "source": [
        "iris.target_names"
      ],
      "execution_count": 6,
      "outputs": [
        {
          "output_type": "execute_result",
          "data": {
            "text/plain": [
              "array(['setosa', 'versicolor', 'virginica'], dtype='<U10')"
            ]
          },
          "metadata": {},
          "execution_count": 6
        }
      ]
    },
    {
      "cell_type": "code",
      "metadata": {
        "id": "Z40re0xClGbq",
        "outputId": "da21e31f-0972-49e6-a235-42dbe3396b47",
        "colab": {
          "base_uri": "https://localhost:8080/",
          "height": 34
        }
      },
      "source": [
        "inputs.shape"
      ],
      "execution_count": 7,
      "outputs": [
        {
          "output_type": "execute_result",
          "data": {
            "text/plain": [
              "(150, 4)"
            ]
          },
          "metadata": {},
          "execution_count": 7
        }
      ]
    },
    {
      "cell_type": "code",
      "metadata": {
        "id": "unWADzCblIKJ",
        "outputId": "065b31df-b02d-4ea5-d401-d7b2a83aa176",
        "colab": {
          "base_uri": "https://localhost:8080/",
          "height": 34
        }
      },
      "source": [
        "outputs.shape"
      ],
      "execution_count": 8,
      "outputs": [
        {
          "output_type": "execute_result",
          "data": {
            "text/plain": [
              "(150,)"
            ]
          },
          "metadata": {},
          "execution_count": 8
        }
      ]
    },
    {
      "cell_type": "markdown",
      "metadata": {
        "id": "UF29OkpYmMsV"
      },
      "source": [
        "## Train and test datasets"
      ]
    },
    {
      "cell_type": "code",
      "metadata": {
        "id": "13aLh0tolo8B"
      },
      "source": [
        "from sklearn.model_selection import train_test_split\n",
        "X_train, X_test, y_train, y_test = train_test_split(inputs, outputs, test_size = 0.2)"
      ],
      "execution_count": 9,
      "outputs": []
    },
    {
      "cell_type": "code",
      "metadata": {
        "id": "rUo21vlal6TW",
        "outputId": "2a20774f-797d-42e4-d898-3a6da11b5f8f",
        "colab": {
          "base_uri": "https://localhost:8080/",
          "height": 34
        }
      },
      "source": [
        "X_train.shape"
      ],
      "execution_count": 10,
      "outputs": [
        {
          "output_type": "execute_result",
          "data": {
            "text/plain": [
              "(120, 4)"
            ]
          },
          "metadata": {},
          "execution_count": 10
        }
      ]
    },
    {
      "cell_type": "code",
      "metadata": {
        "id": "tSmm6Pnjl8fc",
        "outputId": "29dfa229-f2f7-4b37-cb89-7a9cc207ac84",
        "colab": {
          "base_uri": "https://localhost:8080/",
          "height": 34
        }
      },
      "source": [
        "y_train.shape"
      ],
      "execution_count": 11,
      "outputs": [
        {
          "output_type": "execute_result",
          "data": {
            "text/plain": [
              "(120,)"
            ]
          },
          "metadata": {},
          "execution_count": 11
        }
      ]
    },
    {
      "cell_type": "code",
      "metadata": {
        "id": "5_hgLkU1mEFB",
        "outputId": "3e2f0a57-ed88-40d1-adef-4937ddbdd69a",
        "colab": {
          "base_uri": "https://localhost:8080/",
          "height": 34
        }
      },
      "source": [
        "X_test.shape"
      ],
      "execution_count": 12,
      "outputs": [
        {
          "output_type": "execute_result",
          "data": {
            "text/plain": [
              "(30, 4)"
            ]
          },
          "metadata": {},
          "execution_count": 12
        }
      ]
    },
    {
      "cell_type": "code",
      "metadata": {
        "id": "SaK4mWf1mGOL",
        "outputId": "9ae6634c-4937-450e-e923-ba4eb3ab5f7b",
        "colab": {
          "base_uri": "https://localhost:8080/",
          "height": 34
        }
      },
      "source": [
        "y_test.shape"
      ],
      "execution_count": 13,
      "outputs": [
        {
          "output_type": "execute_result",
          "data": {
            "text/plain": [
              "(30,)"
            ]
          },
          "metadata": {},
          "execution_count": 13
        }
      ]
    },
    {
      "cell_type": "code",
      "metadata": {
        "id": "73mE_zqirSMa",
        "outputId": "1f7b94ac-622f-4e03-eee9-c44177a103ec",
        "colab": {
          "base_uri": "https://localhost:8080/",
          "height": 101
        }
      },
      "source": [
        "X_train[0:5]"
      ],
      "execution_count": 14,
      "outputs": [
        {
          "output_type": "execute_result",
          "data": {
            "text/plain": [
              "array([[5.8, 2.7, 3.9, 1.2],\n",
              "       [6.2, 3.4, 5.4, 2.3],\n",
              "       [4.8, 3.4, 1.9, 0.2],\n",
              "       [5.1, 3.7, 1.5, 0.4],\n",
              "       [6. , 2.2, 5. , 1.5]])"
            ]
          },
          "metadata": {},
          "execution_count": 14
        }
      ]
    },
    {
      "cell_type": "code",
      "metadata": {
        "id": "DHlw1VSwrVbc",
        "outputId": "0a438522-242a-4e2f-f457-7003f1c480a9",
        "colab": {
          "base_uri": "https://localhost:8080/",
          "height": 101
        }
      },
      "source": [
        "X_test[0:5]"
      ],
      "execution_count": 17,
      "outputs": [
        {
          "output_type": "execute_result",
          "data": {
            "text/plain": [
              "array([[6.4, 2.8, 5.6, 2.1],\n",
              "       [6.9, 3.1, 4.9, 1.5],\n",
              "       [5. , 3. , 1.6, 0.2],\n",
              "       [4.4, 3. , 1.3, 0.2],\n",
              "       [5.5, 3.5, 1.3, 0.2]])"
            ]
          },
          "metadata": {},
          "execution_count": 17
        }
      ]
    },
    {
      "cell_type": "code",
      "metadata": {
        "id": "cg3-KBFirdOG",
        "outputId": "523cbf42-acbc-48f1-b7de-99be3d4c086f",
        "colab": {
          "base_uri": "https://localhost:8080/",
          "height": 34
        }
      },
      "source": [
        "y_train[0:5]"
      ],
      "execution_count": 18,
      "outputs": [
        {
          "output_type": "execute_result",
          "data": {
            "text/plain": [
              "array([2, 1, 2, 1, 1])"
            ]
          },
          "metadata": {},
          "execution_count": 18
        }
      ]
    },
    {
      "cell_type": "code",
      "metadata": {
        "id": "FmSFduvkrhQu",
        "outputId": "ed340e78-ab3f-4689-ef08-aae6e456488c",
        "colab": {
          "base_uri": "https://localhost:8080/",
          "height": 34
        }
      },
      "source": [
        "y_test[0:5]"
      ],
      "execution_count": 19,
      "outputs": [
        {
          "output_type": "execute_result",
          "data": {
            "text/plain": [
              "array([2, 1, 0, 0, 0])"
            ]
          },
          "metadata": {},
          "execution_count": 19
        }
      ]
    },
    {
      "cell_type": "markdown",
      "metadata": {
        "id": "4S5gJUwomQ3U"
      },
      "source": [
        "## Neural network (training)"
      ]
    },
    {
      "cell_type": "code",
      "metadata": {
        "id": "6UVIgN-2lKt0",
        "outputId": "3b0bf27e-c05a-439c-f06c-4a04d7027fc1",
        "colab": {
          "base_uri": "https://localhost:8080/",
          "height": 1000
        },
        "tags": [
          "outputPrepend"
        ]
      },
      "source": [
        "network = MLPClassifier(max_iter=2000, \n",
        "                        verbose=True,\n",
        "                        tol=0.0001,\n",
        "                        activation = 'tanh',\n",
        "                        solver = 'adam',\n",
        "                        learning_rate = 'constant',\n",
        "                        learning_rate_init = 0.001,\n",
        "                        batch_size = 32,\n",
        "                        hidden_layer_sizes = (4,8),\n",
        "                        # early_stopping = True,\n",
        "                        # n_iter_no_change = 200,\n",
        "                        )\n",
        "network.fit(X_train, y_train)"
      ],
      "execution_count": 20,
      "outputs": [
        {
          "output_type": "stream",
          "name": "stdout",
          "text": [
            "0.29245028\n",
            "Iteration 161, loss = 0.29026312\n",
            "Iteration 162, loss = 0.28819573\n",
            "Iteration 163, loss = 0.28628954\n",
            "Iteration 164, loss = 0.28390304\n",
            "Iteration 165, loss = 0.28191484\n",
            "Iteration 166, loss = 0.27984469\n",
            "Iteration 167, loss = 0.27757639\n",
            "Iteration 168, loss = 0.27557906\n",
            "Iteration 169, loss = 0.27336284\n",
            "Iteration 170, loss = 0.27171319\n",
            "Iteration 171, loss = 0.26934428\n",
            "Iteration 172, loss = 0.26714279\n",
            "Iteration 173, loss = 0.26521866\n",
            "Iteration 174, loss = 0.26284727\n",
            "Iteration 175, loss = 0.26082199\n",
            "Iteration 176, loss = 0.25907663\n",
            "Iteration 177, loss = 0.25664187\n",
            "Iteration 178, loss = 0.25458332\n",
            "Iteration 179, loss = 0.25265967\n",
            "Iteration 180, loss = 0.25111850\n",
            "Iteration 181, loss = 0.24874750\n",
            "Iteration 182, loss = 0.24674776\n",
            "Iteration 183, loss = 0.24526159\n",
            "Iteration 184, loss = 0.24309986\n",
            "Iteration 185, loss = 0.24070353\n",
            "Iteration 186, loss = 0.23893574\n",
            "Iteration 187, loss = 0.23701014\n",
            "Iteration 188, loss = 0.23493879\n",
            "Iteration 189, loss = 0.23343781\n",
            "Iteration 190, loss = 0.23114807\n",
            "Iteration 191, loss = 0.22958245\n",
            "Iteration 192, loss = 0.22763452\n",
            "Iteration 193, loss = 0.22585923\n",
            "Iteration 194, loss = 0.22431659\n",
            "Iteration 195, loss = 0.22228634\n",
            "Iteration 196, loss = 0.22037729\n",
            "Iteration 197, loss = 0.21921332\n",
            "Iteration 198, loss = 0.21789757\n",
            "Iteration 199, loss = 0.21504114\n",
            "Iteration 200, loss = 0.21465299\n",
            "Iteration 201, loss = 0.21188622\n",
            "Iteration 202, loss = 0.20987839\n",
            "Iteration 203, loss = 0.20823575\n",
            "Iteration 204, loss = 0.20690138\n",
            "Iteration 205, loss = 0.20539281\n",
            "Iteration 206, loss = 0.20484378\n",
            "Iteration 207, loss = 0.20194336\n",
            "Iteration 208, loss = 0.20050650\n",
            "Iteration 209, loss = 0.19874860\n",
            "Iteration 210, loss = 0.19715576\n",
            "Iteration 211, loss = 0.19596990\n",
            "Iteration 212, loss = 0.19439574\n",
            "Iteration 213, loss = 0.19301916\n",
            "Iteration 214, loss = 0.19161256\n",
            "Iteration 215, loss = 0.18964027\n",
            "Iteration 216, loss = 0.18823361\n",
            "Iteration 217, loss = 0.18680037\n",
            "Iteration 218, loss = 0.18562854\n",
            "Iteration 219, loss = 0.18424358\n",
            "Iteration 220, loss = 0.18314280\n",
            "Iteration 221, loss = 0.18123180\n",
            "Iteration 222, loss = 0.18176773\n",
            "Iteration 223, loss = 0.17915447\n",
            "Iteration 224, loss = 0.17664533\n",
            "Iteration 225, loss = 0.17700352\n",
            "Iteration 226, loss = 0.17553399\n",
            "Iteration 227, loss = 0.17372690\n",
            "Iteration 228, loss = 0.17270975\n",
            "Iteration 229, loss = 0.17130375\n",
            "Iteration 230, loss = 0.17046419\n",
            "Iteration 231, loss = 0.16874376\n",
            "Iteration 232, loss = 0.16705260\n",
            "Iteration 233, loss = 0.16661103\n",
            "Iteration 234, loss = 0.16531232\n",
            "Iteration 235, loss = 0.16374096\n",
            "Iteration 236, loss = 0.16264849\n",
            "Iteration 237, loss = 0.16220948\n",
            "Iteration 238, loss = 0.16139548\n",
            "Iteration 239, loss = 0.15929917\n",
            "Iteration 240, loss = 0.15844771\n",
            "Iteration 241, loss = 0.15833337\n",
            "Iteration 242, loss = 0.15610205\n",
            "Iteration 243, loss = 0.15542974\n",
            "Iteration 244, loss = 0.15405963\n",
            "Iteration 245, loss = 0.15300309\n",
            "Iteration 246, loss = 0.15207536\n",
            "Iteration 247, loss = 0.15107928\n",
            "Iteration 248, loss = 0.14994477\n",
            "Iteration 249, loss = 0.14959978\n",
            "Iteration 250, loss = 0.14811039\n",
            "Iteration 251, loss = 0.14708053\n",
            "Iteration 252, loss = 0.14666553\n",
            "Iteration 253, loss = 0.14556356\n",
            "Iteration 254, loss = 0.14442738\n",
            "Iteration 255, loss = 0.14362445\n",
            "Iteration 256, loss = 0.14256210\n",
            "Iteration 257, loss = 0.14197482\n",
            "Iteration 258, loss = 0.14104709\n",
            "Iteration 259, loss = 0.14022355\n",
            "Iteration 260, loss = 0.13898401\n",
            "Iteration 261, loss = 0.13819584\n",
            "Iteration 262, loss = 0.13790708\n",
            "Iteration 263, loss = 0.13688440\n",
            "Iteration 264, loss = 0.13599952\n",
            "Iteration 265, loss = 0.13512055\n",
            "Iteration 266, loss = 0.13457505\n",
            "Iteration 267, loss = 0.13379216\n",
            "Iteration 268, loss = 0.13270100\n",
            "Iteration 269, loss = 0.13261594\n",
            "Iteration 270, loss = 0.13154898\n",
            "Iteration 271, loss = 0.13162656\n",
            "Iteration 272, loss = 0.13110675\n",
            "Iteration 273, loss = 0.12915881\n",
            "Iteration 274, loss = 0.12894227\n",
            "Iteration 275, loss = 0.12731685\n",
            "Iteration 276, loss = 0.12705588\n",
            "Iteration 277, loss = 0.12618348\n",
            "Iteration 278, loss = 0.12577359\n",
            "Iteration 279, loss = 0.12518756\n",
            "Iteration 280, loss = 0.12419783\n",
            "Iteration 281, loss = 0.12406063\n",
            "Iteration 282, loss = 0.12294614\n",
            "Iteration 283, loss = 0.12215516\n",
            "Iteration 284, loss = 0.12171611\n",
            "Iteration 285, loss = 0.12081980\n",
            "Iteration 286, loss = 0.12011349\n",
            "Iteration 287, loss = 0.11989210\n",
            "Iteration 288, loss = 0.11931682\n",
            "Iteration 289, loss = 0.11822909\n",
            "Iteration 290, loss = 0.11801706\n",
            "Iteration 291, loss = 0.11715273\n",
            "Iteration 292, loss = 0.11723242\n",
            "Iteration 293, loss = 0.11590119\n",
            "Iteration 294, loss = 0.11530482\n",
            "Iteration 295, loss = 0.11625032\n",
            "Iteration 296, loss = 0.11425648\n",
            "Iteration 297, loss = 0.11373639\n",
            "Iteration 298, loss = 0.11304351\n",
            "Iteration 299, loss = 0.11274631\n",
            "Iteration 300, loss = 0.11209556\n",
            "Iteration 301, loss = 0.11133354\n",
            "Iteration 302, loss = 0.11144320\n",
            "Iteration 303, loss = 0.11179230\n",
            "Iteration 304, loss = 0.10982778\n",
            "Iteration 305, loss = 0.10954233\n",
            "Iteration 306, loss = 0.10996929\n",
            "Iteration 307, loss = 0.10965992\n",
            "Iteration 308, loss = 0.10827358\n",
            "Iteration 309, loss = 0.10765586\n",
            "Iteration 310, loss = 0.10742797\n",
            "Iteration 311, loss = 0.10681990\n",
            "Iteration 312, loss = 0.10615267\n",
            "Iteration 313, loss = 0.10574710\n",
            "Iteration 314, loss = 0.10491410\n",
            "Iteration 315, loss = 0.10492493\n",
            "Iteration 316, loss = 0.10727037\n",
            "Iteration 317, loss = 0.10415431\n",
            "Iteration 318, loss = 0.10321673\n",
            "Iteration 319, loss = 0.10267391\n",
            "Iteration 320, loss = 0.10280193\n",
            "Iteration 321, loss = 0.10241849\n",
            "Iteration 322, loss = 0.10235530\n",
            "Iteration 323, loss = 0.10088998\n",
            "Iteration 324, loss = 0.10038017\n",
            "Iteration 325, loss = 0.09993761\n",
            "Iteration 326, loss = 0.09988765\n",
            "Iteration 327, loss = 0.09972325\n",
            "Iteration 328, loss = 0.09986472\n",
            "Iteration 329, loss = 0.09897910\n",
            "Iteration 330, loss = 0.09803787\n",
            "Iteration 331, loss = 0.09756227\n",
            "Iteration 332, loss = 0.09717733\n",
            "Iteration 333, loss = 0.09668040\n",
            "Iteration 334, loss = 0.09645066\n",
            "Iteration 335, loss = 0.09605508\n",
            "Iteration 336, loss = 0.09565419\n",
            "Iteration 337, loss = 0.09568831\n",
            "Iteration 338, loss = 0.09495280\n",
            "Iteration 339, loss = 0.09513251\n",
            "Iteration 340, loss = 0.09384562\n",
            "Iteration 341, loss = 0.09485387\n",
            "Iteration 342, loss = 0.09480622\n",
            "Iteration 343, loss = 0.09650860\n",
            "Iteration 344, loss = 0.09284409\n",
            "Iteration 345, loss = 0.09251760\n",
            "Iteration 346, loss = 0.09348160\n",
            "Iteration 347, loss = 0.09167060\n",
            "Iteration 348, loss = 0.09137458\n",
            "Iteration 349, loss = 0.09104734\n",
            "Iteration 350, loss = 0.09090382\n",
            "Iteration 351, loss = 0.09045945\n",
            "Iteration 352, loss = 0.09005512\n",
            "Iteration 353, loss = 0.09019530\n",
            "Iteration 354, loss = 0.08994266\n",
            "Iteration 355, loss = 0.08897837\n",
            "Iteration 356, loss = 0.08868725\n",
            "Iteration 357, loss = 0.08869124\n",
            "Iteration 358, loss = 0.08812047\n",
            "Iteration 359, loss = 0.08779022\n",
            "Iteration 360, loss = 0.08842794\n",
            "Iteration 361, loss = 0.08772329\n",
            "Iteration 362, loss = 0.08724458\n",
            "Iteration 363, loss = 0.08653622\n",
            "Iteration 364, loss = 0.08697248\n",
            "Iteration 365, loss = 0.08631573\n",
            "Iteration 366, loss = 0.08634014\n",
            "Iteration 367, loss = 0.08527413\n",
            "Iteration 368, loss = 0.08510696\n",
            "Iteration 369, loss = 0.08494658\n",
            "Iteration 370, loss = 0.08458494\n",
            "Iteration 371, loss = 0.08395999\n",
            "Iteration 372, loss = 0.08626529\n",
            "Iteration 373, loss = 0.08519489\n",
            "Iteration 374, loss = 0.08375647\n",
            "Iteration 375, loss = 0.08327663\n",
            "Iteration 376, loss = 0.08278635\n",
            "Iteration 377, loss = 0.08282799\n",
            "Iteration 378, loss = 0.08245860\n",
            "Iteration 379, loss = 0.08209595\n",
            "Iteration 380, loss = 0.08191595\n",
            "Iteration 381, loss = 0.08143842\n",
            "Iteration 382, loss = 0.08158119\n",
            "Iteration 383, loss = 0.08115901\n",
            "Iteration 384, loss = 0.08065464\n",
            "Iteration 385, loss = 0.08062235\n",
            "Iteration 386, loss = 0.08012193\n",
            "Iteration 387, loss = 0.08000974\n",
            "Iteration 388, loss = 0.07970872\n",
            "Iteration 389, loss = 0.07971609\n",
            "Iteration 390, loss = 0.07913296\n",
            "Iteration 391, loss = 0.07926444\n",
            "Iteration 392, loss = 0.08003608\n",
            "Iteration 393, loss = 0.07838416\n",
            "Iteration 394, loss = 0.07927644\n",
            "Iteration 395, loss = 0.07832677\n",
            "Iteration 396, loss = 0.07795248\n",
            "Iteration 397, loss = 0.07758030\n",
            "Iteration 398, loss = 0.07701885\n",
            "Iteration 399, loss = 0.07739409\n",
            "Iteration 400, loss = 0.07739833\n",
            "Iteration 401, loss = 0.07633262\n",
            "Iteration 402, loss = 0.07678477\n",
            "Iteration 403, loss = 0.07590341\n",
            "Iteration 404, loss = 0.07636895\n",
            "Iteration 405, loss = 0.07566920\n",
            "Iteration 406, loss = 0.07571817\n",
            "Iteration 407, loss = 0.07495150\n",
            "Iteration 408, loss = 0.07565025\n",
            "Iteration 409, loss = 0.07529137\n",
            "Iteration 410, loss = 0.07388372\n",
            "Iteration 411, loss = 0.07797723\n",
            "Iteration 412, loss = 0.07520256\n",
            "Iteration 413, loss = 0.07456607\n",
            "Iteration 414, loss = 0.07367407\n",
            "Iteration 415, loss = 0.07343121\n",
            "Iteration 416, loss = 0.07312138\n",
            "Iteration 417, loss = 0.07333265\n",
            "Iteration 418, loss = 0.07378411\n",
            "Iteration 419, loss = 0.07260101\n",
            "Iteration 420, loss = 0.07221392\n",
            "Iteration 421, loss = 0.07249594\n",
            "Iteration 422, loss = 0.07165813\n",
            "Iteration 423, loss = 0.07250032\n",
            "Iteration 424, loss = 0.07207159\n",
            "Iteration 425, loss = 0.07152138\n",
            "Iteration 426, loss = 0.07103839\n",
            "Iteration 427, loss = 0.07085384\n",
            "Iteration 428, loss = 0.07137807\n",
            "Iteration 429, loss = 0.07050465\n",
            "Iteration 430, loss = 0.07015506\n",
            "Iteration 431, loss = 0.06962562\n",
            "Iteration 432, loss = 0.06992275\n",
            "Iteration 433, loss = 0.07045455\n",
            "Iteration 434, loss = 0.06942792\n",
            "Iteration 435, loss = 0.06894497\n",
            "Iteration 436, loss = 0.07149104\n",
            "Iteration 437, loss = 0.06933463\n",
            "Iteration 438, loss = 0.06888903\n",
            "Iteration 439, loss = 0.07242769\n",
            "Iteration 440, loss = 0.06885064\n",
            "Iteration 441, loss = 0.06811436\n",
            "Iteration 442, loss = 0.06902783\n",
            "Iteration 443, loss = 0.06799248\n",
            "Iteration 444, loss = 0.06743322\n",
            "Iteration 445, loss = 0.06780053\n",
            "Iteration 446, loss = 0.06724563\n",
            "Iteration 447, loss = 0.06677766\n",
            "Iteration 448, loss = 0.06757811\n",
            "Iteration 449, loss = 0.06754153\n",
            "Iteration 450, loss = 0.06642234\n",
            "Iteration 451, loss = 0.06624021\n",
            "Iteration 452, loss = 0.06630499\n",
            "Iteration 453, loss = 0.06589534\n",
            "Iteration 454, loss = 0.06588015\n",
            "Iteration 455, loss = 0.06548546\n",
            "Iteration 456, loss = 0.06521469\n",
            "Iteration 457, loss = 0.06513092\n",
            "Iteration 458, loss = 0.06544499\n",
            "Iteration 459, loss = 0.06495740\n",
            "Iteration 460, loss = 0.06476284\n",
            "Iteration 461, loss = 0.06434935\n",
            "Iteration 462, loss = 0.06482766\n",
            "Iteration 463, loss = 0.06441562\n",
            "Iteration 464, loss = 0.06383680\n",
            "Iteration 465, loss = 0.06366516\n",
            "Iteration 466, loss = 0.06345978\n",
            "Iteration 467, loss = 0.06357625\n",
            "Iteration 468, loss = 0.06356199\n",
            "Iteration 469, loss = 0.06355046\n",
            "Iteration 470, loss = 0.06350746\n",
            "Iteration 471, loss = 0.06302386\n",
            "Iteration 472, loss = 0.06320209\n",
            "Iteration 473, loss = 0.06273521\n",
            "Iteration 474, loss = 0.06324600\n",
            "Iteration 475, loss = 0.06235245\n",
            "Iteration 476, loss = 0.06217301\n",
            "Iteration 477, loss = 0.06232491\n",
            "Iteration 478, loss = 0.06127450\n",
            "Iteration 479, loss = 0.06131042\n",
            "Iteration 480, loss = 0.06193185\n",
            "Iteration 481, loss = 0.06208376\n",
            "Iteration 482, loss = 0.06106700\n",
            "Iteration 483, loss = 0.06076411\n",
            "Iteration 484, loss = 0.06091107\n",
            "Iteration 485, loss = 0.06050918\n",
            "Iteration 486, loss = 0.06038946\n",
            "Iteration 487, loss = 0.06010424\n",
            "Iteration 488, loss = 0.06024171\n",
            "Iteration 489, loss = 0.06049773\n",
            "Iteration 490, loss = 0.06001495\n",
            "Iteration 491, loss = 0.06027827\n",
            "Iteration 492, loss = 0.05944371\n",
            "Iteration 493, loss = 0.05916043\n",
            "Iteration 494, loss = 0.05949469\n",
            "Iteration 495, loss = 0.05879469\n",
            "Iteration 496, loss = 0.05926193\n",
            "Iteration 497, loss = 0.06024388\n",
            "Iteration 498, loss = 0.05948839\n",
            "Iteration 499, loss = 0.05883535\n",
            "Iteration 500, loss = 0.05853121\n",
            "Iteration 501, loss = 0.05833188\n",
            "Iteration 502, loss = 0.05854043\n",
            "Iteration 503, loss = 0.05917816\n",
            "Iteration 504, loss = 0.05801396\n",
            "Iteration 505, loss = 0.05794012\n",
            "Iteration 506, loss = 0.05745913\n",
            "Iteration 507, loss = 0.05751557\n",
            "Iteration 508, loss = 0.05741786\n",
            "Iteration 509, loss = 0.05741686\n",
            "Iteration 510, loss = 0.05709472\n",
            "Iteration 511, loss = 0.05753454\n",
            "Iteration 512, loss = 0.05708741\n",
            "Iteration 513, loss = 0.05683937\n",
            "Iteration 514, loss = 0.05718059\n",
            "Iteration 515, loss = 0.05657705\n",
            "Iteration 516, loss = 0.05587841\n",
            "Iteration 517, loss = 0.05697920\n",
            "Iteration 518, loss = 0.05592032\n",
            "Iteration 519, loss = 0.05567380\n",
            "Iteration 520, loss = 0.05612093\n",
            "Iteration 521, loss = 0.05569378\n",
            "Iteration 522, loss = 0.05534532\n",
            "Iteration 523, loss = 0.05507097\n",
            "Iteration 524, loss = 0.05504316\n",
            "Iteration 525, loss = 0.05513891\n",
            "Iteration 526, loss = 0.05481750\n",
            "Iteration 527, loss = 0.05513217\n",
            "Iteration 528, loss = 0.05510319\n",
            "Iteration 529, loss = 0.05452158\n",
            "Iteration 530, loss = 0.05416358\n",
            "Iteration 531, loss = 0.05401022\n",
            "Iteration 532, loss = 0.05452572\n",
            "Iteration 533, loss = 0.05432038\n",
            "Iteration 534, loss = 0.05406283\n",
            "Iteration 535, loss = 0.05454123\n",
            "Iteration 536, loss = 0.05388916\n",
            "Iteration 537, loss = 0.05356556\n",
            "Iteration 538, loss = 0.05334345\n",
            "Iteration 539, loss = 0.05305323\n",
            "Iteration 540, loss = 0.05323544\n",
            "Iteration 541, loss = 0.05339920\n",
            "Iteration 542, loss = 0.05272979\n",
            "Iteration 543, loss = 0.05298207\n",
            "Iteration 544, loss = 0.05272490\n",
            "Iteration 545, loss = 0.05248385\n",
            "Iteration 546, loss = 0.05294767\n",
            "Iteration 547, loss = 0.05266175\n",
            "Iteration 548, loss = 0.05325782\n",
            "Iteration 549, loss = 0.05245688\n",
            "Iteration 550, loss = 0.05196487\n",
            "Iteration 551, loss = 0.05194419\n",
            "Iteration 552, loss = 0.05174905\n",
            "Iteration 553, loss = 0.05245055\n",
            "Iteration 554, loss = 0.05172535\n",
            "Iteration 555, loss = 0.05188110\n",
            "Iteration 556, loss = 0.05171223\n",
            "Iteration 557, loss = 0.05146431\n",
            "Iteration 558, loss = 0.05144932\n",
            "Iteration 559, loss = 0.05146470\n",
            "Iteration 560, loss = 0.05114224\n",
            "Iteration 561, loss = 0.05082246\n",
            "Iteration 562, loss = 0.05104030\n",
            "Iteration 563, loss = 0.05049004\n",
            "Iteration 564, loss = 0.05036440\n",
            "Iteration 565, loss = 0.05057306\n",
            "Iteration 566, loss = 0.05065303\n",
            "Iteration 567, loss = 0.05015474\n",
            "Iteration 568, loss = 0.05002364\n",
            "Iteration 569, loss = 0.05024039\n",
            "Iteration 570, loss = 0.04998373\n",
            "Iteration 571, loss = 0.05006274\n",
            "Iteration 572, loss = 0.04980922\n",
            "Iteration 573, loss = 0.04944352\n",
            "Iteration 574, loss = 0.04963005\n",
            "Iteration 575, loss = 0.04976635\n",
            "Iteration 576, loss = 0.04949639\n",
            "Iteration 577, loss = 0.04957310\n",
            "Iteration 578, loss = 0.04897618\n",
            "Iteration 579, loss = 0.04905005\n",
            "Iteration 580, loss = 0.04918533\n",
            "Iteration 581, loss = 0.04871658\n",
            "Iteration 582, loss = 0.04864284\n",
            "Iteration 583, loss = 0.04907609\n",
            "Iteration 584, loss = 0.04866322\n",
            "Iteration 585, loss = 0.04881260\n",
            "Iteration 586, loss = 0.04926070\n",
            "Iteration 587, loss = 0.04909055\n",
            "Iteration 588, loss = 0.04821977\n",
            "Iteration 589, loss = 0.04823574\n",
            "Iteration 590, loss = 0.04869805\n",
            "Iteration 591, loss = 0.04856809\n",
            "Iteration 592, loss = 0.04812965\n",
            "Iteration 593, loss = 0.04772291\n",
            "Iteration 594, loss = 0.04812673\n",
            "Iteration 595, loss = 0.04799940\n",
            "Iteration 596, loss = 0.04767667\n",
            "Iteration 597, loss = 0.04770858\n",
            "Iteration 598, loss = 0.04813861\n",
            "Iteration 599, loss = 0.04718587\n",
            "Iteration 600, loss = 0.04726473\n",
            "Iteration 601, loss = 0.04688517\n",
            "Iteration 602, loss = 0.04812600\n",
            "Iteration 603, loss = 0.04742395\n",
            "Iteration 604, loss = 0.04701712\n",
            "Iteration 605, loss = 0.04845297\n",
            "Iteration 606, loss = 0.04692358\n",
            "Iteration 607, loss = 0.04658257\n",
            "Iteration 608, loss = 0.04618192\n",
            "Iteration 609, loss = 0.04694033\n",
            "Iteration 610, loss = 0.04682014\n",
            "Iteration 611, loss = 0.04657709\n",
            "Iteration 612, loss = 0.04670381\n",
            "Iteration 613, loss = 0.04611715\n",
            "Iteration 614, loss = 0.04573343\n",
            "Iteration 615, loss = 0.04638634\n",
            "Iteration 616, loss = 0.04610520\n",
            "Iteration 617, loss = 0.04605006\n",
            "Iteration 618, loss = 0.04584422\n",
            "Iteration 619, loss = 0.04565803\n",
            "Iteration 620, loss = 0.04552246\n",
            "Iteration 621, loss = 0.04587232\n",
            "Iteration 622, loss = 0.04534360\n",
            "Iteration 623, loss = 0.04529812\n",
            "Iteration 624, loss = 0.04561887\n",
            "Iteration 625, loss = 0.04504479\n",
            "Iteration 626, loss = 0.04564047\n",
            "Iteration 627, loss = 0.04477258\n",
            "Iteration 628, loss = 0.04501313\n",
            "Iteration 629, loss = 0.04504063\n",
            "Iteration 630, loss = 0.04582270\n",
            "Iteration 631, loss = 0.04484129\n",
            "Iteration 632, loss = 0.04458487\n",
            "Iteration 633, loss = 0.04451550\n",
            "Iteration 634, loss = 0.04446766\n",
            "Iteration 635, loss = 0.04449185\n",
            "Iteration 636, loss = 0.04476891\n",
            "Iteration 637, loss = 0.04523544\n",
            "Iteration 638, loss = 0.04493414\n",
            "Iteration 639, loss = 0.04444725\n",
            "Iteration 640, loss = 0.04687180\n",
            "Iteration 641, loss = 0.04407711\n",
            "Iteration 642, loss = 0.04405294\n",
            "Iteration 643, loss = 0.04382297\n",
            "Iteration 644, loss = 0.04404280\n",
            "Iteration 645, loss = 0.04443796\n",
            "Iteration 646, loss = 0.04358055\n",
            "Iteration 647, loss = 0.04400887\n",
            "Iteration 648, loss = 0.04353781\n",
            "Iteration 649, loss = 0.04336405\n",
            "Iteration 650, loss = 0.04463554\n",
            "Iteration 651, loss = 0.04337150\n",
            "Iteration 652, loss = 0.04349847\n",
            "Iteration 653, loss = 0.04326450\n",
            "Iteration 654, loss = 0.04386251\n",
            "Iteration 655, loss = 0.04331353\n",
            "Iteration 656, loss = 0.04289358\n",
            "Iteration 657, loss = 0.04473191\n",
            "Iteration 658, loss = 0.04601874\n",
            "Iteration 659, loss = 0.04649594\n",
            "Iteration 660, loss = 0.04332268\n",
            "Iteration 661, loss = 0.04360212\n",
            "Iteration 662, loss = 0.04320778\n",
            "Iteration 663, loss = 0.04244663\n",
            "Iteration 664, loss = 0.04266715\n",
            "Iteration 665, loss = 0.04230789\n",
            "Iteration 666, loss = 0.04459400\n",
            "Iteration 667, loss = 0.04207814\n",
            "Iteration 668, loss = 0.04431494\n",
            "Iteration 669, loss = 0.04266605\n",
            "Iteration 670, loss = 0.04183105\n",
            "Iteration 671, loss = 0.04304537\n",
            "Iteration 672, loss = 0.04247570\n",
            "Iteration 673, loss = 0.04256785\n",
            "Iteration 674, loss = 0.04370180\n",
            "Iteration 675, loss = 0.04182251\n",
            "Iteration 676, loss = 0.04170995\n",
            "Iteration 677, loss = 0.04174025\n",
            "Iteration 678, loss = 0.04163112\n",
            "Iteration 679, loss = 0.04304874\n",
            "Iteration 680, loss = 0.04210458\n",
            "Iteration 681, loss = 0.04195260\n",
            "Iteration 682, loss = 0.04223256\n",
            "Iteration 683, loss = 0.04141090\n",
            "Iteration 684, loss = 0.04185965\n",
            "Iteration 685, loss = 0.04091335\n",
            "Iteration 686, loss = 0.04154040\n",
            "Iteration 687, loss = 0.04362126\n",
            "Iteration 688, loss = 0.04091967\n",
            "Iteration 689, loss = 0.04142597\n",
            "Iteration 690, loss = 0.04124397\n",
            "Iteration 691, loss = 0.04077670\n",
            "Iteration 692, loss = 0.04122062\n",
            "Iteration 693, loss = 0.04223786\n",
            "Iteration 694, loss = 0.04137449\n",
            "Iteration 695, loss = 0.04055150\n",
            "Iteration 696, loss = 0.04077251\n",
            "Iteration 697, loss = 0.04101817\n",
            "Iteration 698, loss = 0.04053928\n",
            "Iteration 699, loss = 0.04046513\n",
            "Iteration 700, loss = 0.04075202\n",
            "Iteration 701, loss = 0.04036168\n",
            "Iteration 702, loss = 0.04065030\n",
            "Iteration 703, loss = 0.04044964\n",
            "Iteration 704, loss = 0.04059251\n",
            "Iteration 705, loss = 0.04017072\n",
            "Iteration 706, loss = 0.04026027\n",
            "Iteration 707, loss = 0.04052069\n",
            "Iteration 708, loss = 0.04026805\n",
            "Iteration 709, loss = 0.03992687\n",
            "Iteration 710, loss = 0.04029596\n",
            "Iteration 711, loss = 0.04048800\n",
            "Iteration 712, loss = 0.04032203\n",
            "Iteration 713, loss = 0.04023135\n",
            "Iteration 714, loss = 0.04001739\n",
            "Iteration 715, loss = 0.04024946\n",
            "Iteration 716, loss = 0.03947196\n",
            "Iteration 717, loss = 0.03999687\n",
            "Iteration 718, loss = 0.03963848\n",
            "Iteration 719, loss = 0.03985299\n",
            "Iteration 720, loss = 0.03999276\n",
            "Iteration 721, loss = 0.03958832\n",
            "Iteration 722, loss = 0.03993617\n",
            "Iteration 723, loss = 0.03951791\n",
            "Iteration 724, loss = 0.03931836\n",
            "Iteration 725, loss = 0.03932933\n",
            "Iteration 726, loss = 0.04042200\n",
            "Iteration 727, loss = 0.03875850\n",
            "Iteration 728, loss = 0.04027262\n",
            "Iteration 729, loss = 0.04031284\n",
            "Iteration 730, loss = 0.03971689\n",
            "Iteration 731, loss = 0.03877096\n",
            "Iteration 732, loss = 0.04034439\n",
            "Iteration 733, loss = 0.03948200\n",
            "Iteration 734, loss = 0.03870734\n",
            "Iteration 735, loss = 0.03855365\n",
            "Iteration 736, loss = 0.03945480\n",
            "Iteration 737, loss = 0.03873907\n",
            "Iteration 738, loss = 0.03907407\n",
            "Iteration 739, loss = 0.03936190\n",
            "Iteration 740, loss = 0.03997473\n",
            "Iteration 741, loss = 0.03905271\n",
            "Iteration 742, loss = 0.03868153\n",
            "Iteration 743, loss = 0.03840893\n",
            "Iteration 744, loss = 0.03840640\n",
            "Iteration 745, loss = 0.03876744\n",
            "Iteration 746, loss = 0.03864827\n",
            "Iteration 747, loss = 0.03826753\n",
            "Iteration 748, loss = 0.03822145\n",
            "Iteration 749, loss = 0.03860237\n",
            "Iteration 750, loss = 0.03813572\n",
            "Iteration 751, loss = 0.03826646\n",
            "Iteration 752, loss = 0.03784215\n",
            "Iteration 753, loss = 0.03844207\n",
            "Iteration 754, loss = 0.03826193\n",
            "Iteration 755, loss = 0.03914634\n",
            "Iteration 756, loss = 0.03807540\n",
            "Iteration 757, loss = 0.03788565\n",
            "Iteration 758, loss = 0.03818338\n",
            "Iteration 759, loss = 0.03832028\n",
            "Iteration 760, loss = 0.03804295\n",
            "Iteration 761, loss = 0.03867493\n",
            "Iteration 762, loss = 0.03810211\n",
            "Iteration 763, loss = 0.03782661\n",
            "Training loss did not improve more than tol=0.000100 for 10 consecutive epochs. Stopping.\n"
          ]
        },
        {
          "output_type": "execute_result",
          "data": {
            "text/plain": [
              "MLPClassifier(activation='tanh', batch_size=32, hidden_layer_sizes=(4, 8),\n",
              "              max_iter=2000, verbose=True)"
            ]
          },
          "metadata": {},
          "execution_count": 20
        }
      ]
    },
    {
      "cell_type": "code",
      "execution_count": 21,
      "metadata": {},
      "outputs": [
        {
          "output_type": "execute_result",
          "data": {
            "text/plain": [
              "0.9916666666666667"
            ]
          },
          "metadata": {},
          "execution_count": 21
        }
      ],
      "source": [
        "network.score(X_train,y_train)"
      ]
    },
    {
      "cell_type": "code",
      "execution_count": 22,
      "metadata": {},
      "outputs": [
        {
          "output_type": "execute_result",
          "data": {
            "text/plain": [
              "0.9666666666666667"
            ]
          },
          "metadata": {},
          "execution_count": 22
        }
      ],
      "source": [
        "network.score(X_test,y_test)"
      ]
    },
    {
      "cell_type": "code",
      "metadata": {
        "id": "XcEtz4qttV4M",
        "outputId": "a1c18ee8-7644-499f-deca-c85ff5c11e4d",
        "colab": {
          "base_uri": "https://localhost:8080/",
          "height": 34
        }
      },
      "source": [
        "0.06410639 - 0.06401348"
      ],
      "execution_count": 23,
      "outputs": [
        {
          "output_type": "execute_result",
          "data": {
            "text/plain": [
              "9.29100000000016e-05"
            ]
          },
          "metadata": {},
          "execution_count": 23
        }
      ]
    },
    {
      "cell_type": "code",
      "metadata": {
        "id": "_ctazvolzZzi",
        "outputId": "1d936730-798b-4478-d300-0f002ebbc688",
        "colab": {
          "base_uri": "https://localhost:8080/",
          "height": 34
        }
      },
      "source": [
        "network.classes_"
      ],
      "execution_count": 24,
      "outputs": [
        {
          "output_type": "execute_result",
          "data": {
            "text/plain": [
              "array([0, 1, 2])"
            ]
          },
          "metadata": {},
          "execution_count": 24
        }
      ]
    },
    {
      "cell_type": "code",
      "metadata": {
        "id": "UdaztvVezhey",
        "outputId": "eeff5d93-feb7-4bf1-ce0c-a2867b97bdef",
        "colab": {
          "base_uri": "https://localhost:8080/",
          "height": 235
        }
      },
      "source": [
        "network.coefs_"
      ],
      "execution_count": 25,
      "outputs": [
        {
          "output_type": "execute_result",
          "data": {
            "text/plain": [
              "[array([[-0.12457356, -0.43937329,  0.08479646, -0.14263637],\n",
              "        [-0.62888482,  1.03079486, -0.03290707,  0.22157366],\n",
              "        [ 0.33166657, -0.72381993, -0.30977429, -0.11580005],\n",
              "        [ 0.91436522, -0.06420096, -0.11551196,  0.83391863]]),\n",
              " array([[ 0.41668373, -0.11026406, -1.38313128, -0.75991538, -1.66949271,\n",
              "          0.33355973, -0.13754293,  0.27141257],\n",
              "        [-1.3724719 , -1.18153907, -0.31519133,  0.31980093,  0.2893424 ,\n",
              "         -0.79214023,  1.12410851,  0.90806761],\n",
              "        [-0.79161733, -0.82678049,  1.0963681 ,  1.16590353,  1.4574281 ,\n",
              "         -0.67948272,  0.61086025, -0.23410679],\n",
              "        [-0.6313565 , -0.58979658, -0.1307189 , -0.05489493, -0.7276722 ,\n",
              "          0.01917487, -0.16645912, -0.26029335]]),\n",
              " array([[-1.0443619 ,  0.33362298,  0.18833738],\n",
              "        [-1.48088455,  1.0133108 ,  0.79186016],\n",
              "        [ 0.72617542,  1.60680157, -1.64120195],\n",
              "        [ 0.95148202,  0.13075245, -1.20488642],\n",
              "        [ 0.80475127,  1.43444343, -1.90201456],\n",
              "        [-1.62949089, -0.30877111,  1.29696701],\n",
              "        [ 1.29399017, -0.26600558, -0.54577474],\n",
              "        [ 0.83180952, -0.84498078, -0.03212235]])]"
            ]
          },
          "metadata": {},
          "execution_count": 25
        }
      ]
    },
    {
      "cell_type": "code",
      "metadata": {
        "id": "3zBpcda3zsqr",
        "outputId": "48f09b0a-9789-47f9-959b-91b0b2d19d41",
        "colab": {
          "base_uri": "https://localhost:8080/",
          "height": 67
        }
      },
      "source": [
        "network.intercepts_"
      ],
      "execution_count": 26,
      "outputs": [
        {
          "output_type": "execute_result",
          "data": {
            "text/plain": [
              "[array([-0.50921995,  0.94677091,  1.18780769, -0.82543765]),\n",
              " array([ 0.01922037, -0.38735291, -0.09234509,  0.24231599,  0.34259389,\n",
              "        -0.4673172 , -0.08632341,  0.0299219 ]),\n",
              " array([ 0.19648829,  0.38433988, -0.36979175])]"
            ]
          },
          "metadata": {},
          "execution_count": 26
        }
      ]
    },
    {
      "cell_type": "code",
      "metadata": {
        "id": "cjBTc9xiz03F",
        "outputId": "e890763a-6771-4a19-ce3c-9eb79628c536",
        "colab": {
          "base_uri": "https://localhost:8080/",
          "height": 34
        }
      },
      "source": [
        "network.n_layers_"
      ],
      "execution_count": 27,
      "outputs": [
        {
          "output_type": "execute_result",
          "data": {
            "text/plain": [
              "4"
            ]
          },
          "metadata": {},
          "execution_count": 27
        }
      ]
    },
    {
      "cell_type": "code",
      "metadata": {
        "id": "uoTMTgwoz4z6",
        "outputId": "3d1b1f18-4ff7-46a0-e0da-49ae944889e6",
        "colab": {
          "base_uri": "https://localhost:8080/",
          "height": 34
        }
      },
      "source": [
        "network.n_outputs_"
      ],
      "execution_count": 28,
      "outputs": [
        {
          "output_type": "execute_result",
          "data": {
            "text/plain": [
              "3"
            ]
          },
          "metadata": {},
          "execution_count": 28
        }
      ]
    },
    {
      "cell_type": "code",
      "execution_count": 29,
      "metadata": {},
      "outputs": [
        {
          "output_type": "execute_result",
          "data": {
            "text/plain": [
              "(4, 8)"
            ]
          },
          "metadata": {},
          "execution_count": 29
        }
      ],
      "source": [
        "network.hidden_layer_sizes"
      ]
    },
    {
      "cell_type": "code",
      "metadata": {
        "id": "QE4uaxjuz8ln",
        "outputId": "25c772ee-285d-4cbd-9e49-41bd7c036fbf",
        "colab": {
          "base_uri": "https://localhost:8080/",
          "height": 34
        }
      },
      "source": [
        "network.out_activation_"
      ],
      "execution_count": 30,
      "outputs": [
        {
          "output_type": "execute_result",
          "data": {
            "text/plain": [
              "'softmax'"
            ]
          },
          "metadata": {},
          "execution_count": 30
        }
      ]
    },
    {
      "cell_type": "code",
      "execution_count": 31,
      "metadata": {},
      "outputs": [
        {
          "output_type": "execute_result",
          "data": {
            "text/plain": [
              "0.03782660578423674"
            ]
          },
          "metadata": {},
          "execution_count": 31
        }
      ],
      "source": [
        "network.loss_"
      ]
    },
    {
      "cell_type": "code",
      "execution_count": 32,
      "metadata": {},
      "outputs": [
        {
          "output_type": "display_data",
          "data": {
            "text/plain": "<Figure size 432x288 with 1 Axes>",
            "image/svg+xml": "<?xml version=\"1.0\" encoding=\"utf-8\" standalone=\"no\"?>\r\n<!DOCTYPE svg PUBLIC \"-//W3C//DTD SVG 1.1//EN\"\r\n  \"http://www.w3.org/Graphics/SVG/1.1/DTD/svg11.dtd\">\r\n<!-- Created with matplotlib (https://matplotlib.org/) -->\r\n<svg height=\"262.19625pt\" version=\"1.1\" viewBox=\"0 0 401.647557 262.19625\" width=\"401.647557pt\" xmlns=\"http://www.w3.org/2000/svg\" xmlns:xlink=\"http://www.w3.org/1999/xlink\">\r\n <metadata>\r\n  <rdf:RDF xmlns:cc=\"http://creativecommons.org/ns#\" xmlns:dc=\"http://purl.org/dc/elements/1.1/\" xmlns:rdf=\"http://www.w3.org/1999/02/22-rdf-syntax-ns#\">\r\n   <cc:Work>\r\n    <dc:type rdf:resource=\"http://purl.org/dc/dcmitype/StillImage\"/>\r\n    <dc:date>2021-05-15T17:06:43.195372</dc:date>\r\n    <dc:format>image/svg+xml</dc:format>\r\n    <dc:creator>\r\n     <cc:Agent>\r\n      <dc:title>Matplotlib v3.3.3, https://matplotlib.org/</dc:title>\r\n     </cc:Agent>\r\n    </dc:creator>\r\n   </cc:Work>\r\n  </rdf:RDF>\r\n </metadata>\r\n <defs>\r\n  <style type=\"text/css\">*{stroke-linecap:butt;stroke-linejoin:round;}</style>\r\n </defs>\r\n <g id=\"figure_1\">\r\n  <g id=\"patch_1\">\r\n   <path d=\"M 0 262.19625 \r\nL 401.647557 262.19625 \r\nL 401.647557 0 \r\nL 0 0 \r\nz\r\n\" style=\"fill:none;\"/>\r\n  </g>\r\n  <g id=\"axes_1\">\r\n   <g id=\"patch_2\">\r\n    <path d=\"M 50.14375 224.64 \r\nL 384.94375 224.64 \r\nL 384.94375 7.2 \r\nL 50.14375 7.2 \r\nz\r\n\" style=\"fill:#ffffff;\"/>\r\n   </g>\r\n   <g id=\"matplotlib.axis_1\">\r\n    <g id=\"xtick_1\">\r\n     <g id=\"line2d_1\">\r\n      <defs>\r\n       <path d=\"M 0 0 \r\nL 0 3.5 \r\n\" id=\"m8acec50789\" style=\"stroke:#000000;stroke-width:0.8;\"/>\r\n      </defs>\r\n      <g>\r\n       <use style=\"stroke:#000000;stroke-width:0.8;\" x=\"65.361932\" xlink:href=\"#m8acec50789\" y=\"224.64\"/>\r\n      </g>\r\n     </g>\r\n     <g id=\"text_1\">\r\n      <!-- 0 -->\r\n      <g transform=\"translate(62.180682 239.238437)scale(0.1 -0.1)\">\r\n       <defs>\r\n        <path d=\"M 31.78125 66.40625 \r\nQ 24.171875 66.40625 20.328125 58.90625 \r\nQ 16.5 51.421875 16.5 36.375 \r\nQ 16.5 21.390625 20.328125 13.890625 \r\nQ 24.171875 6.390625 31.78125 6.390625 \r\nQ 39.453125 6.390625 43.28125 13.890625 \r\nQ 47.125 21.390625 47.125 36.375 \r\nQ 47.125 51.421875 43.28125 58.90625 \r\nQ 39.453125 66.40625 31.78125 66.40625 \r\nz\r\nM 31.78125 74.21875 \r\nQ 44.046875 74.21875 50.515625 64.515625 \r\nQ 56.984375 54.828125 56.984375 36.375 \r\nQ 56.984375 17.96875 50.515625 8.265625 \r\nQ 44.046875 -1.421875 31.78125 -1.421875 \r\nQ 19.53125 -1.421875 13.0625 8.265625 \r\nQ 6.59375 17.96875 6.59375 36.375 \r\nQ 6.59375 54.828125 13.0625 64.515625 \r\nQ 19.53125 74.21875 31.78125 74.21875 \r\nz\r\n\" id=\"DejaVuSans-48\"/>\r\n       </defs>\r\n       <use xlink:href=\"#DejaVuSans-48\"/>\r\n      </g>\r\n     </g>\r\n    </g>\r\n    <g id=\"xtick_2\">\r\n     <g id=\"line2d_2\">\r\n      <g>\r\n       <use style=\"stroke:#000000;stroke-width:0.8;\" x=\"105.304666\" xlink:href=\"#m8acec50789\" y=\"224.64\"/>\r\n      </g>\r\n     </g>\r\n     <g id=\"text_2\">\r\n      <!-- 100 -->\r\n      <g transform=\"translate(95.760916 239.238437)scale(0.1 -0.1)\">\r\n       <defs>\r\n        <path d=\"M 12.40625 8.296875 \r\nL 28.515625 8.296875 \r\nL 28.515625 63.921875 \r\nL 10.984375 60.40625 \r\nL 10.984375 69.390625 \r\nL 28.421875 72.90625 \r\nL 38.28125 72.90625 \r\nL 38.28125 8.296875 \r\nL 54.390625 8.296875 \r\nL 54.390625 0 \r\nL 12.40625 0 \r\nz\r\n\" id=\"DejaVuSans-49\"/>\r\n       </defs>\r\n       <use xlink:href=\"#DejaVuSans-49\"/>\r\n       <use x=\"63.623047\" xlink:href=\"#DejaVuSans-48\"/>\r\n       <use x=\"127.246094\" xlink:href=\"#DejaVuSans-48\"/>\r\n      </g>\r\n     </g>\r\n    </g>\r\n    <g id=\"xtick_3\">\r\n     <g id=\"line2d_3\">\r\n      <g>\r\n       <use style=\"stroke:#000000;stroke-width:0.8;\" x=\"145.247401\" xlink:href=\"#m8acec50789\" y=\"224.64\"/>\r\n      </g>\r\n     </g>\r\n     <g id=\"text_3\">\r\n      <!-- 200 -->\r\n      <g transform=\"translate(135.703651 239.238437)scale(0.1 -0.1)\">\r\n       <defs>\r\n        <path d=\"M 19.1875 8.296875 \r\nL 53.609375 8.296875 \r\nL 53.609375 0 \r\nL 7.328125 0 \r\nL 7.328125 8.296875 \r\nQ 12.9375 14.109375 22.625 23.890625 \r\nQ 32.328125 33.6875 34.8125 36.53125 \r\nQ 39.546875 41.84375 41.421875 45.53125 \r\nQ 43.3125 49.21875 43.3125 52.78125 \r\nQ 43.3125 58.59375 39.234375 62.25 \r\nQ 35.15625 65.921875 28.609375 65.921875 \r\nQ 23.96875 65.921875 18.8125 64.3125 \r\nQ 13.671875 62.703125 7.8125 59.421875 \r\nL 7.8125 69.390625 \r\nQ 13.765625 71.78125 18.9375 73 \r\nQ 24.125 74.21875 28.421875 74.21875 \r\nQ 39.75 74.21875 46.484375 68.546875 \r\nQ 53.21875 62.890625 53.21875 53.421875 \r\nQ 53.21875 48.921875 51.53125 44.890625 \r\nQ 49.859375 40.875 45.40625 35.40625 \r\nQ 44.1875 33.984375 37.640625 27.21875 \r\nQ 31.109375 20.453125 19.1875 8.296875 \r\nz\r\n\" id=\"DejaVuSans-50\"/>\r\n       </defs>\r\n       <use xlink:href=\"#DejaVuSans-50\"/>\r\n       <use x=\"63.623047\" xlink:href=\"#DejaVuSans-48\"/>\r\n       <use x=\"127.246094\" xlink:href=\"#DejaVuSans-48\"/>\r\n      </g>\r\n     </g>\r\n    </g>\r\n    <g id=\"xtick_4\">\r\n     <g id=\"line2d_4\">\r\n      <g>\r\n       <use style=\"stroke:#000000;stroke-width:0.8;\" x=\"185.190135\" xlink:href=\"#m8acec50789\" y=\"224.64\"/>\r\n      </g>\r\n     </g>\r\n     <g id=\"text_4\">\r\n      <!-- 300 -->\r\n      <g transform=\"translate(175.646385 239.238437)scale(0.1 -0.1)\">\r\n       <defs>\r\n        <path d=\"M 40.578125 39.3125 \r\nQ 47.65625 37.796875 51.625 33 \r\nQ 55.609375 28.21875 55.609375 21.1875 \r\nQ 55.609375 10.40625 48.1875 4.484375 \r\nQ 40.765625 -1.421875 27.09375 -1.421875 \r\nQ 22.515625 -1.421875 17.65625 -0.515625 \r\nQ 12.796875 0.390625 7.625 2.203125 \r\nL 7.625 11.71875 \r\nQ 11.71875 9.328125 16.59375 8.109375 \r\nQ 21.484375 6.890625 26.8125 6.890625 \r\nQ 36.078125 6.890625 40.9375 10.546875 \r\nQ 45.796875 14.203125 45.796875 21.1875 \r\nQ 45.796875 27.640625 41.28125 31.265625 \r\nQ 36.765625 34.90625 28.71875 34.90625 \r\nL 20.21875 34.90625 \r\nL 20.21875 43.015625 \r\nL 29.109375 43.015625 \r\nQ 36.375 43.015625 40.234375 45.921875 \r\nQ 44.09375 48.828125 44.09375 54.296875 \r\nQ 44.09375 59.90625 40.109375 62.90625 \r\nQ 36.140625 65.921875 28.71875 65.921875 \r\nQ 24.65625 65.921875 20.015625 65.03125 \r\nQ 15.375 64.15625 9.8125 62.3125 \r\nL 9.8125 71.09375 \r\nQ 15.4375 72.65625 20.34375 73.4375 \r\nQ 25.25 74.21875 29.59375 74.21875 \r\nQ 40.828125 74.21875 47.359375 69.109375 \r\nQ 53.90625 64.015625 53.90625 55.328125 \r\nQ 53.90625 49.265625 50.4375 45.09375 \r\nQ 46.96875 40.921875 40.578125 39.3125 \r\nz\r\n\" id=\"DejaVuSans-51\"/>\r\n       </defs>\r\n       <use xlink:href=\"#DejaVuSans-51\"/>\r\n       <use x=\"63.623047\" xlink:href=\"#DejaVuSans-48\"/>\r\n       <use x=\"127.246094\" xlink:href=\"#DejaVuSans-48\"/>\r\n      </g>\r\n     </g>\r\n    </g>\r\n    <g id=\"xtick_5\">\r\n     <g id=\"line2d_5\">\r\n      <g>\r\n       <use style=\"stroke:#000000;stroke-width:0.8;\" x=\"225.13287\" xlink:href=\"#m8acec50789\" y=\"224.64\"/>\r\n      </g>\r\n     </g>\r\n     <g id=\"text_5\">\r\n      <!-- 400 -->\r\n      <g transform=\"translate(215.58912 239.238437)scale(0.1 -0.1)\">\r\n       <defs>\r\n        <path d=\"M 37.796875 64.3125 \r\nL 12.890625 25.390625 \r\nL 37.796875 25.390625 \r\nz\r\nM 35.203125 72.90625 \r\nL 47.609375 72.90625 \r\nL 47.609375 25.390625 \r\nL 58.015625 25.390625 \r\nL 58.015625 17.1875 \r\nL 47.609375 17.1875 \r\nL 47.609375 0 \r\nL 37.796875 0 \r\nL 37.796875 17.1875 \r\nL 4.890625 17.1875 \r\nL 4.890625 26.703125 \r\nz\r\n\" id=\"DejaVuSans-52\"/>\r\n       </defs>\r\n       <use xlink:href=\"#DejaVuSans-52\"/>\r\n       <use x=\"63.623047\" xlink:href=\"#DejaVuSans-48\"/>\r\n       <use x=\"127.246094\" xlink:href=\"#DejaVuSans-48\"/>\r\n      </g>\r\n     </g>\r\n    </g>\r\n    <g id=\"xtick_6\">\r\n     <g id=\"line2d_6\">\r\n      <g>\r\n       <use style=\"stroke:#000000;stroke-width:0.8;\" x=\"265.075604\" xlink:href=\"#m8acec50789\" y=\"224.64\"/>\r\n      </g>\r\n     </g>\r\n     <g id=\"text_6\">\r\n      <!-- 500 -->\r\n      <g transform=\"translate(255.531854 239.238437)scale(0.1 -0.1)\">\r\n       <defs>\r\n        <path d=\"M 10.796875 72.90625 \r\nL 49.515625 72.90625 \r\nL 49.515625 64.59375 \r\nL 19.828125 64.59375 \r\nL 19.828125 46.734375 \r\nQ 21.96875 47.46875 24.109375 47.828125 \r\nQ 26.265625 48.1875 28.421875 48.1875 \r\nQ 40.625 48.1875 47.75 41.5 \r\nQ 54.890625 34.8125 54.890625 23.390625 \r\nQ 54.890625 11.625 47.5625 5.09375 \r\nQ 40.234375 -1.421875 26.90625 -1.421875 \r\nQ 22.3125 -1.421875 17.546875 -0.640625 \r\nQ 12.796875 0.140625 7.71875 1.703125 \r\nL 7.71875 11.625 \r\nQ 12.109375 9.234375 16.796875 8.0625 \r\nQ 21.484375 6.890625 26.703125 6.890625 \r\nQ 35.15625 6.890625 40.078125 11.328125 \r\nQ 45.015625 15.765625 45.015625 23.390625 \r\nQ 45.015625 31 40.078125 35.4375 \r\nQ 35.15625 39.890625 26.703125 39.890625 \r\nQ 22.75 39.890625 18.8125 39.015625 \r\nQ 14.890625 38.140625 10.796875 36.28125 \r\nz\r\n\" id=\"DejaVuSans-53\"/>\r\n       </defs>\r\n       <use xlink:href=\"#DejaVuSans-53\"/>\r\n       <use x=\"63.623047\" xlink:href=\"#DejaVuSans-48\"/>\r\n       <use x=\"127.246094\" xlink:href=\"#DejaVuSans-48\"/>\r\n      </g>\r\n     </g>\r\n    </g>\r\n    <g id=\"xtick_7\">\r\n     <g id=\"line2d_7\">\r\n      <g>\r\n       <use style=\"stroke:#000000;stroke-width:0.8;\" x=\"305.018338\" xlink:href=\"#m8acec50789\" y=\"224.64\"/>\r\n      </g>\r\n     </g>\r\n     <g id=\"text_7\">\r\n      <!-- 600 -->\r\n      <g transform=\"translate(295.474588 239.238437)scale(0.1 -0.1)\">\r\n       <defs>\r\n        <path d=\"M 33.015625 40.375 \r\nQ 26.375 40.375 22.484375 35.828125 \r\nQ 18.609375 31.296875 18.609375 23.390625 \r\nQ 18.609375 15.53125 22.484375 10.953125 \r\nQ 26.375 6.390625 33.015625 6.390625 \r\nQ 39.65625 6.390625 43.53125 10.953125 \r\nQ 47.40625 15.53125 47.40625 23.390625 \r\nQ 47.40625 31.296875 43.53125 35.828125 \r\nQ 39.65625 40.375 33.015625 40.375 \r\nz\r\nM 52.59375 71.296875 \r\nL 52.59375 62.3125 \r\nQ 48.875 64.0625 45.09375 64.984375 \r\nQ 41.3125 65.921875 37.59375 65.921875 \r\nQ 27.828125 65.921875 22.671875 59.328125 \r\nQ 17.53125 52.734375 16.796875 39.40625 \r\nQ 19.671875 43.65625 24.015625 45.921875 \r\nQ 28.375 48.1875 33.59375 48.1875 \r\nQ 44.578125 48.1875 50.953125 41.515625 \r\nQ 57.328125 34.859375 57.328125 23.390625 \r\nQ 57.328125 12.15625 50.6875 5.359375 \r\nQ 44.046875 -1.421875 33.015625 -1.421875 \r\nQ 20.359375 -1.421875 13.671875 8.265625 \r\nQ 6.984375 17.96875 6.984375 36.375 \r\nQ 6.984375 53.65625 15.1875 63.9375 \r\nQ 23.390625 74.21875 37.203125 74.21875 \r\nQ 40.921875 74.21875 44.703125 73.484375 \r\nQ 48.484375 72.75 52.59375 71.296875 \r\nz\r\n\" id=\"DejaVuSans-54\"/>\r\n       </defs>\r\n       <use xlink:href=\"#DejaVuSans-54\"/>\r\n       <use x=\"63.623047\" xlink:href=\"#DejaVuSans-48\"/>\r\n       <use x=\"127.246094\" xlink:href=\"#DejaVuSans-48\"/>\r\n      </g>\r\n     </g>\r\n    </g>\r\n    <g id=\"xtick_8\">\r\n     <g id=\"line2d_8\">\r\n      <g>\r\n       <use style=\"stroke:#000000;stroke-width:0.8;\" x=\"344.961073\" xlink:href=\"#m8acec50789\" y=\"224.64\"/>\r\n      </g>\r\n     </g>\r\n     <g id=\"text_8\">\r\n      <!-- 700 -->\r\n      <g transform=\"translate(335.417323 239.238437)scale(0.1 -0.1)\">\r\n       <defs>\r\n        <path d=\"M 8.203125 72.90625 \r\nL 55.078125 72.90625 \r\nL 55.078125 68.703125 \r\nL 28.609375 0 \r\nL 18.3125 0 \r\nL 43.21875 64.59375 \r\nL 8.203125 64.59375 \r\nz\r\n\" id=\"DejaVuSans-55\"/>\r\n       </defs>\r\n       <use xlink:href=\"#DejaVuSans-55\"/>\r\n       <use x=\"63.623047\" xlink:href=\"#DejaVuSans-48\"/>\r\n       <use x=\"127.246094\" xlink:href=\"#DejaVuSans-48\"/>\r\n      </g>\r\n     </g>\r\n    </g>\r\n    <g id=\"xtick_9\">\r\n     <g id=\"line2d_9\">\r\n      <g>\r\n       <use style=\"stroke:#000000;stroke-width:0.8;\" x=\"384.903807\" xlink:href=\"#m8acec50789\" y=\"224.64\"/>\r\n      </g>\r\n     </g>\r\n     <g id=\"text_9\">\r\n      <!-- 800 -->\r\n      <g transform=\"translate(375.360057 239.238437)scale(0.1 -0.1)\">\r\n       <defs>\r\n        <path d=\"M 31.78125 34.625 \r\nQ 24.75 34.625 20.71875 30.859375 \r\nQ 16.703125 27.09375 16.703125 20.515625 \r\nQ 16.703125 13.921875 20.71875 10.15625 \r\nQ 24.75 6.390625 31.78125 6.390625 \r\nQ 38.8125 6.390625 42.859375 10.171875 \r\nQ 46.921875 13.96875 46.921875 20.515625 \r\nQ 46.921875 27.09375 42.890625 30.859375 \r\nQ 38.875 34.625 31.78125 34.625 \r\nz\r\nM 21.921875 38.8125 \r\nQ 15.578125 40.375 12.03125 44.71875 \r\nQ 8.5 49.078125 8.5 55.328125 \r\nQ 8.5 64.0625 14.71875 69.140625 \r\nQ 20.953125 74.21875 31.78125 74.21875 \r\nQ 42.671875 74.21875 48.875 69.140625 \r\nQ 55.078125 64.0625 55.078125 55.328125 \r\nQ 55.078125 49.078125 51.53125 44.71875 \r\nQ 48 40.375 41.703125 38.8125 \r\nQ 48.828125 37.15625 52.796875 32.3125 \r\nQ 56.78125 27.484375 56.78125 20.515625 \r\nQ 56.78125 9.90625 50.3125 4.234375 \r\nQ 43.84375 -1.421875 31.78125 -1.421875 \r\nQ 19.734375 -1.421875 13.25 4.234375 \r\nQ 6.78125 9.90625 6.78125 20.515625 \r\nQ 6.78125 27.484375 10.78125 32.3125 \r\nQ 14.796875 37.15625 21.921875 38.8125 \r\nz\r\nM 18.3125 54.390625 \r\nQ 18.3125 48.734375 21.84375 45.5625 \r\nQ 25.390625 42.390625 31.78125 42.390625 \r\nQ 38.140625 42.390625 41.71875 45.5625 \r\nQ 45.3125 48.734375 45.3125 54.390625 \r\nQ 45.3125 60.0625 41.71875 63.234375 \r\nQ 38.140625 66.40625 31.78125 66.40625 \r\nQ 25.390625 66.40625 21.84375 63.234375 \r\nQ 18.3125 60.0625 18.3125 54.390625 \r\nz\r\n\" id=\"DejaVuSans-56\"/>\r\n       </defs>\r\n       <use xlink:href=\"#DejaVuSans-56\"/>\r\n       <use x=\"63.623047\" xlink:href=\"#DejaVuSans-48\"/>\r\n       <use x=\"127.246094\" xlink:href=\"#DejaVuSans-48\"/>\r\n      </g>\r\n     </g>\r\n    </g>\r\n    <g id=\"text_10\">\r\n     <!-- Epoch -->\r\n     <g transform=\"translate(202.232813 252.916562)scale(0.1 -0.1)\">\r\n      <defs>\r\n       <path d=\"M 9.8125 72.90625 \r\nL 55.90625 72.90625 \r\nL 55.90625 64.59375 \r\nL 19.671875 64.59375 \r\nL 19.671875 43.015625 \r\nL 54.390625 43.015625 \r\nL 54.390625 34.71875 \r\nL 19.671875 34.71875 \r\nL 19.671875 8.296875 \r\nL 56.78125 8.296875 \r\nL 56.78125 0 \r\nL 9.8125 0 \r\nz\r\n\" id=\"DejaVuSans-69\"/>\r\n       <path d=\"M 18.109375 8.203125 \r\nL 18.109375 -20.796875 \r\nL 9.078125 -20.796875 \r\nL 9.078125 54.6875 \r\nL 18.109375 54.6875 \r\nL 18.109375 46.390625 \r\nQ 20.953125 51.265625 25.265625 53.625 \r\nQ 29.59375 56 35.59375 56 \r\nQ 45.5625 56 51.78125 48.09375 \r\nQ 58.015625 40.1875 58.015625 27.296875 \r\nQ 58.015625 14.40625 51.78125 6.484375 \r\nQ 45.5625 -1.421875 35.59375 -1.421875 \r\nQ 29.59375 -1.421875 25.265625 0.953125 \r\nQ 20.953125 3.328125 18.109375 8.203125 \r\nz\r\nM 48.6875 27.296875 \r\nQ 48.6875 37.203125 44.609375 42.84375 \r\nQ 40.53125 48.484375 33.40625 48.484375 \r\nQ 26.265625 48.484375 22.1875 42.84375 \r\nQ 18.109375 37.203125 18.109375 27.296875 \r\nQ 18.109375 17.390625 22.1875 11.75 \r\nQ 26.265625 6.109375 33.40625 6.109375 \r\nQ 40.53125 6.109375 44.609375 11.75 \r\nQ 48.6875 17.390625 48.6875 27.296875 \r\nz\r\n\" id=\"DejaVuSans-112\"/>\r\n       <path d=\"M 30.609375 48.390625 \r\nQ 23.390625 48.390625 19.1875 42.75 \r\nQ 14.984375 37.109375 14.984375 27.296875 \r\nQ 14.984375 17.484375 19.15625 11.84375 \r\nQ 23.34375 6.203125 30.609375 6.203125 \r\nQ 37.796875 6.203125 41.984375 11.859375 \r\nQ 46.1875 17.53125 46.1875 27.296875 \r\nQ 46.1875 37.015625 41.984375 42.703125 \r\nQ 37.796875 48.390625 30.609375 48.390625 \r\nz\r\nM 30.609375 56 \r\nQ 42.328125 56 49.015625 48.375 \r\nQ 55.71875 40.765625 55.71875 27.296875 \r\nQ 55.71875 13.875 49.015625 6.21875 \r\nQ 42.328125 -1.421875 30.609375 -1.421875 \r\nQ 18.84375 -1.421875 12.171875 6.21875 \r\nQ 5.515625 13.875 5.515625 27.296875 \r\nQ 5.515625 40.765625 12.171875 48.375 \r\nQ 18.84375 56 30.609375 56 \r\nz\r\n\" id=\"DejaVuSans-111\"/>\r\n       <path d=\"M 48.78125 52.59375 \r\nL 48.78125 44.1875 \r\nQ 44.96875 46.296875 41.140625 47.34375 \r\nQ 37.3125 48.390625 33.40625 48.390625 \r\nQ 24.65625 48.390625 19.8125 42.84375 \r\nQ 14.984375 37.3125 14.984375 27.296875 \r\nQ 14.984375 17.28125 19.8125 11.734375 \r\nQ 24.65625 6.203125 33.40625 6.203125 \r\nQ 37.3125 6.203125 41.140625 7.25 \r\nQ 44.96875 8.296875 48.78125 10.40625 \r\nL 48.78125 2.09375 \r\nQ 45.015625 0.34375 40.984375 -0.53125 \r\nQ 36.96875 -1.421875 32.421875 -1.421875 \r\nQ 20.0625 -1.421875 12.78125 6.34375 \r\nQ 5.515625 14.109375 5.515625 27.296875 \r\nQ 5.515625 40.671875 12.859375 48.328125 \r\nQ 20.21875 56 33.015625 56 \r\nQ 37.15625 56 41.109375 55.140625 \r\nQ 45.0625 54.296875 48.78125 52.59375 \r\nz\r\n\" id=\"DejaVuSans-99\"/>\r\n       <path d=\"M 54.890625 33.015625 \r\nL 54.890625 0 \r\nL 45.90625 0 \r\nL 45.90625 32.71875 \r\nQ 45.90625 40.484375 42.875 44.328125 \r\nQ 39.84375 48.1875 33.796875 48.1875 \r\nQ 26.515625 48.1875 22.3125 43.546875 \r\nQ 18.109375 38.921875 18.109375 30.90625 \r\nL 18.109375 0 \r\nL 9.078125 0 \r\nL 9.078125 75.984375 \r\nL 18.109375 75.984375 \r\nL 18.109375 46.1875 \r\nQ 21.34375 51.125 25.703125 53.5625 \r\nQ 30.078125 56 35.796875 56 \r\nQ 45.21875 56 50.046875 50.171875 \r\nQ 54.890625 44.34375 54.890625 33.015625 \r\nz\r\n\" id=\"DejaVuSans-104\"/>\r\n      </defs>\r\n      <use xlink:href=\"#DejaVuSans-69\"/>\r\n      <use x=\"63.183594\" xlink:href=\"#DejaVuSans-112\"/>\r\n      <use x=\"126.660156\" xlink:href=\"#DejaVuSans-111\"/>\r\n      <use x=\"187.841797\" xlink:href=\"#DejaVuSans-99\"/>\r\n      <use x=\"242.822266\" xlink:href=\"#DejaVuSans-104\"/>\r\n     </g>\r\n    </g>\r\n   </g>\r\n   <g id=\"matplotlib.axis_2\">\r\n    <g id=\"ytick_1\">\r\n     <g id=\"line2d_10\">\r\n      <defs>\r\n       <path d=\"M 0 0 \r\nL -3.5 0 \r\n\" id=\"m07297e32e1\" style=\"stroke:#000000;stroke-width:0.8;\"/>\r\n      </defs>\r\n      <g>\r\n       <use style=\"stroke:#000000;stroke-width:0.8;\" x=\"50.14375\" xlink:href=\"#m07297e32e1\" y=\"219.242111\"/>\r\n      </g>\r\n     </g>\r\n     <g id=\"text_11\">\r\n      <!-- 0.00 -->\r\n      <g transform=\"translate(20.878125 223.04133)scale(0.1 -0.1)\">\r\n       <defs>\r\n        <path d=\"M 10.6875 12.40625 \r\nL 21 12.40625 \r\nL 21 0 \r\nL 10.6875 0 \r\nz\r\n\" id=\"DejaVuSans-46\"/>\r\n       </defs>\r\n       <use xlink:href=\"#DejaVuSans-48\"/>\r\n       <use x=\"63.623047\" xlink:href=\"#DejaVuSans-46\"/>\r\n       <use x=\"95.410156\" xlink:href=\"#DejaVuSans-48\"/>\r\n       <use x=\"159.033203\" xlink:href=\"#DejaVuSans-48\"/>\r\n      </g>\r\n     </g>\r\n    </g>\r\n    <g id=\"ytick_2\">\r\n     <g id=\"line2d_11\">\r\n      <g>\r\n       <use style=\"stroke:#000000;stroke-width:0.8;\" x=\"50.14375\" xlink:href=\"#m07297e32e1\" y=\"189.595336\"/>\r\n      </g>\r\n     </g>\r\n     <g id=\"text_12\">\r\n      <!-- 0.25 -->\r\n      <g transform=\"translate(20.878125 193.394555)scale(0.1 -0.1)\">\r\n       <use xlink:href=\"#DejaVuSans-48\"/>\r\n       <use x=\"63.623047\" xlink:href=\"#DejaVuSans-46\"/>\r\n       <use x=\"95.410156\" xlink:href=\"#DejaVuSans-50\"/>\r\n       <use x=\"159.033203\" xlink:href=\"#DejaVuSans-53\"/>\r\n      </g>\r\n     </g>\r\n    </g>\r\n    <g id=\"ytick_3\">\r\n     <g id=\"line2d_12\">\r\n      <g>\r\n       <use style=\"stroke:#000000;stroke-width:0.8;\" x=\"50.14375\" xlink:href=\"#m07297e32e1\" y=\"159.948561\"/>\r\n      </g>\r\n     </g>\r\n     <g id=\"text_13\">\r\n      <!-- 0.50 -->\r\n      <g transform=\"translate(20.878125 163.74778)scale(0.1 -0.1)\">\r\n       <use xlink:href=\"#DejaVuSans-48\"/>\r\n       <use x=\"63.623047\" xlink:href=\"#DejaVuSans-46\"/>\r\n       <use x=\"95.410156\" xlink:href=\"#DejaVuSans-53\"/>\r\n       <use x=\"159.033203\" xlink:href=\"#DejaVuSans-48\"/>\r\n      </g>\r\n     </g>\r\n    </g>\r\n    <g id=\"ytick_4\">\r\n     <g id=\"line2d_13\">\r\n      <g>\r\n       <use style=\"stroke:#000000;stroke-width:0.8;\" x=\"50.14375\" xlink:href=\"#m07297e32e1\" y=\"130.301786\"/>\r\n      </g>\r\n     </g>\r\n     <g id=\"text_14\">\r\n      <!-- 0.75 -->\r\n      <g transform=\"translate(20.878125 134.101005)scale(0.1 -0.1)\">\r\n       <use xlink:href=\"#DejaVuSans-48\"/>\r\n       <use x=\"63.623047\" xlink:href=\"#DejaVuSans-46\"/>\r\n       <use x=\"95.410156\" xlink:href=\"#DejaVuSans-55\"/>\r\n       <use x=\"159.033203\" xlink:href=\"#DejaVuSans-53\"/>\r\n      </g>\r\n     </g>\r\n    </g>\r\n    <g id=\"ytick_5\">\r\n     <g id=\"line2d_14\">\r\n      <g>\r\n       <use style=\"stroke:#000000;stroke-width:0.8;\" x=\"50.14375\" xlink:href=\"#m07297e32e1\" y=\"100.655011\"/>\r\n      </g>\r\n     </g>\r\n     <g id=\"text_15\">\r\n      <!-- 1.00 -->\r\n      <g transform=\"translate(20.878125 104.45423)scale(0.1 -0.1)\">\r\n       <use xlink:href=\"#DejaVuSans-49\"/>\r\n       <use x=\"63.623047\" xlink:href=\"#DejaVuSans-46\"/>\r\n       <use x=\"95.410156\" xlink:href=\"#DejaVuSans-48\"/>\r\n       <use x=\"159.033203\" xlink:href=\"#DejaVuSans-48\"/>\r\n      </g>\r\n     </g>\r\n    </g>\r\n    <g id=\"ytick_6\">\r\n     <g id=\"line2d_15\">\r\n      <g>\r\n       <use style=\"stroke:#000000;stroke-width:0.8;\" x=\"50.14375\" xlink:href=\"#m07297e32e1\" y=\"71.008236\"/>\r\n      </g>\r\n     </g>\r\n     <g id=\"text_16\">\r\n      <!-- 1.25 -->\r\n      <g transform=\"translate(20.878125 74.807455)scale(0.1 -0.1)\">\r\n       <use xlink:href=\"#DejaVuSans-49\"/>\r\n       <use x=\"63.623047\" xlink:href=\"#DejaVuSans-46\"/>\r\n       <use x=\"95.410156\" xlink:href=\"#DejaVuSans-50\"/>\r\n       <use x=\"159.033203\" xlink:href=\"#DejaVuSans-53\"/>\r\n      </g>\r\n     </g>\r\n    </g>\r\n    <g id=\"ytick_7\">\r\n     <g id=\"line2d_16\">\r\n      <g>\r\n       <use style=\"stroke:#000000;stroke-width:0.8;\" x=\"50.14375\" xlink:href=\"#m07297e32e1\" y=\"41.361461\"/>\r\n      </g>\r\n     </g>\r\n     <g id=\"text_17\">\r\n      <!-- 1.50 -->\r\n      <g transform=\"translate(20.878125 45.16068)scale(0.1 -0.1)\">\r\n       <use xlink:href=\"#DejaVuSans-49\"/>\r\n       <use x=\"63.623047\" xlink:href=\"#DejaVuSans-46\"/>\r\n       <use x=\"95.410156\" xlink:href=\"#DejaVuSans-53\"/>\r\n       <use x=\"159.033203\" xlink:href=\"#DejaVuSans-48\"/>\r\n      </g>\r\n     </g>\r\n    </g>\r\n    <g id=\"ytick_8\">\r\n     <g id=\"line2d_17\">\r\n      <g>\r\n       <use style=\"stroke:#000000;stroke-width:0.8;\" x=\"50.14375\" xlink:href=\"#m07297e32e1\" y=\"11.714686\"/>\r\n      </g>\r\n     </g>\r\n     <g id=\"text_18\">\r\n      <!-- 1.75 -->\r\n      <g transform=\"translate(20.878125 15.513905)scale(0.1 -0.1)\">\r\n       <use xlink:href=\"#DejaVuSans-49\"/>\r\n       <use x=\"63.623047\" xlink:href=\"#DejaVuSans-46\"/>\r\n       <use x=\"95.410156\" xlink:href=\"#DejaVuSans-55\"/>\r\n       <use x=\"159.033203\" xlink:href=\"#DejaVuSans-53\"/>\r\n      </g>\r\n     </g>\r\n    </g>\r\n    <g id=\"text_19\">\r\n     <!-- Error -->\r\n     <g transform=\"translate(14.798438 128.105156)rotate(-90)scale(0.1 -0.1)\">\r\n      <defs>\r\n       <path d=\"M 41.109375 46.296875 \r\nQ 39.59375 47.171875 37.8125 47.578125 \r\nQ 36.03125 48 33.890625 48 \r\nQ 26.265625 48 22.1875 43.046875 \r\nQ 18.109375 38.09375 18.109375 28.8125 \r\nL 18.109375 0 \r\nL 9.078125 0 \r\nL 9.078125 54.6875 \r\nL 18.109375 54.6875 \r\nL 18.109375 46.1875 \r\nQ 20.953125 51.171875 25.484375 53.578125 \r\nQ 30.03125 56 36.53125 56 \r\nQ 37.453125 56 38.578125 55.875 \r\nQ 39.703125 55.765625 41.0625 55.515625 \r\nz\r\n\" id=\"DejaVuSans-114\"/>\r\n      </defs>\r\n      <use xlink:href=\"#DejaVuSans-69\"/>\r\n      <use x=\"63.183594\" xlink:href=\"#DejaVuSans-114\"/>\r\n      <use x=\"102.546875\" xlink:href=\"#DejaVuSans-114\"/>\r\n      <use x=\"141.410156\" xlink:href=\"#DejaVuSans-111\"/>\r\n      <use x=\"202.591797\" xlink:href=\"#DejaVuSans-114\"/>\r\n     </g>\r\n    </g>\r\n   </g>\r\n   <g id=\"line2d_18\">\r\n    <path clip-path=\"url(#p7d9d010725)\" d=\"M 65.361932 17.083636 \r\nL 67.758496 60.43475 \r\nL 69.356205 85.698331 \r\nL 70.554487 100.518446 \r\nL 71.752769 112.122415 \r\nL 72.951051 120.801933 \r\nL 73.749906 125.833028 \r\nL 75.347615 133.526003 \r\nL 77.344752 140.386168 \r\nL 78.942462 144.56417 \r\nL 80.540171 147.958999 \r\nL 81.738453 150.140615 \r\nL 83.73559 153.238342 \r\nL 86.132154 156.247776 \r\nL 87.729863 157.991949 \r\nL 90.525855 160.572397 \r\nL 94.520128 163.653745 \r\nL 101.70982 168.187527 \r\nL 103.706957 169.34456 \r\nL 115.29035 176.018727 \r\nL 116.888059 177.03582 \r\nL 117.686914 177.520035 \r\nL 120.083478 178.977831 \r\nL 122.480042 180.507167 \r\nL 124.876606 182.008689 \r\nL 125.276033 182.107918 \r\nL 126.074888 182.807034 \r\nL 127.672598 183.727821 \r\nL 128.471452 184.302132 \r\nL 133.664008 187.562422 \r\nL 137.258854 189.743866 \r\nL 141.652555 192.247593 \r\nL 144.448546 193.741006 \r\nL 144.847973 193.787035 \r\nL 145.646828 194.353242 \r\nL 146.84511 194.885173 \r\nL 147.244537 194.950282 \r\nL 147.643965 195.294234 \r\nL 153.235948 197.750357 \r\nL 153.635375 197.686803 \r\nL 154.43423 198.294253 \r\nL 154.833657 198.251777 \r\nL 157.629648 199.431828 \r\nL 158.428503 199.638203 \r\nL 159.227358 199.954098 \r\nL 160.026212 200.102689 \r\nL 160.42564 200.351284 \r\nL 162.023349 200.810149 \r\nL 163.221631 201.207935 \r\nL 168.014759 202.515746 \r\nL 172.807887 203.642099 \r\nL 173.606742 203.694542 \r\nL 174.006169 203.925543 \r\nL 174.405597 203.951221 \r\nL 174.805024 204.143975 \r\nL 176.003306 204.326986 \r\nL 178.799298 204.914441 \r\nL 181.195862 205.349309 \r\nL 181.595289 205.339858 \r\nL 182.394144 205.568446 \r\nL 182.793571 205.456323 \r\nL 183.192998 205.692766 \r\nL 185.589562 206.026385 \r\nL 185.98899 205.984986 \r\nL 186.388417 206.217953 \r\nL 188.784981 206.502539 \r\nL 190.782118 206.799368 \r\nL 191.181545 206.521229 \r\nL 191.580973 206.890753 \r\nL 192.379827 207.06631 \r\nL 193.578109 207.104093 \r\nL 194.376964 207.338318 \r\nL 195.575246 207.41622 \r\nL 195.974673 207.399444 \r\nL 197.572383 207.718134 \r\nL 199.170092 207.898758 \r\nL 200.368374 207.960622 \r\nL 200.767802 208.113231 \r\nL 201.167229 207.993666 \r\nL 201.566656 207.999316 \r\nL 201.966084 207.797436 \r\nL 202.365511 208.232 \r\nL 202.764938 208.270717 \r\nL 203.164366 208.156399 \r\nL 203.563793 208.37116 \r\nL 213.150049 209.28554 \r\nL 213.549477 209.012161 \r\nL 215.147186 209.424717 \r\nL 216.345468 209.50659 \r\nL 220.339741 209.788811 \r\nL 221.138596 209.842371 \r\nL 221.538023 209.750864 \r\nL 221.937451 209.946761 \r\nL 222.336878 209.840948 \r\nL 223.135733 209.997953 \r\nL 225.13287 210.190047 \r\nL 225.532297 210.136428 \r\nL 225.931724 210.240946 \r\nL 226.331152 210.185739 \r\nL 227.529434 210.35383 \r\nL 227.928861 210.270967 \r\nL 228.328288 210.313526 \r\nL 228.727716 210.480455 \r\nL 229.127143 209.995018 \r\nL 229.52657 210.324058 \r\nL 231.12428 210.570859 \r\nL 231.923134 210.492268 \r\nL 232.721989 210.678472 \r\nL 233.121416 210.645028 \r\nL 233.520844 210.744382 \r\nL 233.920271 210.644508 \r\nL 235.51798 210.83976 \r\nL 235.917408 210.777592 \r\nL 237.11569 210.985411 \r\nL 237.914545 210.88711 \r\nL 238.713399 211.066127 \r\nL 239.112827 210.764196 \r\nL 239.512254 211.019918 \r\nL 239.911681 211.072761 \r\nL 240.311109 210.653122 \r\nL 240.710536 211.077314 \r\nL 241.109963 211.164626 \r\nL 241.509391 211.056301 \r\nL 242.308245 211.245401 \r\nL 243.1071 211.267646 \r\nL 243.506527 211.323142 \r\nL 244.305382 211.232557 \r\nL 245.104237 211.386876 \r\nL 246.302519 211.429575 \r\nL 247.500801 211.518425 \r\nL 248.299656 211.539002 \r\nL 253.891638 211.802525 \r\nL 254.291066 211.741952 \r\nL 255.08992 211.869194 \r\nL 255.489348 211.851181 \r\nL 255.888775 211.975746 \r\nL 258.285339 212.018844 \r\nL 259.883048 212.098221 \r\nL 261.081331 212.093886 \r\nL 261.880185 212.226447 \r\nL 262.279613 212.186809 \r\nL 262.67904 212.269819 \r\nL 263.877322 212.187555 \r\nL 265.075604 212.324703 \r\nL 265.874459 212.224345 \r\nL 266.273886 212.362404 \r\nL 270.667587 212.532802 \r\nL 271.067014 212.615652 \r\nL 271.466441 212.485113 \r\nL 272.265296 212.639917 \r\nL 273.064151 212.637548 \r\nL 275.061288 212.741462 \r\nL 275.860142 212.707583 \r\nL 277.058424 212.837195 \r\nL 277.857279 212.800415 \r\nL 280.65327 212.929074 \r\nL 281.851552 212.959122 \r\nL 283.449262 212.997107 \r\nL 283.848689 212.926421 \r\nL 284.647544 213.079748 \r\nL 289.440672 213.18939 \r\nL 290.239527 213.269543 \r\nL 291.437809 213.294406 \r\nL 297.429219 213.473697 \r\nL 298.228074 213.471281 \r\nL 299.426356 213.420605 \r\nL 300.22521 213.521975 \r\nL 301.024065 213.482562 \r\nL 302.222347 213.534902 \r\nL 305.018338 213.682135 \r\nL 305.417766 213.534988 \r\nL 306.21662 213.666487 \r\nL 306.616048 213.496214 \r\nL 307.015475 213.67758 \r\nL 307.81433 213.765531 \r\nL 308.613185 213.689847 \r\nL 311.409176 213.781168 \r\nL 313.80574 213.870338 \r\nL 315.004022 213.82974 \r\nL 315.403449 213.93266 \r\nL 317.001159 213.924513 \r\nL 318.598868 213.965952 \r\nL 319.79715 213.913502 \r\nL 320.196577 213.971241 \r\nL 320.596005 213.68372 \r\nL 320.995432 214.015135 \r\nL 326.986842 214.155486 \r\nL 327.785697 213.784882 \r\nL 328.185124 213.728292 \r\nL 328.584552 214.1046 \r\nL 329.383406 214.118226 \r\nL 329.782834 214.208488 \r\nL 330.581688 214.224941 \r\nL 330.981116 213.953838 \r\nL 331.380543 214.252186 \r\nL 331.77997 213.98693 \r\nL 332.578825 214.281488 \r\nL 332.978253 214.137486 \r\nL 333.777107 214.194113 \r\nL 334.176535 214.059642 \r\nL 334.575962 214.282501 \r\nL 335.774244 214.305197 \r\nL 336.173671 214.137085 \r\nL 336.972526 214.267074 \r\nL 337.371953 214.233875 \r\nL 337.771381 214.331313 \r\nL 338.170808 214.278097 \r\nL 338.570235 214.390316 \r\nL 338.969663 214.315956 \r\nL 339.36909 214.069193 \r\nL 339.768517 214.389566 \r\nL 340.567372 214.351108 \r\nL 341.366227 214.353877 \r\nL 341.765654 214.233246 \r\nL 342.564509 214.433226 \r\nL 343.762791 214.434676 \r\nL 350.153628 214.496565 \r\nL 350.553056 214.469044 \r\nL 350.952483 214.561246 \r\nL 351.751338 214.541499 \r\nL 353.349047 214.506196 \r\nL 354.547329 214.57816 \r\nL 354.946756 214.448583 \r\nL 355.346184 214.645853 \r\nL 355.745611 214.466298 \r\nL 356.544466 214.5322 \r\nL 356.943893 214.644375 \r\nL 357.343321 214.457787 \r\nL 358.541603 214.670145 \r\nL 358.94103 214.56328 \r\nL 359.340457 214.648157 \r\nL 360.538739 214.501624 \r\nL 361.337594 214.654981 \r\nL 362.535876 214.644793 \r\nL 366.130722 214.70474 \r\nL 366.530149 214.599861 \r\nL 367.329004 214.749361 \r\nL 368.926713 214.655763 \r\nL 369.725568 214.756364 \r\nL 369.725568 214.756364 \r\n\" style=\"fill:none;stroke:#1f77b4;stroke-linecap:square;stroke-width:1.5;\"/>\r\n   </g>\r\n   <g id=\"patch_3\">\r\n    <path d=\"M 50.14375 224.64 \r\nL 50.14375 7.2 \r\n\" style=\"fill:none;stroke:#000000;stroke-linecap:square;stroke-linejoin:miter;stroke-width:0.8;\"/>\r\n   </g>\r\n   <g id=\"patch_4\">\r\n    <path d=\"M 384.94375 224.64 \r\nL 384.94375 7.2 \r\n\" style=\"fill:none;stroke:#000000;stroke-linecap:square;stroke-linejoin:miter;stroke-width:0.8;\"/>\r\n   </g>\r\n   <g id=\"patch_5\">\r\n    <path d=\"M 50.14375 224.64 \r\nL 384.94375 224.64 \r\n\" style=\"fill:none;stroke:#000000;stroke-linecap:square;stroke-linejoin:miter;stroke-width:0.8;\"/>\r\n   </g>\r\n   <g id=\"patch_6\">\r\n    <path d=\"M 50.14375 7.2 \r\nL 384.94375 7.2 \r\n\" style=\"fill:none;stroke:#000000;stroke-linecap:square;stroke-linejoin:miter;stroke-width:0.8;\"/>\r\n   </g>\r\n  </g>\r\n </g>\r\n <defs>\r\n  <clipPath id=\"p7d9d010725\">\r\n   <rect height=\"217.44\" width=\"334.8\" x=\"50.14375\" y=\"7.2\"/>\r\n  </clipPath>\r\n </defs>\r\n</svg>\r\n",
            "image/png": "[encoded data removed]"
          },
          "metadata": {
            "needs_background": "light"
          }
        }
      ],
      "source": [
        "import matplotlib.pyplot as plt\n",
        "plt.xlabel('Epoch')\n",
        "plt.ylabel('Error')\n",
        "plt.plot(network.loss_curve_)\n",
        "plt.show()"
      ]
    },
    {
      "cell_type": "code",
      "execution_count": 33,
      "metadata": {},
      "outputs": [
        {
          "output_type": "execute_result",
          "data": {
            "text/plain": [
              "(4, 8)"
            ]
          },
          "metadata": {},
          "execution_count": 33
        }
      ],
      "source": [
        "network.hidden_layer_sizes"
      ]
    },
    {
      "cell_type": "code",
      "execution_count": 34,
      "metadata": {},
      "outputs": [
        {
          "output_type": "execute_result",
          "data": {
            "text/plain": [
              "(120, 4)"
            ]
          },
          "metadata": {},
          "execution_count": 34
        }
      ],
      "source": [
        "X_train.shape"
      ]
    },
    {
      "cell_type": "code",
      "execution_count": 16,
      "metadata": {},
      "outputs": [],
      "source": [
        "import VisualizeNN as VisNN\n",
        "import numpy as np"
      ]
    },
    {
      "cell_type": "code",
      "execution_count": 17,
      "metadata": {},
      "outputs": [
        {
          "output_type": "display_data",
          "data": {
            "text/plain": "<Figure size 864x648 with 1 Axes>",
            "image/svg+xml": "<?xml version=\"1.0\" encoding=\"utf-8\" standalone=\"no\"?>\r\n<!DOCTYPE svg PUBLIC \"-//W3C//DTD SVG 1.1//EN\"\r\n  \"http://www.w3.org/Graphics/SVG/1.1/DTD/svg11.dtd\">\r\n<!-- Created with matplotlib (https://matplotlib.org/) -->\r\n<svg height=\"521.037656pt\" version=\"1.1\" viewBox=\"0 0 509.503565 521.037656\" width=\"509.503565pt\" xmlns=\"http://www.w3.org/2000/svg\" xmlns:xlink=\"http://www.w3.org/1999/xlink\">\r\n <metadata>\r\n  <rdf:RDF xmlns:cc=\"http://creativecommons.org/ns#\" xmlns:dc=\"http://purl.org/dc/elements/1.1/\" xmlns:rdf=\"http://www.w3.org/1999/02/22-rdf-syntax-ns#\">\r\n   <cc:Work>\r\n    <dc:type rdf:resource=\"http://purl.org/dc/dcmitype/StillImage\"/>\r\n    <dc:date>2021-05-16T01:57:27.596584</dc:date>\r\n    <dc:format>image/svg+xml</dc:format>\r\n    <dc:creator>\r\n     <cc:Agent>\r\n      <dc:title>Matplotlib v3.3.3, https://matplotlib.org/</dc:title>\r\n     </cc:Agent>\r\n    </dc:creator>\r\n   </cc:Work>\r\n  </rdf:RDF>\r\n </metadata>\r\n <defs>\r\n  <style type=\"text/css\">*{stroke-linecap:butt;stroke-linejoin:round;}</style>\r\n </defs>\r\n <g id=\"figure_1\">\r\n  <g id=\"patch_1\">\r\n   <path d=\"M 0 521.037656 \r\nL 509.503565 521.037656 \r\nL 509.503565 0 \r\nL 0 0 \r\nz\r\n\" style=\"fill:none;\"/>\r\n  </g>\r\n  <g id=\"axes_1\">\r\n   <g id=\"patch_2\">\r\n    <path clip-path=\"url(#p3f7109185f)\" d=\"M 130.095215 491.599474 \r\nC 133.199234 491.599474 136.176537 490.366235 138.37141 488.171363 \r\nC 140.566282 485.97649 141.799522 482.999187 141.799522 479.895168 \r\nC 141.799522 476.79115 140.566282 473.813846 138.37141 471.618974 \r\nC 136.176537 469.424102 133.199234 468.190862 130.095215 468.190862 \r\nC 126.991197 468.190862 124.013893 469.424102 121.819021 471.618974 \r\nC 119.624149 473.813846 118.390909 476.79115 118.390909 479.895168 \r\nC 118.390909 482.999187 119.624149 485.97649 121.819021 488.171363 \r\nC 124.013893 490.366235 126.991197 491.599474 130.095215 491.599474 \r\nz\r\n\" style=\"fill:none;stroke:#000000;stroke-linejoin:miter;\"/>\r\n   </g>\r\n   <g id=\"patch_3\">\r\n    <path clip-path=\"url(#p3f7109185f)\" d=\"M 176.91244 491.599474 \r\nC 180.016458 491.599474 182.993762 490.366235 185.188634 488.171363 \r\nC 187.383507 485.97649 188.616746 482.999187 188.616746 479.895168 \r\nC 188.616746 476.79115 187.383507 473.813846 185.188634 471.618974 \r\nC 182.993762 469.424102 180.016458 468.190862 176.91244 468.190862 \r\nC 173.808422 468.190862 170.831118 469.424102 168.636246 471.618974 \r\nC 166.441374 473.813846 165.208134 476.79115 165.208134 479.895168 \r\nC 165.208134 482.999187 166.441374 485.97649 168.636246 488.171363 \r\nC 170.831118 490.366235 173.808422 491.599474 176.91244 491.599474 \r\nz\r\n\" style=\"fill:none;stroke:#000000;stroke-linejoin:miter;\"/>\r\n   </g>\r\n   <g id=\"patch_4\">\r\n    <path clip-path=\"url(#p3f7109185f)\" d=\"M 223.729665 491.599474 \r\nC 226.833683 491.599474 229.810987 490.366235 232.005859 488.171363 \r\nC 234.200732 485.97649 235.433971 482.999187 235.433971 479.895168 \r\nC 235.433971 476.79115 234.200732 473.813846 232.005859 471.618974 \r\nC 229.810987 469.424102 226.833683 468.190862 223.729665 468.190862 \r\nC 220.625647 468.190862 217.648343 469.424102 215.453471 471.618974 \r\nC 213.258598 473.813846 212.025359 476.79115 212.025359 479.895168 \r\nC 212.025359 482.999187 213.258598 485.97649 215.453471 488.171363 \r\nC 217.648343 490.366235 220.625647 491.599474 223.729665 491.599474 \r\nz\r\n\" style=\"fill:none;stroke:#000000;stroke-linejoin:miter;\"/>\r\n   </g>\r\n   <g id=\"patch_5\">\r\n    <path clip-path=\"url(#p3f7109185f)\" d=\"M 270.54689 491.599474 \r\nC 273.650908 491.599474 276.628212 490.366235 278.823084 488.171363 \r\nC 281.017957 485.97649 282.251196 482.999187 282.251196 479.895168 \r\nC 282.251196 476.79115 281.017957 473.813846 278.823084 471.618974 \r\nC 276.628212 469.424102 273.650908 468.190862 270.54689 468.190862 \r\nC 267.442872 468.190862 264.465568 469.424102 262.270696 471.618974 \r\nC 260.075823 473.813846 258.842584 476.79115 258.842584 479.895168 \r\nC 258.842584 482.999187 260.075823 485.97649 262.270696 488.171363 \r\nC 264.465568 490.366235 267.442872 491.599474 270.54689 491.599474 \r\nz\r\n\" style=\"fill:none;stroke:#000000;stroke-linejoin:miter;\"/>\r\n   </g>\r\n   <g id=\"patch_6\">\r\n    <path clip-path=\"url(#p3f7109185f)\" d=\"M 130.095215 351.1478 \r\nC 133.199234 351.1478 136.176537 349.91456 138.37141 347.719688 \r\nC 140.566282 345.524815 141.799522 342.547512 141.799522 339.443494 \r\nC 141.799522 336.339475 140.566282 333.362172 138.37141 331.167299 \r\nC 136.176537 328.972427 133.199234 327.739187 130.095215 327.739187 \r\nC 126.991197 327.739187 124.013893 328.972427 121.819021 331.167299 \r\nC 119.624149 333.362172 118.390909 336.339475 118.390909 339.443494 \r\nC 118.390909 342.547512 119.624149 345.524815 121.819021 347.719688 \r\nC 124.013893 349.91456 126.991197 351.1478 130.095215 351.1478 \r\nz\r\n\" style=\"fill:none;stroke:#000000;stroke-linejoin:miter;\"/>\r\n   </g>\r\n   <g id=\"patch_7\">\r\n    <path clip-path=\"url(#p3f7109185f)\" d=\"M 176.91244 351.1478 \r\nC 180.016458 351.1478 182.993762 349.91456 185.188634 347.719688 \r\nC 187.383507 345.524815 188.616746 342.547512 188.616746 339.443494 \r\nC 188.616746 336.339475 187.383507 333.362172 185.188634 331.167299 \r\nC 182.993762 328.972427 180.016458 327.739187 176.91244 327.739187 \r\nC 173.808422 327.739187 170.831118 328.972427 168.636246 331.167299 \r\nC 166.441374 333.362172 165.208134 336.339475 165.208134 339.443494 \r\nC 165.208134 342.547512 166.441374 345.524815 168.636246 347.719688 \r\nC 170.831118 349.91456 173.808422 351.1478 176.91244 351.1478 \r\nz\r\n\" style=\"fill:none;stroke:#000000;stroke-linejoin:miter;\"/>\r\n   </g>\r\n   <g id=\"patch_8\">\r\n    <path clip-path=\"url(#p3f7109185f)\" d=\"M 223.729665 351.1478 \r\nC 226.833683 351.1478 229.810987 349.91456 232.005859 347.719688 \r\nC 234.200732 345.524815 235.433971 342.547512 235.433971 339.443494 \r\nC 235.433971 336.339475 234.200732 333.362172 232.005859 331.167299 \r\nC 229.810987 328.972427 226.833683 327.739187 223.729665 327.739187 \r\nC 220.625647 327.739187 217.648343 328.972427 215.453471 331.167299 \r\nC 213.258598 333.362172 212.025359 336.339475 212.025359 339.443494 \r\nC 212.025359 342.547512 213.258598 345.524815 215.453471 347.719688 \r\nC 217.648343 349.91456 220.625647 351.1478 223.729665 351.1478 \r\nz\r\n\" style=\"fill:none;stroke:#000000;stroke-linejoin:miter;\"/>\r\n   </g>\r\n   <g id=\"patch_9\">\r\n    <path clip-path=\"url(#p3f7109185f)\" d=\"M 270.54689 351.1478 \r\nC 273.650908 351.1478 276.628212 349.91456 278.823084 347.719688 \r\nC 281.017957 345.524815 282.251196 342.547512 282.251196 339.443494 \r\nC 282.251196 336.339475 281.017957 333.362172 278.823084 331.167299 \r\nC 276.628212 328.972427 273.650908 327.739187 270.54689 327.739187 \r\nC 267.442872 327.739187 264.465568 328.972427 262.270696 331.167299 \r\nC 260.075823 333.362172 258.842584 336.339475 258.842584 339.443494 \r\nC 258.842584 342.547512 260.075823 345.524815 262.270696 347.719688 \r\nC 264.465568 349.91456 267.442872 351.1478 270.54689 351.1478 \r\nz\r\n\" style=\"fill:none;stroke:#000000;stroke-linejoin:miter;\"/>\r\n   </g>\r\n   <g id=\"patch_10\">\r\n    <path clip-path=\"url(#p3f7109185f)\" d=\"M 36.460766 210.696125 \r\nC 39.564784 210.696125 42.542087 209.462886 44.73696 207.268013 \r\nC 46.931832 205.073141 48.165072 202.095837 48.165072 198.991819 \r\nC 48.165072 195.887801 46.931832 192.910497 44.73696 190.715625 \r\nC 42.542087 188.520752 39.564784 187.287513 36.460766 187.287513 \r\nC 33.356747 187.287513 30.379444 188.520752 28.184571 190.715625 \r\nC 25.989699 192.910497 24.756459 195.887801 24.756459 198.991819 \r\nC 24.756459 202.095837 25.989699 205.073141 28.184571 207.268013 \r\nC 30.379444 209.462886 33.356747 210.696125 36.460766 210.696125 \r\nz\r\n\" style=\"fill:none;stroke:#000000;stroke-linejoin:miter;\"/>\r\n   </g>\r\n   <g id=\"patch_11\">\r\n    <path clip-path=\"url(#p3f7109185f)\" d=\"M 83.27799 210.696125 \r\nC 86.382009 210.696125 89.359312 209.462886 91.554185 207.268013 \r\nC 93.749057 205.073141 94.982297 202.095837 94.982297 198.991819 \r\nC 94.982297 195.887801 93.749057 192.910497 91.554185 190.715625 \r\nC 89.359312 188.520752 86.382009 187.287513 83.27799 187.287513 \r\nC 80.173972 187.287513 77.196669 188.520752 75.001796 190.715625 \r\nC 72.806924 192.910497 71.573684 195.887801 71.573684 198.991819 \r\nC 71.573684 202.095837 72.806924 205.073141 75.001796 207.268013 \r\nC 77.196669 209.462886 80.173972 210.696125 83.27799 210.696125 \r\nz\r\n\" style=\"fill:none;stroke:#000000;stroke-linejoin:miter;\"/>\r\n   </g>\r\n   <g id=\"patch_12\">\r\n    <path clip-path=\"url(#p3f7109185f)\" d=\"M 130.095215 210.696125 \r\nC 133.199234 210.696125 136.176537 209.462886 138.37141 207.268013 \r\nC 140.566282 205.073141 141.799522 202.095837 141.799522 198.991819 \r\nC 141.799522 195.887801 140.566282 192.910497 138.37141 190.715625 \r\nC 136.176537 188.520752 133.199234 187.287513 130.095215 187.287513 \r\nC 126.991197 187.287513 124.013893 188.520752 121.819021 190.715625 \r\nC 119.624149 192.910497 118.390909 195.887801 118.390909 198.991819 \r\nC 118.390909 202.095837 119.624149 205.073141 121.819021 207.268013 \r\nC 124.013893 209.462886 126.991197 210.696125 130.095215 210.696125 \r\nz\r\n\" style=\"fill:none;stroke:#000000;stroke-linejoin:miter;\"/>\r\n   </g>\r\n   <g id=\"patch_13\">\r\n    <path clip-path=\"url(#p3f7109185f)\" d=\"M 176.91244 210.696125 \r\nC 180.016458 210.696125 182.993762 209.462886 185.188634 207.268013 \r\nC 187.383507 205.073141 188.616746 202.095837 188.616746 198.991819 \r\nC 188.616746 195.887801 187.383507 192.910497 185.188634 190.715625 \r\nC 182.993762 188.520752 180.016458 187.287513 176.91244 187.287513 \r\nC 173.808422 187.287513 170.831118 188.520752 168.636246 190.715625 \r\nC 166.441374 192.910497 165.208134 195.887801 165.208134 198.991819 \r\nC 165.208134 202.095837 166.441374 205.073141 168.636246 207.268013 \r\nC 170.831118 209.462886 173.808422 210.696125 176.91244 210.696125 \r\nz\r\n\" style=\"fill:none;stroke:#000000;stroke-linejoin:miter;\"/>\r\n   </g>\r\n   <g id=\"patch_14\">\r\n    <path clip-path=\"url(#p3f7109185f)\" d=\"M 223.729665 210.696125 \r\nC 226.833683 210.696125 229.810987 209.462886 232.005859 207.268013 \r\nC 234.200732 205.073141 235.433971 202.095837 235.433971 198.991819 \r\nC 235.433971 195.887801 234.200732 192.910497 232.005859 190.715625 \r\nC 229.810987 188.520752 226.833683 187.287513 223.729665 187.287513 \r\nC 220.625647 187.287513 217.648343 188.520752 215.453471 190.715625 \r\nC 213.258598 192.910497 212.025359 195.887801 212.025359 198.991819 \r\nC 212.025359 202.095837 213.258598 205.073141 215.453471 207.268013 \r\nC 217.648343 209.462886 220.625647 210.696125 223.729665 210.696125 \r\nz\r\n\" style=\"fill:none;stroke:#000000;stroke-linejoin:miter;\"/>\r\n   </g>\r\n   <g id=\"patch_15\">\r\n    <path clip-path=\"url(#p3f7109185f)\" d=\"M 270.54689 210.696125 \r\nC 273.650908 210.696125 276.628212 209.462886 278.823084 207.268013 \r\nC 281.017957 205.073141 282.251196 202.095837 282.251196 198.991819 \r\nC 282.251196 195.887801 281.017957 192.910497 278.823084 190.715625 \r\nC 276.628212 188.520752 273.650908 187.287513 270.54689 187.287513 \r\nC 267.442872 187.287513 264.465568 188.520752 262.270696 190.715625 \r\nC 260.075823 192.910497 258.842584 195.887801 258.842584 198.991819 \r\nC 258.842584 202.095837 260.075823 205.073141 262.270696 207.268013 \r\nC 264.465568 209.462886 267.442872 210.696125 270.54689 210.696125 \r\nz\r\n\" style=\"fill:none;stroke:#000000;stroke-linejoin:miter;\"/>\r\n   </g>\r\n   <g id=\"patch_16\">\r\n    <path clip-path=\"url(#p3f7109185f)\" d=\"M 317.364115 210.696125 \r\nC 320.468133 210.696125 323.445437 209.462886 325.640309 207.268013 \r\nC 327.835182 205.073141 329.068421 202.095837 329.068421 198.991819 \r\nC 329.068421 195.887801 327.835182 192.910497 325.640309 190.715625 \r\nC 323.445437 188.520752 320.468133 187.287513 317.364115 187.287513 \r\nC 314.260097 187.287513 311.282793 188.520752 309.087921 190.715625 \r\nC 306.893048 192.910497 305.659809 195.887801 305.659809 198.991819 \r\nC 305.659809 202.095837 306.893048 205.073141 309.087921 207.268013 \r\nC 311.282793 209.462886 314.260097 210.696125 317.364115 210.696125 \r\nz\r\n\" style=\"fill:none;stroke:#000000;stroke-linejoin:miter;\"/>\r\n   </g>\r\n   <g id=\"patch_17\">\r\n    <path clip-path=\"url(#p3f7109185f)\" d=\"M 364.18134 210.696125 \r\nC 367.285358 210.696125 370.262662 209.462886 372.457534 207.268013 \r\nC 374.652406 205.073141 375.885646 202.095837 375.885646 198.991819 \r\nC 375.885646 195.887801 374.652406 192.910497 372.457534 190.715625 \r\nC 370.262662 188.520752 367.285358 187.287513 364.18134 187.287513 \r\nC 361.077321 187.287513 358.100018 188.520752 355.905145 190.715625 \r\nC 353.710273 192.910497 352.477033 195.887801 352.477033 198.991819 \r\nC 352.477033 202.095837 353.710273 205.073141 355.905145 207.268013 \r\nC 358.100018 209.462886 361.077321 210.696125 364.18134 210.696125 \r\nz\r\n\" style=\"fill:none;stroke:#000000;stroke-linejoin:miter;\"/>\r\n   </g>\r\n   <g id=\"patch_18\">\r\n    <path clip-path=\"url(#p3f7109185f)\" d=\"M 153.503828 70.244451 \r\nC 156.607846 70.244451 159.58515 69.011211 161.780022 66.816339 \r\nC 163.974894 64.621466 165.208134 61.644163 165.208134 58.540144 \r\nC 165.208134 55.436126 163.974894 52.458822 161.780022 50.26395 \r\nC 159.58515 48.069078 156.607846 46.835838 153.503828 46.835838 \r\nC 150.399809 46.835838 147.422506 48.069078 145.227633 50.26395 \r\nC 143.032761 52.458822 141.799522 55.436126 141.799522 58.540144 \r\nC 141.799522 61.644163 143.032761 64.621466 145.227633 66.816339 \r\nC 147.422506 69.011211 150.399809 70.244451 153.503828 70.244451 \r\nz\r\n\" style=\"fill:none;stroke:#000000;stroke-linejoin:miter;\"/>\r\n   </g>\r\n   <g id=\"patch_19\">\r\n    <path clip-path=\"url(#p3f7109185f)\" d=\"M 200.321053 70.244451 \r\nC 203.425071 70.244451 206.402375 69.011211 208.597247 66.816339 \r\nC 210.792119 64.621466 212.025359 61.644163 212.025359 58.540144 \r\nC 212.025359 55.436126 210.792119 52.458822 208.597247 50.26395 \r\nC 206.402375 48.069078 203.425071 46.835838 200.321053 46.835838 \r\nC 197.217034 46.835838 194.239731 48.069078 192.044858 50.26395 \r\nC 189.849986 52.458822 188.616746 55.436126 188.616746 58.540144 \r\nC 188.616746 61.644163 189.849986 64.621466 192.044858 66.816339 \r\nC 194.239731 69.011211 197.217034 70.244451 200.321053 70.244451 \r\nz\r\n\" style=\"fill:none;stroke:#000000;stroke-linejoin:miter;\"/>\r\n   </g>\r\n   <g id=\"patch_20\">\r\n    <path clip-path=\"url(#p3f7109185f)\" d=\"M 247.138278 70.244451 \r\nC 250.242296 70.244451 253.219599 69.011211 255.414472 66.816339 \r\nC 257.609344 64.621466 258.842584 61.644163 258.842584 58.540144 \r\nC 258.842584 55.436126 257.609344 52.458822 255.414472 50.26395 \r\nC 253.219599 48.069078 250.242296 46.835838 247.138278 46.835838 \r\nC 244.034259 46.835838 241.056956 48.069078 238.862083 50.26395 \r\nC 236.667211 52.458822 235.433971 55.436126 235.433971 58.540144 \r\nC 235.433971 61.644163 236.667211 64.621466 238.862083 66.816339 \r\nC 241.056956 69.011211 244.034259 70.244451 247.138278 70.244451 \r\nz\r\n\" style=\"fill:none;stroke:#000000;stroke-linejoin:miter;\"/>\r\n   </g>\r\n   <g id=\"line2d_1\">\r\n    <path clip-path=\"url(#p3f7109185f)\" d=\"M 130.095215 351.1478 \r\nL 130.095215 468.190862 \r\n\" style=\"fill:none;stroke:#ff7f0e;stroke-linecap:square;stroke-width:0.4;\"/>\r\n   </g>\r\n   <g id=\"line2d_2\">\r\n    <path clip-path=\"url(#p3f7109185f)\" d=\"M 133.796442 350.547173 \r\nL 173.211214 468.791488 \r\n\" style=\"fill:none;stroke:#ff7f0e;stroke-linecap:square;stroke-width:0.4;\"/>\r\n   </g>\r\n   <g id=\"line2d_3\">\r\n    <path clip-path=\"url(#p3f7109185f)\" d=\"M 136.587596 349.182065 \r\nL 217.237284 470.156597 \r\n\" style=\"fill:none;stroke:#ff7f0e;stroke-linecap:square;stroke-width:0.4;\"/>\r\n   </g>\r\n   <g id=\"line2d_4\">\r\n    <path clip-path=\"url(#p3f7109185f)\" d=\"M 138.37141 347.719688 \r\nL 262.270696 471.618974 \r\n\" style=\"fill:none;stroke:#ff7f0e;stroke-linecap:square;stroke-width:0.4;\"/>\r\n   </g>\r\n   <g id=\"line2d_5\">\r\n    <path clip-path=\"url(#p3f7109185f)\" d=\"M 173.211214 350.547173 \r\nL 133.796442 468.791488 \r\n\" style=\"fill:none;stroke:#ff7f0e;stroke-linecap:square;stroke-width:0.4;\"/>\r\n   </g>\r\n   <g id=\"line2d_6\">\r\n    <path clip-path=\"url(#p3f7109185f)\" d=\"M 176.91244 351.1478 \r\nL 176.91244 468.190862 \r\n\" style=\"fill:none;stroke:#ff7f0e;stroke-linecap:square;stroke-width:0.4;\"/>\r\n   </g>\r\n   <g id=\"line2d_7\">\r\n    <path clip-path=\"url(#p3f7109185f)\" d=\"M 180.613667 350.547173 \r\nL 220.028438 468.791488 \r\n\" style=\"fill:none;stroke:#ff7f0e;stroke-linecap:square;stroke-width:0.4;\"/>\r\n   </g>\r\n   <g id=\"line2d_8\">\r\n    <path clip-path=\"url(#p3f7109185f)\" d=\"M 183.404821 349.182065 \r\nL 264.054509 470.156597 \r\n\" style=\"fill:none;stroke:#ff7f0e;stroke-linecap:square;stroke-width:0.4;\"/>\r\n   </g>\r\n   <g id=\"line2d_9\">\r\n    <path clip-path=\"url(#p3f7109185f)\" d=\"M 217.237284 349.182065 \r\nL 136.587596 470.156597 \r\n\" style=\"fill:none;stroke:#ff7f0e;stroke-linecap:square;stroke-width:0.4;\"/>\r\n   </g>\r\n   <g id=\"line2d_10\">\r\n    <path clip-path=\"url(#p3f7109185f)\" d=\"M 220.028438 350.547173 \r\nL 180.613667 468.791488 \r\n\" style=\"fill:none;stroke:#ff7f0e;stroke-linecap:square;stroke-width:0.4;\"/>\r\n   </g>\r\n   <g id=\"line2d_11\">\r\n    <path clip-path=\"url(#p3f7109185f)\" d=\"M 223.729665 351.1478 \r\nL 223.729665 468.190862 \r\n\" style=\"fill:none;stroke:#ff7f0e;stroke-linecap:square;stroke-width:0.4;\"/>\r\n   </g>\r\n   <g id=\"line2d_12\">\r\n    <path clip-path=\"url(#p3f7109185f)\" d=\"M 227.430892 350.547173 \r\nL 266.845663 468.791488 \r\n\" style=\"fill:none;stroke:#ff7f0e;stroke-linecap:square;stroke-width:0.4;\"/>\r\n   </g>\r\n   <g id=\"line2d_13\">\r\n    <path clip-path=\"url(#p3f7109185f)\" d=\"M 262.270696 347.719688 \r\nL 138.37141 471.618974 \r\n\" style=\"fill:none;stroke:#ff7f0e;stroke-linecap:square;stroke-width:0.4;\"/>\r\n   </g>\r\n   <g id=\"line2d_14\">\r\n    <path clip-path=\"url(#p3f7109185f)\" d=\"M 264.054509 349.182065 \r\nL 183.404821 470.156597 \r\n\" style=\"fill:none;stroke:#ff7f0e;stroke-linecap:square;stroke-width:0.4;\"/>\r\n   </g>\r\n   <g id=\"line2d_15\">\r\n    <path clip-path=\"url(#p3f7109185f)\" d=\"M 266.845663 350.547173 \r\nL 227.430892 468.791488 \r\n\" style=\"fill:none;stroke:#ff7f0e;stroke-linecap:square;stroke-width:0.4;\"/>\r\n   </g>\r\n   <g id=\"line2d_16\">\r\n    <path clip-path=\"url(#p3f7109185f)\" d=\"M 270.54689 351.1478 \r\nL 270.54689 468.190862 \r\n\" style=\"fill:none;stroke:#ff7f0e;stroke-linecap:square;stroke-width:0.4;\"/>\r\n   </g>\r\n   <g id=\"line2d_17\">\r\n    <path clip-path=\"url(#p3f7109185f)\" d=\"M 42.953147 208.73039 \r\nL 123.602834 329.704922 \r\n\" style=\"fill:none;stroke:#ff7f0e;stroke-linecap:square;stroke-width:0.4;\"/>\r\n   </g>\r\n   <g id=\"line2d_18\">\r\n    <path clip-path=\"url(#p3f7109185f)\" d=\"M 44.73696 207.268013 \r\nL 168.636246 331.167299 \r\n\" style=\"fill:none;stroke:#ff7f0e;stroke-linecap:square;stroke-width:0.4;\"/>\r\n   </g>\r\n   <g id=\"line2d_19\">\r\n    <path clip-path=\"url(#p3f7109185f)\" d=\"M 45.824211 206.014403 \r\nL 214.36622 332.42091 \r\n\" style=\"fill:none;stroke:#ff7f0e;stroke-linecap:square;stroke-width:0.4;\"/>\r\n   </g>\r\n   <g id=\"line2d_20\">\r\n    <path clip-path=\"url(#p3f7109185f)\" d=\"M 46.497125 205.013635 \r\nL 260.51053 333.421678 \r\n\" style=\"fill:none;stroke:#ff7f0e;stroke-linecap:square;stroke-width:0.4;\"/>\r\n   </g>\r\n   <g id=\"line2d_21\">\r\n    <path clip-path=\"url(#p3f7109185f)\" d=\"M 86.979217 210.095499 \r\nL 126.393989 328.339814 \r\n\" style=\"fill:none;stroke:#ff7f0e;stroke-linecap:square;stroke-width:0.4;\"/>\r\n   </g>\r\n   <g id=\"line2d_22\">\r\n    <path clip-path=\"url(#p3f7109185f)\" d=\"M 89.770371 208.73039 \r\nL 170.420059 329.704922 \r\n\" style=\"fill:none;stroke:#ff7f0e;stroke-linecap:square;stroke-width:0.4;\"/>\r\n   </g>\r\n   <g id=\"line2d_23\">\r\n    <path clip-path=\"url(#p3f7109185f)\" d=\"M 91.554185 207.268013 \r\nL 215.453471 331.167299 \r\n\" style=\"fill:none;stroke:#ff7f0e;stroke-linecap:square;stroke-width:0.4;\"/>\r\n   </g>\r\n   <g id=\"line2d_24\">\r\n    <path clip-path=\"url(#p3f7109185f)\" d=\"M 92.641435 206.014403 \r\nL 261.183445 332.42091 \r\n\" style=\"fill:none;stroke:#ff7f0e;stroke-linecap:square;stroke-width:0.4;\"/>\r\n   </g>\r\n   <g id=\"line2d_25\">\r\n    <path clip-path=\"url(#p3f7109185f)\" d=\"M 130.095215 210.696125 \r\nL 130.095215 327.739187 \r\n\" style=\"fill:none;stroke:#ff7f0e;stroke-linecap:square;stroke-width:0.4;\"/>\r\n   </g>\r\n   <g id=\"line2d_26\">\r\n    <path clip-path=\"url(#p3f7109185f)\" d=\"M 133.796442 210.095499 \r\nL 173.211214 328.339814 \r\n\" style=\"fill:none;stroke:#ff7f0e;stroke-linecap:square;stroke-width:0.4;\"/>\r\n   </g>\r\n   <g id=\"line2d_27\">\r\n    <path clip-path=\"url(#p3f7109185f)\" d=\"M 136.587596 208.73039 \r\nL 217.237284 329.704922 \r\n\" style=\"fill:none;stroke:#ff7f0e;stroke-linecap:square;stroke-width:0.4;\"/>\r\n   </g>\r\n   <g id=\"line2d_28\">\r\n    <path clip-path=\"url(#p3f7109185f)\" d=\"M 138.37141 207.268013 \r\nL 262.270696 331.167299 \r\n\" style=\"fill:none;stroke:#ff7f0e;stroke-linecap:square;stroke-width:0.4;\"/>\r\n   </g>\r\n   <g id=\"line2d_29\">\r\n    <path clip-path=\"url(#p3f7109185f)\" d=\"M 173.211214 210.095499 \r\nL 133.796442 328.339814 \r\n\" style=\"fill:none;stroke:#ff7f0e;stroke-linecap:square;stroke-width:0.4;\"/>\r\n   </g>\r\n   <g id=\"line2d_30\">\r\n    <path clip-path=\"url(#p3f7109185f)\" d=\"M 176.91244 210.696125 \r\nL 176.91244 327.739187 \r\n\" style=\"fill:none;stroke:#ff7f0e;stroke-linecap:square;stroke-width:0.4;\"/>\r\n   </g>\r\n   <g id=\"line2d_31\">\r\n    <path clip-path=\"url(#p3f7109185f)\" d=\"M 180.613667 210.095499 \r\nL 220.028438 328.339814 \r\n\" style=\"fill:none;stroke:#ff7f0e;stroke-linecap:square;stroke-width:0.4;\"/>\r\n   </g>\r\n   <g id=\"line2d_32\">\r\n    <path clip-path=\"url(#p3f7109185f)\" d=\"M 183.404821 208.73039 \r\nL 264.054509 329.704922 \r\n\" style=\"fill:none;stroke:#ff7f0e;stroke-linecap:square;stroke-width:0.4;\"/>\r\n   </g>\r\n   <g id=\"line2d_33\">\r\n    <path clip-path=\"url(#p3f7109185f)\" d=\"M 217.237284 208.73039 \r\nL 136.587596 329.704922 \r\n\" style=\"fill:none;stroke:#ff7f0e;stroke-linecap:square;stroke-width:0.4;\"/>\r\n   </g>\r\n   <g id=\"line2d_34\">\r\n    <path clip-path=\"url(#p3f7109185f)\" d=\"M 220.028438 210.095499 \r\nL 180.613667 328.339814 \r\n\" style=\"fill:none;stroke:#ff7f0e;stroke-linecap:square;stroke-width:0.4;\"/>\r\n   </g>\r\n   <g id=\"line2d_35\">\r\n    <path clip-path=\"url(#p3f7109185f)\" d=\"M 223.729665 210.696125 \r\nL 223.729665 327.739187 \r\n\" style=\"fill:none;stroke:#ff7f0e;stroke-linecap:square;stroke-width:0.4;\"/>\r\n   </g>\r\n   <g id=\"line2d_36\">\r\n    <path clip-path=\"url(#p3f7109185f)\" d=\"M 227.430892 210.095499 \r\nL 266.845663 328.339814 \r\n\" style=\"fill:none;stroke:#ff7f0e;stroke-linecap:square;stroke-width:0.4;\"/>\r\n   </g>\r\n   <g id=\"line2d_37\">\r\n    <path clip-path=\"url(#p3f7109185f)\" d=\"M 262.270696 207.268013 \r\nL 138.37141 331.167299 \r\n\" style=\"fill:none;stroke:#ff7f0e;stroke-linecap:square;stroke-width:0.4;\"/>\r\n   </g>\r\n   <g id=\"line2d_38\">\r\n    <path clip-path=\"url(#p3f7109185f)\" d=\"M 264.054509 208.73039 \r\nL 183.404821 329.704922 \r\n\" style=\"fill:none;stroke:#ff7f0e;stroke-linecap:square;stroke-width:0.4;\"/>\r\n   </g>\r\n   <g id=\"line2d_39\">\r\n    <path clip-path=\"url(#p3f7109185f)\" d=\"M 266.845663 210.095499 \r\nL 227.430892 328.339814 \r\n\" style=\"fill:none;stroke:#ff7f0e;stroke-linecap:square;stroke-width:0.4;\"/>\r\n   </g>\r\n   <g id=\"line2d_40\">\r\n    <path clip-path=\"url(#p3f7109185f)\" d=\"M 270.54689 210.696125 \r\nL 270.54689 327.739187 \r\n\" style=\"fill:none;stroke:#ff7f0e;stroke-linecap:square;stroke-width:0.4;\"/>\r\n   </g>\r\n   <g id=\"line2d_41\">\r\n    <path clip-path=\"url(#p3f7109185f)\" d=\"M 308.00067 206.014403 \r\nL 139.45866 332.42091 \r\n\" style=\"fill:none;stroke:#ff7f0e;stroke-linecap:square;stroke-width:0.4;\"/>\r\n   </g>\r\n   <g id=\"line2d_42\">\r\n    <path clip-path=\"url(#p3f7109185f)\" d=\"M 309.087921 207.268013 \r\nL 185.188634 331.167299 \r\n\" style=\"fill:none;stroke:#ff7f0e;stroke-linecap:square;stroke-width:0.4;\"/>\r\n   </g>\r\n   <g id=\"line2d_43\">\r\n    <path clip-path=\"url(#p3f7109185f)\" d=\"M 310.871734 208.73039 \r\nL 230.222046 329.704922 \r\n\" style=\"fill:none;stroke:#ff7f0e;stroke-linecap:square;stroke-width:0.4;\"/>\r\n   </g>\r\n   <g id=\"line2d_44\">\r\n    <path clip-path=\"url(#p3f7109185f)\" d=\"M 313.662888 210.095499 \r\nL 274.248117 328.339814 \r\n\" style=\"fill:none;stroke:#ff7f0e;stroke-linecap:square;stroke-width:0.4;\"/>\r\n   </g>\r\n   <g id=\"line2d_45\">\r\n    <path clip-path=\"url(#p3f7109185f)\" d=\"M 354.14498 205.013635 \r\nL 140.131575 333.421678 \r\n\" style=\"fill:none;stroke:#ff7f0e;stroke-linecap:square;stroke-width:0.4;\"/>\r\n   </g>\r\n   <g id=\"line2d_46\">\r\n    <path clip-path=\"url(#p3f7109185f)\" d=\"M 354.817895 206.014403 \r\nL 186.275885 332.42091 \r\n\" style=\"fill:none;stroke:#ff7f0e;stroke-linecap:square;stroke-width:0.4;\"/>\r\n   </g>\r\n   <g id=\"line2d_47\">\r\n    <path clip-path=\"url(#p3f7109185f)\" d=\"M 355.905145 207.268013 \r\nL 232.005859 331.167299 \r\n\" style=\"fill:none;stroke:#ff7f0e;stroke-linecap:square;stroke-width:0.4;\"/>\r\n   </g>\r\n   <g id=\"line2d_48\">\r\n    <path clip-path=\"url(#p3f7109185f)\" d=\"M 357.688959 208.73039 \r\nL 277.039271 329.704922 \r\n\" style=\"fill:none;stroke:#ff7f0e;stroke-linecap:square;stroke-width:0.4;\"/>\r\n   </g>\r\n   <g id=\"line2d_49\">\r\n    <path clip-path=\"url(#p3f7109185f)\" d=\"M 146.010914 67.531641 \r\nL 43.95368 190.000322 \r\n\" style=\"fill:none;stroke:#ff7f0e;stroke-linecap:square;stroke-width:0.4;\"/>\r\n   </g>\r\n   <g id=\"line2d_50\">\r\n    <path clip-path=\"url(#p3f7109185f)\" d=\"M 148.269503 69.008794 \r\nL 88.512315 188.523169 \r\n\" style=\"fill:none;stroke:#ff7f0e;stroke-linecap:square;stroke-width:0.4;\"/>\r\n   </g>\r\n   <g id=\"line2d_51\">\r\n    <path clip-path=\"url(#p3f7109185f)\" d=\"M 151.579652 70.085201 \r\nL 132.019391 187.446762 \r\n\" style=\"fill:none;stroke:#ff7f0e;stroke-linecap:square;stroke-width:0.4;\"/>\r\n   </g>\r\n   <g id=\"line2d_52\">\r\n    <path clip-path=\"url(#p3f7109185f)\" d=\"M 155.428004 70.085201 \r\nL 174.988264 187.446762 \r\n\" style=\"fill:none;stroke:#ff7f0e;stroke-linecap:square;stroke-width:0.4;\"/>\r\n   </g>\r\n   <g id=\"line2d_53\">\r\n    <path clip-path=\"url(#p3f7109185f)\" d=\"M 158.738153 69.008794 \r\nL 218.49534 188.523169 \r\n\" style=\"fill:none;stroke:#ff7f0e;stroke-linecap:square;stroke-width:0.4;\"/>\r\n   </g>\r\n   <g id=\"line2d_54\">\r\n    <path clip-path=\"url(#p3f7109185f)\" d=\"M 160.996742 67.531641 \r\nL 263.053976 190.000322 \r\n\" style=\"fill:none;stroke:#ff7f0e;stroke-linecap:square;stroke-width:0.4;\"/>\r\n   </g>\r\n   <g id=\"line2d_55\">\r\n    <path clip-path=\"url(#p3f7109185f)\" d=\"M 162.3904 66.157206 \r\nL 308.477543 191.374757 \r\n\" style=\"fill:none;stroke:#ff7f0e;stroke-linecap:square;stroke-width:0.4;\"/>\r\n   </g>\r\n   <g id=\"line2d_56\">\r\n    <path clip-path=\"url(#p3f7109185f)\" d=\"M 163.242399 65.032525 \r\nL 354.442768 192.499438 \r\n\" style=\"fill:none;stroke:#ff7f0e;stroke-linecap:square;stroke-width:0.4;\"/>\r\n   </g>\r\n   <g id=\"line2d_57\">\r\n    <path clip-path=\"url(#p3f7109185f)\" d=\"M 191.434481 66.157206 \r\nL 45.347337 191.374757 \r\n\" style=\"fill:none;stroke:#ff7f0e;stroke-linecap:square;stroke-width:0.4;\"/>\r\n   </g>\r\n   <g id=\"line2d_58\">\r\n    <path clip-path=\"url(#p3f7109185f)\" d=\"M 192.828138 67.531641 \r\nL 90.770905 190.000322 \r\n\" style=\"fill:none;stroke:#ff7f0e;stroke-linecap:square;stroke-width:0.4;\"/>\r\n   </g>\r\n   <g id=\"line2d_59\">\r\n    <path clip-path=\"url(#p3f7109185f)\" d=\"M 195.086728 69.008794 \r\nL 135.32954 188.523169 \r\n\" style=\"fill:none;stroke:#ff7f0e;stroke-linecap:square;stroke-width:0.4;\"/>\r\n   </g>\r\n   <g id=\"line2d_60\">\r\n    <path clip-path=\"url(#p3f7109185f)\" d=\"M 198.396877 70.085201 \r\nL 178.836616 187.446762 \r\n\" style=\"fill:none;stroke:#ff7f0e;stroke-linecap:square;stroke-width:0.4;\"/>\r\n   </g>\r\n   <g id=\"line2d_61\">\r\n    <path clip-path=\"url(#p3f7109185f)\" d=\"M 202.245229 70.085201 \r\nL 221.805489 187.446762 \r\n\" style=\"fill:none;stroke:#ff7f0e;stroke-linecap:square;stroke-width:0.4;\"/>\r\n   </g>\r\n   <g id=\"line2d_62\">\r\n    <path clip-path=\"url(#p3f7109185f)\" d=\"M 205.555377 69.008794 \r\nL 265.312565 188.523169 \r\n\" style=\"fill:none;stroke:#ff7f0e;stroke-linecap:square;stroke-width:0.4;\"/>\r\n   </g>\r\n   <g id=\"line2d_63\">\r\n    <path clip-path=\"url(#p3f7109185f)\" d=\"M 207.813967 67.531641 \r\nL 309.871201 190.000322 \r\n\" style=\"fill:none;stroke:#ff7f0e;stroke-linecap:square;stroke-width:0.4;\"/>\r\n   </g>\r\n   <g id=\"line2d_64\">\r\n    <path clip-path=\"url(#p3f7109185f)\" d=\"M 209.207624 66.157206 \r\nL 355.294768 191.374757 \r\n\" style=\"fill:none;stroke:#ff7f0e;stroke-linecap:square;stroke-width:0.4;\"/>\r\n   </g>\r\n   <g id=\"line2d_65\">\r\n    <path clip-path=\"url(#p3f7109185f)\" d=\"M 237.399706 65.032525 \r\nL 46.199337 192.499438 \r\n\" style=\"fill:none;stroke:#ff7f0e;stroke-linecap:square;stroke-width:0.4;\"/>\r\n   </g>\r\n   <g id=\"line2d_66\">\r\n    <path clip-path=\"url(#p3f7109185f)\" d=\"M 238.251706 66.157206 \r\nL 92.164562 191.374757 \r\n\" style=\"fill:none;stroke:#ff7f0e;stroke-linecap:square;stroke-width:0.4;\"/>\r\n   </g>\r\n   <g id=\"line2d_67\">\r\n    <path clip-path=\"url(#p3f7109185f)\" d=\"M 239.645363 67.531641 \r\nL 137.58813 190.000322 \r\n\" style=\"fill:none;stroke:#ff7f0e;stroke-linecap:square;stroke-width:0.4;\"/>\r\n   </g>\r\n   <g id=\"line2d_68\">\r\n    <path clip-path=\"url(#p3f7109185f)\" d=\"M 241.903953 69.008794 \r\nL 182.146765 188.523169 \r\n\" style=\"fill:none;stroke:#ff7f0e;stroke-linecap:square;stroke-width:0.4;\"/>\r\n   </g>\r\n   <g id=\"line2d_69\">\r\n    <path clip-path=\"url(#p3f7109185f)\" d=\"M 245.214101 70.085201 \r\nL 225.653841 187.446762 \r\n\" style=\"fill:none;stroke:#ff7f0e;stroke-linecap:square;stroke-width:0.4;\"/>\r\n   </g>\r\n   <g id=\"line2d_70\">\r\n    <path clip-path=\"url(#p3f7109185f)\" d=\"M 249.062454 70.085201 \r\nL 268.622714 187.446762 \r\n\" style=\"fill:none;stroke:#ff7f0e;stroke-linecap:square;stroke-width:0.4;\"/>\r\n   </g>\r\n   <g id=\"line2d_71\">\r\n    <path clip-path=\"url(#p3f7109185f)\" d=\"M 252.372602 69.008794 \r\nL 312.12979 188.523169 \r\n\" style=\"fill:none;stroke:#ff7f0e;stroke-linecap:square;stroke-width:0.4;\"/>\r\n   </g>\r\n   <g id=\"line2d_72\">\r\n    <path clip-path=\"url(#p3f7109185f)\" d=\"M 254.631192 67.531641 \r\nL 356.688425 190.000322 \r\n\" style=\"fill:none;stroke:#ff7f0e;stroke-linecap:square;stroke-width:0.4;\"/>\r\n   </g>\r\n   <g id=\"text_1\">\r\n    <!-- 1 -->\r\n    <g transform=\"translate(126.913965 483.40646)scale(0.1 -0.1)\">\r\n     <defs>\r\n      <path d=\"M 12.40625 8.296875 \r\nL 28.515625 8.296875 \r\nL 28.515625 63.921875 \r\nL 10.984375 60.40625 \r\nL 10.984375 69.390625 \r\nL 28.421875 72.90625 \r\nL 38.28125 72.90625 \r\nL 38.28125 8.296875 \r\nL 54.390625 8.296875 \r\nL 54.390625 0 \r\nL 12.40625 0 \r\nz\r\n\" id=\"DejaVuSans-49\"/>\r\n     </defs>\r\n     <use xlink:href=\"#DejaVuSans-49\"/>\r\n    </g>\r\n   </g>\r\n   <g id=\"text_2\">\r\n    <!-- 2 -->\r\n    <g transform=\"translate(173.73119 483.40646)scale(0.1 -0.1)\">\r\n     <defs>\r\n      <path d=\"M 19.1875 8.296875 \r\nL 53.609375 8.296875 \r\nL 53.609375 0 \r\nL 7.328125 0 \r\nL 7.328125 8.296875 \r\nQ 12.9375 14.109375 22.625 23.890625 \r\nQ 32.328125 33.6875 34.8125 36.53125 \r\nQ 39.546875 41.84375 41.421875 45.53125 \r\nQ 43.3125 49.21875 43.3125 52.78125 \r\nQ 43.3125 58.59375 39.234375 62.25 \r\nQ 35.15625 65.921875 28.609375 65.921875 \r\nQ 23.96875 65.921875 18.8125 64.3125 \r\nQ 13.671875 62.703125 7.8125 59.421875 \r\nL 7.8125 69.390625 \r\nQ 13.765625 71.78125 18.9375 73 \r\nQ 24.125 74.21875 28.421875 74.21875 \r\nQ 39.75 74.21875 46.484375 68.546875 \r\nQ 53.21875 62.890625 53.21875 53.421875 \r\nQ 53.21875 48.921875 51.53125 44.890625 \r\nQ 49.859375 40.875 45.40625 35.40625 \r\nQ 44.1875 33.984375 37.640625 27.21875 \r\nQ 31.109375 20.453125 19.1875 8.296875 \r\nz\r\n\" id=\"DejaVuSans-50\"/>\r\n     </defs>\r\n     <use xlink:href=\"#DejaVuSans-50\"/>\r\n    </g>\r\n   </g>\r\n   <g id=\"text_3\">\r\n    <!-- 3 -->\r\n    <g transform=\"translate(220.548415 483.40646)scale(0.1 -0.1)\">\r\n     <defs>\r\n      <path d=\"M 40.578125 39.3125 \r\nQ 47.65625 37.796875 51.625 33 \r\nQ 55.609375 28.21875 55.609375 21.1875 \r\nQ 55.609375 10.40625 48.1875 4.484375 \r\nQ 40.765625 -1.421875 27.09375 -1.421875 \r\nQ 22.515625 -1.421875 17.65625 -0.515625 \r\nQ 12.796875 0.390625 7.625 2.203125 \r\nL 7.625 11.71875 \r\nQ 11.71875 9.328125 16.59375 8.109375 \r\nQ 21.484375 6.890625 26.8125 6.890625 \r\nQ 36.078125 6.890625 40.9375 10.546875 \r\nQ 45.796875 14.203125 45.796875 21.1875 \r\nQ 45.796875 27.640625 41.28125 31.265625 \r\nQ 36.765625 34.90625 28.71875 34.90625 \r\nL 20.21875 34.90625 \r\nL 20.21875 43.015625 \r\nL 29.109375 43.015625 \r\nQ 36.375 43.015625 40.234375 45.921875 \r\nQ 44.09375 48.828125 44.09375 54.296875 \r\nQ 44.09375 59.90625 40.109375 62.90625 \r\nQ 36.140625 65.921875 28.71875 65.921875 \r\nQ 24.65625 65.921875 20.015625 65.03125 \r\nQ 15.375 64.15625 9.8125 62.3125 \r\nL 9.8125 71.09375 \r\nQ 15.4375 72.65625 20.34375 73.4375 \r\nQ 25.25 74.21875 29.59375 74.21875 \r\nQ 40.828125 74.21875 47.359375 69.109375 \r\nQ 53.90625 64.015625 53.90625 55.328125 \r\nQ 53.90625 49.265625 50.4375 45.09375 \r\nQ 46.96875 40.921875 40.578125 39.3125 \r\nz\r\n\" id=\"DejaVuSans-51\"/>\r\n     </defs>\r\n     <use xlink:href=\"#DejaVuSans-51\"/>\r\n    </g>\r\n   </g>\r\n   <g id=\"text_4\">\r\n    <!-- 4 -->\r\n    <g transform=\"translate(267.36564 483.40646)scale(0.1 -0.1)\">\r\n     <defs>\r\n      <path d=\"M 37.796875 64.3125 \r\nL 12.890625 25.390625 \r\nL 37.796875 25.390625 \r\nz\r\nM 35.203125 72.90625 \r\nL 47.609375 72.90625 \r\nL 47.609375 25.390625 \r\nL 58.015625 25.390625 \r\nL 58.015625 17.1875 \r\nL 47.609375 17.1875 \r\nL 47.609375 0 \r\nL 37.796875 0 \r\nL 37.796875 17.1875 \r\nL 4.890625 17.1875 \r\nL 4.890625 26.703125 \r\nz\r\n\" id=\"DejaVuSans-52\"/>\r\n     </defs>\r\n     <use xlink:href=\"#DejaVuSans-52\"/>\r\n    </g>\r\n   </g>\r\n   <g id=\"text_5\">\r\n    <!-- Input Layer -->\r\n    <g transform=\"translate(410.998565 479.895168)scale(0.12 -0.12)\">\r\n     <defs>\r\n      <path d=\"M 9.8125 72.90625 \r\nL 19.671875 72.90625 \r\nL 19.671875 0 \r\nL 9.8125 0 \r\nz\r\n\" id=\"DejaVuSans-73\"/>\r\n      <path d=\"M 54.890625 33.015625 \r\nL 54.890625 0 \r\nL 45.90625 0 \r\nL 45.90625 32.71875 \r\nQ 45.90625 40.484375 42.875 44.328125 \r\nQ 39.84375 48.1875 33.796875 48.1875 \r\nQ 26.515625 48.1875 22.3125 43.546875 \r\nQ 18.109375 38.921875 18.109375 30.90625 \r\nL 18.109375 0 \r\nL 9.078125 0 \r\nL 9.078125 54.6875 \r\nL 18.109375 54.6875 \r\nL 18.109375 46.1875 \r\nQ 21.34375 51.125 25.703125 53.5625 \r\nQ 30.078125 56 35.796875 56 \r\nQ 45.21875 56 50.046875 50.171875 \r\nQ 54.890625 44.34375 54.890625 33.015625 \r\nz\r\n\" id=\"DejaVuSans-110\"/>\r\n      <path d=\"M 18.109375 8.203125 \r\nL 18.109375 -20.796875 \r\nL 9.078125 -20.796875 \r\nL 9.078125 54.6875 \r\nL 18.109375 54.6875 \r\nL 18.109375 46.390625 \r\nQ 20.953125 51.265625 25.265625 53.625 \r\nQ 29.59375 56 35.59375 56 \r\nQ 45.5625 56 51.78125 48.09375 \r\nQ 58.015625 40.1875 58.015625 27.296875 \r\nQ 58.015625 14.40625 51.78125 6.484375 \r\nQ 45.5625 -1.421875 35.59375 -1.421875 \r\nQ 29.59375 -1.421875 25.265625 0.953125 \r\nQ 20.953125 3.328125 18.109375 8.203125 \r\nz\r\nM 48.6875 27.296875 \r\nQ 48.6875 37.203125 44.609375 42.84375 \r\nQ 40.53125 48.484375 33.40625 48.484375 \r\nQ 26.265625 48.484375 22.1875 42.84375 \r\nQ 18.109375 37.203125 18.109375 27.296875 \r\nQ 18.109375 17.390625 22.1875 11.75 \r\nQ 26.265625 6.109375 33.40625 6.109375 \r\nQ 40.53125 6.109375 44.609375 11.75 \r\nQ 48.6875 17.390625 48.6875 27.296875 \r\nz\r\n\" id=\"DejaVuSans-112\"/>\r\n      <path d=\"M 8.5 21.578125 \r\nL 8.5 54.6875 \r\nL 17.484375 54.6875 \r\nL 17.484375 21.921875 \r\nQ 17.484375 14.15625 20.5 10.265625 \r\nQ 23.53125 6.390625 29.59375 6.390625 \r\nQ 36.859375 6.390625 41.078125 11.03125 \r\nQ 45.3125 15.671875 45.3125 23.6875 \r\nL 45.3125 54.6875 \r\nL 54.296875 54.6875 \r\nL 54.296875 0 \r\nL 45.3125 0 \r\nL 45.3125 8.40625 \r\nQ 42.046875 3.421875 37.71875 1 \r\nQ 33.40625 -1.421875 27.6875 -1.421875 \r\nQ 18.265625 -1.421875 13.375 4.4375 \r\nQ 8.5 10.296875 8.5 21.578125 \r\nz\r\nM 31.109375 56 \r\nz\r\n\" id=\"DejaVuSans-117\"/>\r\n      <path d=\"M 18.3125 70.21875 \r\nL 18.3125 54.6875 \r\nL 36.8125 54.6875 \r\nL 36.8125 47.703125 \r\nL 18.3125 47.703125 \r\nL 18.3125 18.015625 \r\nQ 18.3125 11.328125 20.140625 9.421875 \r\nQ 21.96875 7.515625 27.59375 7.515625 \r\nL 36.8125 7.515625 \r\nL 36.8125 0 \r\nL 27.59375 0 \r\nQ 17.1875 0 13.234375 3.875 \r\nQ 9.28125 7.765625 9.28125 18.015625 \r\nL 9.28125 47.703125 \r\nL 2.6875 47.703125 \r\nL 2.6875 54.6875 \r\nL 9.28125 54.6875 \r\nL 9.28125 70.21875 \r\nz\r\n\" id=\"DejaVuSans-116\"/>\r\n      <path id=\"DejaVuSans-32\"/>\r\n      <path d=\"M 9.8125 72.90625 \r\nL 19.671875 72.90625 \r\nL 19.671875 8.296875 \r\nL 55.171875 8.296875 \r\nL 55.171875 0 \r\nL 9.8125 0 \r\nz\r\n\" id=\"DejaVuSans-76\"/>\r\n      <path d=\"M 34.28125 27.484375 \r\nQ 23.390625 27.484375 19.1875 25 \r\nQ 14.984375 22.515625 14.984375 16.5 \r\nQ 14.984375 11.71875 18.140625 8.90625 \r\nQ 21.296875 6.109375 26.703125 6.109375 \r\nQ 34.1875 6.109375 38.703125 11.40625 \r\nQ 43.21875 16.703125 43.21875 25.484375 \r\nL 43.21875 27.484375 \r\nz\r\nM 52.203125 31.203125 \r\nL 52.203125 0 \r\nL 43.21875 0 \r\nL 43.21875 8.296875 \r\nQ 40.140625 3.328125 35.546875 0.953125 \r\nQ 30.953125 -1.421875 24.3125 -1.421875 \r\nQ 15.921875 -1.421875 10.953125 3.296875 \r\nQ 6 8.015625 6 15.921875 \r\nQ 6 25.140625 12.171875 29.828125 \r\nQ 18.359375 34.515625 30.609375 34.515625 \r\nL 43.21875 34.515625 \r\nL 43.21875 35.40625 \r\nQ 43.21875 41.609375 39.140625 45 \r\nQ 35.0625 48.390625 27.6875 48.390625 \r\nQ 23 48.390625 18.546875 47.265625 \r\nQ 14.109375 46.140625 10.015625 43.890625 \r\nL 10.015625 52.203125 \r\nQ 14.9375 54.109375 19.578125 55.046875 \r\nQ 24.21875 56 28.609375 56 \r\nQ 40.484375 56 46.34375 49.84375 \r\nQ 52.203125 43.703125 52.203125 31.203125 \r\nz\r\n\" id=\"DejaVuSans-97\"/>\r\n      <path d=\"M 32.171875 -5.078125 \r\nQ 28.375 -14.84375 24.75 -17.8125 \r\nQ 21.140625 -20.796875 15.09375 -20.796875 \r\nL 7.90625 -20.796875 \r\nL 7.90625 -13.28125 \r\nL 13.1875 -13.28125 \r\nQ 16.890625 -13.28125 18.9375 -11.515625 \r\nQ 21 -9.765625 23.484375 -3.21875 \r\nL 25.09375 0.875 \r\nL 2.984375 54.6875 \r\nL 12.5 54.6875 \r\nL 29.59375 11.921875 \r\nL 46.6875 54.6875 \r\nL 56.203125 54.6875 \r\nz\r\n\" id=\"DejaVuSans-121\"/>\r\n      <path d=\"M 56.203125 29.59375 \r\nL 56.203125 25.203125 \r\nL 14.890625 25.203125 \r\nQ 15.484375 15.921875 20.484375 11.0625 \r\nQ 25.484375 6.203125 34.421875 6.203125 \r\nQ 39.59375 6.203125 44.453125 7.46875 \r\nQ 49.3125 8.734375 54.109375 11.28125 \r\nL 54.109375 2.78125 \r\nQ 49.265625 0.734375 44.1875 -0.34375 \r\nQ 39.109375 -1.421875 33.890625 -1.421875 \r\nQ 20.796875 -1.421875 13.15625 6.1875 \r\nQ 5.515625 13.8125 5.515625 26.8125 \r\nQ 5.515625 40.234375 12.765625 48.109375 \r\nQ 20.015625 56 32.328125 56 \r\nQ 43.359375 56 49.78125 48.890625 \r\nQ 56.203125 41.796875 56.203125 29.59375 \r\nz\r\nM 47.21875 32.234375 \r\nQ 47.125 39.59375 43.09375 43.984375 \r\nQ 39.0625 48.390625 32.421875 48.390625 \r\nQ 24.90625 48.390625 20.390625 44.140625 \r\nQ 15.875 39.890625 15.1875 32.171875 \r\nz\r\n\" id=\"DejaVuSans-101\"/>\r\n      <path d=\"M 41.109375 46.296875 \r\nQ 39.59375 47.171875 37.8125 47.578125 \r\nQ 36.03125 48 33.890625 48 \r\nQ 26.265625 48 22.1875 43.046875 \r\nQ 18.109375 38.09375 18.109375 28.8125 \r\nL 18.109375 0 \r\nL 9.078125 0 \r\nL 9.078125 54.6875 \r\nL 18.109375 54.6875 \r\nL 18.109375 46.1875 \r\nQ 20.953125 51.171875 25.484375 53.578125 \r\nQ 30.03125 56 36.53125 56 \r\nQ 37.453125 56 38.578125 55.875 \r\nQ 39.703125 55.765625 41.0625 55.515625 \r\nz\r\n\" id=\"DejaVuSans-114\"/>\r\n     </defs>\r\n     <use xlink:href=\"#DejaVuSans-73\"/>\r\n     <use x=\"29.492188\" xlink:href=\"#DejaVuSans-110\"/>\r\n     <use x=\"92.871094\" xlink:href=\"#DejaVuSans-112\"/>\r\n     <use x=\"156.347656\" xlink:href=\"#DejaVuSans-117\"/>\r\n     <use x=\"219.726562\" xlink:href=\"#DejaVuSans-116\"/>\r\n     <use x=\"258.935547\" xlink:href=\"#DejaVuSans-32\"/>\r\n     <use x=\"290.722656\" xlink:href=\"#DejaVuSans-76\"/>\r\n     <use x=\"346.435547\" xlink:href=\"#DejaVuSans-97\"/>\r\n     <use x=\"407.714844\" xlink:href=\"#DejaVuSans-121\"/>\r\n     <use x=\"466.894531\" xlink:href=\"#DejaVuSans-101\"/>\r\n     <use x=\"528.417969\" xlink:href=\"#DejaVuSans-114\"/>\r\n    </g>\r\n   </g>\r\n   <g id=\"text_6\">\r\n    <!-- 1 -->\r\n    <g transform=\"translate(126.913965 342.954785)scale(0.1 -0.1)\">\r\n     <use xlink:href=\"#DejaVuSans-49\"/>\r\n    </g>\r\n   </g>\r\n   <g id=\"text_7\">\r\n    <!-- 2 -->\r\n    <g transform=\"translate(173.73119 342.954785)scale(0.1 -0.1)\">\r\n     <use xlink:href=\"#DejaVuSans-50\"/>\r\n    </g>\r\n   </g>\r\n   <g id=\"text_8\">\r\n    <!-- 3 -->\r\n    <g transform=\"translate(220.548415 342.954785)scale(0.1 -0.1)\">\r\n     <use xlink:href=\"#DejaVuSans-51\"/>\r\n    </g>\r\n   </g>\r\n   <g id=\"text_9\">\r\n    <!-- 4 -->\r\n    <g transform=\"translate(267.36564 342.954785)scale(0.1 -0.1)\">\r\n     <use xlink:href=\"#DejaVuSans-52\"/>\r\n    </g>\r\n   </g>\r\n   <g id=\"text_10\">\r\n    <!-- Hidden Layer 1 -->\r\n    <g transform=\"translate(410.998565 339.443494)scale(0.12 -0.12)\">\r\n     <defs>\r\n      <path d=\"M 9.8125 72.90625 \r\nL 19.671875 72.90625 \r\nL 19.671875 43.015625 \r\nL 55.515625 43.015625 \r\nL 55.515625 72.90625 \r\nL 65.375 72.90625 \r\nL 65.375 0 \r\nL 55.515625 0 \r\nL 55.515625 34.71875 \r\nL 19.671875 34.71875 \r\nL 19.671875 0 \r\nL 9.8125 0 \r\nz\r\n\" id=\"DejaVuSans-72\"/>\r\n      <path d=\"M 9.421875 54.6875 \r\nL 18.40625 54.6875 \r\nL 18.40625 0 \r\nL 9.421875 0 \r\nz\r\nM 9.421875 75.984375 \r\nL 18.40625 75.984375 \r\nL 18.40625 64.59375 \r\nL 9.421875 64.59375 \r\nz\r\n\" id=\"DejaVuSans-105\"/>\r\n      <path d=\"M 45.40625 46.390625 \r\nL 45.40625 75.984375 \r\nL 54.390625 75.984375 \r\nL 54.390625 0 \r\nL 45.40625 0 \r\nL 45.40625 8.203125 \r\nQ 42.578125 3.328125 38.25 0.953125 \r\nQ 33.9375 -1.421875 27.875 -1.421875 \r\nQ 17.96875 -1.421875 11.734375 6.484375 \r\nQ 5.515625 14.40625 5.515625 27.296875 \r\nQ 5.515625 40.1875 11.734375 48.09375 \r\nQ 17.96875 56 27.875 56 \r\nQ 33.9375 56 38.25 53.625 \r\nQ 42.578125 51.265625 45.40625 46.390625 \r\nz\r\nM 14.796875 27.296875 \r\nQ 14.796875 17.390625 18.875 11.75 \r\nQ 22.953125 6.109375 30.078125 6.109375 \r\nQ 37.203125 6.109375 41.296875 11.75 \r\nQ 45.40625 17.390625 45.40625 27.296875 \r\nQ 45.40625 37.203125 41.296875 42.84375 \r\nQ 37.203125 48.484375 30.078125 48.484375 \r\nQ 22.953125 48.484375 18.875 42.84375 \r\nQ 14.796875 37.203125 14.796875 27.296875 \r\nz\r\n\" id=\"DejaVuSans-100\"/>\r\n     </defs>\r\n     <use xlink:href=\"#DejaVuSans-72\"/>\r\n     <use x=\"75.195312\" xlink:href=\"#DejaVuSans-105\"/>\r\n     <use x=\"102.978516\" xlink:href=\"#DejaVuSans-100\"/>\r\n     <use x=\"166.455078\" xlink:href=\"#DejaVuSans-100\"/>\r\n     <use x=\"229.931641\" xlink:href=\"#DejaVuSans-101\"/>\r\n     <use x=\"291.455078\" xlink:href=\"#DejaVuSans-110\"/>\r\n     <use x=\"354.833984\" xlink:href=\"#DejaVuSans-32\"/>\r\n     <use x=\"386.621094\" xlink:href=\"#DejaVuSans-76\"/>\r\n     <use x=\"442.333984\" xlink:href=\"#DejaVuSans-97\"/>\r\n     <use x=\"503.613281\" xlink:href=\"#DejaVuSans-121\"/>\r\n     <use x=\"562.792969\" xlink:href=\"#DejaVuSans-101\"/>\r\n     <use x=\"624.316406\" xlink:href=\"#DejaVuSans-114\"/>\r\n     <use x=\"665.429688\" xlink:href=\"#DejaVuSans-32\"/>\r\n     <use x=\"697.216797\" xlink:href=\"#DejaVuSans-49\"/>\r\n    </g>\r\n   </g>\r\n   <g id=\"text_11\">\r\n    <!-- 1 -->\r\n    <g transform=\"translate(33.279516 202.503111)scale(0.1 -0.1)\">\r\n     <use xlink:href=\"#DejaVuSans-49\"/>\r\n    </g>\r\n   </g>\r\n   <g id=\"text_12\">\r\n    <!-- 2 -->\r\n    <g transform=\"translate(80.09674 202.503111)scale(0.1 -0.1)\">\r\n     <use xlink:href=\"#DejaVuSans-50\"/>\r\n    </g>\r\n   </g>\r\n   <g id=\"text_13\">\r\n    <!-- 3 -->\r\n    <g transform=\"translate(126.913965 202.503111)scale(0.1 -0.1)\">\r\n     <use xlink:href=\"#DejaVuSans-51\"/>\r\n    </g>\r\n   </g>\r\n   <g id=\"text_14\">\r\n    <!-- 4 -->\r\n    <g transform=\"translate(173.73119 202.503111)scale(0.1 -0.1)\">\r\n     <use xlink:href=\"#DejaVuSans-52\"/>\r\n    </g>\r\n   </g>\r\n   <g id=\"text_15\">\r\n    <!-- 5 -->\r\n    <g transform=\"translate(220.548415 202.503111)scale(0.1 -0.1)\">\r\n     <defs>\r\n      <path d=\"M 10.796875 72.90625 \r\nL 49.515625 72.90625 \r\nL 49.515625 64.59375 \r\nL 19.828125 64.59375 \r\nL 19.828125 46.734375 \r\nQ 21.96875 47.46875 24.109375 47.828125 \r\nQ 26.265625 48.1875 28.421875 48.1875 \r\nQ 40.625 48.1875 47.75 41.5 \r\nQ 54.890625 34.8125 54.890625 23.390625 \r\nQ 54.890625 11.625 47.5625 5.09375 \r\nQ 40.234375 -1.421875 26.90625 -1.421875 \r\nQ 22.3125 -1.421875 17.546875 -0.640625 \r\nQ 12.796875 0.140625 7.71875 1.703125 \r\nL 7.71875 11.625 \r\nQ 12.109375 9.234375 16.796875 8.0625 \r\nQ 21.484375 6.890625 26.703125 6.890625 \r\nQ 35.15625 6.890625 40.078125 11.328125 \r\nQ 45.015625 15.765625 45.015625 23.390625 \r\nQ 45.015625 31 40.078125 35.4375 \r\nQ 35.15625 39.890625 26.703125 39.890625 \r\nQ 22.75 39.890625 18.8125 39.015625 \r\nQ 14.890625 38.140625 10.796875 36.28125 \r\nz\r\n\" id=\"DejaVuSans-53\"/>\r\n     </defs>\r\n     <use xlink:href=\"#DejaVuSans-53\"/>\r\n    </g>\r\n   </g>\r\n   <g id=\"text_16\">\r\n    <!-- 6 -->\r\n    <g transform=\"translate(267.36564 202.503111)scale(0.1 -0.1)\">\r\n     <defs>\r\n      <path d=\"M 33.015625 40.375 \r\nQ 26.375 40.375 22.484375 35.828125 \r\nQ 18.609375 31.296875 18.609375 23.390625 \r\nQ 18.609375 15.53125 22.484375 10.953125 \r\nQ 26.375 6.390625 33.015625 6.390625 \r\nQ 39.65625 6.390625 43.53125 10.953125 \r\nQ 47.40625 15.53125 47.40625 23.390625 \r\nQ 47.40625 31.296875 43.53125 35.828125 \r\nQ 39.65625 40.375 33.015625 40.375 \r\nz\r\nM 52.59375 71.296875 \r\nL 52.59375 62.3125 \r\nQ 48.875 64.0625 45.09375 64.984375 \r\nQ 41.3125 65.921875 37.59375 65.921875 \r\nQ 27.828125 65.921875 22.671875 59.328125 \r\nQ 17.53125 52.734375 16.796875 39.40625 \r\nQ 19.671875 43.65625 24.015625 45.921875 \r\nQ 28.375 48.1875 33.59375 48.1875 \r\nQ 44.578125 48.1875 50.953125 41.515625 \r\nQ 57.328125 34.859375 57.328125 23.390625 \r\nQ 57.328125 12.15625 50.6875 5.359375 \r\nQ 44.046875 -1.421875 33.015625 -1.421875 \r\nQ 20.359375 -1.421875 13.671875 8.265625 \r\nQ 6.984375 17.96875 6.984375 36.375 \r\nQ 6.984375 53.65625 15.1875 63.9375 \r\nQ 23.390625 74.21875 37.203125 74.21875 \r\nQ 40.921875 74.21875 44.703125 73.484375 \r\nQ 48.484375 72.75 52.59375 71.296875 \r\nz\r\n\" id=\"DejaVuSans-54\"/>\r\n     </defs>\r\n     <use xlink:href=\"#DejaVuSans-54\"/>\r\n    </g>\r\n   </g>\r\n   <g id=\"text_17\">\r\n    <!-- 7 -->\r\n    <g transform=\"translate(314.182865 202.503111)scale(0.1 -0.1)\">\r\n     <defs>\r\n      <path d=\"M 8.203125 72.90625 \r\nL 55.078125 72.90625 \r\nL 55.078125 68.703125 \r\nL 28.609375 0 \r\nL 18.3125 0 \r\nL 43.21875 64.59375 \r\nL 8.203125 64.59375 \r\nz\r\n\" id=\"DejaVuSans-55\"/>\r\n     </defs>\r\n     <use xlink:href=\"#DejaVuSans-55\"/>\r\n    </g>\r\n   </g>\r\n   <g id=\"text_18\">\r\n    <!-- 8 -->\r\n    <g transform=\"translate(361.00009 202.503111)scale(0.1 -0.1)\">\r\n     <defs>\r\n      <path d=\"M 31.78125 34.625 \r\nQ 24.75 34.625 20.71875 30.859375 \r\nQ 16.703125 27.09375 16.703125 20.515625 \r\nQ 16.703125 13.921875 20.71875 10.15625 \r\nQ 24.75 6.390625 31.78125 6.390625 \r\nQ 38.8125 6.390625 42.859375 10.171875 \r\nQ 46.921875 13.96875 46.921875 20.515625 \r\nQ 46.921875 27.09375 42.890625 30.859375 \r\nQ 38.875 34.625 31.78125 34.625 \r\nz\r\nM 21.921875 38.8125 \r\nQ 15.578125 40.375 12.03125 44.71875 \r\nQ 8.5 49.078125 8.5 55.328125 \r\nQ 8.5 64.0625 14.71875 69.140625 \r\nQ 20.953125 74.21875 31.78125 74.21875 \r\nQ 42.671875 74.21875 48.875 69.140625 \r\nQ 55.078125 64.0625 55.078125 55.328125 \r\nQ 55.078125 49.078125 51.53125 44.71875 \r\nQ 48 40.375 41.703125 38.8125 \r\nQ 48.828125 37.15625 52.796875 32.3125 \r\nQ 56.78125 27.484375 56.78125 20.515625 \r\nQ 56.78125 9.90625 50.3125 4.234375 \r\nQ 43.84375 -1.421875 31.78125 -1.421875 \r\nQ 19.734375 -1.421875 13.25 4.234375 \r\nQ 6.78125 9.90625 6.78125 20.515625 \r\nQ 6.78125 27.484375 10.78125 32.3125 \r\nQ 14.796875 37.15625 21.921875 38.8125 \r\nz\r\nM 18.3125 54.390625 \r\nQ 18.3125 48.734375 21.84375 45.5625 \r\nQ 25.390625 42.390625 31.78125 42.390625 \r\nQ 38.140625 42.390625 41.71875 45.5625 \r\nQ 45.3125 48.734375 45.3125 54.390625 \r\nQ 45.3125 60.0625 41.71875 63.234375 \r\nQ 38.140625 66.40625 31.78125 66.40625 \r\nQ 25.390625 66.40625 21.84375 63.234375 \r\nQ 18.3125 60.0625 18.3125 54.390625 \r\nz\r\n\" id=\"DejaVuSans-56\"/>\r\n     </defs>\r\n     <use xlink:href=\"#DejaVuSans-56\"/>\r\n    </g>\r\n   </g>\r\n   <g id=\"text_19\">\r\n    <!-- Hidden Layer 2 -->\r\n    <g transform=\"translate(410.998565 198.991819)scale(0.12 -0.12)\">\r\n     <use xlink:href=\"#DejaVuSans-72\"/>\r\n     <use x=\"75.195312\" xlink:href=\"#DejaVuSans-105\"/>\r\n     <use x=\"102.978516\" xlink:href=\"#DejaVuSans-100\"/>\r\n     <use x=\"166.455078\" xlink:href=\"#DejaVuSans-100\"/>\r\n     <use x=\"229.931641\" xlink:href=\"#DejaVuSans-101\"/>\r\n     <use x=\"291.455078\" xlink:href=\"#DejaVuSans-110\"/>\r\n     <use x=\"354.833984\" xlink:href=\"#DejaVuSans-32\"/>\r\n     <use x=\"386.621094\" xlink:href=\"#DejaVuSans-76\"/>\r\n     <use x=\"442.333984\" xlink:href=\"#DejaVuSans-97\"/>\r\n     <use x=\"503.613281\" xlink:href=\"#DejaVuSans-121\"/>\r\n     <use x=\"562.792969\" xlink:href=\"#DejaVuSans-101\"/>\r\n     <use x=\"624.316406\" xlink:href=\"#DejaVuSans-114\"/>\r\n     <use x=\"665.429688\" xlink:href=\"#DejaVuSans-32\"/>\r\n     <use x=\"697.216797\" xlink:href=\"#DejaVuSans-50\"/>\r\n    </g>\r\n   </g>\r\n   <g id=\"text_20\">\r\n    <!-- 1 -->\r\n    <g transform=\"translate(150.322578 62.051436)scale(0.1 -0.1)\">\r\n     <use xlink:href=\"#DejaVuSans-49\"/>\r\n    </g>\r\n   </g>\r\n   <g id=\"text_21\">\r\n    <!-- 2 -->\r\n    <g transform=\"translate(197.139803 62.051436)scale(0.1 -0.1)\">\r\n     <use xlink:href=\"#DejaVuSans-50\"/>\r\n    </g>\r\n   </g>\r\n   <g id=\"text_22\">\r\n    <!-- 3 -->\r\n    <g transform=\"translate(243.957028 62.051436)scale(0.1 -0.1)\">\r\n     <use xlink:href=\"#DejaVuSans-51\"/>\r\n    </g>\r\n   </g>\r\n   <g id=\"text_23\">\r\n    <!-- Output Layer -->\r\n    <g transform=\"translate(410.998565 58.540144)scale(0.12 -0.12)\">\r\n     <defs>\r\n      <path d=\"M 39.40625 66.21875 \r\nQ 28.65625 66.21875 22.328125 58.203125 \r\nQ 16.015625 50.203125 16.015625 36.375 \r\nQ 16.015625 22.609375 22.328125 14.59375 \r\nQ 28.65625 6.59375 39.40625 6.59375 \r\nQ 50.140625 6.59375 56.421875 14.59375 \r\nQ 62.703125 22.609375 62.703125 36.375 \r\nQ 62.703125 50.203125 56.421875 58.203125 \r\nQ 50.140625 66.21875 39.40625 66.21875 \r\nz\r\nM 39.40625 74.21875 \r\nQ 54.734375 74.21875 63.90625 63.9375 \r\nQ 73.09375 53.65625 73.09375 36.375 \r\nQ 73.09375 19.140625 63.90625 8.859375 \r\nQ 54.734375 -1.421875 39.40625 -1.421875 \r\nQ 24.03125 -1.421875 14.8125 8.828125 \r\nQ 5.609375 19.09375 5.609375 36.375 \r\nQ 5.609375 53.65625 14.8125 63.9375 \r\nQ 24.03125 74.21875 39.40625 74.21875 \r\nz\r\n\" id=\"DejaVuSans-79\"/>\r\n     </defs>\r\n     <use xlink:href=\"#DejaVuSans-79\"/>\r\n     <use x=\"78.710938\" xlink:href=\"#DejaVuSans-117\"/>\r\n     <use x=\"142.089844\" xlink:href=\"#DejaVuSans-116\"/>\r\n     <use x=\"181.298828\" xlink:href=\"#DejaVuSans-112\"/>\r\n     <use x=\"244.775391\" xlink:href=\"#DejaVuSans-117\"/>\r\n     <use x=\"308.154297\" xlink:href=\"#DejaVuSans-116\"/>\r\n     <use x=\"347.363281\" xlink:href=\"#DejaVuSans-32\"/>\r\n     <use x=\"379.150391\" xlink:href=\"#DejaVuSans-76\"/>\r\n     <use x=\"434.863281\" xlink:href=\"#DejaVuSans-97\"/>\r\n     <use x=\"496.142578\" xlink:href=\"#DejaVuSans-121\"/>\r\n     <use x=\"555.322266\" xlink:href=\"#DejaVuSans-101\"/>\r\n     <use x=\"616.845703\" xlink:href=\"#DejaVuSans-114\"/>\r\n    </g>\r\n   </g>\r\n   <g id=\"text_24\">\r\n    <!-- Neural Network architecture -->\r\n    <g transform=\"translate(94.124568 18.597656)scale(0.15 -0.15)\">\r\n     <defs>\r\n      <path d=\"M 9.8125 72.90625 \r\nL 23.09375 72.90625 \r\nL 55.421875 11.921875 \r\nL 55.421875 72.90625 \r\nL 64.984375 72.90625 \r\nL 64.984375 0 \r\nL 51.703125 0 \r\nL 19.390625 60.984375 \r\nL 19.390625 0 \r\nL 9.8125 0 \r\nz\r\n\" id=\"DejaVuSans-78\"/>\r\n      <path d=\"M 9.421875 75.984375 \r\nL 18.40625 75.984375 \r\nL 18.40625 0 \r\nL 9.421875 0 \r\nz\r\n\" id=\"DejaVuSans-108\"/>\r\n      <path d=\"M 4.203125 54.6875 \r\nL 13.1875 54.6875 \r\nL 24.421875 12.015625 \r\nL 35.59375 54.6875 \r\nL 46.1875 54.6875 \r\nL 57.421875 12.015625 \r\nL 68.609375 54.6875 \r\nL 77.59375 54.6875 \r\nL 63.28125 0 \r\nL 52.6875 0 \r\nL 40.921875 44.828125 \r\nL 29.109375 0 \r\nL 18.5 0 \r\nz\r\n\" id=\"DejaVuSans-119\"/>\r\n      <path d=\"M 30.609375 48.390625 \r\nQ 23.390625 48.390625 19.1875 42.75 \r\nQ 14.984375 37.109375 14.984375 27.296875 \r\nQ 14.984375 17.484375 19.15625 11.84375 \r\nQ 23.34375 6.203125 30.609375 6.203125 \r\nQ 37.796875 6.203125 41.984375 11.859375 \r\nQ 46.1875 17.53125 46.1875 27.296875 \r\nQ 46.1875 37.015625 41.984375 42.703125 \r\nQ 37.796875 48.390625 30.609375 48.390625 \r\nz\r\nM 30.609375 56 \r\nQ 42.328125 56 49.015625 48.375 \r\nQ 55.71875 40.765625 55.71875 27.296875 \r\nQ 55.71875 13.875 49.015625 6.21875 \r\nQ 42.328125 -1.421875 30.609375 -1.421875 \r\nQ 18.84375 -1.421875 12.171875 6.21875 \r\nQ 5.515625 13.875 5.515625 27.296875 \r\nQ 5.515625 40.765625 12.171875 48.375 \r\nQ 18.84375 56 30.609375 56 \r\nz\r\n\" id=\"DejaVuSans-111\"/>\r\n      <path d=\"M 9.078125 75.984375 \r\nL 18.109375 75.984375 \r\nL 18.109375 31.109375 \r\nL 44.921875 54.6875 \r\nL 56.390625 54.6875 \r\nL 27.390625 29.109375 \r\nL 57.625 0 \r\nL 45.90625 0 \r\nL 18.109375 26.703125 \r\nL 18.109375 0 \r\nL 9.078125 0 \r\nz\r\n\" id=\"DejaVuSans-107\"/>\r\n      <path d=\"M 48.78125 52.59375 \r\nL 48.78125 44.1875 \r\nQ 44.96875 46.296875 41.140625 47.34375 \r\nQ 37.3125 48.390625 33.40625 48.390625 \r\nQ 24.65625 48.390625 19.8125 42.84375 \r\nQ 14.984375 37.3125 14.984375 27.296875 \r\nQ 14.984375 17.28125 19.8125 11.734375 \r\nQ 24.65625 6.203125 33.40625 6.203125 \r\nQ 37.3125 6.203125 41.140625 7.25 \r\nQ 44.96875 8.296875 48.78125 10.40625 \r\nL 48.78125 2.09375 \r\nQ 45.015625 0.34375 40.984375 -0.53125 \r\nQ 36.96875 -1.421875 32.421875 -1.421875 \r\nQ 20.0625 -1.421875 12.78125 6.34375 \r\nQ 5.515625 14.109375 5.515625 27.296875 \r\nQ 5.515625 40.671875 12.859375 48.328125 \r\nQ 20.21875 56 33.015625 56 \r\nQ 37.15625 56 41.109375 55.140625 \r\nQ 45.0625 54.296875 48.78125 52.59375 \r\nz\r\n\" id=\"DejaVuSans-99\"/>\r\n      <path d=\"M 54.890625 33.015625 \r\nL 54.890625 0 \r\nL 45.90625 0 \r\nL 45.90625 32.71875 \r\nQ 45.90625 40.484375 42.875 44.328125 \r\nQ 39.84375 48.1875 33.796875 48.1875 \r\nQ 26.515625 48.1875 22.3125 43.546875 \r\nQ 18.109375 38.921875 18.109375 30.90625 \r\nL 18.109375 0 \r\nL 9.078125 0 \r\nL 9.078125 75.984375 \r\nL 18.109375 75.984375 \r\nL 18.109375 46.1875 \r\nQ 21.34375 51.125 25.703125 53.5625 \r\nQ 30.078125 56 35.796875 56 \r\nQ 45.21875 56 50.046875 50.171875 \r\nQ 54.890625 44.34375 54.890625 33.015625 \r\nz\r\n\" id=\"DejaVuSans-104\"/>\r\n     </defs>\r\n     <use xlink:href=\"#DejaVuSans-78\"/>\r\n     <use x=\"74.804688\" xlink:href=\"#DejaVuSans-101\"/>\r\n     <use x=\"136.328125\" xlink:href=\"#DejaVuSans-117\"/>\r\n     <use x=\"199.707031\" xlink:href=\"#DejaVuSans-114\"/>\r\n     <use x=\"240.820312\" xlink:href=\"#DejaVuSans-97\"/>\r\n     <use x=\"302.099609\" xlink:href=\"#DejaVuSans-108\"/>\r\n     <use x=\"329.882812\" xlink:href=\"#DejaVuSans-32\"/>\r\n     <use x=\"361.669922\" xlink:href=\"#DejaVuSans-78\"/>\r\n     <use x=\"436.474609\" xlink:href=\"#DejaVuSans-101\"/>\r\n     <use x=\"497.998047\" xlink:href=\"#DejaVuSans-116\"/>\r\n     <use x=\"537.207031\" xlink:href=\"#DejaVuSans-119\"/>\r\n     <use x=\"618.994141\" xlink:href=\"#DejaVuSans-111\"/>\r\n     <use x=\"680.175781\" xlink:href=\"#DejaVuSans-114\"/>\r\n     <use x=\"721.289062\" xlink:href=\"#DejaVuSans-107\"/>\r\n     <use x=\"779.199219\" xlink:href=\"#DejaVuSans-32\"/>\r\n     <use x=\"810.986328\" xlink:href=\"#DejaVuSans-97\"/>\r\n     <use x=\"872.265625\" xlink:href=\"#DejaVuSans-114\"/>\r\n     <use x=\"911.128906\" xlink:href=\"#DejaVuSans-99\"/>\r\n     <use x=\"966.109375\" xlink:href=\"#DejaVuSans-104\"/>\r\n     <use x=\"1029.488281\" xlink:href=\"#DejaVuSans-105\"/>\r\n     <use x=\"1057.271484\" xlink:href=\"#DejaVuSans-116\"/>\r\n     <use x=\"1096.480469\" xlink:href=\"#DejaVuSans-101\"/>\r\n     <use x=\"1158.003906\" xlink:href=\"#DejaVuSans-99\"/>\r\n     <use x=\"1212.984375\" xlink:href=\"#DejaVuSans-116\"/>\r\n     <use x=\"1252.193359\" xlink:href=\"#DejaVuSans-117\"/>\r\n     <use x=\"1315.572266\" xlink:href=\"#DejaVuSans-114\"/>\r\n     <use x=\"1354.435547\" xlink:href=\"#DejaVuSans-101\"/>\r\n    </g>\r\n   </g>\r\n  </g>\r\n </g>\r\n <defs>\r\n  <clipPath id=\"p3f7109185f\">\r\n   <rect height=\"489.24\" width=\"386.242105\" x=\"7.2\" y=\"24.597656\"/>\r\n  </clipPath>\r\n </defs>\r\n</svg>\r\n",
            "image/png": "[encoded data removed]"
          },
          "metadata": {
            "needs_background": "light"
          }
        }
      ],
      "source": [
        "# network_structure = np.hstack(([X_train.shape[1]], np.asarray(network.hidden_layer_sizes), [y_train.shape[0]]))\n",
        "network=VisNN.DrawNN((4,4,8,3))\n",
        "network.draw()"
      ]
    },
    {
      "cell_type": "markdown",
      "metadata": {
        "id": "RTaTfbXNmUrn"
      },
      "source": [
        "## Neural network (evaluation)"
      ]
    },
    {
      "cell_type": "code",
      "metadata": {
        "id": "d2YjQaZQ0GC8",
        "outputId": "8ba1ee5d-87d1-4932-8286-f9d87504a7da",
        "colab": {
          "base_uri": "https://localhost:8080/",
          "height": 34
        }
      },
      "source": [
        "X_test.shape"
      ],
      "execution_count": 35,
      "outputs": [
        {
          "output_type": "execute_result",
          "data": {
            "text/plain": [
              "(30, 4)"
            ]
          },
          "metadata": {},
          "execution_count": 35
        }
      ]
    },
    {
      "cell_type": "code",
      "metadata": {
        "id": "9w0ilRj00Le-",
        "outputId": "cea94ef4-a27c-4c09-9756-d7988d5f0d4d",
        "colab": {
          "base_uri": "https://localhost:8080/",
          "height": 50
        }
      },
      "source": [
        "predictions = network.predict(X_test)\n",
        "predictions"
      ],
      "execution_count": 36,
      "outputs": [
        {
          "output_type": "execute_result",
          "data": {
            "text/plain": [
              "array([2, 1, 0, 0, 0, 2, 1, 1, 1, 0, 0, 1, 1, 2, 1, 0, 1, 1, 1, 0, 0, 0,\n",
              "       2, 1, 2, 2, 1, 2, 1, 2])"
            ]
          },
          "metadata": {},
          "execution_count": 36
        }
      ]
    },
    {
      "cell_type": "code",
      "metadata": {
        "id": "mlVIH7Rv0TXv",
        "outputId": "a0ccc5e6-62ec-4ffd-d4d4-b9a7e0517852",
        "colab": {
          "base_uri": "https://localhost:8080/",
          "height": 50
        }
      },
      "source": [
        "y_test"
      ],
      "execution_count": 37,
      "outputs": [
        {
          "output_type": "execute_result",
          "data": {
            "text/plain": [
              "array([2, 1, 0, 0, 0, 2, 1, 1, 1, 0, 0, 1, 1, 2, 1, 0, 1, 1, 1, 0, 0, 0,\n",
              "       2, 1, 2, 2, 2, 2, 1, 2])"
            ]
          },
          "metadata": {},
          "execution_count": 37
        }
      ]
    },
    {
      "cell_type": "code",
      "metadata": {
        "id": "gnJdHw7K0aIv",
        "outputId": "a4b188ad-bb6a-47ad-ee0a-bc0ab44afc2c",
        "colab": {
          "base_uri": "https://localhost:8080/",
          "height": 34
        }
      },
      "source": [
        "from sklearn.metrics import accuracy_score, confusion_matrix\n",
        "accuracy_score(y_test, predictions)"
      ],
      "execution_count": 38,
      "outputs": [
        {
          "output_type": "execute_result",
          "data": {
            "text/plain": [
              "0.9666666666666667"
            ]
          },
          "metadata": {},
          "execution_count": 38
        }
      ]
    },
    {
      "cell_type": "code",
      "metadata": {
        "id": "Qm2U1TRd0kgw",
        "outputId": "3ed076f0-8d1f-4062-a51b-e6ced879bd6d",
        "colab": {
          "base_uri": "https://localhost:8080/",
          "height": 67
        }
      },
      "source": [
        "cm = confusion_matrix(y_test, predictions)\n",
        "cm"
      ],
      "execution_count": 39,
      "outputs": [
        {
          "output_type": "execute_result",
          "data": {
            "text/plain": [
              "array([[ 9,  0,  0],\n",
              "       [ 0, 12,  0],\n",
              "       [ 0,  1,  8]], dtype=int64)"
            ]
          },
          "metadata": {},
          "execution_count": 39
        }
      ]
    },
    {
      "cell_type": "code",
      "execution_count": 47,
      "metadata": {},
      "outputs": [
        {
          "output_type": "display_data",
          "data": {
            "text/plain": "<Figure size 576x396 with 2 Axes>",
            "image/svg+xml": "<?xml version=\"1.0\" encoding=\"utf-8\" standalone=\"no\"?>\r\n<!DOCTYPE svg PUBLIC \"-//W3C//DTD SVG 1.1//EN\"\r\n  \"http://www.w3.org/Graphics/SVG/1.1/DTD/svg11.dtd\">\r\n<!-- Created with matplotlib (https://matplotlib.org/) -->\r\n<svg height=\"333.221406pt\" version=\"1.1\" viewBox=\"0 0 476.696813 333.221406\" width=\"476.696813pt\" xmlns=\"http://www.w3.org/2000/svg\" xmlns:xlink=\"http://www.w3.org/1999/xlink\">\r\n <metadata>\r\n  <rdf:RDF xmlns:cc=\"http://creativecommons.org/ns#\" xmlns:dc=\"http://purl.org/dc/elements/1.1/\" xmlns:rdf=\"http://www.w3.org/1999/02/22-rdf-syntax-ns#\">\r\n   <cc:Work>\r\n    <dc:type rdf:resource=\"http://purl.org/dc/dcmitype/StillImage\"/>\r\n    <dc:date>2021-05-15T17:17:33.560458</dc:date>\r\n    <dc:format>image/svg+xml</dc:format>\r\n    <dc:creator>\r\n     <cc:Agent>\r\n      <dc:title>Matplotlib v3.3.3, https://matplotlib.org/</dc:title>\r\n     </cc:Agent>\r\n    </dc:creator>\r\n   </cc:Work>\r\n  </rdf:RDF>\r\n </metadata>\r\n <defs>\r\n  <style type=\"text/css\">*{stroke-linecap:butt;stroke-linejoin:round;}</style>\r\n </defs>\r\n <g id=\"figure_1\">\r\n  <g id=\"patch_1\">\r\n   <path d=\"M 0 333.221406 \r\nL 476.696813 333.221406 \r\nL 476.696813 0 \r\nL 0 0 \r\nz\r\n\" style=\"fill:#ffffff;\"/>\r\n  </g>\r\n  <g id=\"axes_1\">\r\n   <g id=\"patch_2\">\r\n    <path d=\"M 56.985938 309.758906 \r\nL 414.105937 309.758906 \r\nL 414.105937 10.778906 \r\nL 56.985938 10.778906 \r\nz\r\n\" style=\"fill:#ffffff;\"/>\r\n   </g>\r\n   <g id=\"matplotlib.axis_1\">\r\n    <g id=\"xtick_1\">\r\n     <g id=\"line2d_1\"/>\r\n     <g id=\"text_1\">\r\n      <!-- setosa -->\r\n      <g style=\"fill:#262626;\" transform=\"translate(101.775469 323.916719)scale(0.1 -0.1)\">\r\n       <defs>\r\n        <path d=\"M 3.078125 15.484375 \r\nL 11.765625 16.84375 \r\nQ 12.5 11.625 15.84375 8.84375 \r\nQ 19.1875 6.0625 25.203125 6.0625 \r\nQ 31.25 6.0625 34.171875 8.515625 \r\nQ 37.109375 10.984375 37.109375 14.3125 \r\nQ 37.109375 17.28125 34.515625 19 \r\nQ 32.71875 20.171875 25.53125 21.96875 \r\nQ 15.875 24.421875 12.140625 26.203125 \r\nQ 8.40625 27.984375 6.46875 31.125 \r\nQ 4.546875 34.28125 4.546875 38.09375 \r\nQ 4.546875 41.546875 6.125 44.5 \r\nQ 7.71875 47.46875 10.453125 49.421875 \r\nQ 12.5 50.921875 16.03125 51.96875 \r\nQ 19.578125 53.03125 23.640625 53.03125 \r\nQ 29.734375 53.03125 34.34375 51.265625 \r\nQ 38.96875 49.515625 41.15625 46.5 \r\nQ 43.359375 43.5 44.1875 38.484375 \r\nL 35.59375 37.3125 \r\nQ 35.015625 41.3125 32.203125 43.546875 \r\nQ 29.390625 45.796875 24.265625 45.796875 \r\nQ 18.21875 45.796875 15.625 43.796875 \r\nQ 13.03125 41.796875 13.03125 39.109375 \r\nQ 13.03125 37.40625 14.109375 36.03125 \r\nQ 15.1875 34.625 17.484375 33.6875 \r\nQ 18.796875 33.203125 25.25 31.453125 \r\nQ 34.578125 28.953125 38.25 27.359375 \r\nQ 41.9375 25.78125 44.03125 22.75 \r\nQ 46.140625 19.734375 46.140625 15.234375 \r\nQ 46.140625 10.84375 43.578125 6.953125 \r\nQ 41.015625 3.078125 36.171875 0.953125 \r\nQ 31.34375 -1.171875 25.25 -1.171875 \r\nQ 15.140625 -1.171875 9.84375 3.03125 \r\nQ 4.546875 7.234375 3.078125 15.484375 \r\nz\r\n\" id=\"ArialMT-115\"/>\r\n        <path d=\"M 42.09375 16.703125 \r\nL 51.171875 15.578125 \r\nQ 49.03125 7.625 43.21875 3.21875 \r\nQ 37.40625 -1.171875 28.375 -1.171875 \r\nQ 17 -1.171875 10.328125 5.828125 \r\nQ 3.65625 12.84375 3.65625 25.484375 \r\nQ 3.65625 38.578125 10.390625 45.796875 \r\nQ 17.140625 53.03125 27.875 53.03125 \r\nQ 38.28125 53.03125 44.875 45.953125 \r\nQ 51.46875 38.875 51.46875 26.03125 \r\nQ 51.46875 25.25 51.421875 23.6875 \r\nL 12.75 23.6875 \r\nQ 13.234375 15.140625 17.578125 10.59375 \r\nQ 21.921875 6.0625 28.421875 6.0625 \r\nQ 33.25 6.0625 36.671875 8.59375 \r\nQ 40.09375 11.140625 42.09375 16.703125 \r\nz\r\nM 13.234375 30.90625 \r\nL 42.1875 30.90625 \r\nQ 41.609375 37.453125 38.875 40.71875 \r\nQ 34.671875 45.796875 27.984375 45.796875 \r\nQ 21.921875 45.796875 17.796875 41.75 \r\nQ 13.671875 37.703125 13.234375 30.90625 \r\nz\r\n\" id=\"ArialMT-101\"/>\r\n        <path d=\"M 25.78125 7.859375 \r\nL 27.046875 0.09375 \r\nQ 23.34375 -0.6875 20.40625 -0.6875 \r\nQ 15.625 -0.6875 12.984375 0.828125 \r\nQ 10.359375 2.34375 9.28125 4.8125 \r\nQ 8.203125 7.28125 8.203125 15.1875 \r\nL 8.203125 45.015625 \r\nL 1.765625 45.015625 \r\nL 1.765625 51.859375 \r\nL 8.203125 51.859375 \r\nL 8.203125 64.703125 \r\nL 16.9375 69.96875 \r\nL 16.9375 51.859375 \r\nL 25.78125 51.859375 \r\nL 25.78125 45.015625 \r\nL 16.9375 45.015625 \r\nL 16.9375 14.703125 \r\nQ 16.9375 10.9375 17.40625 9.859375 \r\nQ 17.875 8.796875 18.921875 8.15625 \r\nQ 19.96875 7.515625 21.921875 7.515625 \r\nQ 23.390625 7.515625 25.78125 7.859375 \r\nz\r\n\" id=\"ArialMT-116\"/>\r\n        <path d=\"M 3.328125 25.921875 \r\nQ 3.328125 40.328125 11.328125 47.265625 \r\nQ 18.015625 53.03125 27.640625 53.03125 \r\nQ 38.328125 53.03125 45.109375 46.015625 \r\nQ 51.90625 39.015625 51.90625 26.65625 \r\nQ 51.90625 16.65625 48.90625 10.90625 \r\nQ 45.90625 5.171875 40.15625 2 \r\nQ 34.421875 -1.171875 27.640625 -1.171875 \r\nQ 16.75 -1.171875 10.03125 5.8125 \r\nQ 3.328125 12.796875 3.328125 25.921875 \r\nz\r\nM 12.359375 25.921875 \r\nQ 12.359375 15.96875 16.703125 11.015625 \r\nQ 21.046875 6.0625 27.640625 6.0625 \r\nQ 34.1875 6.0625 38.53125 11.03125 \r\nQ 42.875 16.015625 42.875 26.21875 \r\nQ 42.875 35.84375 38.5 40.796875 \r\nQ 34.125 45.75 27.640625 45.75 \r\nQ 21.046875 45.75 16.703125 40.8125 \r\nQ 12.359375 35.890625 12.359375 25.921875 \r\nz\r\n\" id=\"ArialMT-111\"/>\r\n        <path d=\"M 40.4375 6.390625 \r\nQ 35.546875 2.25 31.03125 0.53125 \r\nQ 26.515625 -1.171875 21.34375 -1.171875 \r\nQ 12.796875 -1.171875 8.203125 3 \r\nQ 3.609375 7.171875 3.609375 13.671875 \r\nQ 3.609375 17.484375 5.34375 20.625 \r\nQ 7.078125 23.78125 9.890625 25.6875 \r\nQ 12.703125 27.59375 16.21875 28.5625 \r\nQ 18.796875 29.25 24.03125 29.890625 \r\nQ 34.671875 31.15625 39.703125 32.90625 \r\nQ 39.75 34.71875 39.75 35.203125 \r\nQ 39.75 40.578125 37.25 42.78125 \r\nQ 33.890625 45.75 27.25 45.75 \r\nQ 21.046875 45.75 18.09375 43.578125 \r\nQ 15.140625 41.40625 13.71875 35.890625 \r\nL 5.125 37.0625 \r\nQ 6.296875 42.578125 8.984375 45.96875 \r\nQ 11.671875 49.359375 16.75 51.1875 \r\nQ 21.828125 53.03125 28.515625 53.03125 \r\nQ 35.15625 53.03125 39.296875 51.46875 \r\nQ 43.453125 49.90625 45.40625 47.53125 \r\nQ 47.359375 45.171875 48.140625 41.546875 \r\nQ 48.578125 39.3125 48.578125 33.453125 \r\nL 48.578125 21.734375 \r\nQ 48.578125 9.46875 49.140625 6.21875 \r\nQ 49.703125 2.984375 51.375 0 \r\nL 42.1875 0 \r\nQ 40.828125 2.734375 40.4375 6.390625 \r\nz\r\nM 39.703125 26.03125 \r\nQ 34.90625 24.078125 25.34375 22.703125 \r\nQ 19.921875 21.921875 17.671875 20.9375 \r\nQ 15.4375 19.96875 14.203125 18.09375 \r\nQ 12.984375 16.21875 12.984375 13.921875 \r\nQ 12.984375 10.40625 15.640625 8.0625 \r\nQ 18.3125 5.71875 23.4375 5.71875 \r\nQ 28.515625 5.71875 32.46875 7.9375 \r\nQ 36.421875 10.15625 38.28125 14.015625 \r\nQ 39.703125 17 39.703125 22.796875 \r\nz\r\n\" id=\"ArialMT-97\"/>\r\n       </defs>\r\n       <use xlink:href=\"#ArialMT-115\"/>\r\n       <use x=\"50\" xlink:href=\"#ArialMT-101\"/>\r\n       <use x=\"105.615234\" xlink:href=\"#ArialMT-116\"/>\r\n       <use x=\"133.398438\" xlink:href=\"#ArialMT-111\"/>\r\n       <use x=\"189.013672\" xlink:href=\"#ArialMT-115\"/>\r\n       <use x=\"239.013672\" xlink:href=\"#ArialMT-97\"/>\r\n      </g>\r\n     </g>\r\n    </g>\r\n    <g id=\"xtick_2\">\r\n     <g id=\"line2d_2\"/>\r\n     <g id=\"text_2\">\r\n      <!-- versicolor -->\r\n      <g style=\"fill:#262626;\" transform=\"translate(214.152969 323.916719)scale(0.1 -0.1)\">\r\n       <defs>\r\n        <path d=\"M 21 0 \r\nL 1.265625 51.859375 \r\nL 10.546875 51.859375 \r\nL 21.6875 20.796875 \r\nQ 23.484375 15.765625 25 10.359375 \r\nQ 26.171875 14.453125 28.265625 20.21875 \r\nL 39.796875 51.859375 \r\nL 48.828125 51.859375 \r\nL 29.203125 0 \r\nz\r\n\" id=\"ArialMT-118\"/>\r\n        <path d=\"M 6.5 0 \r\nL 6.5 51.859375 \r\nL 14.40625 51.859375 \r\nL 14.40625 44 \r\nQ 17.4375 49.515625 20 51.265625 \r\nQ 22.5625 53.03125 25.640625 53.03125 \r\nQ 30.078125 53.03125 34.671875 50.203125 \r\nL 31.640625 42.046875 \r\nQ 28.421875 43.953125 25.203125 43.953125 \r\nQ 22.3125 43.953125 20.015625 42.21875 \r\nQ 17.71875 40.484375 16.75 37.40625 \r\nQ 15.28125 32.71875 15.28125 27.15625 \r\nL 15.28125 0 \r\nz\r\n\" id=\"ArialMT-114\"/>\r\n        <path d=\"M 6.640625 61.46875 \r\nL 6.640625 71.578125 \r\nL 15.4375 71.578125 \r\nL 15.4375 61.46875 \r\nz\r\nM 6.640625 0 \r\nL 6.640625 51.859375 \r\nL 15.4375 51.859375 \r\nL 15.4375 0 \r\nz\r\n\" id=\"ArialMT-105\"/>\r\n        <path d=\"M 40.4375 19 \r\nL 49.078125 17.875 \r\nQ 47.65625 8.9375 41.8125 3.875 \r\nQ 35.984375 -1.171875 27.484375 -1.171875 \r\nQ 16.84375 -1.171875 10.375 5.78125 \r\nQ 3.90625 12.75 3.90625 25.734375 \r\nQ 3.90625 34.125 6.6875 40.421875 \r\nQ 9.46875 46.734375 15.15625 49.875 \r\nQ 20.84375 53.03125 27.546875 53.03125 \r\nQ 35.984375 53.03125 41.359375 48.75 \r\nQ 46.734375 44.484375 48.25 36.625 \r\nL 39.703125 35.296875 \r\nQ 38.484375 40.53125 35.375 43.15625 \r\nQ 32.28125 45.796875 27.875 45.796875 \r\nQ 21.234375 45.796875 17.078125 41.03125 \r\nQ 12.9375 36.28125 12.9375 25.984375 \r\nQ 12.9375 15.53125 16.9375 10.796875 \r\nQ 20.953125 6.0625 27.390625 6.0625 \r\nQ 32.5625 6.0625 36.03125 9.234375 \r\nQ 39.5 12.40625 40.4375 19 \r\nz\r\n\" id=\"ArialMT-99\"/>\r\n        <path d=\"M 6.390625 0 \r\nL 6.390625 71.578125 \r\nL 15.1875 71.578125 \r\nL 15.1875 0 \r\nz\r\n\" id=\"ArialMT-108\"/>\r\n       </defs>\r\n       <use xlink:href=\"#ArialMT-118\"/>\r\n       <use x=\"50\" xlink:href=\"#ArialMT-101\"/>\r\n       <use x=\"105.615234\" xlink:href=\"#ArialMT-114\"/>\r\n       <use x=\"138.916016\" xlink:href=\"#ArialMT-115\"/>\r\n       <use x=\"188.916016\" xlink:href=\"#ArialMT-105\"/>\r\n       <use x=\"211.132812\" xlink:href=\"#ArialMT-99\"/>\r\n       <use x=\"261.132812\" xlink:href=\"#ArialMT-111\"/>\r\n       <use x=\"316.748047\" xlink:href=\"#ArialMT-108\"/>\r\n       <use x=\"338.964844\" xlink:href=\"#ArialMT-111\"/>\r\n       <use x=\"394.580078\" xlink:href=\"#ArialMT-114\"/>\r\n      </g>\r\n     </g>\r\n    </g>\r\n    <g id=\"xtick_3\">\r\n     <g id=\"line2d_3\"/>\r\n     <g id=\"text_3\">\r\n      <!-- virginica -->\r\n      <g style=\"fill:#262626;\" transform=\"translate(336.246875 323.916719)scale(0.1 -0.1)\">\r\n       <defs>\r\n        <path d=\"M 4.984375 -4.296875 \r\nL 13.53125 -5.5625 \r\nQ 14.0625 -9.515625 16.5 -11.328125 \r\nQ 19.78125 -13.765625 25.4375 -13.765625 \r\nQ 31.546875 -13.765625 34.859375 -11.328125 \r\nQ 38.1875 -8.890625 39.359375 -4.5 \r\nQ 40.046875 -1.8125 39.984375 6.78125 \r\nQ 34.234375 0 25.640625 0 \r\nQ 14.9375 0 9.078125 7.71875 \r\nQ 3.21875 15.4375 3.21875 26.21875 \r\nQ 3.21875 33.640625 5.90625 39.90625 \r\nQ 8.59375 46.1875 13.6875 49.609375 \r\nQ 18.796875 53.03125 25.6875 53.03125 \r\nQ 34.859375 53.03125 40.828125 45.609375 \r\nL 40.828125 51.859375 \r\nL 48.921875 51.859375 \r\nL 48.921875 7.03125 \r\nQ 48.921875 -5.078125 46.453125 -10.125 \r\nQ 44 -15.1875 38.640625 -18.109375 \r\nQ 33.296875 -21.046875 25.484375 -21.046875 \r\nQ 16.21875 -21.046875 10.5 -16.875 \r\nQ 4.78125 -12.703125 4.984375 -4.296875 \r\nz\r\nM 12.25 26.859375 \r\nQ 12.25 16.65625 16.296875 11.96875 \r\nQ 20.359375 7.28125 26.46875 7.28125 \r\nQ 32.515625 7.28125 36.609375 11.9375 \r\nQ 40.71875 16.609375 40.71875 26.5625 \r\nQ 40.71875 36.078125 36.5 40.90625 \r\nQ 32.28125 45.75 26.3125 45.75 \r\nQ 20.453125 45.75 16.34375 40.984375 \r\nQ 12.25 36.234375 12.25 26.859375 \r\nz\r\n\" id=\"ArialMT-103\"/>\r\n        <path d=\"M 6.59375 0 \r\nL 6.59375 51.859375 \r\nL 14.5 51.859375 \r\nL 14.5 44.484375 \r\nQ 20.21875 53.03125 31 53.03125 \r\nQ 35.6875 53.03125 39.625 51.34375 \r\nQ 43.5625 49.65625 45.515625 46.921875 \r\nQ 47.46875 44.1875 48.25 40.4375 \r\nQ 48.734375 37.984375 48.734375 31.890625 \r\nL 48.734375 0 \r\nL 39.9375 0 \r\nL 39.9375 31.546875 \r\nQ 39.9375 36.921875 38.90625 39.578125 \r\nQ 37.890625 42.234375 35.28125 43.8125 \r\nQ 32.671875 45.40625 29.15625 45.40625 \r\nQ 23.53125 45.40625 19.453125 41.84375 \r\nQ 15.375 38.28125 15.375 28.328125 \r\nL 15.375 0 \r\nz\r\n\" id=\"ArialMT-110\"/>\r\n       </defs>\r\n       <use xlink:href=\"#ArialMT-118\"/>\r\n       <use x=\"50\" xlink:href=\"#ArialMT-105\"/>\r\n       <use x=\"72.216797\" xlink:href=\"#ArialMT-114\"/>\r\n       <use x=\"105.517578\" xlink:href=\"#ArialMT-103\"/>\r\n       <use x=\"161.132812\" xlink:href=\"#ArialMT-105\"/>\r\n       <use x=\"183.349609\" xlink:href=\"#ArialMT-110\"/>\r\n       <use x=\"238.964844\" xlink:href=\"#ArialMT-105\"/>\r\n       <use x=\"261.181641\" xlink:href=\"#ArialMT-99\"/>\r\n       <use x=\"311.181641\" xlink:href=\"#ArialMT-97\"/>\r\n      </g>\r\n     </g>\r\n    </g>\r\n   </g>\r\n   <g id=\"matplotlib.axis_2\">\r\n    <g id=\"ytick_1\">\r\n     <g id=\"line2d_4\"/>\r\n     <g id=\"text_4\">\r\n      <!-- setosa -->\r\n      <g style=\"fill:#262626;\" transform=\"translate(20.525 64.187812)scale(0.1 -0.1)\">\r\n       <use xlink:href=\"#ArialMT-115\"/>\r\n       <use x=\"50\" xlink:href=\"#ArialMT-101\"/>\r\n       <use x=\"105.615234\" xlink:href=\"#ArialMT-116\"/>\r\n       <use x=\"133.398438\" xlink:href=\"#ArialMT-111\"/>\r\n       <use x=\"189.013672\" xlink:href=\"#ArialMT-115\"/>\r\n       <use x=\"239.013672\" xlink:href=\"#ArialMT-97\"/>\r\n      </g>\r\n     </g>\r\n    </g>\r\n    <g id=\"ytick_2\">\r\n     <g id=\"line2d_5\"/>\r\n     <g id=\"text_5\">\r\n      <!-- versicolor -->\r\n      <g style=\"fill:#262626;\" transform=\"translate(7.2 163.847812)scale(0.1 -0.1)\">\r\n       <use xlink:href=\"#ArialMT-118\"/>\r\n       <use x=\"50\" xlink:href=\"#ArialMT-101\"/>\r\n       <use x=\"105.615234\" xlink:href=\"#ArialMT-114\"/>\r\n       <use x=\"138.916016\" xlink:href=\"#ArialMT-115\"/>\r\n       <use x=\"188.916016\" xlink:href=\"#ArialMT-105\"/>\r\n       <use x=\"211.132812\" xlink:href=\"#ArialMT-99\"/>\r\n       <use x=\"261.132812\" xlink:href=\"#ArialMT-111\"/>\r\n       <use x=\"316.748047\" xlink:href=\"#ArialMT-108\"/>\r\n       <use x=\"338.964844\" xlink:href=\"#ArialMT-111\"/>\r\n       <use x=\"394.580078\" xlink:href=\"#ArialMT-114\"/>\r\n      </g>\r\n     </g>\r\n    </g>\r\n    <g id=\"ytick_3\">\r\n     <g id=\"line2d_6\"/>\r\n     <g id=\"text_6\">\r\n      <!-- virginica -->\r\n      <g style=\"fill:#262626;\" transform=\"translate(13.307813 263.507812)scale(0.1 -0.1)\">\r\n       <use xlink:href=\"#ArialMT-118\"/>\r\n       <use x=\"50\" xlink:href=\"#ArialMT-105\"/>\r\n       <use x=\"72.216797\" xlink:href=\"#ArialMT-114\"/>\r\n       <use x=\"105.517578\" xlink:href=\"#ArialMT-103\"/>\r\n       <use x=\"161.132812\" xlink:href=\"#ArialMT-105\"/>\r\n       <use x=\"183.349609\" xlink:href=\"#ArialMT-110\"/>\r\n       <use x=\"238.964844\" xlink:href=\"#ArialMT-105\"/>\r\n       <use x=\"261.181641\" xlink:href=\"#ArialMT-99\"/>\r\n       <use x=\"311.181641\" xlink:href=\"#ArialMT-97\"/>\r\n      </g>\r\n     </g>\r\n    </g>\r\n   </g>\r\n   <g id=\"QuadMesh_1\">\r\n    <path clip-path=\"url(#pfd93b4bb3b)\" d=\"M 56.985938 10.778906 \r\nL 176.025937 10.778906 \r\nL 176.025937 110.438906 \r\nL 56.985938 110.438906 \r\nL 56.985938 10.778906 \r\n\" style=\"fill:#f58860;\"/>\r\n    <path clip-path=\"url(#pfd93b4bb3b)\" d=\"M 176.025937 10.778906 \r\nL 295.065938 10.778906 \r\nL 295.065938 110.438906 \r\nL 176.025937 110.438906 \r\nL 176.025937 10.778906 \r\n\" style=\"fill:#03051a;\"/>\r\n    <path clip-path=\"url(#pfd93b4bb3b)\" d=\"M 295.065938 10.778906 \r\nL 414.105937 10.778906 \r\nL 414.105937 110.438906 \r\nL 295.065938 110.438906 \r\nL 295.065938 10.778906 \r\n\" style=\"fill:#03051a;\"/>\r\n    <path clip-path=\"url(#pfd93b4bb3b)\" d=\"M 56.985938 110.438906 \r\nL 176.025937 110.438906 \r\nL 176.025937 210.098906 \r\nL 56.985938 210.098906 \r\nL 56.985938 110.438906 \r\n\" style=\"fill:#03051a;\"/>\r\n    <path clip-path=\"url(#pfd93b4bb3b)\" d=\"M 176.025937 110.438906 \r\nL 295.065938 110.438906 \r\nL 295.065938 210.098906 \r\nL 176.025937 210.098906 \r\nL 176.025937 110.438906 \r\n\" style=\"fill:#faebdd;\"/>\r\n    <path clip-path=\"url(#pfd93b4bb3b)\" d=\"M 295.065938 110.438906 \r\nL 414.105937 110.438906 \r\nL 414.105937 210.098906 \r\nL 295.065938 210.098906 \r\nL 295.065938 110.438906 \r\n\" style=\"fill:#03051a;\"/>\r\n    <path clip-path=\"url(#pfd93b4bb3b)\" d=\"M 56.985938 210.098906 \r\nL 176.025937 210.098906 \r\nL 176.025937 309.758906 \r\nL 56.985938 309.758906 \r\nL 56.985938 210.098906 \r\n\" style=\"fill:#03051a;\"/>\r\n    <path clip-path=\"url(#pfd93b4bb3b)\" d=\"M 176.025937 210.098906 \r\nL 295.065938 210.098906 \r\nL 295.065938 309.758906 \r\nL 176.025937 309.758906 \r\nL 176.025937 210.098906 \r\n\" style=\"fill:#20122e;\"/>\r\n    <path clip-path=\"url(#pfd93b4bb3b)\" d=\"M 295.065938 210.098906 \r\nL 414.105937 210.098906 \r\nL 414.105937 309.758906 \r\nL 295.065938 309.758906 \r\nL 295.065938 210.098906 \r\n\" style=\"fill:#f06043;\"/>\r\n   </g>\r\n   <g id=\"text_7\">\r\n    <!-- 9 -->\r\n    <g style=\"fill:#ffffff;\" transform=\"translate(113.169375 63.711094)scale(0.12 -0.12)\">\r\n     <defs>\r\n      <path d=\"M 5.46875 16.546875 \r\nL 13.921875 17.328125 \r\nQ 14.984375 11.375 18.015625 8.6875 \r\nQ 21.046875 6 25.78125 6 \r\nQ 29.828125 6 32.875 7.859375 \r\nQ 35.9375 9.71875 37.890625 12.8125 \r\nQ 39.84375 15.921875 41.15625 21.1875 \r\nQ 42.484375 26.46875 42.484375 31.9375 \r\nQ 42.484375 32.515625 42.4375 33.6875 \r\nQ 39.796875 29.5 35.234375 26.875 \r\nQ 30.671875 24.265625 25.34375 24.265625 \r\nQ 16.453125 24.265625 10.296875 30.703125 \r\nQ 4.15625 37.15625 4.15625 47.703125 \r\nQ 4.15625 58.59375 10.578125 65.234375 \r\nQ 17 71.875 26.65625 71.875 \r\nQ 33.640625 71.875 39.421875 68.109375 \r\nQ 45.21875 64.359375 48.21875 57.390625 \r\nQ 51.21875 50.4375 51.21875 37.25 \r\nQ 51.21875 23.53125 48.234375 15.40625 \r\nQ 45.265625 7.28125 39.375 3.03125 \r\nQ 33.5 -1.21875 25.59375 -1.21875 \r\nQ 17.1875 -1.21875 11.859375 3.4375 \r\nQ 6.546875 8.109375 5.46875 16.546875 \r\nz\r\nM 41.453125 48.140625 \r\nQ 41.453125 55.71875 37.421875 60.15625 \r\nQ 33.40625 64.59375 27.734375 64.59375 \r\nQ 21.875 64.59375 17.53125 59.8125 \r\nQ 13.1875 55.03125 13.1875 47.40625 \r\nQ 13.1875 40.578125 17.3125 36.296875 \r\nQ 21.4375 32.03125 27.484375 32.03125 \r\nQ 33.59375 32.03125 37.515625 36.296875 \r\nQ 41.453125 40.578125 41.453125 48.140625 \r\nz\r\n\" id=\"ArialMT-57\"/>\r\n     </defs>\r\n     <use xlink:href=\"#ArialMT-57\"/>\r\n    </g>\r\n   </g>\r\n   <g id=\"text_8\">\r\n    <!-- 0 -->\r\n    <g style=\"fill:#ffffff;\" transform=\"translate(232.209375 63.711094)scale(0.12 -0.12)\">\r\n     <defs>\r\n      <path d=\"M 4.15625 35.296875 \r\nQ 4.15625 48 6.765625 55.734375 \r\nQ 9.375 63.484375 14.515625 67.671875 \r\nQ 19.671875 71.875 27.484375 71.875 \r\nQ 33.25 71.875 37.59375 69.546875 \r\nQ 41.9375 67.234375 44.765625 62.859375 \r\nQ 47.609375 58.5 49.21875 52.21875 \r\nQ 50.828125 45.953125 50.828125 35.296875 \r\nQ 50.828125 22.703125 48.234375 14.96875 \r\nQ 45.65625 7.234375 40.5 3 \r\nQ 35.359375 -1.21875 27.484375 -1.21875 \r\nQ 17.140625 -1.21875 11.234375 6.203125 \r\nQ 4.15625 15.140625 4.15625 35.296875 \r\nz\r\nM 13.1875 35.296875 \r\nQ 13.1875 17.671875 17.3125 11.828125 \r\nQ 21.4375 6 27.484375 6 \r\nQ 33.546875 6 37.671875 11.859375 \r\nQ 41.796875 17.71875 41.796875 35.296875 \r\nQ 41.796875 52.984375 37.671875 58.78125 \r\nQ 33.546875 64.59375 27.390625 64.59375 \r\nQ 21.34375 64.59375 17.71875 59.46875 \r\nQ 13.1875 52.9375 13.1875 35.296875 \r\nz\r\n\" id=\"ArialMT-48\"/>\r\n     </defs>\r\n     <use xlink:href=\"#ArialMT-48\"/>\r\n    </g>\r\n   </g>\r\n   <g id=\"text_9\">\r\n    <!-- 0 -->\r\n    <g style=\"fill:#ffffff;\" transform=\"translate(351.249375 63.711094)scale(0.12 -0.12)\">\r\n     <use xlink:href=\"#ArialMT-48\"/>\r\n    </g>\r\n   </g>\r\n   <g id=\"text_10\">\r\n    <!-- 0 -->\r\n    <g style=\"fill:#ffffff;\" transform=\"translate(113.169375 163.371094)scale(0.12 -0.12)\">\r\n     <use xlink:href=\"#ArialMT-48\"/>\r\n    </g>\r\n   </g>\r\n   <g id=\"text_11\">\r\n    <!-- 12 -->\r\n    <g style=\"fill:#262626;\" transform=\"translate(228.872813 163.371094)scale(0.12 -0.12)\">\r\n     <defs>\r\n      <path d=\"M 37.25 0 \r\nL 28.46875 0 \r\nL 28.46875 56 \r\nQ 25.296875 52.984375 20.140625 49.953125 \r\nQ 14.984375 46.921875 10.890625 45.40625 \r\nL 10.890625 53.90625 \r\nQ 18.265625 57.375 23.78125 62.296875 \r\nQ 29.296875 67.234375 31.59375 71.875 \r\nL 37.25 71.875 \r\nz\r\n\" id=\"ArialMT-49\"/>\r\n      <path d=\"M 50.34375 8.453125 \r\nL 50.34375 0 \r\nL 3.03125 0 \r\nQ 2.9375 3.171875 4.046875 6.109375 \r\nQ 5.859375 10.9375 9.828125 15.625 \r\nQ 13.8125 20.3125 21.34375 26.46875 \r\nQ 33.015625 36.03125 37.109375 41.625 \r\nQ 41.21875 47.21875 41.21875 52.203125 \r\nQ 41.21875 57.421875 37.46875 61 \r\nQ 33.734375 64.59375 27.734375 64.59375 \r\nQ 21.390625 64.59375 17.578125 60.78125 \r\nQ 13.765625 56.984375 13.71875 50.25 \r\nL 4.6875 51.171875 \r\nQ 5.609375 61.28125 11.65625 66.578125 \r\nQ 17.71875 71.875 27.9375 71.875 \r\nQ 38.234375 71.875 44.234375 66.15625 \r\nQ 50.25 60.453125 50.25 52 \r\nQ 50.25 47.703125 48.484375 43.546875 \r\nQ 46.734375 39.40625 42.65625 34.8125 \r\nQ 38.578125 30.21875 29.109375 22.21875 \r\nQ 21.1875 15.578125 18.9375 13.203125 \r\nQ 16.703125 10.84375 15.234375 8.453125 \r\nz\r\n\" id=\"ArialMT-50\"/>\r\n     </defs>\r\n     <use xlink:href=\"#ArialMT-49\"/>\r\n     <use x=\"55.615234\" xlink:href=\"#ArialMT-50\"/>\r\n    </g>\r\n   </g>\r\n   <g id=\"text_12\">\r\n    <!-- 0 -->\r\n    <g style=\"fill:#ffffff;\" transform=\"translate(351.249375 163.371094)scale(0.12 -0.12)\">\r\n     <use xlink:href=\"#ArialMT-48\"/>\r\n    </g>\r\n   </g>\r\n   <g id=\"text_13\">\r\n    <!-- 0 -->\r\n    <g style=\"fill:#ffffff;\" transform=\"translate(113.169375 263.031094)scale(0.12 -0.12)\">\r\n     <use xlink:href=\"#ArialMT-48\"/>\r\n    </g>\r\n   </g>\r\n   <g id=\"text_14\">\r\n    <!-- 1 -->\r\n    <g style=\"fill:#ffffff;\" transform=\"translate(232.209375 263.031094)scale(0.12 -0.12)\">\r\n     <use xlink:href=\"#ArialMT-49\"/>\r\n    </g>\r\n   </g>\r\n   <g id=\"text_15\">\r\n    <!-- 8 -->\r\n    <g style=\"fill:#ffffff;\" transform=\"translate(351.249375 263.031094)scale(0.12 -0.12)\">\r\n     <defs>\r\n      <path d=\"M 17.671875 38.8125 \r\nQ 12.203125 40.828125 9.5625 44.53125 \r\nQ 6.9375 48.25 6.9375 53.421875 \r\nQ 6.9375 61.234375 12.546875 66.546875 \r\nQ 18.171875 71.875 27.484375 71.875 \r\nQ 36.859375 71.875 42.578125 66.421875 \r\nQ 48.296875 60.984375 48.296875 53.171875 \r\nQ 48.296875 48.1875 45.671875 44.5 \r\nQ 43.0625 40.828125 37.75 38.8125 \r\nQ 44.34375 36.671875 47.78125 31.875 \r\nQ 51.21875 27.09375 51.21875 20.453125 \r\nQ 51.21875 11.28125 44.71875 5.03125 \r\nQ 38.234375 -1.21875 27.640625 -1.21875 \r\nQ 17.046875 -1.21875 10.546875 5.046875 \r\nQ 4.046875 11.328125 4.046875 20.703125 \r\nQ 4.046875 27.6875 7.59375 32.390625 \r\nQ 11.140625 37.109375 17.671875 38.8125 \r\nz\r\nM 15.921875 53.71875 \r\nQ 15.921875 48.640625 19.1875 45.40625 \r\nQ 22.46875 42.1875 27.6875 42.1875 \r\nQ 32.765625 42.1875 36.015625 45.375 \r\nQ 39.265625 48.578125 39.265625 53.21875 \r\nQ 39.265625 58.0625 35.90625 61.359375 \r\nQ 32.5625 64.65625 27.59375 64.65625 \r\nQ 22.5625 64.65625 19.234375 61.421875 \r\nQ 15.921875 58.203125 15.921875 53.71875 \r\nz\r\nM 13.09375 20.65625 \r\nQ 13.09375 16.890625 14.875 13.375 \r\nQ 16.65625 9.859375 20.171875 7.921875 \r\nQ 23.6875 6 27.734375 6 \r\nQ 34.03125 6 38.125 10.046875 \r\nQ 42.234375 14.109375 42.234375 20.359375 \r\nQ 42.234375 26.703125 38.015625 30.859375 \r\nQ 33.796875 35.015625 27.4375 35.015625 \r\nQ 21.234375 35.015625 17.15625 30.90625 \r\nQ 13.09375 26.8125 13.09375 20.65625 \r\nz\r\n\" id=\"ArialMT-56\"/>\r\n     </defs>\r\n     <use xlink:href=\"#ArialMT-56\"/>\r\n    </g>\r\n   </g>\r\n  </g>\r\n  <g id=\"axes_2\">\r\n   <g id=\"patch_3\">\r\n    <path clip-path=\"url(#p91845f6b94)\" d=\"M 436.425938 309.758906 \r\nL 436.425938 308.591016 \r\nL 436.425938 11.946797 \r\nL 436.425938 10.778906 \r\nL 451.374938 10.778906 \r\nL 451.374938 11.946797 \r\nL 451.374938 308.591016 \r\nL 451.374938 309.758906 \r\nz\r\n\" style=\"fill:#ffffff;stroke:#ffffff;stroke-linejoin:miter;stroke-width:0.01;\"/>\r\n   </g>\r\n   <g id=\"matplotlib.axis_3\"/>\r\n   <g id=\"matplotlib.axis_4\">\r\n    <g id=\"ytick_4\">\r\n     <g id=\"line2d_7\"/>\r\n     <g id=\"text_16\">\r\n      <!-- 0 -->\r\n      <g style=\"fill:#262626;\" transform=\"translate(458.374938 313.337812)scale(0.1 -0.1)\">\r\n       <use xlink:href=\"#ArialMT-48\"/>\r\n      </g>\r\n     </g>\r\n    </g>\r\n    <g id=\"ytick_5\">\r\n     <g id=\"line2d_8\"/>\r\n     <g id=\"text_17\">\r\n      <!-- 2 -->\r\n      <g style=\"fill:#262626;\" transform=\"translate(458.374938 263.507812)scale(0.1 -0.1)\">\r\n       <use xlink:href=\"#ArialMT-50\"/>\r\n      </g>\r\n     </g>\r\n    </g>\r\n    <g id=\"ytick_6\">\r\n     <g id=\"line2d_9\"/>\r\n     <g id=\"text_18\">\r\n      <!-- 4 -->\r\n      <g style=\"fill:#262626;\" transform=\"translate(458.374938 213.677812)scale(0.1 -0.1)\">\r\n       <defs>\r\n        <path d=\"M 32.328125 0 \r\nL 32.328125 17.140625 \r\nL 1.265625 17.140625 \r\nL 1.265625 25.203125 \r\nL 33.9375 71.578125 \r\nL 41.109375 71.578125 \r\nL 41.109375 25.203125 \r\nL 50.78125 25.203125 \r\nL 50.78125 17.140625 \r\nL 41.109375 17.140625 \r\nL 41.109375 0 \r\nz\r\nM 32.328125 25.203125 \r\nL 32.328125 57.46875 \r\nL 9.90625 25.203125 \r\nz\r\n\" id=\"ArialMT-52\"/>\r\n       </defs>\r\n       <use xlink:href=\"#ArialMT-52\"/>\r\n      </g>\r\n     </g>\r\n    </g>\r\n    <g id=\"ytick_7\">\r\n     <g id=\"line2d_10\"/>\r\n     <g id=\"text_19\">\r\n      <!-- 6 -->\r\n      <g style=\"fill:#262626;\" transform=\"translate(458.374938 163.847812)scale(0.1 -0.1)\">\r\n       <defs>\r\n        <path d=\"M 49.75 54.046875 \r\nL 41.015625 53.375 \r\nQ 39.84375 58.546875 37.703125 60.890625 \r\nQ 34.125 64.65625 28.90625 64.65625 \r\nQ 24.703125 64.65625 21.53125 62.3125 \r\nQ 17.390625 59.28125 14.984375 53.46875 \r\nQ 12.59375 47.65625 12.5 36.921875 \r\nQ 15.671875 41.75 20.265625 44.09375 \r\nQ 24.859375 46.4375 29.890625 46.4375 \r\nQ 38.671875 46.4375 44.84375 39.96875 \r\nQ 51.03125 33.5 51.03125 23.25 \r\nQ 51.03125 16.5 48.125 10.71875 \r\nQ 45.21875 4.9375 40.140625 1.859375 \r\nQ 35.0625 -1.21875 28.609375 -1.21875 \r\nQ 17.625 -1.21875 10.6875 6.859375 \r\nQ 3.765625 14.9375 3.765625 33.5 \r\nQ 3.765625 54.25 11.421875 63.671875 \r\nQ 18.109375 71.875 29.4375 71.875 \r\nQ 37.890625 71.875 43.28125 67.140625 \r\nQ 48.6875 62.40625 49.75 54.046875 \r\nz\r\nM 13.875 23.1875 \r\nQ 13.875 18.65625 15.796875 14.5 \r\nQ 17.71875 10.359375 21.1875 8.171875 \r\nQ 24.65625 6 28.46875 6 \r\nQ 34.03125 6 38.03125 10.484375 \r\nQ 42.046875 14.984375 42.046875 22.703125 \r\nQ 42.046875 30.125 38.078125 34.390625 \r\nQ 34.125 38.671875 28.125 38.671875 \r\nQ 22.171875 38.671875 18.015625 34.390625 \r\nQ 13.875 30.125 13.875 23.1875 \r\nz\r\n\" id=\"ArialMT-54\"/>\r\n       </defs>\r\n       <use xlink:href=\"#ArialMT-54\"/>\r\n      </g>\r\n     </g>\r\n    </g>\r\n    <g id=\"ytick_8\">\r\n     <g id=\"line2d_11\"/>\r\n     <g id=\"text_20\">\r\n      <!-- 8 -->\r\n      <g style=\"fill:#262626;\" transform=\"translate(458.374938 114.017812)scale(0.1 -0.1)\">\r\n       <use xlink:href=\"#ArialMT-56\"/>\r\n      </g>\r\n     </g>\r\n    </g>\r\n    <g id=\"ytick_9\">\r\n     <g id=\"line2d_12\"/>\r\n     <g id=\"text_21\">\r\n      <!-- 10 -->\r\n      <g style=\"fill:#262626;\" transform=\"translate(458.374938 64.187812)scale(0.1 -0.1)\">\r\n       <use xlink:href=\"#ArialMT-49\"/>\r\n       <use x=\"55.615234\" xlink:href=\"#ArialMT-48\"/>\r\n      </g>\r\n     </g>\r\n    </g>\r\n    <g id=\"ytick_10\">\r\n     <g id=\"line2d_13\"/>\r\n     <g id=\"text_22\">\r\n      <!-- 12 -->\r\n      <g style=\"fill:#262626;\" transform=\"translate(458.374938 14.357812)scale(0.1 -0.1)\">\r\n       <use xlink:href=\"#ArialMT-49\"/>\r\n       <use x=\"55.615234\" xlink:href=\"#ArialMT-50\"/>\r\n      </g>\r\n     </g>\r\n    </g>\r\n   </g>\r\n   <image height=\"299\" id=\"imageede90f3ec9\" transform=\"scale(1 -1)translate(0 -299)\" width=\"15\" x=\"436\" xlink:href=\"data:image/png;base64,\r\niVBORw0KGgoAAAANSUhEUgAAAA8AAAErCAYAAAABnNneAAABnUlEQVR4nO2b240DMQwDJUfXxPXfZ1JDNEAGhNf/BCVSpo199Ovv/13LNb1FVtV07+EIfNbIqpouqew5SDBSNmPWrDqhViFmq2dxV12oNmKGVvUeb/ocyQwD8D7B1I0RmSSa2qk3A9bzGvrsqu/B0CrEvF+xNwNNMPMetl/mzcCb7fuil1oFwGKGRYYBDUAAjt2SiHm/cgMQgDPLNq1aP92WfUbg0AAkYOKzadV+wV11n2DTVhiIN8BUn62yqVX7umPPqjfpGTCrZ5XlcyPmPbFrldUzZCZgMJ+obPNpBTig5xAwfDZEmAGYvh1EZQNm0WerbNMqcN5AwRizNCTwrAJw1nOqzwBMXy0SMOuZMLMhIcyeVaTsEgWzwERv06pIwabBbV21Sip7ijCHqm32bIHRtxWEWbSqDvhANnVIQPaqViG1LZ+J2uquuk4wb0igVZpgbEjYcYN6zgxA5jP5EySybDMAvdnWhkS0KjJJTKvEG2CmYJFlq9eKRMGm++Uw37mrGDOx6sIA1Gb70gCUxpMG4GPVL5kfq74DA6s+okAuFa0CzEgAAAAASUVORK5CYII=\" y=\"-11\"/>\r\n   <g id=\"patch_4\">\r\n    <path d=\"M 436.425938 309.758906 \r\nL 436.425938 308.591016 \r\nL 436.425938 11.946797 \r\nL 436.425938 10.778906 \r\nL 451.374938 10.778906 \r\nL 451.374938 11.946797 \r\nL 451.374938 308.591016 \r\nL 451.374938 309.758906 \r\nz\r\n\" style=\"fill:none;\"/>\r\n   </g>\r\n  </g>\r\n </g>\r\n <defs>\r\n  <clipPath id=\"pfd93b4bb3b\">\r\n   <rect height=\"298.98\" width=\"357.12\" x=\"56.985938\" y=\"10.778906\"/>\r\n  </clipPath>\r\n  <clipPath id=\"p91845f6b94\">\r\n   <rect height=\"298.98\" width=\"14.949\" x=\"436.425938\" y=\"10.778906\"/>\r\n  </clipPath>\r\n </defs>\r\n</svg>\r\n",
            "image/png": "[encoded data removed]"
          },
          "metadata": {}
        }
      ],
      "source": [
        "import seaborn as sns\n",
        "import matplotlib.pyplot as plt\n",
        "\n",
        "sns.heatmap(cm, annot=True, xticklabels=iris.target_names, yticklabels=iris.target_names,)\n",
        "plt.yticks(rotation = 0)\n",
        "plt.show()"
      ]
    },
    {
      "cell_type": "code",
      "metadata": {
        "id": "SENV1W_q1EPJ",
        "outputId": "711acc9d-7038-431a-e843-16dd3268e026",
        "colab": {
          "base_uri": "https://localhost:8080/",
          "height": 339
        }
      },
      "source": [
        "!pip install yellowbrick"
      ],
      "execution_count": 41,
      "outputs": [
        {
          "output_type": "stream",
          "name": "stdout",
          "text": [
            "Active code page: 1252\n",
            "Collecting yellowbrick\n",
            "  Downloading yellowbrick-1.3.post1-py3-none-any.whl (271 kB)\n",
            "Requirement already satisfied: numpy<1.20,>=1.16.0 in e:\\udemy_3\\computer vision && image processing\\lab\\venv\\lib\\site-packages (from yellowbrick) (1.19.5)\n",
            "Requirement already satisfied: cycler>=0.10.0 in e:\\udemy_3\\computer vision && image processing\\lab\\venv\\lib\\site-packages (from yellowbrick) (0.10.0)\n",
            "Requirement already satisfied: scikit-learn>=0.20 in e:\\udemy_3\\computer vision && image processing\\lab\\venv\\lib\\site-packages (from yellowbrick) (0.24.1)\n",
            "Requirement already satisfied: matplotlib!=3.0.0,>=2.0.2 in e:\\udemy_3\\computer vision && image processing\\lab\\venv\\lib\\site-packages (from yellowbrick) (3.3.3)\n",
            "Requirement already satisfied: scipy>=1.0.0 in e:\\udemy_3\\computer vision && image processing\\lab\\venv\\lib\\site-packages (from yellowbrick) (1.6.0)\n",
            "Requirement already satisfied: six in e:\\udemy_3\\computer vision && image processing\\lab\\venv\\lib\\site-packages (from cycler>=0.10.0->yellowbrick) (1.15.0)\n",
            "Requirement already satisfied: joblib>=0.11 in e:\\udemy_3\\computer vision && image processing\\lab\\venv\\lib\\site-packages (from scikit-learn>=0.20->yellowbrick) (1.0.0)\n",
            "Requirement already satisfied: threadpoolctl>=2.0.0 in e:\\udemy_3\\computer vision && image processing\\lab\\venv\\lib\\site-packages (from scikit-learn>=0.20->yellowbrick) (2.1.0)\n",
            "Requirement already satisfied: python-dateutil>=2.1 in e:\\udemy_3\\computer vision && image processing\\lab\\venv\\lib\\site-packages (from matplotlib!=3.0.0,>=2.0.2->yellowbrick) (2.8.1)\n",
            "Requirement already satisfied: kiwisolver>=1.0.1 in e:\\udemy_3\\computer vision && image processing\\lab\\venv\\lib\\site-packages (from matplotlib!=3.0.0,>=2.0.2->yellowbrick) (1.3.1)\n",
            "Requirement already satisfied: pillow>=6.2.0 in e:\\udemy_3\\computer vision && image processing\\lab\\venv\\lib\\site-packages (from matplotlib!=3.0.0,>=2.0.2->yellowbrick) (8.1.0)\n",
            "Requirement already satisfied: pyparsing!=2.0.4,!=2.1.2,!=2.1.6,>=2.0.3 in e:\\udemy_3\\computer vision && image processing\\lab\\venv\\lib\\site-packages (from matplotlib!=3.0.0,>=2.0.2->yellowbrick) (2.4.7)\n",
            "Installing collected packages: yellowbrick\n",
            "Successfully installed yellowbrick-1.3.post1\n",
            "WARNING: Error parsing requirements for tensorflow: [Errno 2] No such file or directory: 'e:\\\\udemy_3\\\\computer vision && image processing\\\\lab\\\\venv\\\\lib\\\\site-packages\\\\tensorflow-2.4.0.dist-info\\\\METADATA'\n",
            "WARNING: You are using pip version 20.3.3; however, version 21.1.1 is available.\n",
            "You should consider upgrading via the 'E:\\UDEMY_3\\Computer Vision && Image Processing\\LAB\\venv\\Scripts\\python.exe -m pip install --upgrade pip' command.\n"
          ]
        }
      ]
    },
    {
      "cell_type": "code",
      "metadata": {
        "id": "7nBXuAJb1A33",
        "outputId": "696be522-0c43-46c3-95b8-eab454d6b634",
        "colab": {
          "base_uri": "https://localhost:8080/",
          "height": 487
        }
      },
      "source": [
        "from yellowbrick.classifier import ConfusionMatrix\n",
        "confusion_matrix = ConfusionMatrix(network, classes = iris.target_names)\n",
        "confusion_matrix.fit(X_train, y_train)\n",
        "confusion_matrix.score(X_test, y_test)\n",
        "confusion_matrix.show()"
      ],
      "execution_count": 42,
      "outputs": [
        {
          "output_type": "display_data",
          "data": {
            "text/plain": "<Figure size 576x396 with 1 Axes>",
            "image/svg+xml": "<?xml version=\"1.0\" encoding=\"utf-8\" standalone=\"no\"?>\r\n<!DOCTYPE svg PUBLIC \"-//W3C//DTD SVG 1.1//EN\"\r\n  \"http://www.w3.org/Graphics/SVG/1.1/DTD/svg11.dtd\">\r\n<!-- Created with matplotlib (https://matplotlib.org/) -->\r\n<svg height=\"385.222344pt\" version=\"1.1\" viewBox=\"0 0 564.632969 385.222344\" width=\"564.632969pt\" xmlns=\"http://www.w3.org/2000/svg\" xmlns:xlink=\"http://www.w3.org/1999/xlink\">\r\n <metadata>\r\n  <rdf:RDF xmlns:cc=\"http://creativecommons.org/ns#\" xmlns:dc=\"http://purl.org/dc/elements/1.1/\" xmlns:rdf=\"http://www.w3.org/1999/02/22-rdf-syntax-ns#\">\r\n   <cc:Work>\r\n    <dc:type rdf:resource=\"http://purl.org/dc/dcmitype/StillImage\"/>\r\n    <dc:date>2021-05-15T17:07:41.163534</dc:date>\r\n    <dc:format>image/svg+xml</dc:format>\r\n    <dc:creator>\r\n     <cc:Agent>\r\n      <dc:title>Matplotlib v3.3.3, https://matplotlib.org/</dc:title>\r\n     </cc:Agent>\r\n    </dc:creator>\r\n   </cc:Work>\r\n  </rdf:RDF>\r\n </metadata>\r\n <defs>\r\n  <style type=\"text/css\">*{stroke-linecap:butt;stroke-linejoin:round;}</style>\r\n </defs>\r\n <g id=\"figure_1\">\r\n  <g id=\"patch_1\">\r\n   <path d=\"M 0 385.222344 \r\nL 564.632969 385.222344 \r\nL 564.632969 0 \r\nL 0 0 \r\nz\r\n\" style=\"fill:#ffffff;\"/>\r\n  </g>\r\n  <g id=\"axes_1\">\r\n   <g id=\"patch_2\">\r\n    <path d=\"M 79.602969 305.619375 \r\nL 557.432969 305.619375 \r\nL 557.432969 21.789375 \r\nL 79.602969 21.789375 \r\nz\r\n\" style=\"fill:#ffffff;\"/>\r\n   </g>\r\n   <g id=\"matplotlib.axis_1\">\r\n    <g id=\"xtick_1\">\r\n     <g id=\"line2d_1\"/>\r\n     <g id=\"text_1\">\r\n      <!-- setosa -->\r\n      <g style=\"fill:#262626;\" transform=\"translate(162.34349 347.9725)rotate(-90)scale(0.12 -0.12)\">\r\n       <defs>\r\n        <path d=\"M 3.078125 15.484375 \r\nL 11.765625 16.84375 \r\nQ 12.5 11.625 15.84375 8.84375 \r\nQ 19.1875 6.0625 25.203125 6.0625 \r\nQ 31.25 6.0625 34.171875 8.515625 \r\nQ 37.109375 10.984375 37.109375 14.3125 \r\nQ 37.109375 17.28125 34.515625 19 \r\nQ 32.71875 20.171875 25.53125 21.96875 \r\nQ 15.875 24.421875 12.140625 26.203125 \r\nQ 8.40625 27.984375 6.46875 31.125 \r\nQ 4.546875 34.28125 4.546875 38.09375 \r\nQ 4.546875 41.546875 6.125 44.5 \r\nQ 7.71875 47.46875 10.453125 49.421875 \r\nQ 12.5 50.921875 16.03125 51.96875 \r\nQ 19.578125 53.03125 23.640625 53.03125 \r\nQ 29.734375 53.03125 34.34375 51.265625 \r\nQ 38.96875 49.515625 41.15625 46.5 \r\nQ 43.359375 43.5 44.1875 38.484375 \r\nL 35.59375 37.3125 \r\nQ 35.015625 41.3125 32.203125 43.546875 \r\nQ 29.390625 45.796875 24.265625 45.796875 \r\nQ 18.21875 45.796875 15.625 43.796875 \r\nQ 13.03125 41.796875 13.03125 39.109375 \r\nQ 13.03125 37.40625 14.109375 36.03125 \r\nQ 15.1875 34.625 17.484375 33.6875 \r\nQ 18.796875 33.203125 25.25 31.453125 \r\nQ 34.578125 28.953125 38.25 27.359375 \r\nQ 41.9375 25.78125 44.03125 22.75 \r\nQ 46.140625 19.734375 46.140625 15.234375 \r\nQ 46.140625 10.84375 43.578125 6.953125 \r\nQ 41.015625 3.078125 36.171875 0.953125 \r\nQ 31.34375 -1.171875 25.25 -1.171875 \r\nQ 15.140625 -1.171875 9.84375 3.03125 \r\nQ 4.546875 7.234375 3.078125 15.484375 \r\nz\r\n\" id=\"ArialMT-115\"/>\r\n        <path d=\"M 42.09375 16.703125 \r\nL 51.171875 15.578125 \r\nQ 49.03125 7.625 43.21875 3.21875 \r\nQ 37.40625 -1.171875 28.375 -1.171875 \r\nQ 17 -1.171875 10.328125 5.828125 \r\nQ 3.65625 12.84375 3.65625 25.484375 \r\nQ 3.65625 38.578125 10.390625 45.796875 \r\nQ 17.140625 53.03125 27.875 53.03125 \r\nQ 38.28125 53.03125 44.875 45.953125 \r\nQ 51.46875 38.875 51.46875 26.03125 \r\nQ 51.46875 25.25 51.421875 23.6875 \r\nL 12.75 23.6875 \r\nQ 13.234375 15.140625 17.578125 10.59375 \r\nQ 21.921875 6.0625 28.421875 6.0625 \r\nQ 33.25 6.0625 36.671875 8.59375 \r\nQ 40.09375 11.140625 42.09375 16.703125 \r\nz\r\nM 13.234375 30.90625 \r\nL 42.1875 30.90625 \r\nQ 41.609375 37.453125 38.875 40.71875 \r\nQ 34.671875 45.796875 27.984375 45.796875 \r\nQ 21.921875 45.796875 17.796875 41.75 \r\nQ 13.671875 37.703125 13.234375 30.90625 \r\nz\r\n\" id=\"ArialMT-101\"/>\r\n        <path d=\"M 25.78125 7.859375 \r\nL 27.046875 0.09375 \r\nQ 23.34375 -0.6875 20.40625 -0.6875 \r\nQ 15.625 -0.6875 12.984375 0.828125 \r\nQ 10.359375 2.34375 9.28125 4.8125 \r\nQ 8.203125 7.28125 8.203125 15.1875 \r\nL 8.203125 45.015625 \r\nL 1.765625 45.015625 \r\nL 1.765625 51.859375 \r\nL 8.203125 51.859375 \r\nL 8.203125 64.703125 \r\nL 16.9375 69.96875 \r\nL 16.9375 51.859375 \r\nL 25.78125 51.859375 \r\nL 25.78125 45.015625 \r\nL 16.9375 45.015625 \r\nL 16.9375 14.703125 \r\nQ 16.9375 10.9375 17.40625 9.859375 \r\nQ 17.875 8.796875 18.921875 8.15625 \r\nQ 19.96875 7.515625 21.921875 7.515625 \r\nQ 23.390625 7.515625 25.78125 7.859375 \r\nz\r\n\" id=\"ArialMT-116\"/>\r\n        <path d=\"M 3.328125 25.921875 \r\nQ 3.328125 40.328125 11.328125 47.265625 \r\nQ 18.015625 53.03125 27.640625 53.03125 \r\nQ 38.328125 53.03125 45.109375 46.015625 \r\nQ 51.90625 39.015625 51.90625 26.65625 \r\nQ 51.90625 16.65625 48.90625 10.90625 \r\nQ 45.90625 5.171875 40.15625 2 \r\nQ 34.421875 -1.171875 27.640625 -1.171875 \r\nQ 16.75 -1.171875 10.03125 5.8125 \r\nQ 3.328125 12.796875 3.328125 25.921875 \r\nz\r\nM 12.359375 25.921875 \r\nQ 12.359375 15.96875 16.703125 11.015625 \r\nQ 21.046875 6.0625 27.640625 6.0625 \r\nQ 34.1875 6.0625 38.53125 11.03125 \r\nQ 42.875 16.015625 42.875 26.21875 \r\nQ 42.875 35.84375 38.5 40.796875 \r\nQ 34.125 45.75 27.640625 45.75 \r\nQ 21.046875 45.75 16.703125 40.8125 \r\nQ 12.359375 35.890625 12.359375 25.921875 \r\nz\r\n\" id=\"ArialMT-111\"/>\r\n        <path d=\"M 40.4375 6.390625 \r\nQ 35.546875 2.25 31.03125 0.53125 \r\nQ 26.515625 -1.171875 21.34375 -1.171875 \r\nQ 12.796875 -1.171875 8.203125 3 \r\nQ 3.609375 7.171875 3.609375 13.671875 \r\nQ 3.609375 17.484375 5.34375 20.625 \r\nQ 7.078125 23.78125 9.890625 25.6875 \r\nQ 12.703125 27.59375 16.21875 28.5625 \r\nQ 18.796875 29.25 24.03125 29.890625 \r\nQ 34.671875 31.15625 39.703125 32.90625 \r\nQ 39.75 34.71875 39.75 35.203125 \r\nQ 39.75 40.578125 37.25 42.78125 \r\nQ 33.890625 45.75 27.25 45.75 \r\nQ 21.046875 45.75 18.09375 43.578125 \r\nQ 15.140625 41.40625 13.71875 35.890625 \r\nL 5.125 37.0625 \r\nQ 6.296875 42.578125 8.984375 45.96875 \r\nQ 11.671875 49.359375 16.75 51.1875 \r\nQ 21.828125 53.03125 28.515625 53.03125 \r\nQ 35.15625 53.03125 39.296875 51.46875 \r\nQ 43.453125 49.90625 45.40625 47.53125 \r\nQ 47.359375 45.171875 48.140625 41.546875 \r\nQ 48.578125 39.3125 48.578125 33.453125 \r\nL 48.578125 21.734375 \r\nQ 48.578125 9.46875 49.140625 6.21875 \r\nQ 49.703125 2.984375 51.375 0 \r\nL 42.1875 0 \r\nQ 40.828125 2.734375 40.4375 6.390625 \r\nz\r\nM 39.703125 26.03125 \r\nQ 34.90625 24.078125 25.34375 22.703125 \r\nQ 19.921875 21.921875 17.671875 20.9375 \r\nQ 15.4375 19.96875 14.203125 18.09375 \r\nQ 12.984375 16.21875 12.984375 13.921875 \r\nQ 12.984375 10.40625 15.640625 8.0625 \r\nQ 18.3125 5.71875 23.4375 5.71875 \r\nQ 28.515625 5.71875 32.46875 7.9375 \r\nQ 36.421875 10.15625 38.28125 14.015625 \r\nQ 39.703125 17 39.703125 22.796875 \r\nz\r\n\" id=\"ArialMT-97\"/>\r\n       </defs>\r\n       <use xlink:href=\"#ArialMT-115\"/>\r\n       <use x=\"50\" xlink:href=\"#ArialMT-101\"/>\r\n       <use x=\"105.615234\" xlink:href=\"#ArialMT-116\"/>\r\n       <use x=\"133.398438\" xlink:href=\"#ArialMT-111\"/>\r\n       <use x=\"189.013672\" xlink:href=\"#ArialMT-115\"/>\r\n       <use x=\"239.013672\" xlink:href=\"#ArialMT-97\"/>\r\n      </g>\r\n     </g>\r\n    </g>\r\n    <g id=\"xtick_2\">\r\n     <g id=\"line2d_2\"/>\r\n     <g id=\"text_2\">\r\n      <!-- versicolor -->\r\n      <g style=\"fill:#262626;\" transform=\"translate(321.620156 363.9625)rotate(-90)scale(0.12 -0.12)\">\r\n       <defs>\r\n        <path d=\"M 21 0 \r\nL 1.265625 51.859375 \r\nL 10.546875 51.859375 \r\nL 21.6875 20.796875 \r\nQ 23.484375 15.765625 25 10.359375 \r\nQ 26.171875 14.453125 28.265625 20.21875 \r\nL 39.796875 51.859375 \r\nL 48.828125 51.859375 \r\nL 29.203125 0 \r\nz\r\n\" id=\"ArialMT-118\"/>\r\n        <path d=\"M 6.5 0 \r\nL 6.5 51.859375 \r\nL 14.40625 51.859375 \r\nL 14.40625 44 \r\nQ 17.4375 49.515625 20 51.265625 \r\nQ 22.5625 53.03125 25.640625 53.03125 \r\nQ 30.078125 53.03125 34.671875 50.203125 \r\nL 31.640625 42.046875 \r\nQ 28.421875 43.953125 25.203125 43.953125 \r\nQ 22.3125 43.953125 20.015625 42.21875 \r\nQ 17.71875 40.484375 16.75 37.40625 \r\nQ 15.28125 32.71875 15.28125 27.15625 \r\nL 15.28125 0 \r\nz\r\n\" id=\"ArialMT-114\"/>\r\n        <path d=\"M 6.640625 61.46875 \r\nL 6.640625 71.578125 \r\nL 15.4375 71.578125 \r\nL 15.4375 61.46875 \r\nz\r\nM 6.640625 0 \r\nL 6.640625 51.859375 \r\nL 15.4375 51.859375 \r\nL 15.4375 0 \r\nz\r\n\" id=\"ArialMT-105\"/>\r\n        <path d=\"M 40.4375 19 \r\nL 49.078125 17.875 \r\nQ 47.65625 8.9375 41.8125 3.875 \r\nQ 35.984375 -1.171875 27.484375 -1.171875 \r\nQ 16.84375 -1.171875 10.375 5.78125 \r\nQ 3.90625 12.75 3.90625 25.734375 \r\nQ 3.90625 34.125 6.6875 40.421875 \r\nQ 9.46875 46.734375 15.15625 49.875 \r\nQ 20.84375 53.03125 27.546875 53.03125 \r\nQ 35.984375 53.03125 41.359375 48.75 \r\nQ 46.734375 44.484375 48.25 36.625 \r\nL 39.703125 35.296875 \r\nQ 38.484375 40.53125 35.375 43.15625 \r\nQ 32.28125 45.796875 27.875 45.796875 \r\nQ 21.234375 45.796875 17.078125 41.03125 \r\nQ 12.9375 36.28125 12.9375 25.984375 \r\nQ 12.9375 15.53125 16.9375 10.796875 \r\nQ 20.953125 6.0625 27.390625 6.0625 \r\nQ 32.5625 6.0625 36.03125 9.234375 \r\nQ 39.5 12.40625 40.4375 19 \r\nz\r\n\" id=\"ArialMT-99\"/>\r\n        <path d=\"M 6.390625 0 \r\nL 6.390625 71.578125 \r\nL 15.1875 71.578125 \r\nL 15.1875 0 \r\nz\r\n\" id=\"ArialMT-108\"/>\r\n       </defs>\r\n       <use xlink:href=\"#ArialMT-118\"/>\r\n       <use x=\"50\" xlink:href=\"#ArialMT-101\"/>\r\n       <use x=\"105.615234\" xlink:href=\"#ArialMT-114\"/>\r\n       <use x=\"138.916016\" xlink:href=\"#ArialMT-115\"/>\r\n       <use x=\"188.916016\" xlink:href=\"#ArialMT-105\"/>\r\n       <use x=\"211.132812\" xlink:href=\"#ArialMT-99\"/>\r\n       <use x=\"261.132812\" xlink:href=\"#ArialMT-111\"/>\r\n       <use x=\"316.748047\" xlink:href=\"#ArialMT-108\"/>\r\n       <use x=\"338.964844\" xlink:href=\"#ArialMT-111\"/>\r\n       <use x=\"394.580078\" xlink:href=\"#ArialMT-114\"/>\r\n      </g>\r\n     </g>\r\n    </g>\r\n    <g id=\"xtick_3\">\r\n     <g id=\"line2d_3\"/>\r\n     <g id=\"text_3\">\r\n      <!-- virginica -->\r\n      <g style=\"fill:#262626;\" transform=\"translate(480.82651 356.633125)rotate(-90)scale(0.12 -0.12)\">\r\n       <defs>\r\n        <path d=\"M 4.984375 -4.296875 \r\nL 13.53125 -5.5625 \r\nQ 14.0625 -9.515625 16.5 -11.328125 \r\nQ 19.78125 -13.765625 25.4375 -13.765625 \r\nQ 31.546875 -13.765625 34.859375 -11.328125 \r\nQ 38.1875 -8.890625 39.359375 -4.5 \r\nQ 40.046875 -1.8125 39.984375 6.78125 \r\nQ 34.234375 0 25.640625 0 \r\nQ 14.9375 0 9.078125 7.71875 \r\nQ 3.21875 15.4375 3.21875 26.21875 \r\nQ 3.21875 33.640625 5.90625 39.90625 \r\nQ 8.59375 46.1875 13.6875 49.609375 \r\nQ 18.796875 53.03125 25.6875 53.03125 \r\nQ 34.859375 53.03125 40.828125 45.609375 \r\nL 40.828125 51.859375 \r\nL 48.921875 51.859375 \r\nL 48.921875 7.03125 \r\nQ 48.921875 -5.078125 46.453125 -10.125 \r\nQ 44 -15.1875 38.640625 -18.109375 \r\nQ 33.296875 -21.046875 25.484375 -21.046875 \r\nQ 16.21875 -21.046875 10.5 -16.875 \r\nQ 4.78125 -12.703125 4.984375 -4.296875 \r\nz\r\nM 12.25 26.859375 \r\nQ 12.25 16.65625 16.296875 11.96875 \r\nQ 20.359375 7.28125 26.46875 7.28125 \r\nQ 32.515625 7.28125 36.609375 11.9375 \r\nQ 40.71875 16.609375 40.71875 26.5625 \r\nQ 40.71875 36.078125 36.5 40.90625 \r\nQ 32.28125 45.75 26.3125 45.75 \r\nQ 20.453125 45.75 16.34375 40.984375 \r\nQ 12.25 36.234375 12.25 26.859375 \r\nz\r\n\" id=\"ArialMT-103\"/>\r\n        <path d=\"M 6.59375 0 \r\nL 6.59375 51.859375 \r\nL 14.5 51.859375 \r\nL 14.5 44.484375 \r\nQ 20.21875 53.03125 31 53.03125 \r\nQ 35.6875 53.03125 39.625 51.34375 \r\nQ 43.5625 49.65625 45.515625 46.921875 \r\nQ 47.46875 44.1875 48.25 40.4375 \r\nQ 48.734375 37.984375 48.734375 31.890625 \r\nL 48.734375 0 \r\nL 39.9375 0 \r\nL 39.9375 31.546875 \r\nQ 39.9375 36.921875 38.90625 39.578125 \r\nQ 37.890625 42.234375 35.28125 43.8125 \r\nQ 32.671875 45.40625 29.15625 45.40625 \r\nQ 23.53125 45.40625 19.453125 41.84375 \r\nQ 15.375 38.28125 15.375 28.328125 \r\nL 15.375 0 \r\nz\r\n\" id=\"ArialMT-110\"/>\r\n       </defs>\r\n       <use xlink:href=\"#ArialMT-118\"/>\r\n       <use x=\"50\" xlink:href=\"#ArialMT-105\"/>\r\n       <use x=\"72.216797\" xlink:href=\"#ArialMT-114\"/>\r\n       <use x=\"105.517578\" xlink:href=\"#ArialMT-103\"/>\r\n       <use x=\"161.132812\" xlink:href=\"#ArialMT-105\"/>\r\n       <use x=\"183.349609\" xlink:href=\"#ArialMT-110\"/>\r\n       <use x=\"238.964844\" xlink:href=\"#ArialMT-105\"/>\r\n       <use x=\"261.181641\" xlink:href=\"#ArialMT-99\"/>\r\n       <use x=\"311.181641\" xlink:href=\"#ArialMT-97\"/>\r\n      </g>\r\n     </g>\r\n    </g>\r\n    <g id=\"text_4\">\r\n     <!-- Predicted Class -->\r\n     <g style=\"fill:#262626;\" transform=\"translate(280.003359 375.836094)scale(0.11 -0.11)\">\r\n      <defs>\r\n       <path d=\"M 7.71875 0 \r\nL 7.71875 71.578125 \r\nL 34.71875 71.578125 \r\nQ 41.84375 71.578125 45.609375 70.90625 \r\nQ 50.875 70.015625 54.4375 67.546875 \r\nQ 58.015625 65.09375 60.1875 60.640625 \r\nQ 62.359375 56.203125 62.359375 50.875 \r\nQ 62.359375 41.75 56.546875 35.421875 \r\nQ 50.734375 29.109375 35.546875 29.109375 \r\nL 17.1875 29.109375 \r\nL 17.1875 0 \r\nz\r\nM 17.1875 37.546875 \r\nL 35.6875 37.546875 \r\nQ 44.875 37.546875 48.734375 40.96875 \r\nQ 52.59375 44.390625 52.59375 50.59375 \r\nQ 52.59375 55.078125 50.3125 58.265625 \r\nQ 48.046875 61.46875 44.34375 62.5 \r\nQ 41.9375 63.140625 35.5 63.140625 \r\nL 17.1875 63.140625 \r\nz\r\n\" id=\"ArialMT-80\"/>\r\n       <path d=\"M 40.234375 0 \r\nL 40.234375 6.546875 \r\nQ 35.296875 -1.171875 25.734375 -1.171875 \r\nQ 19.53125 -1.171875 14.328125 2.25 \r\nQ 9.125 5.671875 6.265625 11.796875 \r\nQ 3.421875 17.921875 3.421875 25.875 \r\nQ 3.421875 33.640625 6 39.96875 \r\nQ 8.59375 46.296875 13.765625 49.65625 \r\nQ 18.953125 53.03125 25.34375 53.03125 \r\nQ 30.03125 53.03125 33.6875 51.046875 \r\nQ 37.359375 49.078125 39.65625 45.90625 \r\nL 39.65625 71.578125 \r\nL 48.390625 71.578125 \r\nL 48.390625 0 \r\nz\r\nM 12.453125 25.875 \r\nQ 12.453125 15.921875 16.640625 10.984375 \r\nQ 20.84375 6.0625 26.5625 6.0625 \r\nQ 32.328125 6.0625 36.34375 10.765625 \r\nQ 40.375 15.484375 40.375 25.140625 \r\nQ 40.375 35.796875 36.265625 40.765625 \r\nQ 32.171875 45.75 26.171875 45.75 \r\nQ 20.3125 45.75 16.375 40.96875 \r\nQ 12.453125 36.1875 12.453125 25.875 \r\nz\r\n\" id=\"ArialMT-100\"/>\r\n       <path id=\"ArialMT-32\"/>\r\n       <path d=\"M 58.796875 25.09375 \r\nL 68.265625 22.703125 \r\nQ 65.28125 11.03125 57.546875 4.90625 \r\nQ 49.8125 -1.21875 38.625 -1.21875 \r\nQ 27.046875 -1.21875 19.796875 3.484375 \r\nQ 12.546875 8.203125 8.765625 17.140625 \r\nQ 4.984375 26.078125 4.984375 36.328125 \r\nQ 4.984375 47.515625 9.25 55.828125 \r\nQ 13.53125 64.15625 21.40625 68.46875 \r\nQ 29.296875 72.796875 38.765625 72.796875 \r\nQ 49.515625 72.796875 56.828125 67.328125 \r\nQ 64.15625 61.859375 67.046875 51.953125 \r\nL 57.71875 49.75 \r\nQ 55.21875 57.5625 50.484375 61.125 \r\nQ 45.75 64.703125 38.578125 64.703125 \r\nQ 30.328125 64.703125 24.78125 60.734375 \r\nQ 19.234375 56.78125 16.984375 50.109375 \r\nQ 14.75 43.453125 14.75 36.375 \r\nQ 14.75 27.25 17.40625 20.4375 \r\nQ 20.0625 13.625 25.671875 10.25 \r\nQ 31.296875 6.890625 37.84375 6.890625 \r\nQ 45.796875 6.890625 51.3125 11.46875 \r\nQ 56.84375 16.0625 58.796875 25.09375 \r\nz\r\n\" id=\"ArialMT-67\"/>\r\n      </defs>\r\n      <use xlink:href=\"#ArialMT-80\"/>\r\n      <use x=\"66.699219\" xlink:href=\"#ArialMT-114\"/>\r\n      <use x=\"100\" xlink:href=\"#ArialMT-101\"/>\r\n      <use x=\"155.615234\" xlink:href=\"#ArialMT-100\"/>\r\n      <use x=\"211.230469\" xlink:href=\"#ArialMT-105\"/>\r\n      <use x=\"233.447266\" xlink:href=\"#ArialMT-99\"/>\r\n      <use x=\"283.447266\" xlink:href=\"#ArialMT-116\"/>\r\n      <use x=\"311.230469\" xlink:href=\"#ArialMT-101\"/>\r\n      <use x=\"366.845703\" xlink:href=\"#ArialMT-100\"/>\r\n      <use x=\"422.460938\" xlink:href=\"#ArialMT-32\"/>\r\n      <use x=\"450.244141\" xlink:href=\"#ArialMT-67\"/>\r\n      <use x=\"522.460938\" xlink:href=\"#ArialMT-108\"/>\r\n      <use x=\"544.677734\" xlink:href=\"#ArialMT-97\"/>\r\n      <use x=\"600.292969\" xlink:href=\"#ArialMT-115\"/>\r\n      <use x=\"650.292969\" xlink:href=\"#ArialMT-115\"/>\r\n     </g>\r\n    </g>\r\n   </g>\r\n   <g id=\"matplotlib.axis_2\">\r\n    <g id=\"ytick_1\">\r\n     <g id=\"line2d_4\"/>\r\n     <g id=\"text_5\">\r\n      <!-- virginica -->\r\n      <g style=\"fill:#262626;\" transform=\"translate(28.589219 262.609062)scale(0.12 -0.12)\">\r\n       <use xlink:href=\"#ArialMT-118\"/>\r\n       <use x=\"50\" xlink:href=\"#ArialMT-105\"/>\r\n       <use x=\"72.216797\" xlink:href=\"#ArialMT-114\"/>\r\n       <use x=\"105.517578\" xlink:href=\"#ArialMT-103\"/>\r\n       <use x=\"161.132812\" xlink:href=\"#ArialMT-105\"/>\r\n       <use x=\"183.349609\" xlink:href=\"#ArialMT-110\"/>\r\n       <use x=\"238.964844\" xlink:href=\"#ArialMT-105\"/>\r\n       <use x=\"261.181641\" xlink:href=\"#ArialMT-99\"/>\r\n       <use x=\"311.181641\" xlink:href=\"#ArialMT-97\"/>\r\n      </g>\r\n     </g>\r\n    </g>\r\n    <g id=\"ytick_2\">\r\n     <g id=\"line2d_5\"/>\r\n     <g id=\"text_6\">\r\n      <!-- versicolor -->\r\n      <g style=\"fill:#262626;\" transform=\"translate(21.259844 167.999062)scale(0.12 -0.12)\">\r\n       <use xlink:href=\"#ArialMT-118\"/>\r\n       <use x=\"50\" xlink:href=\"#ArialMT-101\"/>\r\n       <use x=\"105.615234\" xlink:href=\"#ArialMT-114\"/>\r\n       <use x=\"138.916016\" xlink:href=\"#ArialMT-115\"/>\r\n       <use x=\"188.916016\" xlink:href=\"#ArialMT-105\"/>\r\n       <use x=\"211.132812\" xlink:href=\"#ArialMT-99\"/>\r\n       <use x=\"261.132812\" xlink:href=\"#ArialMT-111\"/>\r\n       <use x=\"316.748047\" xlink:href=\"#ArialMT-108\"/>\r\n       <use x=\"338.964844\" xlink:href=\"#ArialMT-111\"/>\r\n       <use x=\"394.580078\" xlink:href=\"#ArialMT-114\"/>\r\n      </g>\r\n     </g>\r\n    </g>\r\n    <g id=\"ytick_3\">\r\n     <g id=\"line2d_6\"/>\r\n     <g id=\"text_7\">\r\n      <!-- setosa -->\r\n      <g style=\"fill:#262626;\" transform=\"translate(37.249844 73.389062)scale(0.12 -0.12)\">\r\n       <use xlink:href=\"#ArialMT-115\"/>\r\n       <use x=\"50\" xlink:href=\"#ArialMT-101\"/>\r\n       <use x=\"105.615234\" xlink:href=\"#ArialMT-116\"/>\r\n       <use x=\"133.398438\" xlink:href=\"#ArialMT-111\"/>\r\n       <use x=\"189.013672\" xlink:href=\"#ArialMT-115\"/>\r\n       <use x=\"239.013672\" xlink:href=\"#ArialMT-97\"/>\r\n      </g>\r\n     </g>\r\n    </g>\r\n    <g id=\"text_8\">\r\n     <!-- True Class -->\r\n     <g style=\"fill:#262626;\" transform=\"translate(15.073594 190.086328)rotate(-90)scale(0.11 -0.11)\">\r\n      <defs>\r\n       <path d=\"M 25.921875 0 \r\nL 25.921875 63.140625 \r\nL 2.34375 63.140625 \r\nL 2.34375 71.578125 \r\nL 59.078125 71.578125 \r\nL 59.078125 63.140625 \r\nL 35.40625 63.140625 \r\nL 35.40625 0 \r\nz\r\n\" id=\"ArialMT-84\"/>\r\n       <path d=\"M 40.578125 0 \r\nL 40.578125 7.625 \r\nQ 34.515625 -1.171875 24.125 -1.171875 \r\nQ 19.53125 -1.171875 15.546875 0.578125 \r\nQ 11.578125 2.34375 9.640625 5 \r\nQ 7.71875 7.671875 6.9375 11.53125 \r\nQ 6.390625 14.109375 6.390625 19.734375 \r\nL 6.390625 51.859375 \r\nL 15.1875 51.859375 \r\nL 15.1875 23.09375 \r\nQ 15.1875 16.21875 15.71875 13.8125 \r\nQ 16.546875 10.359375 19.234375 8.375 \r\nQ 21.921875 6.390625 25.875 6.390625 \r\nQ 29.828125 6.390625 33.296875 8.421875 \r\nQ 36.765625 10.453125 38.203125 13.9375 \r\nQ 39.65625 17.4375 39.65625 24.078125 \r\nL 39.65625 51.859375 \r\nL 48.4375 51.859375 \r\nL 48.4375 0 \r\nz\r\n\" id=\"ArialMT-117\"/>\r\n      </defs>\r\n      <use xlink:href=\"#ArialMT-84\"/>\r\n      <use x=\"57.333984\" xlink:href=\"#ArialMT-114\"/>\r\n      <use x=\"90.634766\" xlink:href=\"#ArialMT-117\"/>\r\n      <use x=\"146.25\" xlink:href=\"#ArialMT-101\"/>\r\n      <use x=\"201.865234\" xlink:href=\"#ArialMT-32\"/>\r\n      <use x=\"229.648438\" xlink:href=\"#ArialMT-67\"/>\r\n      <use x=\"301.865234\" xlink:href=\"#ArialMT-108\"/>\r\n      <use x=\"324.082031\" xlink:href=\"#ArialMT-97\"/>\r\n      <use x=\"379.697266\" xlink:href=\"#ArialMT-115\"/>\r\n      <use x=\"429.697266\" xlink:href=\"#ArialMT-115\"/>\r\n     </g>\r\n    </g>\r\n   </g>\r\n   <g id=\"QuadMesh_1\">\r\n    <path clip-path=\"url(#p997322044e)\" d=\"M 79.602969 305.619375 \r\nL 238.879635 305.619375 \r\nL 238.879635 211.009375 \r\nL 79.602969 211.009375 \r\nL 79.602969 305.619375 \r\n\" style=\"fill:#ffffff;stroke:#ffffff;stroke-width:0.01;\"/>\r\n    <path clip-path=\"url(#p997322044e)\" d=\"M 238.879635 305.619375 \r\nL 398.156302 305.619375 \r\nL 398.156302 211.009375 \r\nL 238.879635 211.009375 \r\nL 238.879635 305.619375 \r\n\" style=\"fill:#ffffcc;stroke:#ffffff;stroke-width:0.01;\"/>\r\n    <path clip-path=\"url(#p997322044e)\" d=\"M 398.156302 305.619375 \r\nL 557.432969 305.619375 \r\nL 557.432969 211.009375 \r\nL 398.156302 211.009375 \r\nL 398.156302 305.619375 \r\n\" style=\"fill:#fc4e2a;stroke:#111111;stroke-width:0.01;\"/>\r\n    <path clip-path=\"url(#p997322044e)\" d=\"M 79.602969 211.009375 \r\nL 238.879635 211.009375 \r\nL 238.879635 116.399375 \r\nL 79.602969 116.399375 \r\nL 79.602969 211.009375 \r\n\" style=\"fill:#ffffff;stroke:#ffffff;stroke-width:0.01;\"/>\r\n    <path clip-path=\"url(#p997322044e)\" d=\"M 238.879635 211.009375 \r\nL 398.156302 211.009375 \r\nL 398.156302 116.399375 \r\nL 238.879635 116.399375 \r\nL 238.879635 211.009375 \r\n\" style=\"fill:#800026;stroke:#111111;stroke-width:0.01;\"/>\r\n    <path clip-path=\"url(#p997322044e)\" d=\"M 398.156302 211.009375 \r\nL 557.432969 211.009375 \r\nL 557.432969 116.399375 \r\nL 398.156302 116.399375 \r\nL 398.156302 211.009375 \r\n\" style=\"fill:#ffffff;stroke:#ffffff;stroke-width:0.01;\"/>\r\n    <path clip-path=\"url(#p997322044e)\" d=\"M 79.602969 116.399375 \r\nL 238.879635 116.399375 \r\nL 238.879635 21.789375 \r\nL 79.602969 21.789375 \r\nL 79.602969 116.399375 \r\n\" style=\"fill:#e31a1c;stroke:#111111;stroke-width:0.01;\"/>\r\n    <path clip-path=\"url(#p997322044e)\" d=\"M 238.879635 116.399375 \r\nL 398.156302 116.399375 \r\nL 398.156302 21.789375 \r\nL 238.879635 21.789375 \r\nL 238.879635 116.399375 \r\n\" style=\"fill:#ffffff;stroke:#ffffff;stroke-width:0.01;\"/>\r\n    <path clip-path=\"url(#p997322044e)\" d=\"M 398.156302 116.399375 \r\nL 557.432969 116.399375 \r\nL 557.432969 21.789375 \r\nL 398.156302 21.789375 \r\nL 398.156302 116.399375 \r\n\" style=\"fill:#ffffff;stroke:#ffffff;stroke-width:0.01;\"/>\r\n   </g>\r\n   <g id=\"patch_3\">\r\n    <path d=\"M 79.602969 305.619375 \r\nL 79.602969 21.789375 \r\n\" style=\"fill:none;stroke:#cccccc;stroke-linecap:square;stroke-linejoin:miter;stroke-width:1.25;\"/>\r\n   </g>\r\n   <g id=\"patch_4\">\r\n    <path d=\"M 557.432969 305.619375 \r\nL 557.432969 21.789375 \r\n\" style=\"fill:none;stroke:#cccccc;stroke-linecap:square;stroke-linejoin:miter;stroke-width:1.25;\"/>\r\n   </g>\r\n   <g id=\"patch_5\">\r\n    <path d=\"M 79.602969 305.619375 \r\nL 557.432969 305.619375 \r\n\" style=\"fill:none;stroke:#cccccc;stroke-linecap:square;stroke-linejoin:miter;stroke-width:1.25;\"/>\r\n   </g>\r\n   <g id=\"patch_6\">\r\n    <path d=\"M 79.602969 21.789375 \r\nL 557.432969 21.789375 \r\n\" style=\"fill:none;stroke:#cccccc;stroke-linecap:square;stroke-linejoin:miter;stroke-width:1.25;\"/>\r\n   </g>\r\n   <g id=\"text_9\">\r\n    <!-- 0 -->\r\n    <g style=\"fill:#bfbfbf;\" transform=\"translate(155.90474 261.416562)scale(0.12 -0.12)\">\r\n     <defs>\r\n      <path d=\"M 4.15625 35.296875 \r\nQ 4.15625 48 6.765625 55.734375 \r\nQ 9.375 63.484375 14.515625 67.671875 \r\nQ 19.671875 71.875 27.484375 71.875 \r\nQ 33.25 71.875 37.59375 69.546875 \r\nQ 41.9375 67.234375 44.765625 62.859375 \r\nQ 47.609375 58.5 49.21875 52.21875 \r\nQ 50.828125 45.953125 50.828125 35.296875 \r\nQ 50.828125 22.703125 48.234375 14.96875 \r\nQ 45.65625 7.234375 40.5 3 \r\nQ 35.359375 -1.21875 27.484375 -1.21875 \r\nQ 17.140625 -1.21875 11.234375 6.203125 \r\nQ 4.15625 15.140625 4.15625 35.296875 \r\nz\r\nM 13.1875 35.296875 \r\nQ 13.1875 17.671875 17.3125 11.828125 \r\nQ 21.4375 6 27.484375 6 \r\nQ 33.546875 6 37.671875 11.859375 \r\nQ 41.796875 17.71875 41.796875 35.296875 \r\nQ 41.796875 52.984375 37.671875 58.78125 \r\nQ 33.546875 64.59375 27.390625 64.59375 \r\nQ 21.34375 64.59375 17.71875 59.46875 \r\nQ 13.1875 52.9375 13.1875 35.296875 \r\nz\r\n\" id=\"ArialMT-48\"/>\r\n     </defs>\r\n     <use xlink:href=\"#ArialMT-48\"/>\r\n    </g>\r\n   </g>\r\n   <g id=\"text_10\">\r\n    <!-- 1 -->\r\n    <g transform=\"translate(315.181406 261.416562)scale(0.12 -0.12)\">\r\n     <defs>\r\n      <path d=\"M 37.25 0 \r\nL 28.46875 0 \r\nL 28.46875 56 \r\nQ 25.296875 52.984375 20.140625 49.953125 \r\nQ 14.984375 46.921875 10.890625 45.40625 \r\nL 10.890625 53.90625 \r\nQ 18.265625 57.375 23.78125 62.296875 \r\nQ 29.296875 67.234375 31.59375 71.875 \r\nL 37.25 71.875 \r\nz\r\n\" id=\"ArialMT-49\"/>\r\n     </defs>\r\n     <use xlink:href=\"#ArialMT-49\"/>\r\n    </g>\r\n   </g>\r\n   <g id=\"text_11\">\r\n    <!-- 8 -->\r\n    <g style=\"fill:#ffffff;\" transform=\"translate(474.458073 261.416562)scale(0.12 -0.12)\">\r\n     <defs>\r\n      <path d=\"M 17.671875 38.8125 \r\nQ 12.203125 40.828125 9.5625 44.53125 \r\nQ 6.9375 48.25 6.9375 53.421875 \r\nQ 6.9375 61.234375 12.546875 66.546875 \r\nQ 18.171875 71.875 27.484375 71.875 \r\nQ 36.859375 71.875 42.578125 66.421875 \r\nQ 48.296875 60.984375 48.296875 53.171875 \r\nQ 48.296875 48.1875 45.671875 44.5 \r\nQ 43.0625 40.828125 37.75 38.8125 \r\nQ 44.34375 36.671875 47.78125 31.875 \r\nQ 51.21875 27.09375 51.21875 20.453125 \r\nQ 51.21875 11.28125 44.71875 5.03125 \r\nQ 38.234375 -1.21875 27.640625 -1.21875 \r\nQ 17.046875 -1.21875 10.546875 5.046875 \r\nQ 4.046875 11.328125 4.046875 20.703125 \r\nQ 4.046875 27.6875 7.59375 32.390625 \r\nQ 11.140625 37.109375 17.671875 38.8125 \r\nz\r\nM 15.921875 53.71875 \r\nQ 15.921875 48.640625 19.1875 45.40625 \r\nQ 22.46875 42.1875 27.6875 42.1875 \r\nQ 32.765625 42.1875 36.015625 45.375 \r\nQ 39.265625 48.578125 39.265625 53.21875 \r\nQ 39.265625 58.0625 35.90625 61.359375 \r\nQ 32.5625 64.65625 27.59375 64.65625 \r\nQ 22.5625 64.65625 19.234375 61.421875 \r\nQ 15.921875 58.203125 15.921875 53.71875 \r\nz\r\nM 13.09375 20.65625 \r\nQ 13.09375 16.890625 14.875 13.375 \r\nQ 16.65625 9.859375 20.171875 7.921875 \r\nQ 23.6875 6 27.734375 6 \r\nQ 34.03125 6 38.125 10.046875 \r\nQ 42.234375 14.109375 42.234375 20.359375 \r\nQ 42.234375 26.703125 38.015625 30.859375 \r\nQ 33.796875 35.015625 27.4375 35.015625 \r\nQ 21.234375 35.015625 17.15625 30.90625 \r\nQ 13.09375 26.8125 13.09375 20.65625 \r\nz\r\n\" id=\"ArialMT-56\"/>\r\n     </defs>\r\n     <use xlink:href=\"#ArialMT-56\"/>\r\n    </g>\r\n   </g>\r\n   <g id=\"text_12\">\r\n    <!-- 0 -->\r\n    <g style=\"fill:#bfbfbf;\" transform=\"translate(155.90474 166.806562)scale(0.12 -0.12)\">\r\n     <use xlink:href=\"#ArialMT-48\"/>\r\n    </g>\r\n   </g>\r\n   <g id=\"text_13\">\r\n    <!-- 12 -->\r\n    <g style=\"fill:#ffffff;\" transform=\"translate(311.844844 166.806562)scale(0.12 -0.12)\">\r\n     <defs>\r\n      <path d=\"M 50.34375 8.453125 \r\nL 50.34375 0 \r\nL 3.03125 0 \r\nQ 2.9375 3.171875 4.046875 6.109375 \r\nQ 5.859375 10.9375 9.828125 15.625 \r\nQ 13.8125 20.3125 21.34375 26.46875 \r\nQ 33.015625 36.03125 37.109375 41.625 \r\nQ 41.21875 47.21875 41.21875 52.203125 \r\nQ 41.21875 57.421875 37.46875 61 \r\nQ 33.734375 64.59375 27.734375 64.59375 \r\nQ 21.390625 64.59375 17.578125 60.78125 \r\nQ 13.765625 56.984375 13.71875 50.25 \r\nL 4.6875 51.171875 \r\nQ 5.609375 61.28125 11.65625 66.578125 \r\nQ 17.71875 71.875 27.9375 71.875 \r\nQ 38.234375 71.875 44.234375 66.15625 \r\nQ 50.25 60.453125 50.25 52 \r\nQ 50.25 47.703125 48.484375 43.546875 \r\nQ 46.734375 39.40625 42.65625 34.8125 \r\nQ 38.578125 30.21875 29.109375 22.21875 \r\nQ 21.1875 15.578125 18.9375 13.203125 \r\nQ 16.703125 10.84375 15.234375 8.453125 \r\nz\r\n\" id=\"ArialMT-50\"/>\r\n     </defs>\r\n     <use xlink:href=\"#ArialMT-49\"/>\r\n     <use x=\"55.615234\" xlink:href=\"#ArialMT-50\"/>\r\n    </g>\r\n   </g>\r\n   <g id=\"text_14\">\r\n    <!-- 0 -->\r\n    <g style=\"fill:#bfbfbf;\" transform=\"translate(474.458073 166.806562)scale(0.12 -0.12)\">\r\n     <use xlink:href=\"#ArialMT-48\"/>\r\n    </g>\r\n   </g>\r\n   <g id=\"text_15\">\r\n    <!-- 9 -->\r\n    <g style=\"fill:#ffffff;\" transform=\"translate(155.90474 72.196562)scale(0.12 -0.12)\">\r\n     <defs>\r\n      <path d=\"M 5.46875 16.546875 \r\nL 13.921875 17.328125 \r\nQ 14.984375 11.375 18.015625 8.6875 \r\nQ 21.046875 6 25.78125 6 \r\nQ 29.828125 6 32.875 7.859375 \r\nQ 35.9375 9.71875 37.890625 12.8125 \r\nQ 39.84375 15.921875 41.15625 21.1875 \r\nQ 42.484375 26.46875 42.484375 31.9375 \r\nQ 42.484375 32.515625 42.4375 33.6875 \r\nQ 39.796875 29.5 35.234375 26.875 \r\nQ 30.671875 24.265625 25.34375 24.265625 \r\nQ 16.453125 24.265625 10.296875 30.703125 \r\nQ 4.15625 37.15625 4.15625 47.703125 \r\nQ 4.15625 58.59375 10.578125 65.234375 \r\nQ 17 71.875 26.65625 71.875 \r\nQ 33.640625 71.875 39.421875 68.109375 \r\nQ 45.21875 64.359375 48.21875 57.390625 \r\nQ 51.21875 50.4375 51.21875 37.25 \r\nQ 51.21875 23.53125 48.234375 15.40625 \r\nQ 45.265625 7.28125 39.375 3.03125 \r\nQ 33.5 -1.21875 25.59375 -1.21875 \r\nQ 17.1875 -1.21875 11.859375 3.4375 \r\nQ 6.546875 8.109375 5.46875 16.546875 \r\nz\r\nM 41.453125 48.140625 \r\nQ 41.453125 55.71875 37.421875 60.15625 \r\nQ 33.40625 64.59375 27.734375 64.59375 \r\nQ 21.875 64.59375 17.53125 59.8125 \r\nQ 13.1875 55.03125 13.1875 47.40625 \r\nQ 13.1875 40.578125 17.3125 36.296875 \r\nQ 21.4375 32.03125 27.484375 32.03125 \r\nQ 33.59375 32.03125 37.515625 36.296875 \r\nQ 41.453125 40.578125 41.453125 48.140625 \r\nz\r\n\" id=\"ArialMT-57\"/>\r\n     </defs>\r\n     <use xlink:href=\"#ArialMT-57\"/>\r\n    </g>\r\n   </g>\r\n   <g id=\"text_16\">\r\n    <!-- 0 -->\r\n    <g style=\"fill:#bfbfbf;\" transform=\"translate(315.181406 72.196562)scale(0.12 -0.12)\">\r\n     <use xlink:href=\"#ArialMT-48\"/>\r\n    </g>\r\n   </g>\r\n   <g id=\"text_17\">\r\n    <!-- 0 -->\r\n    <g style=\"fill:#bfbfbf;\" transform=\"translate(474.458073 72.196562)scale(0.12 -0.12)\">\r\n     <use xlink:href=\"#ArialMT-48\"/>\r\n    </g>\r\n   </g>\r\n   <g id=\"text_18\">\r\n    <!-- MLPClassifier Confusion Matrix -->\r\n    <g style=\"fill:#262626;\" transform=\"translate(234.829219 15.789375)scale(0.12 -0.12)\">\r\n     <defs>\r\n      <path d=\"M 7.421875 0 \r\nL 7.421875 71.578125 \r\nL 21.6875 71.578125 \r\nL 38.625 20.90625 \r\nQ 40.96875 13.8125 42.046875 10.296875 \r\nQ 43.265625 14.203125 45.84375 21.78125 \r\nL 62.984375 71.578125 \r\nL 75.734375 71.578125 \r\nL 75.734375 0 \r\nL 66.609375 0 \r\nL 66.609375 59.90625 \r\nL 45.796875 0 \r\nL 37.25 0 \r\nL 16.546875 60.9375 \r\nL 16.546875 0 \r\nz\r\n\" id=\"ArialMT-77\"/>\r\n      <path d=\"M 7.328125 0 \r\nL 7.328125 71.578125 \r\nL 16.796875 71.578125 \r\nL 16.796875 8.453125 \r\nL 52.046875 8.453125 \r\nL 52.046875 0 \r\nz\r\n\" id=\"ArialMT-76\"/>\r\n      <path d=\"M 8.6875 0 \r\nL 8.6875 45.015625 \r\nL 0.921875 45.015625 \r\nL 0.921875 51.859375 \r\nL 8.6875 51.859375 \r\nL 8.6875 57.375 \r\nQ 8.6875 62.59375 9.625 65.140625 \r\nQ 10.890625 68.5625 14.078125 70.671875 \r\nQ 17.28125 72.796875 23.046875 72.796875 \r\nQ 26.765625 72.796875 31.25 71.921875 \r\nL 29.9375 64.265625 \r\nQ 27.203125 64.75 24.75 64.75 \r\nQ 20.75 64.75 19.09375 63.03125 \r\nQ 17.4375 61.328125 17.4375 56.640625 \r\nL 17.4375 51.859375 \r\nL 27.546875 51.859375 \r\nL 27.546875 45.015625 \r\nL 17.4375 45.015625 \r\nL 17.4375 0 \r\nz\r\n\" id=\"ArialMT-102\"/>\r\n      <path d=\"M 0.734375 0 \r\nL 19.671875 26.953125 \r\nL 2.15625 51.859375 \r\nL 13.140625 51.859375 \r\nL 21.09375 39.703125 \r\nQ 23.34375 36.234375 24.703125 33.890625 \r\nQ 26.859375 37.109375 28.65625 39.59375 \r\nL 37.40625 51.859375 \r\nL 47.90625 51.859375 \r\nL 29.984375 27.4375 \r\nL 49.265625 0 \r\nL 38.484375 0 \r\nL 27.828125 16.109375 \r\nL 25 20.453125 \r\nL 11.375 0 \r\nz\r\n\" id=\"ArialMT-120\"/>\r\n     </defs>\r\n     <use xlink:href=\"#ArialMT-77\"/>\r\n     <use x=\"83.300781\" xlink:href=\"#ArialMT-76\"/>\r\n     <use x=\"138.916016\" xlink:href=\"#ArialMT-80\"/>\r\n     <use x=\"205.615234\" xlink:href=\"#ArialMT-67\"/>\r\n     <use x=\"277.832031\" xlink:href=\"#ArialMT-108\"/>\r\n     <use x=\"300.048828\" xlink:href=\"#ArialMT-97\"/>\r\n     <use x=\"355.664062\" xlink:href=\"#ArialMT-115\"/>\r\n     <use x=\"405.664062\" xlink:href=\"#ArialMT-115\"/>\r\n     <use x=\"455.664062\" xlink:href=\"#ArialMT-105\"/>\r\n     <use x=\"477.880859\" xlink:href=\"#ArialMT-102\"/>\r\n     <use x=\"505.664062\" xlink:href=\"#ArialMT-105\"/>\r\n     <use x=\"527.880859\" xlink:href=\"#ArialMT-101\"/>\r\n     <use x=\"583.496094\" xlink:href=\"#ArialMT-114\"/>\r\n     <use x=\"616.796875\" xlink:href=\"#ArialMT-32\"/>\r\n     <use x=\"644.580078\" xlink:href=\"#ArialMT-67\"/>\r\n     <use x=\"716.796875\" xlink:href=\"#ArialMT-111\"/>\r\n     <use x=\"772.412109\" xlink:href=\"#ArialMT-110\"/>\r\n     <use x=\"828.027344\" xlink:href=\"#ArialMT-102\"/>\r\n     <use x=\"855.810547\" xlink:href=\"#ArialMT-117\"/>\r\n     <use x=\"911.425781\" xlink:href=\"#ArialMT-115\"/>\r\n     <use x=\"961.425781\" xlink:href=\"#ArialMT-105\"/>\r\n     <use x=\"983.642578\" xlink:href=\"#ArialMT-111\"/>\r\n     <use x=\"1039.257812\" xlink:href=\"#ArialMT-110\"/>\r\n     <use x=\"1094.873047\" xlink:href=\"#ArialMT-32\"/>\r\n     <use x=\"1122.65625\" xlink:href=\"#ArialMT-77\"/>\r\n     <use x=\"1205.957031\" xlink:href=\"#ArialMT-97\"/>\r\n     <use x=\"1261.572266\" xlink:href=\"#ArialMT-116\"/>\r\n     <use x=\"1289.355469\" xlink:href=\"#ArialMT-114\"/>\r\n     <use x=\"1322.65625\" xlink:href=\"#ArialMT-105\"/>\r\n     <use x=\"1344.873047\" xlink:href=\"#ArialMT-120\"/>\r\n    </g>\r\n   </g>\r\n  </g>\r\n </g>\r\n <defs>\r\n  <clipPath id=\"p997322044e\">\r\n   <rect height=\"283.83\" width=\"477.83\" x=\"79.602969\" y=\"21.789375\"/>\r\n  </clipPath>\r\n </defs>\r\n</svg>\r\n",
            "image/png": "[encoded data removed]"
          },
          "metadata": {}
        },
        {
          "output_type": "execute_result",
          "data": {
            "text/plain": [
              "<AxesSubplot:title={'center':'MLPClassifier Confusion Matrix'}, xlabel='Predicted Class', ylabel='True Class'>"
            ]
          },
          "metadata": {},
          "execution_count": 42
        }
      ]
    },
    {
      "cell_type": "markdown",
      "metadata": {
        "id": "Nkf_QRkpmZ7u"
      },
      "source": [
        "## Neural network (classification)"
      ]
    },
    {
      "cell_type": "code",
      "metadata": {
        "id": "QqUpFkIf1XFO",
        "outputId": "a2dad010-8a01-4024-9f45-db685538778d",
        "colab": {
          "base_uri": "https://localhost:8080/",
          "height": 34
        }
      },
      "source": [
        "X_test[0], y_test[0]"
      ],
      "execution_count": 48,
      "outputs": [
        {
          "output_type": "execute_result",
          "data": {
            "text/plain": [
              "(array([6.4, 2.8, 5.6, 2.1]), 2)"
            ]
          },
          "metadata": {},
          "execution_count": 48
        }
      ]
    },
    {
      "cell_type": "code",
      "metadata": {
        "id": "tr24nFnx1hzK",
        "outputId": "9da985f6-9925-4201-d9fa-eddcd8a94566",
        "colab": {
          "base_uri": "https://localhost:8080/",
          "height": 34
        }
      },
      "source": [
        "X_test[0].shape"
      ],
      "execution_count": 49,
      "outputs": [
        {
          "output_type": "execute_result",
          "data": {
            "text/plain": [
              "(4,)"
            ]
          },
          "metadata": {},
          "execution_count": 49
        }
      ]
    },
    {
      "cell_type": "code",
      "metadata": {
        "id": "pOJL7ixY1lHn",
        "outputId": "3a53b60f-84f8-494a-b768-17174b2f141e",
        "colab": {
          "base_uri": "https://localhost:8080/",
          "height": 34
        }
      },
      "source": [
        "new = X_test[0].reshape(1, -1)\n",
        "new.shape"
      ],
      "execution_count": 50,
      "outputs": [
        {
          "output_type": "execute_result",
          "data": {
            "text/plain": [
              "(1, 4)"
            ]
          },
          "metadata": {},
          "execution_count": 50
        }
      ]
    },
    {
      "cell_type": "code",
      "metadata": {
        "id": "pN6DUvXN1cxW",
        "outputId": "db7e29cd-5bfd-4990-d230-e85865952e08",
        "colab": {
          "base_uri": "https://localhost:8080/",
          "height": 34
        }
      },
      "source": [
        "network.predict(new)"
      ],
      "execution_count": 51,
      "outputs": [
        {
          "output_type": "execute_result",
          "data": {
            "text/plain": [
              "array([2])"
            ]
          },
          "metadata": {},
          "execution_count": 51
        }
      ]
    },
    {
      "cell_type": "code",
      "metadata": {
        "id": "8W4Q0zsk9yzR",
        "outputId": "13887cf9-8b06-4e21-cd12-d92bc40cd171",
        "colab": {
          "base_uri": "https://localhost:8080/",
          "height": 34
        }
      },
      "source": [
        "iris.target_names[network.predict(new)[0]]"
      ],
      "execution_count": 52,
      "outputs": [
        {
          "output_type": "execute_result",
          "data": {
            "text/plain": [
              "'virginica'"
            ]
          },
          "metadata": {},
          "execution_count": 52
        }
      ]
    }
  ]
}