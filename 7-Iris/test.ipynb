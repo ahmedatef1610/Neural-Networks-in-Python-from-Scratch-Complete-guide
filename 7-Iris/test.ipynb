{
 "metadata": {
  "language_info": {
   "codemirror_mode": {
    "name": "ipython",
    "version": 3
   },
   "file_extension": ".py",
   "mimetype": "text/x-python",
   "name": "python",
   "nbconvert_exporter": "python",
   "pygments_lexer": "ipython3",
   "version": "3.8.2-final"
  },
  "orig_nbformat": 2,
  "kernelspec": {
   "name": "python3",
   "display_name": "Python 3.8.2 64-bit ('venv': venv)",
   "metadata": {
    "interpreter": {
     "hash": "9cd04c9f2eedf262d1fdaff6797201f1e8c364642fa2f214ca3a1a62a76f1ca3"
    }
   }
  }
 },
 "nbformat": 4,
 "nbformat_minor": 2,
 "cells": [
  {
   "cell_type": "code",
   "execution_count": 37,
   "metadata": {},
   "outputs": [],
   "source": [
    "from sklearn import datasets"
   ]
  },
  {
   "cell_type": "code",
   "execution_count": 38,
   "metadata": {},
   "outputs": [],
   "source": [
    "iris = datasets.load_iris()"
   ]
  },
  {
   "cell_type": "code",
   "execution_count": 4,
   "metadata": {},
   "outputs": [],
   "source": [
    "# iris.data"
   ]
  },
  {
   "cell_type": "code",
   "execution_count": 39,
   "metadata": {},
   "outputs": [
    {
     "output_type": "execute_result",
     "data": {
      "text/plain": [
       "['sepal length (cm)',\n",
       " 'sepal width (cm)',\n",
       " 'petal length (cm)',\n",
       " 'petal width (cm)']"
      ]
     },
     "metadata": {},
     "execution_count": 39
    }
   ],
   "source": [
    "iris.feature_names"
   ]
  },
  {
   "cell_type": "code",
   "execution_count": 40,
   "metadata": {},
   "outputs": [
    {
     "output_type": "execute_result",
     "data": {
      "text/plain": [
       "array([0, 0, 0, 0, 0, 0, 0, 0, 0, 0, 0, 0, 0, 0, 0, 0, 0, 0, 0, 0, 0, 0,\n",
       "       0, 0, 0, 0, 0, 0, 0, 0, 0, 0, 0, 0, 0, 0, 0, 0, 0, 0, 0, 0, 0, 0,\n",
       "       0, 0, 0, 0, 0, 0, 1, 1, 1, 1, 1, 1, 1, 1, 1, 1, 1, 1, 1, 1, 1, 1,\n",
       "       1, 1, 1, 1, 1, 1, 1, 1, 1, 1, 1, 1, 1, 1, 1, 1, 1, 1, 1, 1, 1, 1,\n",
       "       1, 1, 1, 1, 1, 1, 1, 1, 1, 1, 1, 1, 2, 2, 2, 2, 2, 2, 2, 2, 2, 2,\n",
       "       2, 2, 2, 2, 2, 2, 2, 2, 2, 2, 2, 2, 2, 2, 2, 2, 2, 2, 2, 2, 2, 2,\n",
       "       2, 2, 2, 2, 2, 2, 2, 2, 2, 2, 2, 2, 2, 2, 2, 2, 2, 2])"
      ]
     },
     "metadata": {},
     "execution_count": 40
    }
   ],
   "source": [
    "iris.target"
   ]
  },
  {
   "cell_type": "code",
   "execution_count": 41,
   "metadata": {},
   "outputs": [
    {
     "output_type": "execute_result",
     "data": {
      "text/plain": [
       "array(['setosa', 'versicolor', 'virginica'], dtype='<U10')"
      ]
     },
     "metadata": {},
     "execution_count": 41
    }
   ],
   "source": [
    "iris.target_names"
   ]
  },
  {
   "cell_type": "code",
   "execution_count": 42,
   "metadata": {},
   "outputs": [],
   "source": [
    "inputs = iris.data[0:100]"
   ]
  },
  {
   "cell_type": "code",
   "execution_count": 9,
   "metadata": {},
   "outputs": [
    {
     "output_type": "execute_result",
     "data": {
      "text/plain": [
       "100"
      ]
     },
     "metadata": {},
     "execution_count": 9
    }
   ],
   "source": [
    "len(inputs)"
   ]
  },
  {
   "cell_type": "code",
   "execution_count": 10,
   "metadata": {},
   "outputs": [
    {
     "output_type": "execute_result",
     "data": {
      "text/plain": [
       "(100, 4)"
      ]
     },
     "metadata": {},
     "execution_count": 10
    }
   ],
   "source": [
    "inputs.shape"
   ]
  },
  {
   "cell_type": "code",
   "execution_count": 11,
   "metadata": {},
   "outputs": [
    {
     "output_type": "execute_result",
     "data": {
      "text/plain": [
       "array([0, 0, 0, 0, 0, 0, 0, 0, 0, 0, 0, 0, 0, 0, 0, 0, 0, 0, 0, 0, 0, 0,\n",
       "       0, 0, 0, 0, 0, 0, 0, 0, 0, 0, 0, 0, 0, 0, 0, 0, 0, 0, 0, 0, 0, 0,\n",
       "       0, 0, 0, 0, 0, 0, 1, 1, 1, 1, 1, 1, 1, 1, 1, 1, 1, 1, 1, 1, 1, 1,\n",
       "       1, 1, 1, 1, 1, 1, 1, 1, 1, 1, 1, 1, 1, 1, 1, 1, 1, 1, 1, 1, 1, 1,\n",
       "       1, 1, 1, 1, 1, 1, 1, 1, 1, 1, 1, 1])"
      ]
     },
     "metadata": {},
     "execution_count": 11
    }
   ],
   "source": [
    "outputs = iris.target[0:100]\n",
    "outputs"
   ]
  },
  {
   "cell_type": "code",
   "execution_count": 12,
   "metadata": {},
   "outputs": [
    {
     "output_type": "execute_result",
     "data": {
      "text/plain": [
       "100"
      ]
     },
     "metadata": {},
     "execution_count": 12
    }
   ],
   "source": [
    "len(outputs)"
   ]
  },
  {
   "cell_type": "code",
   "execution_count": 13,
   "metadata": {},
   "outputs": [
    {
     "output_type": "execute_result",
     "data": {
      "text/plain": [
       "(100,)"
      ]
     },
     "metadata": {},
     "execution_count": 13
    }
   ],
   "source": [
    "outputs.shape"
   ]
  },
  {
   "cell_type": "code",
   "execution_count": 14,
   "metadata": {},
   "outputs": [
    {
     "output_type": "execute_result",
     "data": {
      "text/plain": [
       "(100, 1)"
      ]
     },
     "metadata": {},
     "execution_count": 14
    }
   ],
   "source": [
    "outputs = outputs.reshape(-1, 1)\n",
    "outputs.shape"
   ]
  },
  {
   "cell_type": "code",
   "execution_count": 22,
   "metadata": {},
   "outputs": [],
   "source": [
    "import numpy as np\n",
    "\n",
    "def sigmoid(sum):\n",
    "  return 1 / (1 + np.exp(-sum))\n",
    "\n",
    "def sigmoid_derivative(sigmoid):\n",
    "  return sigmoid * (1 - sigmoid)\n",
    "\n",
    "weights0 = 2 * np.random.random((4, 5)) - 1\n",
    "#                                num input , num neurons in hidden layers\n",
    "weights1 = 2 * np.random.random((5,1)) - 1\n",
    "#                 num neurons in hidden layers, num output\n"
   ]
  },
  {
   "cell_type": "code",
   "execution_count": 23,
   "metadata": {},
   "outputs": [
    {
     "output_type": "execute_result",
     "data": {
      "text/plain": [
       "array([[-0.86526517, -0.9061959 , -0.97627064, -0.37391107,  0.98507167],\n",
       "       [ 0.77598451, -0.33067346,  0.72447835, -0.80377176, -0.12203288],\n",
       "       [-0.7565182 , -0.96785657,  0.18130535,  0.38960064,  0.45477114],\n",
       "       [-0.56250139, -0.06594422, -0.02551377, -0.85371259, -0.26217151]])"
      ]
     },
     "metadata": {},
     "execution_count": 23
    }
   ],
   "source": [
    "weights0"
   ]
  },
  {
   "cell_type": "code",
   "execution_count": 24,
   "metadata": {},
   "outputs": [
    {
     "output_type": "stream",
     "name": "stdout",
     "text": [
      "Epoch: 1 Error: 0.49953060979036723\n",
      "Epoch: 1001 Error: 0.03600249891766356\n",
      "Epoch: 2001 Error: 0.024178843863724295\n",
      "Epoch: 3001 Error: 0.019331579405373046\n",
      "Epoch: 4001 Error: 0.01654154624022378\n",
      "Epoch: 5001 Error: 0.014677307308002296\n",
      "Epoch: 6001 Error: 0.013320963252812203\n",
      "Epoch: 7001 Error: 0.012278043911191257\n",
      "Epoch: 8001 Error: 0.011444345321985077\n",
      "Epoch: 9001 Error: 0.010758402310839634\n"
     ]
    }
   ],
   "source": [
    "epochs = 10000\n",
    "learning_rate = 0.01\n",
    "\n",
    "error = []\n",
    "\n",
    "for epoch in range(epochs):\n",
    "  input_layer = inputs\n",
    "  sum_synapse0 = np.dot(input_layer, weights0)\n",
    "  hidden_layer = sigmoid(sum_synapse0)\n",
    "\n",
    "  sum_synapse1 = np.dot(hidden_layer, weights1)\n",
    "  output_layer = sigmoid(sum_synapse1)\n",
    "\n",
    "  error_output_layer = outputs - output_layer\n",
    "  average = np.mean(abs(error_output_layer))\n",
    "  \n",
    "  if epoch % 1000 == 0:\n",
    "    print('Epoch: ' + str(epoch + 1) + ' Error: ' + str(average))\n",
    "    error.append(average)\n",
    "  \n",
    "  derivative_output = sigmoid_derivative(output_layer)\n",
    "  delta_output = error_output_layer * derivative_output\n",
    "  \n",
    "  weights1T = weights1.T\n",
    "  delta_output_weight = delta_output.dot(weights1T)\n",
    "  delta_hidden_layer = delta_output_weight * sigmoid_derivative(hidden_layer)\n",
    "  \n",
    "  hidden_layerT = hidden_layer.T\n",
    "  input_x_delta1 = hidden_layerT.dot(delta_output)\n",
    "  weights1 = weights1 + (input_x_delta1 * learning_rate)\n",
    "  \n",
    "  input_layerT = input_layer.T\n",
    "  input_x_delta0 = input_layerT.dot(delta_hidden_layer)\n",
    "  weights0 = weights0 + (input_x_delta0 * learning_rate)"
   ]
  },
  {
   "cell_type": "code",
   "execution_count": 26,
   "metadata": {},
   "outputs": [
    {
     "output_type": "execute_result",
     "data": {
      "text/plain": [
       "[0.49953060979036723,\n",
       " 0.03600249891766356,\n",
       " 0.024178843863724295,\n",
       " 0.019331579405373046,\n",
       " 0.01654154624022378,\n",
       " 0.014677307308002296,\n",
       " 0.013320963252812203,\n",
       " 0.012278043911191257,\n",
       " 0.011444345321985077,\n",
       " 0.010758402310839634]"
      ]
     },
     "metadata": {},
     "execution_count": 26
    }
   ],
   "source": [
    "error"
   ]
  },
  {
   "cell_type": "code",
   "execution_count": 25,
   "metadata": {},
   "outputs": [
    {
     "output_type": "execute_result",
     "data": {
      "text/plain": [
       "[<matplotlib.lines.Line2D at 0x28ef79d0>]"
      ]
     },
     "metadata": {},
     "execution_count": 25
    },
    {
     "output_type": "display_data",
     "data": {
      "text/plain": "<Figure size 432x288 with 1 Axes>",
      "image/svg+xml": "<?xml version=\"1.0\" encoding=\"utf-8\" standalone=\"no\"?>\r\n<!DOCTYPE svg PUBLIC \"-//W3C//DTD SVG 1.1//EN\"\r\n  \"http://www.w3.org/Graphics/SVG/1.1/DTD/svg11.dtd\">\r\n<!-- Created with matplotlib (https://matplotlib.org/) -->\r\n<svg height=\"262.19625pt\" version=\"1.1\" viewBox=\"0 0 385.78125 262.19625\" width=\"385.78125pt\" xmlns=\"http://www.w3.org/2000/svg\" xmlns:xlink=\"http://www.w3.org/1999/xlink\">\r\n <metadata>\r\n  <rdf:RDF xmlns:cc=\"http://creativecommons.org/ns#\" xmlns:dc=\"http://purl.org/dc/elements/1.1/\" xmlns:rdf=\"http://www.w3.org/1999/02/22-rdf-syntax-ns#\">\r\n   <cc:Work>\r\n    <dc:type rdf:resource=\"http://purl.org/dc/dcmitype/StillImage\"/>\r\n    <dc:date>2020-11-15T18:17:00.813572</dc:date>\r\n    <dc:format>image/svg+xml</dc:format>\r\n    <dc:creator>\r\n     <cc:Agent>\r\n      <dc:title>Matplotlib v3.3.3, https://matplotlib.org/</dc:title>\r\n     </cc:Agent>\r\n    </dc:creator>\r\n   </cc:Work>\r\n  </rdf:RDF>\r\n </metadata>\r\n <defs>\r\n  <style type=\"text/css\">*{stroke-linecap:butt;stroke-linejoin:round;}</style>\r\n </defs>\r\n <g id=\"figure_1\">\r\n  <g id=\"patch_1\">\r\n   <path d=\"M 0 262.19625 \r\nL 385.78125 262.19625 \r\nL 385.78125 0 \r\nL 0 0 \r\nz\r\n\" style=\"fill:none;\"/>\r\n  </g>\r\n  <g id=\"axes_1\">\r\n   <g id=\"patch_2\">\r\n    <path d=\"M 43.78125 224.64 \r\nL 378.58125 224.64 \r\nL 378.58125 7.2 \r\nL 43.78125 7.2 \r\nz\r\n\" style=\"fill:#ffffff;\"/>\r\n   </g>\r\n   <g id=\"matplotlib.axis_1\">\r\n    <g id=\"xtick_1\">\r\n     <g id=\"line2d_1\">\r\n      <defs>\r\n       <path d=\"M 0 0 \r\nL 0 3.5 \r\n\" id=\"mb116189295\" style=\"stroke:#000000;stroke-width:0.8;\"/>\r\n      </defs>\r\n      <g>\r\n       <use style=\"stroke:#000000;stroke-width:0.8;\" x=\"58.999432\" xlink:href=\"#mb116189295\" y=\"224.64\"/>\r\n      </g>\r\n     </g>\r\n     <g id=\"text_1\">\r\n      <!-- 0 -->\r\n      <g transform=\"translate(55.818182 239.238438)scale(0.1 -0.1)\">\r\n       <defs>\r\n        <path d=\"M 31.78125 66.40625 \r\nQ 24.171875 66.40625 20.328125 58.90625 \r\nQ 16.5 51.421875 16.5 36.375 \r\nQ 16.5 21.390625 20.328125 13.890625 \r\nQ 24.171875 6.390625 31.78125 6.390625 \r\nQ 39.453125 6.390625 43.28125 13.890625 \r\nQ 47.125 21.390625 47.125 36.375 \r\nQ 47.125 51.421875 43.28125 58.90625 \r\nQ 39.453125 66.40625 31.78125 66.40625 \r\nz\r\nM 31.78125 74.21875 \r\nQ 44.046875 74.21875 50.515625 64.515625 \r\nQ 56.984375 54.828125 56.984375 36.375 \r\nQ 56.984375 17.96875 50.515625 8.265625 \r\nQ 44.046875 -1.421875 31.78125 -1.421875 \r\nQ 19.53125 -1.421875 13.0625 8.265625 \r\nQ 6.59375 17.96875 6.59375 36.375 \r\nQ 6.59375 54.828125 13.0625 64.515625 \r\nQ 19.53125 74.21875 31.78125 74.21875 \r\nz\r\n\" id=\"DejaVuSans-48\"/>\r\n       </defs>\r\n       <use xlink:href=\"#DejaVuSans-48\"/>\r\n      </g>\r\n     </g>\r\n    </g>\r\n    <g id=\"xtick_2\">\r\n     <g id=\"line2d_2\">\r\n      <g>\r\n       <use style=\"stroke:#000000;stroke-width:0.8;\" x=\"126.635795\" xlink:href=\"#mb116189295\" y=\"224.64\"/>\r\n      </g>\r\n     </g>\r\n     <g id=\"text_2\">\r\n      <!-- 2 -->\r\n      <g transform=\"translate(123.454545 239.238438)scale(0.1 -0.1)\">\r\n       <defs>\r\n        <path d=\"M 19.1875 8.296875 \r\nL 53.609375 8.296875 \r\nL 53.609375 0 \r\nL 7.328125 0 \r\nL 7.328125 8.296875 \r\nQ 12.9375 14.109375 22.625 23.890625 \r\nQ 32.328125 33.6875 34.8125 36.53125 \r\nQ 39.546875 41.84375 41.421875 45.53125 \r\nQ 43.3125 49.21875 43.3125 52.78125 \r\nQ 43.3125 58.59375 39.234375 62.25 \r\nQ 35.15625 65.921875 28.609375 65.921875 \r\nQ 23.96875 65.921875 18.8125 64.3125 \r\nQ 13.671875 62.703125 7.8125 59.421875 \r\nL 7.8125 69.390625 \r\nQ 13.765625 71.78125 18.9375 73 \r\nQ 24.125 74.21875 28.421875 74.21875 \r\nQ 39.75 74.21875 46.484375 68.546875 \r\nQ 53.21875 62.890625 53.21875 53.421875 \r\nQ 53.21875 48.921875 51.53125 44.890625 \r\nQ 49.859375 40.875 45.40625 35.40625 \r\nQ 44.1875 33.984375 37.640625 27.21875 \r\nQ 31.109375 20.453125 19.1875 8.296875 \r\nz\r\n\" id=\"DejaVuSans-50\"/>\r\n       </defs>\r\n       <use xlink:href=\"#DejaVuSans-50\"/>\r\n      </g>\r\n     </g>\r\n    </g>\r\n    <g id=\"xtick_3\">\r\n     <g id=\"line2d_3\">\r\n      <g>\r\n       <use style=\"stroke:#000000;stroke-width:0.8;\" x=\"194.272159\" xlink:href=\"#mb116189295\" y=\"224.64\"/>\r\n      </g>\r\n     </g>\r\n     <g id=\"text_3\">\r\n      <!-- 4 -->\r\n      <g transform=\"translate(191.090909 239.238438)scale(0.1 -0.1)\">\r\n       <defs>\r\n        <path d=\"M 37.796875 64.3125 \r\nL 12.890625 25.390625 \r\nL 37.796875 25.390625 \r\nz\r\nM 35.203125 72.90625 \r\nL 47.609375 72.90625 \r\nL 47.609375 25.390625 \r\nL 58.015625 25.390625 \r\nL 58.015625 17.1875 \r\nL 47.609375 17.1875 \r\nL 47.609375 0 \r\nL 37.796875 0 \r\nL 37.796875 17.1875 \r\nL 4.890625 17.1875 \r\nL 4.890625 26.703125 \r\nz\r\n\" id=\"DejaVuSans-52\"/>\r\n       </defs>\r\n       <use xlink:href=\"#DejaVuSans-52\"/>\r\n      </g>\r\n     </g>\r\n    </g>\r\n    <g id=\"xtick_4\">\r\n     <g id=\"line2d_4\">\r\n      <g>\r\n       <use style=\"stroke:#000000;stroke-width:0.8;\" x=\"261.908523\" xlink:href=\"#mb116189295\" y=\"224.64\"/>\r\n      </g>\r\n     </g>\r\n     <g id=\"text_4\">\r\n      <!-- 6 -->\r\n      <g transform=\"translate(258.727273 239.238438)scale(0.1 -0.1)\">\r\n       <defs>\r\n        <path d=\"M 33.015625 40.375 \r\nQ 26.375 40.375 22.484375 35.828125 \r\nQ 18.609375 31.296875 18.609375 23.390625 \r\nQ 18.609375 15.53125 22.484375 10.953125 \r\nQ 26.375 6.390625 33.015625 6.390625 \r\nQ 39.65625 6.390625 43.53125 10.953125 \r\nQ 47.40625 15.53125 47.40625 23.390625 \r\nQ 47.40625 31.296875 43.53125 35.828125 \r\nQ 39.65625 40.375 33.015625 40.375 \r\nz\r\nM 52.59375 71.296875 \r\nL 52.59375 62.3125 \r\nQ 48.875 64.0625 45.09375 64.984375 \r\nQ 41.3125 65.921875 37.59375 65.921875 \r\nQ 27.828125 65.921875 22.671875 59.328125 \r\nQ 17.53125 52.734375 16.796875 39.40625 \r\nQ 19.671875 43.65625 24.015625 45.921875 \r\nQ 28.375 48.1875 33.59375 48.1875 \r\nQ 44.578125 48.1875 50.953125 41.515625 \r\nQ 57.328125 34.859375 57.328125 23.390625 \r\nQ 57.328125 12.15625 50.6875 5.359375 \r\nQ 44.046875 -1.421875 33.015625 -1.421875 \r\nQ 20.359375 -1.421875 13.671875 8.265625 \r\nQ 6.984375 17.96875 6.984375 36.375 \r\nQ 6.984375 53.65625 15.1875 63.9375 \r\nQ 23.390625 74.21875 37.203125 74.21875 \r\nQ 40.921875 74.21875 44.703125 73.484375 \r\nQ 48.484375 72.75 52.59375 71.296875 \r\nz\r\n\" id=\"DejaVuSans-54\"/>\r\n       </defs>\r\n       <use xlink:href=\"#DejaVuSans-54\"/>\r\n      </g>\r\n     </g>\r\n    </g>\r\n    <g id=\"xtick_5\">\r\n     <g id=\"line2d_5\">\r\n      <g>\r\n       <use style=\"stroke:#000000;stroke-width:0.8;\" x=\"329.544886\" xlink:href=\"#mb116189295\" y=\"224.64\"/>\r\n      </g>\r\n     </g>\r\n     <g id=\"text_5\">\r\n      <!-- 8 -->\r\n      <g transform=\"translate(326.363636 239.238438)scale(0.1 -0.1)\">\r\n       <defs>\r\n        <path d=\"M 31.78125 34.625 \r\nQ 24.75 34.625 20.71875 30.859375 \r\nQ 16.703125 27.09375 16.703125 20.515625 \r\nQ 16.703125 13.921875 20.71875 10.15625 \r\nQ 24.75 6.390625 31.78125 6.390625 \r\nQ 38.8125 6.390625 42.859375 10.171875 \r\nQ 46.921875 13.96875 46.921875 20.515625 \r\nQ 46.921875 27.09375 42.890625 30.859375 \r\nQ 38.875 34.625 31.78125 34.625 \r\nz\r\nM 21.921875 38.8125 \r\nQ 15.578125 40.375 12.03125 44.71875 \r\nQ 8.5 49.078125 8.5 55.328125 \r\nQ 8.5 64.0625 14.71875 69.140625 \r\nQ 20.953125 74.21875 31.78125 74.21875 \r\nQ 42.671875 74.21875 48.875 69.140625 \r\nQ 55.078125 64.0625 55.078125 55.328125 \r\nQ 55.078125 49.078125 51.53125 44.71875 \r\nQ 48 40.375 41.703125 38.8125 \r\nQ 48.828125 37.15625 52.796875 32.3125 \r\nQ 56.78125 27.484375 56.78125 20.515625 \r\nQ 56.78125 9.90625 50.3125 4.234375 \r\nQ 43.84375 -1.421875 31.78125 -1.421875 \r\nQ 19.734375 -1.421875 13.25 4.234375 \r\nQ 6.78125 9.90625 6.78125 20.515625 \r\nQ 6.78125 27.484375 10.78125 32.3125 \r\nQ 14.796875 37.15625 21.921875 38.8125 \r\nz\r\nM 18.3125 54.390625 \r\nQ 18.3125 48.734375 21.84375 45.5625 \r\nQ 25.390625 42.390625 31.78125 42.390625 \r\nQ 38.140625 42.390625 41.71875 45.5625 \r\nQ 45.3125 48.734375 45.3125 54.390625 \r\nQ 45.3125 60.0625 41.71875 63.234375 \r\nQ 38.140625 66.40625 31.78125 66.40625 \r\nQ 25.390625 66.40625 21.84375 63.234375 \r\nQ 18.3125 60.0625 18.3125 54.390625 \r\nz\r\n\" id=\"DejaVuSans-56\"/>\r\n       </defs>\r\n       <use xlink:href=\"#DejaVuSans-56\"/>\r\n      </g>\r\n     </g>\r\n    </g>\r\n    <g id=\"text_6\">\r\n     <!-- Epochs -->\r\n     <g transform=\"translate(193.265625 252.916563)scale(0.1 -0.1)\">\r\n      <defs>\r\n       <path d=\"M 9.8125 72.90625 \r\nL 55.90625 72.90625 \r\nL 55.90625 64.59375 \r\nL 19.671875 64.59375 \r\nL 19.671875 43.015625 \r\nL 54.390625 43.015625 \r\nL 54.390625 34.71875 \r\nL 19.671875 34.71875 \r\nL 19.671875 8.296875 \r\nL 56.78125 8.296875 \r\nL 56.78125 0 \r\nL 9.8125 0 \r\nz\r\n\" id=\"DejaVuSans-69\"/>\r\n       <path d=\"M 18.109375 8.203125 \r\nL 18.109375 -20.796875 \r\nL 9.078125 -20.796875 \r\nL 9.078125 54.6875 \r\nL 18.109375 54.6875 \r\nL 18.109375 46.390625 \r\nQ 20.953125 51.265625 25.265625 53.625 \r\nQ 29.59375 56 35.59375 56 \r\nQ 45.5625 56 51.78125 48.09375 \r\nQ 58.015625 40.1875 58.015625 27.296875 \r\nQ 58.015625 14.40625 51.78125 6.484375 \r\nQ 45.5625 -1.421875 35.59375 -1.421875 \r\nQ 29.59375 -1.421875 25.265625 0.953125 \r\nQ 20.953125 3.328125 18.109375 8.203125 \r\nz\r\nM 48.6875 27.296875 \r\nQ 48.6875 37.203125 44.609375 42.84375 \r\nQ 40.53125 48.484375 33.40625 48.484375 \r\nQ 26.265625 48.484375 22.1875 42.84375 \r\nQ 18.109375 37.203125 18.109375 27.296875 \r\nQ 18.109375 17.390625 22.1875 11.75 \r\nQ 26.265625 6.109375 33.40625 6.109375 \r\nQ 40.53125 6.109375 44.609375 11.75 \r\nQ 48.6875 17.390625 48.6875 27.296875 \r\nz\r\n\" id=\"DejaVuSans-112\"/>\r\n       <path d=\"M 30.609375 48.390625 \r\nQ 23.390625 48.390625 19.1875 42.75 \r\nQ 14.984375 37.109375 14.984375 27.296875 \r\nQ 14.984375 17.484375 19.15625 11.84375 \r\nQ 23.34375 6.203125 30.609375 6.203125 \r\nQ 37.796875 6.203125 41.984375 11.859375 \r\nQ 46.1875 17.53125 46.1875 27.296875 \r\nQ 46.1875 37.015625 41.984375 42.703125 \r\nQ 37.796875 48.390625 30.609375 48.390625 \r\nz\r\nM 30.609375 56 \r\nQ 42.328125 56 49.015625 48.375 \r\nQ 55.71875 40.765625 55.71875 27.296875 \r\nQ 55.71875 13.875 49.015625 6.21875 \r\nQ 42.328125 -1.421875 30.609375 -1.421875 \r\nQ 18.84375 -1.421875 12.171875 6.21875 \r\nQ 5.515625 13.875 5.515625 27.296875 \r\nQ 5.515625 40.765625 12.171875 48.375 \r\nQ 18.84375 56 30.609375 56 \r\nz\r\n\" id=\"DejaVuSans-111\"/>\r\n       <path d=\"M 48.78125 52.59375 \r\nL 48.78125 44.1875 \r\nQ 44.96875 46.296875 41.140625 47.34375 \r\nQ 37.3125 48.390625 33.40625 48.390625 \r\nQ 24.65625 48.390625 19.8125 42.84375 \r\nQ 14.984375 37.3125 14.984375 27.296875 \r\nQ 14.984375 17.28125 19.8125 11.734375 \r\nQ 24.65625 6.203125 33.40625 6.203125 \r\nQ 37.3125 6.203125 41.140625 7.25 \r\nQ 44.96875 8.296875 48.78125 10.40625 \r\nL 48.78125 2.09375 \r\nQ 45.015625 0.34375 40.984375 -0.53125 \r\nQ 36.96875 -1.421875 32.421875 -1.421875 \r\nQ 20.0625 -1.421875 12.78125 6.34375 \r\nQ 5.515625 14.109375 5.515625 27.296875 \r\nQ 5.515625 40.671875 12.859375 48.328125 \r\nQ 20.21875 56 33.015625 56 \r\nQ 37.15625 56 41.109375 55.140625 \r\nQ 45.0625 54.296875 48.78125 52.59375 \r\nz\r\n\" id=\"DejaVuSans-99\"/>\r\n       <path d=\"M 54.890625 33.015625 \r\nL 54.890625 0 \r\nL 45.90625 0 \r\nL 45.90625 32.71875 \r\nQ 45.90625 40.484375 42.875 44.328125 \r\nQ 39.84375 48.1875 33.796875 48.1875 \r\nQ 26.515625 48.1875 22.3125 43.546875 \r\nQ 18.109375 38.921875 18.109375 30.90625 \r\nL 18.109375 0 \r\nL 9.078125 0 \r\nL 9.078125 75.984375 \r\nL 18.109375 75.984375 \r\nL 18.109375 46.1875 \r\nQ 21.34375 51.125 25.703125 53.5625 \r\nQ 30.078125 56 35.796875 56 \r\nQ 45.21875 56 50.046875 50.171875 \r\nQ 54.890625 44.34375 54.890625 33.015625 \r\nz\r\n\" id=\"DejaVuSans-104\"/>\r\n       <path d=\"M 44.28125 53.078125 \r\nL 44.28125 44.578125 \r\nQ 40.484375 46.53125 36.375 47.5 \r\nQ 32.28125 48.484375 27.875 48.484375 \r\nQ 21.1875 48.484375 17.84375 46.4375 \r\nQ 14.5 44.390625 14.5 40.28125 \r\nQ 14.5 37.15625 16.890625 35.375 \r\nQ 19.28125 33.59375 26.515625 31.984375 \r\nL 29.59375 31.296875 \r\nQ 39.15625 29.25 43.1875 25.515625 \r\nQ 47.21875 21.78125 47.21875 15.09375 \r\nQ 47.21875 7.46875 41.1875 3.015625 \r\nQ 35.15625 -1.421875 24.609375 -1.421875 \r\nQ 20.21875 -1.421875 15.453125 -0.5625 \r\nQ 10.6875 0.296875 5.421875 2 \r\nL 5.421875 11.28125 \r\nQ 10.40625 8.6875 15.234375 7.390625 \r\nQ 20.0625 6.109375 24.8125 6.109375 \r\nQ 31.15625 6.109375 34.5625 8.28125 \r\nQ 37.984375 10.453125 37.984375 14.40625 \r\nQ 37.984375 18.0625 35.515625 20.015625 \r\nQ 33.0625 21.96875 24.703125 23.78125 \r\nL 21.578125 24.515625 \r\nQ 13.234375 26.265625 9.515625 29.90625 \r\nQ 5.8125 33.546875 5.8125 39.890625 \r\nQ 5.8125 47.609375 11.28125 51.796875 \r\nQ 16.75 56 26.8125 56 \r\nQ 31.78125 56 36.171875 55.265625 \r\nQ 40.578125 54.546875 44.28125 53.078125 \r\nz\r\n\" id=\"DejaVuSans-115\"/>\r\n      </defs>\r\n      <use xlink:href=\"#DejaVuSans-69\"/>\r\n      <use x=\"63.183594\" xlink:href=\"#DejaVuSans-112\"/>\r\n      <use x=\"126.660156\" xlink:href=\"#DejaVuSans-111\"/>\r\n      <use x=\"187.841797\" xlink:href=\"#DejaVuSans-99\"/>\r\n      <use x=\"242.822266\" xlink:href=\"#DejaVuSans-104\"/>\r\n      <use x=\"306.201172\" xlink:href=\"#DejaVuSans-115\"/>\r\n     </g>\r\n    </g>\r\n   </g>\r\n   <g id=\"matplotlib.axis_2\">\r\n    <g id=\"ytick_1\">\r\n     <g id=\"line2d_6\">\r\n      <defs>\r\n       <path d=\"M 0 0 \r\nL -3.5 0 \r\n\" id=\"mf74a87223a\" style=\"stroke:#000000;stroke-width:0.8;\"/>\r\n      </defs>\r\n      <g>\r\n       <use style=\"stroke:#000000;stroke-width:0.8;\" x=\"43.78125\" xlink:href=\"#mf74a87223a\" y=\"219.107353\"/>\r\n      </g>\r\n     </g>\r\n     <g id=\"text_7\">\r\n      <!-- 0.0 -->\r\n      <g transform=\"translate(20.878125 222.906572)scale(0.1 -0.1)\">\r\n       <defs>\r\n        <path d=\"M 10.6875 12.40625 \r\nL 21 12.40625 \r\nL 21 0 \r\nL 10.6875 0 \r\nz\r\n\" id=\"DejaVuSans-46\"/>\r\n       </defs>\r\n       <use xlink:href=\"#DejaVuSans-48\"/>\r\n       <use x=\"63.623047\" xlink:href=\"#DejaVuSans-46\"/>\r\n       <use x=\"95.410156\" xlink:href=\"#DejaVuSans-48\"/>\r\n      </g>\r\n     </g>\r\n    </g>\r\n    <g id=\"ytick_2\">\r\n     <g id=\"line2d_7\">\r\n      <g>\r\n       <use style=\"stroke:#000000;stroke-width:0.8;\" x=\"43.78125\" xlink:href=\"#mf74a87223a\" y=\"178.664643\"/>\r\n      </g>\r\n     </g>\r\n     <g id=\"text_8\">\r\n      <!-- 0.1 -->\r\n      <g transform=\"translate(20.878125 182.463862)scale(0.1 -0.1)\">\r\n       <defs>\r\n        <path d=\"M 12.40625 8.296875 \r\nL 28.515625 8.296875 \r\nL 28.515625 63.921875 \r\nL 10.984375 60.40625 \r\nL 10.984375 69.390625 \r\nL 28.421875 72.90625 \r\nL 38.28125 72.90625 \r\nL 38.28125 8.296875 \r\nL 54.390625 8.296875 \r\nL 54.390625 0 \r\nL 12.40625 0 \r\nz\r\n\" id=\"DejaVuSans-49\"/>\r\n       </defs>\r\n       <use xlink:href=\"#DejaVuSans-48\"/>\r\n       <use x=\"63.623047\" xlink:href=\"#DejaVuSans-46\"/>\r\n       <use x=\"95.410156\" xlink:href=\"#DejaVuSans-49\"/>\r\n      </g>\r\n     </g>\r\n    </g>\r\n    <g id=\"ytick_3\">\r\n     <g id=\"line2d_8\">\r\n      <g>\r\n       <use style=\"stroke:#000000;stroke-width:0.8;\" x=\"43.78125\" xlink:href=\"#mf74a87223a\" y=\"138.221933\"/>\r\n      </g>\r\n     </g>\r\n     <g id=\"text_9\">\r\n      <!-- 0.2 -->\r\n      <g transform=\"translate(20.878125 142.021152)scale(0.1 -0.1)\">\r\n       <use xlink:href=\"#DejaVuSans-48\"/>\r\n       <use x=\"63.623047\" xlink:href=\"#DejaVuSans-46\"/>\r\n       <use x=\"95.410156\" xlink:href=\"#DejaVuSans-50\"/>\r\n      </g>\r\n     </g>\r\n    </g>\r\n    <g id=\"ytick_4\">\r\n     <g id=\"line2d_9\">\r\n      <g>\r\n       <use style=\"stroke:#000000;stroke-width:0.8;\" x=\"43.78125\" xlink:href=\"#mf74a87223a\" y=\"97.779223\"/>\r\n      </g>\r\n     </g>\r\n     <g id=\"text_10\">\r\n      <!-- 0.3 -->\r\n      <g transform=\"translate(20.878125 101.578441)scale(0.1 -0.1)\">\r\n       <defs>\r\n        <path d=\"M 40.578125 39.3125 \r\nQ 47.65625 37.796875 51.625 33 \r\nQ 55.609375 28.21875 55.609375 21.1875 \r\nQ 55.609375 10.40625 48.1875 4.484375 \r\nQ 40.765625 -1.421875 27.09375 -1.421875 \r\nQ 22.515625 -1.421875 17.65625 -0.515625 \r\nQ 12.796875 0.390625 7.625 2.203125 \r\nL 7.625 11.71875 \r\nQ 11.71875 9.328125 16.59375 8.109375 \r\nQ 21.484375 6.890625 26.8125 6.890625 \r\nQ 36.078125 6.890625 40.9375 10.546875 \r\nQ 45.796875 14.203125 45.796875 21.1875 \r\nQ 45.796875 27.640625 41.28125 31.265625 \r\nQ 36.765625 34.90625 28.71875 34.90625 \r\nL 20.21875 34.90625 \r\nL 20.21875 43.015625 \r\nL 29.109375 43.015625 \r\nQ 36.375 43.015625 40.234375 45.921875 \r\nQ 44.09375 48.828125 44.09375 54.296875 \r\nQ 44.09375 59.90625 40.109375 62.90625 \r\nQ 36.140625 65.921875 28.71875 65.921875 \r\nQ 24.65625 65.921875 20.015625 65.03125 \r\nQ 15.375 64.15625 9.8125 62.3125 \r\nL 9.8125 71.09375 \r\nQ 15.4375 72.65625 20.34375 73.4375 \r\nQ 25.25 74.21875 29.59375 74.21875 \r\nQ 40.828125 74.21875 47.359375 69.109375 \r\nQ 53.90625 64.015625 53.90625 55.328125 \r\nQ 53.90625 49.265625 50.4375 45.09375 \r\nQ 46.96875 40.921875 40.578125 39.3125 \r\nz\r\n\" id=\"DejaVuSans-51\"/>\r\n       </defs>\r\n       <use xlink:href=\"#DejaVuSans-48\"/>\r\n       <use x=\"63.623047\" xlink:href=\"#DejaVuSans-46\"/>\r\n       <use x=\"95.410156\" xlink:href=\"#DejaVuSans-51\"/>\r\n      </g>\r\n     </g>\r\n    </g>\r\n    <g id=\"ytick_5\">\r\n     <g id=\"line2d_10\">\r\n      <g>\r\n       <use style=\"stroke:#000000;stroke-width:0.8;\" x=\"43.78125\" xlink:href=\"#mf74a87223a\" y=\"57.336512\"/>\r\n      </g>\r\n     </g>\r\n     <g id=\"text_11\">\r\n      <!-- 0.4 -->\r\n      <g transform=\"translate(20.878125 61.135731)scale(0.1 -0.1)\">\r\n       <use xlink:href=\"#DejaVuSans-48\"/>\r\n       <use x=\"63.623047\" xlink:href=\"#DejaVuSans-46\"/>\r\n       <use x=\"95.410156\" xlink:href=\"#DejaVuSans-52\"/>\r\n      </g>\r\n     </g>\r\n    </g>\r\n    <g id=\"ytick_6\">\r\n     <g id=\"line2d_11\">\r\n      <g>\r\n       <use style=\"stroke:#000000;stroke-width:0.8;\" x=\"43.78125\" xlink:href=\"#mf74a87223a\" y=\"16.893802\"/>\r\n      </g>\r\n     </g>\r\n     <g id=\"text_12\">\r\n      <!-- 0.5 -->\r\n      <g transform=\"translate(20.878125 20.693021)scale(0.1 -0.1)\">\r\n       <defs>\r\n        <path d=\"M 10.796875 72.90625 \r\nL 49.515625 72.90625 \r\nL 49.515625 64.59375 \r\nL 19.828125 64.59375 \r\nL 19.828125 46.734375 \r\nQ 21.96875 47.46875 24.109375 47.828125 \r\nQ 26.265625 48.1875 28.421875 48.1875 \r\nQ 40.625 48.1875 47.75 41.5 \r\nQ 54.890625 34.8125 54.890625 23.390625 \r\nQ 54.890625 11.625 47.5625 5.09375 \r\nQ 40.234375 -1.421875 26.90625 -1.421875 \r\nQ 22.3125 -1.421875 17.546875 -0.640625 \r\nQ 12.796875 0.140625 7.71875 1.703125 \r\nL 7.71875 11.625 \r\nQ 12.109375 9.234375 16.796875 8.0625 \r\nQ 21.484375 6.890625 26.703125 6.890625 \r\nQ 35.15625 6.890625 40.078125 11.328125 \r\nQ 45.015625 15.765625 45.015625 23.390625 \r\nQ 45.015625 31 40.078125 35.4375 \r\nQ 35.15625 39.890625 26.703125 39.890625 \r\nQ 22.75 39.890625 18.8125 39.015625 \r\nQ 14.890625 38.140625 10.796875 36.28125 \r\nz\r\n\" id=\"DejaVuSans-53\"/>\r\n       </defs>\r\n       <use xlink:href=\"#DejaVuSans-48\"/>\r\n       <use x=\"63.623047\" xlink:href=\"#DejaVuSans-46\"/>\r\n       <use x=\"95.410156\" xlink:href=\"#DejaVuSans-53\"/>\r\n      </g>\r\n     </g>\r\n    </g>\r\n    <g id=\"text_13\">\r\n     <!-- Error -->\r\n     <g transform=\"translate(14.798438 128.105156)rotate(-90)scale(0.1 -0.1)\">\r\n      <defs>\r\n       <path d=\"M 41.109375 46.296875 \r\nQ 39.59375 47.171875 37.8125 47.578125 \r\nQ 36.03125 48 33.890625 48 \r\nQ 26.265625 48 22.1875 43.046875 \r\nQ 18.109375 38.09375 18.109375 28.8125 \r\nL 18.109375 0 \r\nL 9.078125 0 \r\nL 9.078125 54.6875 \r\nL 18.109375 54.6875 \r\nL 18.109375 46.1875 \r\nQ 20.953125 51.171875 25.484375 53.578125 \r\nQ 30.03125 56 36.53125 56 \r\nQ 37.453125 56 38.578125 55.875 \r\nQ 39.703125 55.765625 41.0625 55.515625 \r\nz\r\n\" id=\"DejaVuSans-114\"/>\r\n      </defs>\r\n      <use xlink:href=\"#DejaVuSans-69\"/>\r\n      <use x=\"63.183594\" xlink:href=\"#DejaVuSans-114\"/>\r\n      <use x=\"102.546875\" xlink:href=\"#DejaVuSans-114\"/>\r\n      <use x=\"141.410156\" xlink:href=\"#DejaVuSans-111\"/>\r\n      <use x=\"202.591797\" xlink:href=\"#DejaVuSans-114\"/>\r\n     </g>\r\n    </g>\r\n   </g>\r\n   <g id=\"line2d_12\">\r\n    <path clip-path=\"url(#pbef0256507)\" d=\"M 58.999432 17.083636 \r\nL 92.817614 204.546967 \r\nL 126.635795 209.328773 \r\nL 160.453977 211.289138 \r\nL 194.272159 212.417503 \r\nL 228.090341 213.171452 \r\nL 261.908523 213.719995 \r\nL 295.726705 214.141779 \r\nL 329.544886 214.47895 \r\nL 363.363068 214.756364 \r\n\" style=\"fill:none;stroke:#1f77b4;stroke-linecap:square;stroke-width:1.5;\"/>\r\n   </g>\r\n   <g id=\"patch_3\">\r\n    <path d=\"M 43.78125 224.64 \r\nL 43.78125 7.2 \r\n\" style=\"fill:none;stroke:#000000;stroke-linecap:square;stroke-linejoin:miter;stroke-width:0.8;\"/>\r\n   </g>\r\n   <g id=\"patch_4\">\r\n    <path d=\"M 378.58125 224.64 \r\nL 378.58125 7.2 \r\n\" style=\"fill:none;stroke:#000000;stroke-linecap:square;stroke-linejoin:miter;stroke-width:0.8;\"/>\r\n   </g>\r\n   <g id=\"patch_5\">\r\n    <path d=\"M 43.78125 224.64 \r\nL 378.58125 224.64 \r\n\" style=\"fill:none;stroke:#000000;stroke-linecap:square;stroke-linejoin:miter;stroke-width:0.8;\"/>\r\n   </g>\r\n   <g id=\"patch_6\">\r\n    <path d=\"M 43.78125 7.2 \r\nL 378.58125 7.2 \r\n\" style=\"fill:none;stroke:#000000;stroke-linecap:square;stroke-linejoin:miter;stroke-width:0.8;\"/>\r\n   </g>\r\n  </g>\r\n </g>\r\n <defs>\r\n  <clipPath id=\"pbef0256507\">\r\n   <rect height=\"217.44\" width=\"334.8\" x=\"43.78125\" y=\"7.2\"/>\r\n  </clipPath>\r\n </defs>\r\n</svg>\r\n",
      "image/png": "[encoded data removed]"
     },
     "metadata": {
      "needs_background": "light"
     }
    }
   ],
   "source": [
    "import matplotlib.pyplot as plt\n",
    "plt.xlabel('Epochs')\n",
    "plt.ylabel('Error')\n",
    "plt.plot(error)"
   ]
  },
  {
   "cell_type": "code",
   "execution_count": 27,
   "metadata": {},
   "outputs": [],
   "source": [
    "def calculate_output(instance):\n",
    "  hidden_layer = sigmoid(np.dot(instance, weights0))\n",
    "  output_layer = sigmoid(np.dot(hidden_layer, weights1))\n",
    "  return output_layer[0]"
   ]
  },
  {
   "cell_type": "code",
   "execution_count": 28,
   "metadata": {},
   "outputs": [
    {
     "output_type": "execute_result",
     "data": {
      "text/plain": [
       "(array([5.1, 3.5, 1.4, 0.2]), array([0]))"
      ]
     },
     "metadata": {},
     "execution_count": 28
    }
   ],
   "source": [
    "inputs[0], outputs[0]"
   ]
  },
  {
   "cell_type": "code",
   "execution_count": 29,
   "metadata": {},
   "outputs": [
    {
     "output_type": "execute_result",
     "data": {
      "text/plain": [
       "0"
      ]
     },
     "metadata": {},
     "execution_count": 29
    }
   ],
   "source": [
    "round(calculate_output(inputs[0]))"
   ]
  },
  {
   "cell_type": "code",
   "execution_count": 30,
   "metadata": {},
   "outputs": [
    {
     "output_type": "execute_result",
     "data": {
      "text/plain": [
       "array(['setosa', 'versicolor', 'virginica'], dtype='<U10')"
      ]
     },
     "metadata": {},
     "execution_count": 30
    }
   ],
   "source": [
    "iris.target_names"
   ]
  },
  {
   "cell_type": "code",
   "execution_count": 31,
   "metadata": {},
   "outputs": [
    {
     "output_type": "execute_result",
     "data": {
      "text/plain": [
       "'setosa'"
      ]
     },
     "metadata": {},
     "execution_count": 31
    }
   ],
   "source": [
    "iris.target_names[int(round(calculate_output(inputs[0])))]"
   ]
  },
  {
   "cell_type": "code",
   "execution_count": 32,
   "metadata": {},
   "outputs": [
    {
     "output_type": "execute_result",
     "data": {
      "text/plain": [
       "(array([5.7, 2.8, 4.1, 1.3]), array([1]))"
      ]
     },
     "metadata": {},
     "execution_count": 32
    }
   ],
   "source": [
    "inputs[99], outputs[99]"
   ]
  },
  {
   "cell_type": "code",
   "execution_count": 33,
   "metadata": {},
   "outputs": [
    {
     "output_type": "execute_result",
     "data": {
      "text/plain": [
       "'versicolor'"
      ]
     },
     "metadata": {},
     "execution_count": 33
    }
   ],
   "source": [
    "iris.target_names[int(round(calculate_output(inputs[99])))]"
   ]
  },
  {
   "cell_type": "code",
   "execution_count": 44,
   "metadata": {},
   "outputs": [
    {
     "output_type": "execute_result",
     "data": {
      "text/plain": [
       "     sepal length (cm)  sepal width (cm)  petal length (cm)  petal width (cm)\n",
       "0                  5.1               3.5                1.4               0.2\n",
       "1                  4.9               3.0                1.4               0.2\n",
       "2                  4.7               3.2                1.3               0.2\n",
       "3                  4.6               3.1                1.5               0.2\n",
       "4                  5.0               3.6                1.4               0.2\n",
       "..                 ...               ...                ...               ...\n",
       "145                6.7               3.0                5.2               2.3\n",
       "146                6.3               2.5                5.0               1.9\n",
       "147                6.5               3.0                5.2               2.0\n",
       "148                6.2               3.4                5.4               2.3\n",
       "149                5.9               3.0                5.1               1.8\n",
       "\n",
       "[150 rows x 4 columns]"
      ],
      "text/html": "<div>\n<style scoped>\n    .dataframe tbody tr th:only-of-type {\n        vertical-align: middle;\n    }\n\n    .dataframe tbody tr th {\n        vertical-align: top;\n    }\n\n    .dataframe thead th {\n        text-align: right;\n    }\n</style>\n<table border=\"1\" class=\"dataframe\">\n  <thead>\n    <tr style=\"text-align: right;\">\n      <th></th>\n      <th>sepal length (cm)</th>\n      <th>sepal width (cm)</th>\n      <th>petal length (cm)</th>\n      <th>petal width (cm)</th>\n    </tr>\n  </thead>\n  <tbody>\n    <tr>\n      <th>0</th>\n      <td>5.1</td>\n      <td>3.5</td>\n      <td>1.4</td>\n      <td>0.2</td>\n    </tr>\n    <tr>\n      <th>1</th>\n      <td>4.9</td>\n      <td>3.0</td>\n      <td>1.4</td>\n      <td>0.2</td>\n    </tr>\n    <tr>\n      <th>2</th>\n      <td>4.7</td>\n      <td>3.2</td>\n      <td>1.3</td>\n      <td>0.2</td>\n    </tr>\n    <tr>\n      <th>3</th>\n      <td>4.6</td>\n      <td>3.1</td>\n      <td>1.5</td>\n      <td>0.2</td>\n    </tr>\n    <tr>\n      <th>4</th>\n      <td>5.0</td>\n      <td>3.6</td>\n      <td>1.4</td>\n      <td>0.2</td>\n    </tr>\n    <tr>\n      <th>...</th>\n      <td>...</td>\n      <td>...</td>\n      <td>...</td>\n      <td>...</td>\n    </tr>\n    <tr>\n      <th>145</th>\n      <td>6.7</td>\n      <td>3.0</td>\n      <td>5.2</td>\n      <td>2.3</td>\n    </tr>\n    <tr>\n      <th>146</th>\n      <td>6.3</td>\n      <td>2.5</td>\n      <td>5.0</td>\n      <td>1.9</td>\n    </tr>\n    <tr>\n      <th>147</th>\n      <td>6.5</td>\n      <td>3.0</td>\n      <td>5.2</td>\n      <td>2.0</td>\n    </tr>\n    <tr>\n      <th>148</th>\n      <td>6.2</td>\n      <td>3.4</td>\n      <td>5.4</td>\n      <td>2.3</td>\n    </tr>\n    <tr>\n      <th>149</th>\n      <td>5.9</td>\n      <td>3.0</td>\n      <td>5.1</td>\n      <td>1.8</td>\n    </tr>\n  </tbody>\n</table>\n<p>150 rows × 4 columns</p>\n</div>"
     },
     "metadata": {},
     "execution_count": 44
    }
   ],
   "source": [
    "# Graph\n",
    "import pandas as pd\n",
    "\n",
    "df1 = pd.DataFrame(data=iris.data, columns=iris.feature_names)\n",
    "df1"
   ]
  },
  {
   "cell_type": "code",
   "execution_count": 46,
   "metadata": {},
   "outputs": [
    {
     "output_type": "execute_result",
     "data": {
      "text/plain": [
       "     class\n",
       "0        0\n",
       "1        0\n",
       "2        0\n",
       "3        0\n",
       "4        0\n",
       "..     ...\n",
       "145      2\n",
       "146      2\n",
       "147      2\n",
       "148      2\n",
       "149      2\n",
       "\n",
       "[150 rows x 1 columns]"
      ],
      "text/html": "<div>\n<style scoped>\n    .dataframe tbody tr th:only-of-type {\n        vertical-align: middle;\n    }\n\n    .dataframe tbody tr th {\n        vertical-align: top;\n    }\n\n    .dataframe thead th {\n        text-align: right;\n    }\n</style>\n<table border=\"1\" class=\"dataframe\">\n  <thead>\n    <tr style=\"text-align: right;\">\n      <th></th>\n      <th>class</th>\n    </tr>\n  </thead>\n  <tbody>\n    <tr>\n      <th>0</th>\n      <td>0</td>\n    </tr>\n    <tr>\n      <th>1</th>\n      <td>0</td>\n    </tr>\n    <tr>\n      <th>2</th>\n      <td>0</td>\n    </tr>\n    <tr>\n      <th>3</th>\n      <td>0</td>\n    </tr>\n    <tr>\n      <th>4</th>\n      <td>0</td>\n    </tr>\n    <tr>\n      <th>...</th>\n      <td>...</td>\n    </tr>\n    <tr>\n      <th>145</th>\n      <td>2</td>\n    </tr>\n    <tr>\n      <th>146</th>\n      <td>2</td>\n    </tr>\n    <tr>\n      <th>147</th>\n      <td>2</td>\n    </tr>\n    <tr>\n      <th>148</th>\n      <td>2</td>\n    </tr>\n    <tr>\n      <th>149</th>\n      <td>2</td>\n    </tr>\n  </tbody>\n</table>\n<p>150 rows × 1 columns</p>\n</div>"
     },
     "metadata": {},
     "execution_count": 46
    }
   ],
   "source": [
    "df2 = pd.DataFrame(data=iris.target, columns=[\"class\"])\n",
    "df2"
   ]
  },
  {
   "cell_type": "code",
   "execution_count": 47,
   "metadata": {},
   "outputs": [
    {
     "output_type": "execute_result",
     "data": {
      "text/plain": [
       "array(['setosa', 'versicolor', 'virginica'], dtype='<U10')"
      ]
     },
     "metadata": {},
     "execution_count": 47
    }
   ],
   "source": [
    "iris.target_names"
   ]
  },
  {
   "cell_type": "code",
   "execution_count": 49,
   "metadata": {},
   "outputs": [
    {
     "output_type": "execute_result",
     "data": {
      "text/plain": [
       "     sepal length (cm)  sepal width (cm)  petal length (cm)  petal width (cm)  \\\n",
       "0                  5.1               3.5                1.4               0.2   \n",
       "1                  4.9               3.0                1.4               0.2   \n",
       "2                  4.7               3.2                1.3               0.2   \n",
       "3                  4.6               3.1                1.5               0.2   \n",
       "4                  5.0               3.6                1.4               0.2   \n",
       "..                 ...               ...                ...               ...   \n",
       "145                6.7               3.0                5.2               2.3   \n",
       "146                6.3               2.5                5.0               1.9   \n",
       "147                6.5               3.0                5.2               2.0   \n",
       "148                6.2               3.4                5.4               2.3   \n",
       "149                5.9               3.0                5.1               1.8   \n",
       "\n",
       "     class  \n",
       "0        0  \n",
       "1        0  \n",
       "2        0  \n",
       "3        0  \n",
       "4        0  \n",
       "..     ...  \n",
       "145      2  \n",
       "146      2  \n",
       "147      2  \n",
       "148      2  \n",
       "149      2  \n",
       "\n",
       "[150 rows x 5 columns]"
      ],
      "text/html": "<div>\n<style scoped>\n    .dataframe tbody tr th:only-of-type {\n        vertical-align: middle;\n    }\n\n    .dataframe tbody tr th {\n        vertical-align: top;\n    }\n\n    .dataframe thead th {\n        text-align: right;\n    }\n</style>\n<table border=\"1\" class=\"dataframe\">\n  <thead>\n    <tr style=\"text-align: right;\">\n      <th></th>\n      <th>sepal length (cm)</th>\n      <th>sepal width (cm)</th>\n      <th>petal length (cm)</th>\n      <th>petal width (cm)</th>\n      <th>class</th>\n    </tr>\n  </thead>\n  <tbody>\n    <tr>\n      <th>0</th>\n      <td>5.1</td>\n      <td>3.5</td>\n      <td>1.4</td>\n      <td>0.2</td>\n      <td>0</td>\n    </tr>\n    <tr>\n      <th>1</th>\n      <td>4.9</td>\n      <td>3.0</td>\n      <td>1.4</td>\n      <td>0.2</td>\n      <td>0</td>\n    </tr>\n    <tr>\n      <th>2</th>\n      <td>4.7</td>\n      <td>3.2</td>\n      <td>1.3</td>\n      <td>0.2</td>\n      <td>0</td>\n    </tr>\n    <tr>\n      <th>3</th>\n      <td>4.6</td>\n      <td>3.1</td>\n      <td>1.5</td>\n      <td>0.2</td>\n      <td>0</td>\n    </tr>\n    <tr>\n      <th>4</th>\n      <td>5.0</td>\n      <td>3.6</td>\n      <td>1.4</td>\n      <td>0.2</td>\n      <td>0</td>\n    </tr>\n    <tr>\n      <th>...</th>\n      <td>...</td>\n      <td>...</td>\n      <td>...</td>\n      <td>...</td>\n      <td>...</td>\n    </tr>\n    <tr>\n      <th>145</th>\n      <td>6.7</td>\n      <td>3.0</td>\n      <td>5.2</td>\n      <td>2.3</td>\n      <td>2</td>\n    </tr>\n    <tr>\n      <th>146</th>\n      <td>6.3</td>\n      <td>2.5</td>\n      <td>5.0</td>\n      <td>1.9</td>\n      <td>2</td>\n    </tr>\n    <tr>\n      <th>147</th>\n      <td>6.5</td>\n      <td>3.0</td>\n      <td>5.2</td>\n      <td>2.0</td>\n      <td>2</td>\n    </tr>\n    <tr>\n      <th>148</th>\n      <td>6.2</td>\n      <td>3.4</td>\n      <td>5.4</td>\n      <td>2.3</td>\n      <td>2</td>\n    </tr>\n    <tr>\n      <th>149</th>\n      <td>5.9</td>\n      <td>3.0</td>\n      <td>5.1</td>\n      <td>1.8</td>\n      <td>2</td>\n    </tr>\n  </tbody>\n</table>\n<p>150 rows × 5 columns</p>\n</div>"
     },
     "metadata": {},
     "execution_count": 49
    }
   ],
   "source": [
    "df3 = pd.concat([df1, df2], axis=1)\n",
    "df3"
   ]
  },
  {
   "cell_type": "code",
   "execution_count": 51,
   "metadata": {},
   "outputs": [
    {
     "output_type": "execute_result",
     "data": {
      "text/plain": [
       "<seaborn.axisgrid.FacetGrid at 0x2b0dbeb0>"
      ]
     },
     "metadata": {},
     "execution_count": 51
    },
    {
     "output_type": "display_data",
     "data": {
      "text/plain": "<Figure size 402.375x360 with 1 Axes>",
      "image/svg+xml": "<?xml version=\"1.0\" encoding=\"utf-8\" standalone=\"no\"?>\r\n<!DOCTYPE svg PUBLIC \"-//W3C//DTD SVG 1.1//EN\"\r\n  \"http://www.w3.org/Graphics/SVG/1.1/DTD/svg11.dtd\">\r\n<!-- Created with matplotlib (https://matplotlib.org/) -->\r\n<svg height=\"366.15625pt\" version=\"1.1\" viewBox=\"0 0 411.795026 366.15625\" width=\"411.795026pt\" xmlns=\"http://www.w3.org/2000/svg\" xmlns:xlink=\"http://www.w3.org/1999/xlink\">\r\n <metadata>\r\n  <rdf:RDF xmlns:cc=\"http://creativecommons.org/ns#\" xmlns:dc=\"http://purl.org/dc/elements/1.1/\" xmlns:rdf=\"http://www.w3.org/1999/02/22-rdf-syntax-ns#\">\r\n   <cc:Work>\r\n    <dc:type rdf:resource=\"http://purl.org/dc/dcmitype/StillImage\"/>\r\n    <dc:date>2020-11-15T18:38:54.682265</dc:date>\r\n    <dc:format>image/svg+xml</dc:format>\r\n    <dc:creator>\r\n     <cc:Agent>\r\n      <dc:title>Matplotlib v3.3.3, https://matplotlib.org/</dc:title>\r\n     </cc:Agent>\r\n    </dc:creator>\r\n   </cc:Work>\r\n  </rdf:RDF>\r\n </metadata>\r\n <defs>\r\n  <style type=\"text/css\">*{stroke-linecap:butt;stroke-linejoin:round;}</style>\r\n </defs>\r\n <g id=\"figure_1\">\r\n  <g id=\"patch_1\">\r\n   <path d=\"M 0 366.15625 \r\nL 411.795026 366.15625 \r\nL 411.795026 0 \r\nL 0 0 \r\nz\r\n\" style=\"fill:none;\"/>\r\n  </g>\r\n  <g id=\"axes_1\">\r\n   <g id=\"patch_2\">\r\n    <path d=\"M 34.240625 328.6 \r\nL 363.196276 328.6 \r\nL 363.196276 7.2 \r\nL 34.240625 7.2 \r\nz\r\n\" style=\"fill:#ffffff;\"/>\r\n   </g>\r\n   <g id=\"PathCollection_1\">\r\n    <defs>\r\n     <path d=\"M 0 3 \r\nC 0.795609 3 1.55874 2.683901 2.12132 2.12132 \r\nC 2.683901 1.55874 3 0.795609 3 -0 \r\nC 3 -0.795609 2.683901 -1.55874 2.12132 -2.12132 \r\nC 1.55874 -2.683901 0.795609 -3 0 -3 \r\nC -0.795609 -3 -1.55874 -2.683901 -2.12132 -2.12132 \r\nC -2.683901 -1.55874 -3 -0.795609 -3 0 \r\nC -3 0.795609 -2.683901 1.55874 -2.12132 2.12132 \r\nC -1.55874 2.683901 -0.795609 3 0 3 \r\nz\r\n\" id=\"C0_0_09853bf825\"/>\r\n    </defs>\r\n    <g clip-path=\"url(#p1e4b6a9588)\">\r\n     <use style=\"fill:#edd1cb;stroke:#ffffff;stroke-width:0.48;\" x=\"115.648842\" xlink:href=\"#C0_0_09853bf825\" y=\"294.181972\"/>\r\n    </g>\r\n    <g clip-path=\"url(#p1e4b6a9588)\">\r\n     <use style=\"fill:#edd1cb;stroke:#ffffff;stroke-width:0.48;\" x=\"99.03492\" xlink:href=\"#C0_0_09853bf825\" y=\"294.181972\"/>\r\n    </g>\r\n    <g clip-path=\"url(#p1e4b6a9588)\">\r\n     <use style=\"fill:#edd1cb;stroke:#ffffff;stroke-width:0.48;\" x=\"82.420998\" xlink:href=\"#C0_0_09853bf825\" y=\"299.134206\"/>\r\n    </g>\r\n    <g clip-path=\"url(#p1e4b6a9588)\">\r\n     <use style=\"fill:#edd1cb;stroke:#ffffff;stroke-width:0.48;\" x=\"74.114037\" xlink:href=\"#C0_0_09853bf825\" y=\"289.229738\"/>\r\n    </g>\r\n    <g clip-path=\"url(#p1e4b6a9588)\">\r\n     <use style=\"fill:#edd1cb;stroke:#ffffff;stroke-width:0.48;\" x=\"107.341881\" xlink:href=\"#C0_0_09853bf825\" y=\"294.181972\"/>\r\n    </g>\r\n    <g clip-path=\"url(#p1e4b6a9588)\">\r\n     <use style=\"fill:#edd1cb;stroke:#ffffff;stroke-width:0.48;\" x=\"140.569724\" xlink:href=\"#C0_0_09853bf825\" y=\"279.32527\"/>\r\n    </g>\r\n    <g clip-path=\"url(#p1e4b6a9588)\">\r\n     <use style=\"fill:#edd1cb;stroke:#ffffff;stroke-width:0.48;\" x=\"74.114037\" xlink:href=\"#C0_0_09853bf825\" y=\"294.181972\"/>\r\n    </g>\r\n    <g clip-path=\"url(#p1e4b6a9588)\">\r\n     <use style=\"fill:#edd1cb;stroke:#ffffff;stroke-width:0.48;\" x=\"107.341881\" xlink:href=\"#C0_0_09853bf825\" y=\"289.229738\"/>\r\n    </g>\r\n    <g clip-path=\"url(#p1e4b6a9588)\">\r\n     <use style=\"fill:#edd1cb;stroke:#ffffff;stroke-width:0.48;\" x=\"57.500115\" xlink:href=\"#C0_0_09853bf825\" y=\"294.181972\"/>\r\n    </g>\r\n    <g clip-path=\"url(#p1e4b6a9588)\">\r\n     <use style=\"fill:#edd1cb;stroke:#ffffff;stroke-width:0.48;\" x=\"99.03492\" xlink:href=\"#C0_0_09853bf825\" y=\"289.229738\"/>\r\n    </g>\r\n    <g clip-path=\"url(#p1e4b6a9588)\">\r\n     <use style=\"fill:#edd1cb;stroke:#ffffff;stroke-width:0.48;\" x=\"140.569724\" xlink:href=\"#C0_0_09853bf825\" y=\"289.229738\"/>\r\n    </g>\r\n    <g clip-path=\"url(#p1e4b6a9588)\">\r\n     <use style=\"fill:#edd1cb;stroke:#ffffff;stroke-width:0.48;\" x=\"90.727959\" xlink:href=\"#C0_0_09853bf825\" y=\"284.277504\"/>\r\n    </g>\r\n    <g clip-path=\"url(#p1e4b6a9588)\">\r\n     <use style=\"fill:#edd1cb;stroke:#ffffff;stroke-width:0.48;\" x=\"90.727959\" xlink:href=\"#C0_0_09853bf825\" y=\"294.181972\"/>\r\n    </g>\r\n    <g clip-path=\"url(#p1e4b6a9588)\">\r\n     <use style=\"fill:#edd1cb;stroke:#ffffff;stroke-width:0.48;\" x=\"49.193155\" xlink:href=\"#C0_0_09853bf825\" y=\"309.038675\"/>\r\n    </g>\r\n    <g clip-path=\"url(#p1e4b6a9588)\">\r\n     <use style=\"fill:#edd1cb;stroke:#ffffff;stroke-width:0.48;\" x=\"173.797568\" xlink:href=\"#C0_0_09853bf825\" y=\"304.086441\"/>\r\n    </g>\r\n    <g clip-path=\"url(#p1e4b6a9588)\">\r\n     <use style=\"fill:#edd1cb;stroke:#ffffff;stroke-width:0.48;\" x=\"165.490607\" xlink:href=\"#C0_0_09853bf825\" y=\"289.229738\"/>\r\n    </g>\r\n    <g clip-path=\"url(#p1e4b6a9588)\">\r\n     <use style=\"fill:#edd1cb;stroke:#ffffff;stroke-width:0.48;\" x=\"140.569724\" xlink:href=\"#C0_0_09853bf825\" y=\"299.134206\"/>\r\n    </g>\r\n    <g clip-path=\"url(#p1e4b6a9588)\">\r\n     <use style=\"fill:#edd1cb;stroke:#ffffff;stroke-width:0.48;\" x=\"115.648842\" xlink:href=\"#C0_0_09853bf825\" y=\"294.181972\"/>\r\n    </g>\r\n    <g clip-path=\"url(#p1e4b6a9588)\">\r\n     <use style=\"fill:#edd1cb;stroke:#ffffff;stroke-width:0.48;\" x=\"165.490607\" xlink:href=\"#C0_0_09853bf825\" y=\"279.32527\"/>\r\n    </g>\r\n    <g clip-path=\"url(#p1e4b6a9588)\">\r\n     <use style=\"fill:#edd1cb;stroke:#ffffff;stroke-width:0.48;\" x=\"115.648842\" xlink:href=\"#C0_0_09853bf825\" y=\"289.229738\"/>\r\n    </g>\r\n    <g clip-path=\"url(#p1e4b6a9588)\">\r\n     <use style=\"fill:#edd1cb;stroke:#ffffff;stroke-width:0.48;\" x=\"140.569724\" xlink:href=\"#C0_0_09853bf825\" y=\"279.32527\"/>\r\n    </g>\r\n    <g clip-path=\"url(#p1e4b6a9588)\">\r\n     <use style=\"fill:#edd1cb;stroke:#ffffff;stroke-width:0.48;\" x=\"115.648842\" xlink:href=\"#C0_0_09853bf825\" y=\"289.229738\"/>\r\n    </g>\r\n    <g clip-path=\"url(#p1e4b6a9588)\">\r\n     <use style=\"fill:#edd1cb;stroke:#ffffff;stroke-width:0.48;\" x=\"74.114037\" xlink:href=\"#C0_0_09853bf825\" y=\"313.990909\"/>\r\n    </g>\r\n    <g clip-path=\"url(#p1e4b6a9588)\">\r\n     <use style=\"fill:#edd1cb;stroke:#ffffff;stroke-width:0.48;\" x=\"115.648842\" xlink:href=\"#C0_0_09853bf825\" y=\"279.32527\"/>\r\n    </g>\r\n    <g clip-path=\"url(#p1e4b6a9588)\">\r\n     <use style=\"fill:#edd1cb;stroke:#ffffff;stroke-width:0.48;\" x=\"90.727959\" xlink:href=\"#C0_0_09853bf825\" y=\"269.420801\"/>\r\n    </g>\r\n    <g clip-path=\"url(#p1e4b6a9588)\">\r\n     <use style=\"fill:#edd1cb;stroke:#ffffff;stroke-width:0.48;\" x=\"107.341881\" xlink:href=\"#C0_0_09853bf825\" y=\"284.277504\"/>\r\n    </g>\r\n    <g clip-path=\"url(#p1e4b6a9588)\">\r\n     <use style=\"fill:#edd1cb;stroke:#ffffff;stroke-width:0.48;\" x=\"107.341881\" xlink:href=\"#C0_0_09853bf825\" y=\"284.277504\"/>\r\n    </g>\r\n    <g clip-path=\"url(#p1e4b6a9588)\">\r\n     <use style=\"fill:#edd1cb;stroke:#ffffff;stroke-width:0.48;\" x=\"123.955803\" xlink:href=\"#C0_0_09853bf825\" y=\"289.229738\"/>\r\n    </g>\r\n    <g clip-path=\"url(#p1e4b6a9588)\">\r\n     <use style=\"fill:#edd1cb;stroke:#ffffff;stroke-width:0.48;\" x=\"123.955803\" xlink:href=\"#C0_0_09853bf825\" y=\"294.181972\"/>\r\n    </g>\r\n    <g clip-path=\"url(#p1e4b6a9588)\">\r\n     <use style=\"fill:#edd1cb;stroke:#ffffff;stroke-width:0.48;\" x=\"82.420998\" xlink:href=\"#C0_0_09853bf825\" y=\"284.277504\"/>\r\n    </g>\r\n    <g clip-path=\"url(#p1e4b6a9588)\">\r\n     <use style=\"fill:#edd1cb;stroke:#ffffff;stroke-width:0.48;\" x=\"90.727959\" xlink:href=\"#C0_0_09853bf825\" y=\"284.277504\"/>\r\n    </g>\r\n    <g clip-path=\"url(#p1e4b6a9588)\">\r\n     <use style=\"fill:#edd1cb;stroke:#ffffff;stroke-width:0.48;\" x=\"140.569724\" xlink:href=\"#C0_0_09853bf825\" y=\"289.229738\"/>\r\n    </g>\r\n    <g clip-path=\"url(#p1e4b6a9588)\">\r\n     <use style=\"fill:#edd1cb;stroke:#ffffff;stroke-width:0.48;\" x=\"123.955803\" xlink:href=\"#C0_0_09853bf825\" y=\"289.229738\"/>\r\n    </g>\r\n    <g clip-path=\"url(#p1e4b6a9588)\">\r\n     <use style=\"fill:#edd1cb;stroke:#ffffff;stroke-width:0.48;\" x=\"148.876685\" xlink:href=\"#C0_0_09853bf825\" y=\"294.181972\"/>\r\n    </g>\r\n    <g clip-path=\"url(#p1e4b6a9588)\">\r\n     <use style=\"fill:#edd1cb;stroke:#ffffff;stroke-width:0.48;\" x=\"99.03492\" xlink:href=\"#C0_0_09853bf825\" y=\"289.229738\"/>\r\n    </g>\r\n    <g clip-path=\"url(#p1e4b6a9588)\">\r\n     <use style=\"fill:#edd1cb;stroke:#ffffff;stroke-width:0.48;\" x=\"107.341881\" xlink:href=\"#C0_0_09853bf825\" y=\"304.086441\"/>\r\n    </g>\r\n    <g clip-path=\"url(#p1e4b6a9588)\">\r\n     <use style=\"fill:#edd1cb;stroke:#ffffff;stroke-width:0.48;\" x=\"148.876685\" xlink:href=\"#C0_0_09853bf825\" y=\"299.134206\"/>\r\n    </g>\r\n    <g clip-path=\"url(#p1e4b6a9588)\">\r\n     <use style=\"fill:#edd1cb;stroke:#ffffff;stroke-width:0.48;\" x=\"99.03492\" xlink:href=\"#C0_0_09853bf825\" y=\"294.181972\"/>\r\n    </g>\r\n    <g clip-path=\"url(#p1e4b6a9588)\">\r\n     <use style=\"fill:#edd1cb;stroke:#ffffff;stroke-width:0.48;\" x=\"57.500115\" xlink:href=\"#C0_0_09853bf825\" y=\"299.134206\"/>\r\n    </g>\r\n    <g clip-path=\"url(#p1e4b6a9588)\">\r\n     <use style=\"fill:#edd1cb;stroke:#ffffff;stroke-width:0.48;\" x=\"115.648842\" xlink:href=\"#C0_0_09853bf825\" y=\"289.229738\"/>\r\n    </g>\r\n    <g clip-path=\"url(#p1e4b6a9588)\">\r\n     <use style=\"fill:#edd1cb;stroke:#ffffff;stroke-width:0.48;\" x=\"107.341881\" xlink:href=\"#C0_0_09853bf825\" y=\"299.134206\"/>\r\n    </g>\r\n    <g clip-path=\"url(#p1e4b6a9588)\">\r\n     <use style=\"fill:#edd1cb;stroke:#ffffff;stroke-width:0.48;\" x=\"65.807076\" xlink:href=\"#C0_0_09853bf825\" y=\"299.134206\"/>\r\n    </g>\r\n    <g clip-path=\"url(#p1e4b6a9588)\">\r\n     <use style=\"fill:#edd1cb;stroke:#ffffff;stroke-width:0.48;\" x=\"57.500115\" xlink:href=\"#C0_0_09853bf825\" y=\"299.134206\"/>\r\n    </g>\r\n    <g clip-path=\"url(#p1e4b6a9588)\">\r\n     <use style=\"fill:#edd1cb;stroke:#ffffff;stroke-width:0.48;\" x=\"107.341881\" xlink:href=\"#C0_0_09853bf825\" y=\"284.277504\"/>\r\n    </g>\r\n    <g clip-path=\"url(#p1e4b6a9588)\">\r\n     <use style=\"fill:#edd1cb;stroke:#ffffff;stroke-width:0.48;\" x=\"115.648842\" xlink:href=\"#C0_0_09853bf825\" y=\"269.420801\"/>\r\n    </g>\r\n    <g clip-path=\"url(#p1e4b6a9588)\">\r\n     <use style=\"fill:#edd1cb;stroke:#ffffff;stroke-width:0.48;\" x=\"90.727959\" xlink:href=\"#C0_0_09853bf825\" y=\"294.181972\"/>\r\n    </g>\r\n    <g clip-path=\"url(#p1e4b6a9588)\">\r\n     <use style=\"fill:#edd1cb;stroke:#ffffff;stroke-width:0.48;\" x=\"115.648842\" xlink:href=\"#C0_0_09853bf825\" y=\"284.277504\"/>\r\n    </g>\r\n    <g clip-path=\"url(#p1e4b6a9588)\">\r\n     <use style=\"fill:#edd1cb;stroke:#ffffff;stroke-width:0.48;\" x=\"74.114037\" xlink:href=\"#C0_0_09853bf825\" y=\"294.181972\"/>\r\n    </g>\r\n    <g clip-path=\"url(#p1e4b6a9588)\">\r\n     <use style=\"fill:#edd1cb;stroke:#ffffff;stroke-width:0.48;\" x=\"132.262763\" xlink:href=\"#C0_0_09853bf825\" y=\"289.229738\"/>\r\n    </g>\r\n    <g clip-path=\"url(#p1e4b6a9588)\">\r\n     <use style=\"fill:#edd1cb;stroke:#ffffff;stroke-width:0.48;\" x=\"107.341881\" xlink:href=\"#C0_0_09853bf825\" y=\"294.181972\"/>\r\n    </g>\r\n    <g clip-path=\"url(#p1e4b6a9588)\">\r\n     <use style=\"fill:#a9678f;stroke:#ffffff;stroke-width:0.48;\" x=\"273.481098\" xlink:href=\"#C0_0_09853bf825\" y=\"130.758243\"/>\r\n    </g>\r\n    <g clip-path=\"url(#p1e4b6a9588)\">\r\n     <use style=\"fill:#a9678f;stroke:#ffffff;stroke-width:0.48;\" x=\"223.639333\" xlink:href=\"#C0_0_09853bf825\" y=\"140.662712\"/>\r\n    </g>\r\n    <g clip-path=\"url(#p1e4b6a9588)\">\r\n     <use style=\"fill:#a9678f;stroke:#ffffff;stroke-width:0.48;\" x=\"265.174138\" xlink:href=\"#C0_0_09853bf825\" y=\"120.853775\"/>\r\n    </g>\r\n    <g clip-path=\"url(#p1e4b6a9588)\">\r\n     <use style=\"fill:#a9678f;stroke:#ffffff;stroke-width:0.48;\" x=\"148.876685\" xlink:href=\"#C0_0_09853bf825\" y=\"165.423883\"/>\r\n    </g>\r\n    <g clip-path=\"url(#p1e4b6a9588)\">\r\n     <use style=\"fill:#a9678f;stroke:#ffffff;stroke-width:0.48;\" x=\"231.946294\" xlink:href=\"#C0_0_09853bf825\" y=\"135.710478\"/>\r\n    </g>\r\n    <g clip-path=\"url(#p1e4b6a9588)\">\r\n     <use style=\"fill:#a9678f;stroke:#ffffff;stroke-width:0.48;\" x=\"165.490607\" xlink:href=\"#C0_0_09853bf825\" y=\"140.662712\"/>\r\n    </g>\r\n    <g clip-path=\"url(#p1e4b6a9588)\">\r\n     <use style=\"fill:#a9678f;stroke:#ffffff;stroke-width:0.48;\" x=\"215.332372\" xlink:href=\"#C0_0_09853bf825\" y=\"130.758243\"/>\r\n    </g>\r\n    <g clip-path=\"url(#p1e4b6a9588)\">\r\n     <use style=\"fill:#a9678f;stroke:#ffffff;stroke-width:0.48;\" x=\"99.03492\" xlink:href=\"#C0_0_09853bf825\" y=\"200.089522\"/>\r\n    </g>\r\n    <g clip-path=\"url(#p1e4b6a9588)\">\r\n     <use style=\"fill:#a9678f;stroke:#ffffff;stroke-width:0.48;\" x=\"240.253255\" xlink:href=\"#C0_0_09853bf825\" y=\"135.710478\"/>\r\n    </g>\r\n    <g clip-path=\"url(#p1e4b6a9588)\">\r\n     <use style=\"fill:#a9678f;stroke:#ffffff;stroke-width:0.48;\" x=\"123.955803\" xlink:href=\"#C0_0_09853bf825\" y=\"170.376117\"/>\r\n    </g>\r\n    <g clip-path=\"url(#p1e4b6a9588)\">\r\n     <use style=\"fill:#a9678f;stroke:#ffffff;stroke-width:0.48;\" x=\"107.341881\" xlink:href=\"#C0_0_09853bf825\" y=\"190.185054\"/>\r\n    </g>\r\n    <g clip-path=\"url(#p1e4b6a9588)\">\r\n     <use style=\"fill:#a9678f;stroke:#ffffff;stroke-width:0.48;\" x=\"182.104529\" xlink:href=\"#C0_0_09853bf825\" y=\"155.519414\"/>\r\n    </g>\r\n    <g clip-path=\"url(#p1e4b6a9588)\">\r\n     <use style=\"fill:#a9678f;stroke:#ffffff;stroke-width:0.48;\" x=\"190.41149\" xlink:href=\"#C0_0_09853bf825\" y=\"165.423883\"/>\r\n    </g>\r\n    <g clip-path=\"url(#p1e4b6a9588)\">\r\n     <use style=\"fill:#a9678f;stroke:#ffffff;stroke-width:0.48;\" x=\"198.718451\" xlink:href=\"#C0_0_09853bf825\" y=\"130.758243\"/>\r\n    </g>\r\n    <g clip-path=\"url(#p1e4b6a9588)\">\r\n     <use style=\"fill:#a9678f;stroke:#ffffff;stroke-width:0.48;\" x=\"157.183646\" xlink:href=\"#C0_0_09853bf825\" y=\"185.23282\"/>\r\n    </g>\r\n    <g clip-path=\"url(#p1e4b6a9588)\">\r\n     <use style=\"fill:#a9678f;stroke:#ffffff;stroke-width:0.48;\" x=\"248.560216\" xlink:href=\"#C0_0_09853bf825\" y=\"145.614946\"/>\r\n    </g>\r\n    <g clip-path=\"url(#p1e4b6a9588)\">\r\n     <use style=\"fill:#a9678f;stroke:#ffffff;stroke-width:0.48;\" x=\"157.183646\" xlink:href=\"#C0_0_09853bf825\" y=\"140.662712\"/>\r\n    </g>\r\n    <g clip-path=\"url(#p1e4b6a9588)\">\r\n     <use style=\"fill:#a9678f;stroke:#ffffff;stroke-width:0.48;\" x=\"173.797568\" xlink:href=\"#C0_0_09853bf825\" y=\"160.471649\"/>\r\n    </g>\r\n    <g clip-path=\"url(#p1e4b6a9588)\">\r\n     <use style=\"fill:#a9678f;stroke:#ffffff;stroke-width:0.48;\" x=\"207.025411\" xlink:href=\"#C0_0_09853bf825\" y=\"140.662712\"/>\r\n    </g>\r\n    <g clip-path=\"url(#p1e4b6a9588)\">\r\n     <use style=\"fill:#a9678f;stroke:#ffffff;stroke-width:0.48;\" x=\"157.183646\" xlink:href=\"#C0_0_09853bf825\" y=\"170.376117\"/>\r\n    </g>\r\n    <g clip-path=\"url(#p1e4b6a9588)\">\r\n     <use style=\"fill:#a9678f;stroke:#ffffff;stroke-width:0.48;\" x=\"182.104529\" xlink:href=\"#C0_0_09853bf825\" y=\"125.806009\"/>\r\n    </g>\r\n    <g clip-path=\"url(#p1e4b6a9588)\">\r\n     <use style=\"fill:#a9678f;stroke:#ffffff;stroke-width:0.48;\" x=\"198.718451\" xlink:href=\"#C0_0_09853bf825\" y=\"165.423883\"/>\r\n    </g>\r\n    <g clip-path=\"url(#p1e4b6a9588)\">\r\n     <use style=\"fill:#a9678f;stroke:#ffffff;stroke-width:0.48;\" x=\"215.332372\" xlink:href=\"#C0_0_09853bf825\" y=\"120.853775\"/>\r\n    </g>\r\n    <g clip-path=\"url(#p1e4b6a9588)\">\r\n     <use style=\"fill:#a9678f;stroke:#ffffff;stroke-width:0.48;\" x=\"198.718451\" xlink:href=\"#C0_0_09853bf825\" y=\"130.758243\"/>\r\n    </g>\r\n    <g clip-path=\"url(#p1e4b6a9588)\">\r\n     <use style=\"fill:#a9678f;stroke:#ffffff;stroke-width:0.48;\" x=\"223.639333\" xlink:href=\"#C0_0_09853bf825\" y=\"150.56718\"/>\r\n    </g>\r\n    <g clip-path=\"url(#p1e4b6a9588)\">\r\n     <use style=\"fill:#a9678f;stroke:#ffffff;stroke-width:0.48;\" x=\"240.253255\" xlink:href=\"#C0_0_09853bf825\" y=\"145.614946\"/>\r\n    </g>\r\n    <g clip-path=\"url(#p1e4b6a9588)\">\r\n     <use style=\"fill:#a9678f;stroke:#ffffff;stroke-width:0.48;\" x=\"256.867177\" xlink:href=\"#C0_0_09853bf825\" y=\"125.806009\"/>\r\n    </g>\r\n    <g clip-path=\"url(#p1e4b6a9588)\">\r\n     <use style=\"fill:#a9678f;stroke:#ffffff;stroke-width:0.48;\" x=\"248.560216\" xlink:href=\"#C0_0_09853bf825\" y=\"115.901541\"/>\r\n    </g>\r\n    <g clip-path=\"url(#p1e4b6a9588)\">\r\n     <use style=\"fill:#a9678f;stroke:#ffffff;stroke-width:0.48;\" x=\"190.41149\" xlink:href=\"#C0_0_09853bf825\" y=\"140.662712\"/>\r\n    </g>\r\n    <g clip-path=\"url(#p1e4b6a9588)\">\r\n     <use style=\"fill:#a9678f;stroke:#ffffff;stroke-width:0.48;\" x=\"165.490607\" xlink:href=\"#C0_0_09853bf825\" y=\"190.185054\"/>\r\n    </g>\r\n    <g clip-path=\"url(#p1e4b6a9588)\">\r\n     <use style=\"fill:#a9678f;stroke:#ffffff;stroke-width:0.48;\" x=\"148.876685\" xlink:href=\"#C0_0_09853bf825\" y=\"175.328351\"/>\r\n    </g>\r\n    <g clip-path=\"url(#p1e4b6a9588)\">\r\n     <use style=\"fill:#a9678f;stroke:#ffffff;stroke-width:0.48;\" x=\"148.876685\" xlink:href=\"#C0_0_09853bf825\" y=\"180.280586\"/>\r\n    </g>\r\n    <g clip-path=\"url(#p1e4b6a9588)\">\r\n     <use style=\"fill:#a9678f;stroke:#ffffff;stroke-width:0.48;\" x=\"173.797568\" xlink:href=\"#C0_0_09853bf825\" y=\"170.376117\"/>\r\n    </g>\r\n    <g clip-path=\"url(#p1e4b6a9588)\">\r\n     <use style=\"fill:#a9678f;stroke:#ffffff;stroke-width:0.48;\" x=\"190.41149\" xlink:href=\"#C0_0_09853bf825\" y=\"110.949307\"/>\r\n    </g>\r\n    <g clip-path=\"url(#p1e4b6a9588)\">\r\n     <use style=\"fill:#a9678f;stroke:#ffffff;stroke-width:0.48;\" x=\"140.569724\" xlink:href=\"#C0_0_09853bf825\" y=\"140.662712\"/>\r\n    </g>\r\n    <g clip-path=\"url(#p1e4b6a9588)\">\r\n     <use style=\"fill:#a9678f;stroke:#ffffff;stroke-width:0.48;\" x=\"190.41149\" xlink:href=\"#C0_0_09853bf825\" y=\"140.662712\"/>\r\n    </g>\r\n    <g clip-path=\"url(#p1e4b6a9588)\">\r\n     <use style=\"fill:#a9678f;stroke:#ffffff;stroke-width:0.48;\" x=\"248.560216\" xlink:href=\"#C0_0_09853bf825\" y=\"130.758243\"/>\r\n    </g>\r\n    <g clip-path=\"url(#p1e4b6a9588)\">\r\n     <use style=\"fill:#a9678f;stroke:#ffffff;stroke-width:0.48;\" x=\"215.332372\" xlink:href=\"#C0_0_09853bf825\" y=\"145.614946\"/>\r\n    </g>\r\n    <g clip-path=\"url(#p1e4b6a9588)\">\r\n     <use style=\"fill:#a9678f;stroke:#ffffff;stroke-width:0.48;\" x=\"157.183646\" xlink:href=\"#C0_0_09853bf825\" y=\"160.471649\"/>\r\n    </g>\r\n    <g clip-path=\"url(#p1e4b6a9588)\">\r\n     <use style=\"fill:#a9678f;stroke:#ffffff;stroke-width:0.48;\" x=\"148.876685\" xlink:href=\"#C0_0_09853bf825\" y=\"165.423883\"/>\r\n    </g>\r\n    <g clip-path=\"url(#p1e4b6a9588)\">\r\n     <use style=\"fill:#a9678f;stroke:#ffffff;stroke-width:0.48;\" x=\"148.876685\" xlink:href=\"#C0_0_09853bf825\" y=\"145.614946\"/>\r\n    </g>\r\n    <g clip-path=\"url(#p1e4b6a9588)\">\r\n     <use style=\"fill:#a9678f;stroke:#ffffff;stroke-width:0.48;\" x=\"198.718451\" xlink:href=\"#C0_0_09853bf825\" y=\"135.710478\"/>\r\n    </g>\r\n    <g clip-path=\"url(#p1e4b6a9588)\">\r\n     <use style=\"fill:#a9678f;stroke:#ffffff;stroke-width:0.48;\" x=\"173.797568\" xlink:href=\"#C0_0_09853bf825\" y=\"165.423883\"/>\r\n    </g>\r\n    <g clip-path=\"url(#p1e4b6a9588)\">\r\n     <use style=\"fill:#a9678f;stroke:#ffffff;stroke-width:0.48;\" x=\"107.341881\" xlink:href=\"#C0_0_09853bf825\" y=\"200.089522\"/>\r\n    </g>\r\n    <g clip-path=\"url(#p1e4b6a9588)\">\r\n     <use style=\"fill:#a9678f;stroke:#ffffff;stroke-width:0.48;\" x=\"157.183646\" xlink:href=\"#C0_0_09853bf825\" y=\"155.519414\"/>\r\n    </g>\r\n    <g clip-path=\"url(#p1e4b6a9588)\">\r\n     <use style=\"fill:#a9678f;stroke:#ffffff;stroke-width:0.48;\" x=\"165.490607\" xlink:href=\"#C0_0_09853bf825\" y=\"155.519414\"/>\r\n    </g>\r\n    <g clip-path=\"url(#p1e4b6a9588)\">\r\n     <use style=\"fill:#a9678f;stroke:#ffffff;stroke-width:0.48;\" x=\"165.490607\" xlink:href=\"#C0_0_09853bf825\" y=\"155.519414\"/>\r\n    </g>\r\n    <g clip-path=\"url(#p1e4b6a9588)\">\r\n     <use style=\"fill:#a9678f;stroke:#ffffff;stroke-width:0.48;\" x=\"207.025411\" xlink:href=\"#C0_0_09853bf825\" y=\"150.56718\"/>\r\n    </g>\r\n    <g clip-path=\"url(#p1e4b6a9588)\">\r\n     <use style=\"fill:#a9678f;stroke:#ffffff;stroke-width:0.48;\" x=\"115.648842\" xlink:href=\"#C0_0_09853bf825\" y=\"214.946225\"/>\r\n    </g>\r\n    <g clip-path=\"url(#p1e4b6a9588)\">\r\n     <use style=\"fill:#a9678f;stroke:#ffffff;stroke-width:0.48;\" x=\"165.490607\" xlink:href=\"#C0_0_09853bf825\" y=\"160.471649\"/>\r\n    </g>\r\n    <g clip-path=\"url(#p1e4b6a9588)\">\r\n     <use style=\"fill:#2d1e3e;stroke:#ffffff;stroke-width:0.48;\" x=\"215.332372\" xlink:href=\"#C0_0_09853bf825\" y=\"66.379199\"/>\r\n    </g>\r\n    <g clip-path=\"url(#p1e4b6a9588)\">\r\n     <use style=\"fill:#2d1e3e;stroke:#ffffff;stroke-width:0.48;\" x=\"173.797568\" xlink:href=\"#C0_0_09853bf825\" y=\"110.949307\"/>\r\n    </g>\r\n    <g clip-path=\"url(#p1e4b6a9588)\">\r\n     <use style=\"fill:#2d1e3e;stroke:#ffffff;stroke-width:0.48;\" x=\"281.788059\" xlink:href=\"#C0_0_09853bf825\" y=\"71.331433\"/>\r\n    </g>\r\n    <g clip-path=\"url(#p1e4b6a9588)\">\r\n     <use style=\"fill:#2d1e3e;stroke:#ffffff;stroke-width:0.48;\" x=\"215.332372\" xlink:href=\"#C0_0_09853bf825\" y=\"86.188136\"/>\r\n    </g>\r\n    <g clip-path=\"url(#p1e4b6a9588)\">\r\n     <use style=\"fill:#2d1e3e;stroke:#ffffff;stroke-width:0.48;\" x=\"231.946294\" xlink:href=\"#C0_0_09853bf825\" y=\"76.283667\"/>\r\n    </g>\r\n    <g clip-path=\"url(#p1e4b6a9588)\">\r\n     <use style=\"fill:#2d1e3e;stroke:#ffffff;stroke-width:0.48;\" x=\"323.322864\" xlink:href=\"#C0_0_09853bf825\" y=\"36.665794\"/>\r\n    </g>\r\n    <g clip-path=\"url(#p1e4b6a9588)\">\r\n     <use style=\"fill:#2d1e3e;stroke:#ffffff;stroke-width:0.48;\" x=\"99.03492\" xlink:href=\"#C0_0_09853bf825\" y=\"140.662712\"/>\r\n    </g>\r\n    <g clip-path=\"url(#p1e4b6a9588)\">\r\n     <use style=\"fill:#2d1e3e;stroke:#ffffff;stroke-width:0.48;\" x=\"298.401981\" xlink:href=\"#C0_0_09853bf825\" y=\"51.522496\"/>\r\n    </g>\r\n    <g clip-path=\"url(#p1e4b6a9588)\">\r\n     <use style=\"fill:#2d1e3e;stroke:#ffffff;stroke-width:0.48;\" x=\"248.560216\" xlink:href=\"#C0_0_09853bf825\" y=\"76.283667\"/>\r\n    </g>\r\n    <g clip-path=\"url(#p1e4b6a9588)\">\r\n     <use style=\"fill:#2d1e3e;stroke:#ffffff;stroke-width:0.48;\" x=\"290.09502\" xlink:href=\"#C0_0_09853bf825\" y=\"61.426965\"/>\r\n    </g>\r\n    <g clip-path=\"url(#p1e4b6a9588)\">\r\n     <use style=\"fill:#2d1e3e;stroke:#ffffff;stroke-width:0.48;\" x=\"231.946294\" xlink:href=\"#C0_0_09853bf825\" y=\"110.949307\"/>\r\n    </g>\r\n    <g clip-path=\"url(#p1e4b6a9588)\">\r\n     <use style=\"fill:#2d1e3e;stroke:#ffffff;stroke-width:0.48;\" x=\"223.639333\" xlink:href=\"#C0_0_09853bf825\" y=\"101.044838\"/>\r\n    </g>\r\n    <g clip-path=\"url(#p1e4b6a9588)\">\r\n     <use style=\"fill:#2d1e3e;stroke:#ffffff;stroke-width:0.48;\" x=\"256.867177\" xlink:href=\"#C0_0_09853bf825\" y=\"91.14037\"/>\r\n    </g>\r\n    <g clip-path=\"url(#p1e4b6a9588)\">\r\n     <use style=\"fill:#2d1e3e;stroke:#ffffff;stroke-width:0.48;\" x=\"165.490607\" xlink:href=\"#C0_0_09853bf825\" y=\"115.901541\"/>\r\n    </g>\r\n    <g clip-path=\"url(#p1e4b6a9588)\">\r\n     <use style=\"fill:#2d1e3e;stroke:#ffffff;stroke-width:0.48;\" x=\"173.797568\" xlink:href=\"#C0_0_09853bf825\" y=\"110.949307\"/>\r\n    </g>\r\n    <g clip-path=\"url(#p1e4b6a9588)\">\r\n     <use style=\"fill:#2d1e3e;stroke:#ffffff;stroke-width:0.48;\" x=\"223.639333\" xlink:href=\"#C0_0_09853bf825\" y=\"101.044838\"/>\r\n    </g>\r\n    <g clip-path=\"url(#p1e4b6a9588)\">\r\n     <use style=\"fill:#2d1e3e;stroke:#ffffff;stroke-width:0.48;\" x=\"231.946294\" xlink:href=\"#C0_0_09853bf825\" y=\"91.14037\"/>\r\n    </g>\r\n    <g clip-path=\"url(#p1e4b6a9588)\">\r\n     <use style=\"fill:#2d1e3e;stroke:#ffffff;stroke-width:0.48;\" x=\"331.629825\" xlink:href=\"#C0_0_09853bf825\" y=\"31.713559\"/>\r\n    </g>\r\n    <g clip-path=\"url(#p1e4b6a9588)\">\r\n     <use style=\"fill:#2d1e3e;stroke:#ffffff;stroke-width:0.48;\" x=\"331.629825\" xlink:href=\"#C0_0_09853bf825\" y=\"21.809091\"/>\r\n    </g>\r\n    <g clip-path=\"url(#p1e4b6a9588)\">\r\n     <use style=\"fill:#2d1e3e;stroke:#ffffff;stroke-width:0.48;\" x=\"190.41149\" xlink:href=\"#C0_0_09853bf825\" y=\"115.901541\"/>\r\n    </g>\r\n    <g clip-path=\"url(#p1e4b6a9588)\">\r\n     <use style=\"fill:#2d1e3e;stroke:#ffffff;stroke-width:0.48;\" x=\"265.174138\" xlink:href=\"#C0_0_09853bf825\" y=\"81.235901\"/>\r\n    </g>\r\n    <g clip-path=\"url(#p1e4b6a9588)\">\r\n     <use style=\"fill:#2d1e3e;stroke:#ffffff;stroke-width:0.48;\" x=\"157.183646\" xlink:href=\"#C0_0_09853bf825\" y=\"120.853775\"/>\r\n    </g>\r\n    <g clip-path=\"url(#p1e4b6a9588)\">\r\n     <use style=\"fill:#2d1e3e;stroke:#ffffff;stroke-width:0.48;\" x=\"331.629825\" xlink:href=\"#C0_0_09853bf825\" y=\"31.713559\"/>\r\n    </g>\r\n    <g clip-path=\"url(#p1e4b6a9588)\">\r\n     <use style=\"fill:#2d1e3e;stroke:#ffffff;stroke-width:0.48;\" x=\"215.332372\" xlink:href=\"#C0_0_09853bf825\" y=\"120.853775\"/>\r\n    </g>\r\n    <g clip-path=\"url(#p1e4b6a9588)\">\r\n     <use style=\"fill:#2d1e3e;stroke:#ffffff;stroke-width:0.48;\" x=\"248.560216\" xlink:href=\"#C0_0_09853bf825\" y=\"81.235901\"/>\r\n    </g>\r\n    <g clip-path=\"url(#p1e4b6a9588)\">\r\n     <use style=\"fill:#2d1e3e;stroke:#ffffff;stroke-width:0.48;\" x=\"290.09502\" xlink:href=\"#C0_0_09853bf825\" y=\"66.379199\"/>\r\n    </g>\r\n    <g clip-path=\"url(#p1e4b6a9588)\">\r\n     <use style=\"fill:#2d1e3e;stroke:#ffffff;stroke-width:0.48;\" x=\"207.025411\" xlink:href=\"#C0_0_09853bf825\" y=\"125.806009\"/>\r\n    </g>\r\n    <g clip-path=\"url(#p1e4b6a9588)\">\r\n     <use style=\"fill:#2d1e3e;stroke:#ffffff;stroke-width:0.48;\" x=\"198.718451\" xlink:href=\"#C0_0_09853bf825\" y=\"120.853775\"/>\r\n    </g>\r\n    <g clip-path=\"url(#p1e4b6a9588)\">\r\n     <use style=\"fill:#2d1e3e;stroke:#ffffff;stroke-width:0.48;\" x=\"223.639333\" xlink:href=\"#C0_0_09853bf825\" y=\"86.188136\"/>\r\n    </g>\r\n    <g clip-path=\"url(#p1e4b6a9588)\">\r\n     <use style=\"fill:#2d1e3e;stroke:#ffffff;stroke-width:0.48;\" x=\"290.09502\" xlink:href=\"#C0_0_09853bf825\" y=\"76.283667\"/>\r\n    </g>\r\n    <g clip-path=\"url(#p1e4b6a9588)\">\r\n     <use style=\"fill:#2d1e3e;stroke:#ffffff;stroke-width:0.48;\" x=\"306.708942\" xlink:href=\"#C0_0_09853bf825\" y=\"61.426965\"/>\r\n    </g>\r\n    <g clip-path=\"url(#p1e4b6a9588)\">\r\n     <use style=\"fill:#2d1e3e;stroke:#ffffff;stroke-width:0.48;\" x=\"348.243746\" xlink:href=\"#C0_0_09853bf825\" y=\"46.570262\"/>\r\n    </g>\r\n    <g clip-path=\"url(#p1e4b6a9588)\">\r\n     <use style=\"fill:#2d1e3e;stroke:#ffffff;stroke-width:0.48;\" x=\"223.639333\" xlink:href=\"#C0_0_09853bf825\" y=\"86.188136\"/>\r\n    </g>\r\n    <g clip-path=\"url(#p1e4b6a9588)\">\r\n     <use style=\"fill:#2d1e3e;stroke:#ffffff;stroke-width:0.48;\" x=\"215.332372\" xlink:href=\"#C0_0_09853bf825\" y=\"110.949307\"/>\r\n    </g>\r\n    <g clip-path=\"url(#p1e4b6a9588)\">\r\n     <use style=\"fill:#2d1e3e;stroke:#ffffff;stroke-width:0.48;\" x=\"198.718451\" xlink:href=\"#C0_0_09853bf825\" y=\"86.188136\"/>\r\n    </g>\r\n    <g clip-path=\"url(#p1e4b6a9588)\">\r\n     <use style=\"fill:#2d1e3e;stroke:#ffffff;stroke-width:0.48;\" x=\"331.629825\" xlink:href=\"#C0_0_09853bf825\" y=\"61.426965\"/>\r\n    </g>\r\n    <g clip-path=\"url(#p1e4b6a9588)\">\r\n     <use style=\"fill:#2d1e3e;stroke:#ffffff;stroke-width:0.48;\" x=\"215.332372\" xlink:href=\"#C0_0_09853bf825\" y=\"86.188136\"/>\r\n    </g>\r\n    <g clip-path=\"url(#p1e4b6a9588)\">\r\n     <use style=\"fill:#2d1e3e;stroke:#ffffff;stroke-width:0.48;\" x=\"223.639333\" xlink:href=\"#C0_0_09853bf825\" y=\"91.14037\"/>\r\n    </g>\r\n    <g clip-path=\"url(#p1e4b6a9588)\">\r\n     <use style=\"fill:#2d1e3e;stroke:#ffffff;stroke-width:0.48;\" x=\"190.41149\" xlink:href=\"#C0_0_09853bf825\" y=\"125.806009\"/>\r\n    </g>\r\n    <g clip-path=\"url(#p1e4b6a9588)\">\r\n     <use style=\"fill:#2d1e3e;stroke:#ffffff;stroke-width:0.48;\" x=\"265.174138\" xlink:href=\"#C0_0_09853bf825\" y=\"96.092604\"/>\r\n    </g>\r\n    <g clip-path=\"url(#p1e4b6a9588)\">\r\n     <use style=\"fill:#2d1e3e;stroke:#ffffff;stroke-width:0.48;\" x=\"248.560216\" xlink:href=\"#C0_0_09853bf825\" y=\"86.188136\"/>\r\n    </g>\r\n    <g clip-path=\"url(#p1e4b6a9588)\">\r\n     <use style=\"fill:#2d1e3e;stroke:#ffffff;stroke-width:0.48;\" x=\"265.174138\" xlink:href=\"#C0_0_09853bf825\" y=\"110.949307\"/>\r\n    </g>\r\n    <g clip-path=\"url(#p1e4b6a9588)\">\r\n     <use style=\"fill:#2d1e3e;stroke:#ffffff;stroke-width:0.48;\" x=\"173.797568\" xlink:href=\"#C0_0_09853bf825\" y=\"110.949307\"/>\r\n    </g>\r\n    <g clip-path=\"url(#p1e4b6a9588)\">\r\n     <use style=\"fill:#2d1e3e;stroke:#ffffff;stroke-width:0.48;\" x=\"256.867177\" xlink:href=\"#C0_0_09853bf825\" y=\"71.331433\"/>\r\n    </g>\r\n    <g clip-path=\"url(#p1e4b6a9588)\">\r\n     <use style=\"fill:#2d1e3e;stroke:#ffffff;stroke-width:0.48;\" x=\"248.560216\" xlink:href=\"#C0_0_09853bf825\" y=\"81.235901\"/>\r\n    </g>\r\n    <g clip-path=\"url(#p1e4b6a9588)\">\r\n     <use style=\"fill:#2d1e3e;stroke:#ffffff;stroke-width:0.48;\" x=\"248.560216\" xlink:href=\"#C0_0_09853bf825\" y=\"105.997072\"/>\r\n    </g>\r\n    <g clip-path=\"url(#p1e4b6a9588)\">\r\n     <use style=\"fill:#2d1e3e;stroke:#ffffff;stroke-width:0.48;\" x=\"215.332372\" xlink:href=\"#C0_0_09853bf825\" y=\"115.901541\"/>\r\n    </g>\r\n    <g clip-path=\"url(#p1e4b6a9588)\">\r\n     <use style=\"fill:#2d1e3e;stroke:#ffffff;stroke-width:0.48;\" x=\"231.946294\" xlink:href=\"#C0_0_09853bf825\" y=\"105.997072\"/>\r\n    </g>\r\n    <g clip-path=\"url(#p1e4b6a9588)\">\r\n     <use style=\"fill:#2d1e3e;stroke:#ffffff;stroke-width:0.48;\" x=\"207.025411\" xlink:href=\"#C0_0_09853bf825\" y=\"96.092604\"/>\r\n    </g>\r\n    <g clip-path=\"url(#p1e4b6a9588)\">\r\n     <use style=\"fill:#2d1e3e;stroke:#ffffff;stroke-width:0.48;\" x=\"182.104529\" xlink:href=\"#C0_0_09853bf825\" y=\"110.949307\"/>\r\n    </g>\r\n   </g>\r\n   <g id=\"PathCollection_2\"/>\r\n   <g id=\"PathCollection_3\"/>\r\n   <g id=\"PathCollection_4\"/>\r\n   <g id=\"matplotlib.axis_1\">\r\n    <g id=\"xtick_1\">\r\n     <g id=\"line2d_1\">\r\n      <defs>\r\n       <path d=\"M 0 0 \r\nL 0 3.5 \r\n\" id=\"mfa7f579677\" style=\"stroke:#000000;stroke-width:0.8;\"/>\r\n      </defs>\r\n      <g>\r\n       <use style=\"stroke:#000000;stroke-width:0.8;\" x=\"65.807076\" xlink:href=\"#mfa7f579677\" y=\"328.6\"/>\r\n      </g>\r\n     </g>\r\n     <g id=\"text_1\">\r\n      <!-- 4.5 -->\r\n      <g transform=\"translate(57.855514 343.198437)scale(0.1 -0.1)\">\r\n       <defs>\r\n        <path d=\"M 37.796875 64.3125 \r\nL 12.890625 25.390625 \r\nL 37.796875 25.390625 \r\nz\r\nM 35.203125 72.90625 \r\nL 47.609375 72.90625 \r\nL 47.609375 25.390625 \r\nL 58.015625 25.390625 \r\nL 58.015625 17.1875 \r\nL 47.609375 17.1875 \r\nL 47.609375 0 \r\nL 37.796875 0 \r\nL 37.796875 17.1875 \r\nL 4.890625 17.1875 \r\nL 4.890625 26.703125 \r\nz\r\n\" id=\"DejaVuSans-52\"/>\r\n        <path d=\"M 10.6875 12.40625 \r\nL 21 12.40625 \r\nL 21 0 \r\nL 10.6875 0 \r\nz\r\n\" id=\"DejaVuSans-46\"/>\r\n        <path d=\"M 10.796875 72.90625 \r\nL 49.515625 72.90625 \r\nL 49.515625 64.59375 \r\nL 19.828125 64.59375 \r\nL 19.828125 46.734375 \r\nQ 21.96875 47.46875 24.109375 47.828125 \r\nQ 26.265625 48.1875 28.421875 48.1875 \r\nQ 40.625 48.1875 47.75 41.5 \r\nQ 54.890625 34.8125 54.890625 23.390625 \r\nQ 54.890625 11.625 47.5625 5.09375 \r\nQ 40.234375 -1.421875 26.90625 -1.421875 \r\nQ 22.3125 -1.421875 17.546875 -0.640625 \r\nQ 12.796875 0.140625 7.71875 1.703125 \r\nL 7.71875 11.625 \r\nQ 12.109375 9.234375 16.796875 8.0625 \r\nQ 21.484375 6.890625 26.703125 6.890625 \r\nQ 35.15625 6.890625 40.078125 11.328125 \r\nQ 45.015625 15.765625 45.015625 23.390625 \r\nQ 45.015625 31 40.078125 35.4375 \r\nQ 35.15625 39.890625 26.703125 39.890625 \r\nQ 22.75 39.890625 18.8125 39.015625 \r\nQ 14.890625 38.140625 10.796875 36.28125 \r\nz\r\n\" id=\"DejaVuSans-53\"/>\r\n       </defs>\r\n       <use xlink:href=\"#DejaVuSans-52\"/>\r\n       <use x=\"63.623047\" xlink:href=\"#DejaVuSans-46\"/>\r\n       <use x=\"95.410156\" xlink:href=\"#DejaVuSans-53\"/>\r\n      </g>\r\n     </g>\r\n    </g>\r\n    <g id=\"xtick_2\">\r\n     <g id=\"line2d_2\">\r\n      <g>\r\n       <use style=\"stroke:#000000;stroke-width:0.8;\" x=\"107.341881\" xlink:href=\"#mfa7f579677\" y=\"328.6\"/>\r\n      </g>\r\n     </g>\r\n     <g id=\"text_2\">\r\n      <!-- 5.0 -->\r\n      <g transform=\"translate(99.390318 343.198437)scale(0.1 -0.1)\">\r\n       <defs>\r\n        <path d=\"M 31.78125 66.40625 \r\nQ 24.171875 66.40625 20.328125 58.90625 \r\nQ 16.5 51.421875 16.5 36.375 \r\nQ 16.5 21.390625 20.328125 13.890625 \r\nQ 24.171875 6.390625 31.78125 6.390625 \r\nQ 39.453125 6.390625 43.28125 13.890625 \r\nQ 47.125 21.390625 47.125 36.375 \r\nQ 47.125 51.421875 43.28125 58.90625 \r\nQ 39.453125 66.40625 31.78125 66.40625 \r\nz\r\nM 31.78125 74.21875 \r\nQ 44.046875 74.21875 50.515625 64.515625 \r\nQ 56.984375 54.828125 56.984375 36.375 \r\nQ 56.984375 17.96875 50.515625 8.265625 \r\nQ 44.046875 -1.421875 31.78125 -1.421875 \r\nQ 19.53125 -1.421875 13.0625 8.265625 \r\nQ 6.59375 17.96875 6.59375 36.375 \r\nQ 6.59375 54.828125 13.0625 64.515625 \r\nQ 19.53125 74.21875 31.78125 74.21875 \r\nz\r\n\" id=\"DejaVuSans-48\"/>\r\n       </defs>\r\n       <use xlink:href=\"#DejaVuSans-53\"/>\r\n       <use x=\"63.623047\" xlink:href=\"#DejaVuSans-46\"/>\r\n       <use x=\"95.410156\" xlink:href=\"#DejaVuSans-48\"/>\r\n      </g>\r\n     </g>\r\n    </g>\r\n    <g id=\"xtick_3\">\r\n     <g id=\"line2d_3\">\r\n      <g>\r\n       <use style=\"stroke:#000000;stroke-width:0.8;\" x=\"148.876685\" xlink:href=\"#mfa7f579677\" y=\"328.6\"/>\r\n      </g>\r\n     </g>\r\n     <g id=\"text_3\">\r\n      <!-- 5.5 -->\r\n      <g transform=\"translate(140.925123 343.198437)scale(0.1 -0.1)\">\r\n       <use xlink:href=\"#DejaVuSans-53\"/>\r\n       <use x=\"63.623047\" xlink:href=\"#DejaVuSans-46\"/>\r\n       <use x=\"95.410156\" xlink:href=\"#DejaVuSans-53\"/>\r\n      </g>\r\n     </g>\r\n    </g>\r\n    <g id=\"xtick_4\">\r\n     <g id=\"line2d_4\">\r\n      <g>\r\n       <use style=\"stroke:#000000;stroke-width:0.8;\" x=\"190.41149\" xlink:href=\"#mfa7f579677\" y=\"328.6\"/>\r\n      </g>\r\n     </g>\r\n     <g id=\"text_4\">\r\n      <!-- 6.0 -->\r\n      <g transform=\"translate(182.459927 343.198437)scale(0.1 -0.1)\">\r\n       <defs>\r\n        <path d=\"M 33.015625 40.375 \r\nQ 26.375 40.375 22.484375 35.828125 \r\nQ 18.609375 31.296875 18.609375 23.390625 \r\nQ 18.609375 15.53125 22.484375 10.953125 \r\nQ 26.375 6.390625 33.015625 6.390625 \r\nQ 39.65625 6.390625 43.53125 10.953125 \r\nQ 47.40625 15.53125 47.40625 23.390625 \r\nQ 47.40625 31.296875 43.53125 35.828125 \r\nQ 39.65625 40.375 33.015625 40.375 \r\nz\r\nM 52.59375 71.296875 \r\nL 52.59375 62.3125 \r\nQ 48.875 64.0625 45.09375 64.984375 \r\nQ 41.3125 65.921875 37.59375 65.921875 \r\nQ 27.828125 65.921875 22.671875 59.328125 \r\nQ 17.53125 52.734375 16.796875 39.40625 \r\nQ 19.671875 43.65625 24.015625 45.921875 \r\nQ 28.375 48.1875 33.59375 48.1875 \r\nQ 44.578125 48.1875 50.953125 41.515625 \r\nQ 57.328125 34.859375 57.328125 23.390625 \r\nQ 57.328125 12.15625 50.6875 5.359375 \r\nQ 44.046875 -1.421875 33.015625 -1.421875 \r\nQ 20.359375 -1.421875 13.671875 8.265625 \r\nQ 6.984375 17.96875 6.984375 36.375 \r\nQ 6.984375 53.65625 15.1875 63.9375 \r\nQ 23.390625 74.21875 37.203125 74.21875 \r\nQ 40.921875 74.21875 44.703125 73.484375 \r\nQ 48.484375 72.75 52.59375 71.296875 \r\nz\r\n\" id=\"DejaVuSans-54\"/>\r\n       </defs>\r\n       <use xlink:href=\"#DejaVuSans-54\"/>\r\n       <use x=\"63.623047\" xlink:href=\"#DejaVuSans-46\"/>\r\n       <use x=\"95.410156\" xlink:href=\"#DejaVuSans-48\"/>\r\n      </g>\r\n     </g>\r\n    </g>\r\n    <g id=\"xtick_5\">\r\n     <g id=\"line2d_5\">\r\n      <g>\r\n       <use style=\"stroke:#000000;stroke-width:0.8;\" x=\"231.946294\" xlink:href=\"#mfa7f579677\" y=\"328.6\"/>\r\n      </g>\r\n     </g>\r\n     <g id=\"text_5\">\r\n      <!-- 6.5 -->\r\n      <g transform=\"translate(223.994732 343.198437)scale(0.1 -0.1)\">\r\n       <use xlink:href=\"#DejaVuSans-54\"/>\r\n       <use x=\"63.623047\" xlink:href=\"#DejaVuSans-46\"/>\r\n       <use x=\"95.410156\" xlink:href=\"#DejaVuSans-53\"/>\r\n      </g>\r\n     </g>\r\n    </g>\r\n    <g id=\"xtick_6\">\r\n     <g id=\"line2d_6\">\r\n      <g>\r\n       <use style=\"stroke:#000000;stroke-width:0.8;\" x=\"273.481098\" xlink:href=\"#mfa7f579677\" y=\"328.6\"/>\r\n      </g>\r\n     </g>\r\n     <g id=\"text_6\">\r\n      <!-- 7.0 -->\r\n      <g transform=\"translate(265.529536 343.198437)scale(0.1 -0.1)\">\r\n       <defs>\r\n        <path d=\"M 8.203125 72.90625 \r\nL 55.078125 72.90625 \r\nL 55.078125 68.703125 \r\nL 28.609375 0 \r\nL 18.3125 0 \r\nL 43.21875 64.59375 \r\nL 8.203125 64.59375 \r\nz\r\n\" id=\"DejaVuSans-55\"/>\r\n       </defs>\r\n       <use xlink:href=\"#DejaVuSans-55\"/>\r\n       <use x=\"63.623047\" xlink:href=\"#DejaVuSans-46\"/>\r\n       <use x=\"95.410156\" xlink:href=\"#DejaVuSans-48\"/>\r\n      </g>\r\n     </g>\r\n    </g>\r\n    <g id=\"xtick_7\">\r\n     <g id=\"line2d_7\">\r\n      <g>\r\n       <use style=\"stroke:#000000;stroke-width:0.8;\" x=\"315.015903\" xlink:href=\"#mfa7f579677\" y=\"328.6\"/>\r\n      </g>\r\n     </g>\r\n     <g id=\"text_7\">\r\n      <!-- 7.5 -->\r\n      <g transform=\"translate(307.06434 343.198437)scale(0.1 -0.1)\">\r\n       <use xlink:href=\"#DejaVuSans-55\"/>\r\n       <use x=\"63.623047\" xlink:href=\"#DejaVuSans-46\"/>\r\n       <use x=\"95.410156\" xlink:href=\"#DejaVuSans-53\"/>\r\n      </g>\r\n     </g>\r\n    </g>\r\n    <g id=\"xtick_8\">\r\n     <g id=\"line2d_8\">\r\n      <g>\r\n       <use style=\"stroke:#000000;stroke-width:0.8;\" x=\"356.550707\" xlink:href=\"#mfa7f579677\" y=\"328.6\"/>\r\n      </g>\r\n     </g>\r\n     <g id=\"text_8\">\r\n      <!-- 8.0 -->\r\n      <g transform=\"translate(348.599145 343.198437)scale(0.1 -0.1)\">\r\n       <defs>\r\n        <path d=\"M 31.78125 34.625 \r\nQ 24.75 34.625 20.71875 30.859375 \r\nQ 16.703125 27.09375 16.703125 20.515625 \r\nQ 16.703125 13.921875 20.71875 10.15625 \r\nQ 24.75 6.390625 31.78125 6.390625 \r\nQ 38.8125 6.390625 42.859375 10.171875 \r\nQ 46.921875 13.96875 46.921875 20.515625 \r\nQ 46.921875 27.09375 42.890625 30.859375 \r\nQ 38.875 34.625 31.78125 34.625 \r\nz\r\nM 21.921875 38.8125 \r\nQ 15.578125 40.375 12.03125 44.71875 \r\nQ 8.5 49.078125 8.5 55.328125 \r\nQ 8.5 64.0625 14.71875 69.140625 \r\nQ 20.953125 74.21875 31.78125 74.21875 \r\nQ 42.671875 74.21875 48.875 69.140625 \r\nQ 55.078125 64.0625 55.078125 55.328125 \r\nQ 55.078125 49.078125 51.53125 44.71875 \r\nQ 48 40.375 41.703125 38.8125 \r\nQ 48.828125 37.15625 52.796875 32.3125 \r\nQ 56.78125 27.484375 56.78125 20.515625 \r\nQ 56.78125 9.90625 50.3125 4.234375 \r\nQ 43.84375 -1.421875 31.78125 -1.421875 \r\nQ 19.734375 -1.421875 13.25 4.234375 \r\nQ 6.78125 9.90625 6.78125 20.515625 \r\nQ 6.78125 27.484375 10.78125 32.3125 \r\nQ 14.796875 37.15625 21.921875 38.8125 \r\nz\r\nM 18.3125 54.390625 \r\nQ 18.3125 48.734375 21.84375 45.5625 \r\nQ 25.390625 42.390625 31.78125 42.390625 \r\nQ 38.140625 42.390625 41.71875 45.5625 \r\nQ 45.3125 48.734375 45.3125 54.390625 \r\nQ 45.3125 60.0625 41.71875 63.234375 \r\nQ 38.140625 66.40625 31.78125 66.40625 \r\nQ 25.390625 66.40625 21.84375 63.234375 \r\nQ 18.3125 60.0625 18.3125 54.390625 \r\nz\r\n\" id=\"DejaVuSans-56\"/>\r\n       </defs>\r\n       <use xlink:href=\"#DejaVuSans-56\"/>\r\n       <use x=\"63.623047\" xlink:href=\"#DejaVuSans-46\"/>\r\n       <use x=\"95.410156\" xlink:href=\"#DejaVuSans-48\"/>\r\n      </g>\r\n     </g>\r\n    </g>\r\n    <g id=\"text_9\">\r\n     <!-- sepal length (cm) -->\r\n     <g transform=\"translate(154.773138 356.876562)scale(0.1 -0.1)\">\r\n      <defs>\r\n       <path d=\"M 44.28125 53.078125 \r\nL 44.28125 44.578125 \r\nQ 40.484375 46.53125 36.375 47.5 \r\nQ 32.28125 48.484375 27.875 48.484375 \r\nQ 21.1875 48.484375 17.84375 46.4375 \r\nQ 14.5 44.390625 14.5 40.28125 \r\nQ 14.5 37.15625 16.890625 35.375 \r\nQ 19.28125 33.59375 26.515625 31.984375 \r\nL 29.59375 31.296875 \r\nQ 39.15625 29.25 43.1875 25.515625 \r\nQ 47.21875 21.78125 47.21875 15.09375 \r\nQ 47.21875 7.46875 41.1875 3.015625 \r\nQ 35.15625 -1.421875 24.609375 -1.421875 \r\nQ 20.21875 -1.421875 15.453125 -0.5625 \r\nQ 10.6875 0.296875 5.421875 2 \r\nL 5.421875 11.28125 \r\nQ 10.40625 8.6875 15.234375 7.390625 \r\nQ 20.0625 6.109375 24.8125 6.109375 \r\nQ 31.15625 6.109375 34.5625 8.28125 \r\nQ 37.984375 10.453125 37.984375 14.40625 \r\nQ 37.984375 18.0625 35.515625 20.015625 \r\nQ 33.0625 21.96875 24.703125 23.78125 \r\nL 21.578125 24.515625 \r\nQ 13.234375 26.265625 9.515625 29.90625 \r\nQ 5.8125 33.546875 5.8125 39.890625 \r\nQ 5.8125 47.609375 11.28125 51.796875 \r\nQ 16.75 56 26.8125 56 \r\nQ 31.78125 56 36.171875 55.265625 \r\nQ 40.578125 54.546875 44.28125 53.078125 \r\nz\r\n\" id=\"DejaVuSans-115\"/>\r\n       <path d=\"M 56.203125 29.59375 \r\nL 56.203125 25.203125 \r\nL 14.890625 25.203125 \r\nQ 15.484375 15.921875 20.484375 11.0625 \r\nQ 25.484375 6.203125 34.421875 6.203125 \r\nQ 39.59375 6.203125 44.453125 7.46875 \r\nQ 49.3125 8.734375 54.109375 11.28125 \r\nL 54.109375 2.78125 \r\nQ 49.265625 0.734375 44.1875 -0.34375 \r\nQ 39.109375 -1.421875 33.890625 -1.421875 \r\nQ 20.796875 -1.421875 13.15625 6.1875 \r\nQ 5.515625 13.8125 5.515625 26.8125 \r\nQ 5.515625 40.234375 12.765625 48.109375 \r\nQ 20.015625 56 32.328125 56 \r\nQ 43.359375 56 49.78125 48.890625 \r\nQ 56.203125 41.796875 56.203125 29.59375 \r\nz\r\nM 47.21875 32.234375 \r\nQ 47.125 39.59375 43.09375 43.984375 \r\nQ 39.0625 48.390625 32.421875 48.390625 \r\nQ 24.90625 48.390625 20.390625 44.140625 \r\nQ 15.875 39.890625 15.1875 32.171875 \r\nz\r\n\" id=\"DejaVuSans-101\"/>\r\n       <path d=\"M 18.109375 8.203125 \r\nL 18.109375 -20.796875 \r\nL 9.078125 -20.796875 \r\nL 9.078125 54.6875 \r\nL 18.109375 54.6875 \r\nL 18.109375 46.390625 \r\nQ 20.953125 51.265625 25.265625 53.625 \r\nQ 29.59375 56 35.59375 56 \r\nQ 45.5625 56 51.78125 48.09375 \r\nQ 58.015625 40.1875 58.015625 27.296875 \r\nQ 58.015625 14.40625 51.78125 6.484375 \r\nQ 45.5625 -1.421875 35.59375 -1.421875 \r\nQ 29.59375 -1.421875 25.265625 0.953125 \r\nQ 20.953125 3.328125 18.109375 8.203125 \r\nz\r\nM 48.6875 27.296875 \r\nQ 48.6875 37.203125 44.609375 42.84375 \r\nQ 40.53125 48.484375 33.40625 48.484375 \r\nQ 26.265625 48.484375 22.1875 42.84375 \r\nQ 18.109375 37.203125 18.109375 27.296875 \r\nQ 18.109375 17.390625 22.1875 11.75 \r\nQ 26.265625 6.109375 33.40625 6.109375 \r\nQ 40.53125 6.109375 44.609375 11.75 \r\nQ 48.6875 17.390625 48.6875 27.296875 \r\nz\r\n\" id=\"DejaVuSans-112\"/>\r\n       <path d=\"M 34.28125 27.484375 \r\nQ 23.390625 27.484375 19.1875 25 \r\nQ 14.984375 22.515625 14.984375 16.5 \r\nQ 14.984375 11.71875 18.140625 8.90625 \r\nQ 21.296875 6.109375 26.703125 6.109375 \r\nQ 34.1875 6.109375 38.703125 11.40625 \r\nQ 43.21875 16.703125 43.21875 25.484375 \r\nL 43.21875 27.484375 \r\nz\r\nM 52.203125 31.203125 \r\nL 52.203125 0 \r\nL 43.21875 0 \r\nL 43.21875 8.296875 \r\nQ 40.140625 3.328125 35.546875 0.953125 \r\nQ 30.953125 -1.421875 24.3125 -1.421875 \r\nQ 15.921875 -1.421875 10.953125 3.296875 \r\nQ 6 8.015625 6 15.921875 \r\nQ 6 25.140625 12.171875 29.828125 \r\nQ 18.359375 34.515625 30.609375 34.515625 \r\nL 43.21875 34.515625 \r\nL 43.21875 35.40625 \r\nQ 43.21875 41.609375 39.140625 45 \r\nQ 35.0625 48.390625 27.6875 48.390625 \r\nQ 23 48.390625 18.546875 47.265625 \r\nQ 14.109375 46.140625 10.015625 43.890625 \r\nL 10.015625 52.203125 \r\nQ 14.9375 54.109375 19.578125 55.046875 \r\nQ 24.21875 56 28.609375 56 \r\nQ 40.484375 56 46.34375 49.84375 \r\nQ 52.203125 43.703125 52.203125 31.203125 \r\nz\r\n\" id=\"DejaVuSans-97\"/>\r\n       <path d=\"M 9.421875 75.984375 \r\nL 18.40625 75.984375 \r\nL 18.40625 0 \r\nL 9.421875 0 \r\nz\r\n\" id=\"DejaVuSans-108\"/>\r\n       <path id=\"DejaVuSans-32\"/>\r\n       <path d=\"M 54.890625 33.015625 \r\nL 54.890625 0 \r\nL 45.90625 0 \r\nL 45.90625 32.71875 \r\nQ 45.90625 40.484375 42.875 44.328125 \r\nQ 39.84375 48.1875 33.796875 48.1875 \r\nQ 26.515625 48.1875 22.3125 43.546875 \r\nQ 18.109375 38.921875 18.109375 30.90625 \r\nL 18.109375 0 \r\nL 9.078125 0 \r\nL 9.078125 54.6875 \r\nL 18.109375 54.6875 \r\nL 18.109375 46.1875 \r\nQ 21.34375 51.125 25.703125 53.5625 \r\nQ 30.078125 56 35.796875 56 \r\nQ 45.21875 56 50.046875 50.171875 \r\nQ 54.890625 44.34375 54.890625 33.015625 \r\nz\r\n\" id=\"DejaVuSans-110\"/>\r\n       <path d=\"M 45.40625 27.984375 \r\nQ 45.40625 37.75 41.375 43.109375 \r\nQ 37.359375 48.484375 30.078125 48.484375 \r\nQ 22.859375 48.484375 18.828125 43.109375 \r\nQ 14.796875 37.75 14.796875 27.984375 \r\nQ 14.796875 18.265625 18.828125 12.890625 \r\nQ 22.859375 7.515625 30.078125 7.515625 \r\nQ 37.359375 7.515625 41.375 12.890625 \r\nQ 45.40625 18.265625 45.40625 27.984375 \r\nz\r\nM 54.390625 6.78125 \r\nQ 54.390625 -7.171875 48.1875 -13.984375 \r\nQ 42 -20.796875 29.203125 -20.796875 \r\nQ 24.46875 -20.796875 20.265625 -20.09375 \r\nQ 16.0625 -19.390625 12.109375 -17.921875 \r\nL 12.109375 -9.1875 \r\nQ 16.0625 -11.328125 19.921875 -12.34375 \r\nQ 23.78125 -13.375 27.78125 -13.375 \r\nQ 36.625 -13.375 41.015625 -8.765625 \r\nQ 45.40625 -4.15625 45.40625 5.171875 \r\nL 45.40625 9.625 \r\nQ 42.625 4.78125 38.28125 2.390625 \r\nQ 33.9375 0 27.875 0 \r\nQ 17.828125 0 11.671875 7.65625 \r\nQ 5.515625 15.328125 5.515625 27.984375 \r\nQ 5.515625 40.671875 11.671875 48.328125 \r\nQ 17.828125 56 27.875 56 \r\nQ 33.9375 56 38.28125 53.609375 \r\nQ 42.625 51.21875 45.40625 46.390625 \r\nL 45.40625 54.6875 \r\nL 54.390625 54.6875 \r\nz\r\n\" id=\"DejaVuSans-103\"/>\r\n       <path d=\"M 18.3125 70.21875 \r\nL 18.3125 54.6875 \r\nL 36.8125 54.6875 \r\nL 36.8125 47.703125 \r\nL 18.3125 47.703125 \r\nL 18.3125 18.015625 \r\nQ 18.3125 11.328125 20.140625 9.421875 \r\nQ 21.96875 7.515625 27.59375 7.515625 \r\nL 36.8125 7.515625 \r\nL 36.8125 0 \r\nL 27.59375 0 \r\nQ 17.1875 0 13.234375 3.875 \r\nQ 9.28125 7.765625 9.28125 18.015625 \r\nL 9.28125 47.703125 \r\nL 2.6875 47.703125 \r\nL 2.6875 54.6875 \r\nL 9.28125 54.6875 \r\nL 9.28125 70.21875 \r\nz\r\n\" id=\"DejaVuSans-116\"/>\r\n       <path d=\"M 54.890625 33.015625 \r\nL 54.890625 0 \r\nL 45.90625 0 \r\nL 45.90625 32.71875 \r\nQ 45.90625 40.484375 42.875 44.328125 \r\nQ 39.84375 48.1875 33.796875 48.1875 \r\nQ 26.515625 48.1875 22.3125 43.546875 \r\nQ 18.109375 38.921875 18.109375 30.90625 \r\nL 18.109375 0 \r\nL 9.078125 0 \r\nL 9.078125 75.984375 \r\nL 18.109375 75.984375 \r\nL 18.109375 46.1875 \r\nQ 21.34375 51.125 25.703125 53.5625 \r\nQ 30.078125 56 35.796875 56 \r\nQ 45.21875 56 50.046875 50.171875 \r\nQ 54.890625 44.34375 54.890625 33.015625 \r\nz\r\n\" id=\"DejaVuSans-104\"/>\r\n       <path d=\"M 31 75.875 \r\nQ 24.46875 64.65625 21.28125 53.65625 \r\nQ 18.109375 42.671875 18.109375 31.390625 \r\nQ 18.109375 20.125 21.3125 9.0625 \r\nQ 24.515625 -2 31 -13.1875 \r\nL 23.1875 -13.1875 \r\nQ 15.875 -1.703125 12.234375 9.375 \r\nQ 8.59375 20.453125 8.59375 31.390625 \r\nQ 8.59375 42.28125 12.203125 53.3125 \r\nQ 15.828125 64.359375 23.1875 75.875 \r\nz\r\n\" id=\"DejaVuSans-40\"/>\r\n       <path d=\"M 48.78125 52.59375 \r\nL 48.78125 44.1875 \r\nQ 44.96875 46.296875 41.140625 47.34375 \r\nQ 37.3125 48.390625 33.40625 48.390625 \r\nQ 24.65625 48.390625 19.8125 42.84375 \r\nQ 14.984375 37.3125 14.984375 27.296875 \r\nQ 14.984375 17.28125 19.8125 11.734375 \r\nQ 24.65625 6.203125 33.40625 6.203125 \r\nQ 37.3125 6.203125 41.140625 7.25 \r\nQ 44.96875 8.296875 48.78125 10.40625 \r\nL 48.78125 2.09375 \r\nQ 45.015625 0.34375 40.984375 -0.53125 \r\nQ 36.96875 -1.421875 32.421875 -1.421875 \r\nQ 20.0625 -1.421875 12.78125 6.34375 \r\nQ 5.515625 14.109375 5.515625 27.296875 \r\nQ 5.515625 40.671875 12.859375 48.328125 \r\nQ 20.21875 56 33.015625 56 \r\nQ 37.15625 56 41.109375 55.140625 \r\nQ 45.0625 54.296875 48.78125 52.59375 \r\nz\r\n\" id=\"DejaVuSans-99\"/>\r\n       <path d=\"M 52 44.1875 \r\nQ 55.375 50.25 60.0625 53.125 \r\nQ 64.75 56 71.09375 56 \r\nQ 79.640625 56 84.28125 50.015625 \r\nQ 88.921875 44.046875 88.921875 33.015625 \r\nL 88.921875 0 \r\nL 79.890625 0 \r\nL 79.890625 32.71875 \r\nQ 79.890625 40.578125 77.09375 44.375 \r\nQ 74.3125 48.1875 68.609375 48.1875 \r\nQ 61.625 48.1875 57.5625 43.546875 \r\nQ 53.515625 38.921875 53.515625 30.90625 \r\nL 53.515625 0 \r\nL 44.484375 0 \r\nL 44.484375 32.71875 \r\nQ 44.484375 40.625 41.703125 44.40625 \r\nQ 38.921875 48.1875 33.109375 48.1875 \r\nQ 26.21875 48.1875 22.15625 43.53125 \r\nQ 18.109375 38.875 18.109375 30.90625 \r\nL 18.109375 0 \r\nL 9.078125 0 \r\nL 9.078125 54.6875 \r\nL 18.109375 54.6875 \r\nL 18.109375 46.1875 \r\nQ 21.1875 51.21875 25.484375 53.609375 \r\nQ 29.78125 56 35.6875 56 \r\nQ 41.65625 56 45.828125 52.96875 \r\nQ 50 49.953125 52 44.1875 \r\nz\r\n\" id=\"DejaVuSans-109\"/>\r\n       <path d=\"M 8.015625 75.875 \r\nL 15.828125 75.875 \r\nQ 23.140625 64.359375 26.78125 53.3125 \r\nQ 30.421875 42.28125 30.421875 31.390625 \r\nQ 30.421875 20.453125 26.78125 9.375 \r\nQ 23.140625 -1.703125 15.828125 -13.1875 \r\nL 8.015625 -13.1875 \r\nQ 14.5 -2 17.703125 9.0625 \r\nQ 20.90625 20.125 20.90625 31.390625 \r\nQ 20.90625 42.671875 17.703125 53.65625 \r\nQ 14.5 64.65625 8.015625 75.875 \r\nz\r\n\" id=\"DejaVuSans-41\"/>\r\n      </defs>\r\n      <use xlink:href=\"#DejaVuSans-115\"/>\r\n      <use x=\"52.099609\" xlink:href=\"#DejaVuSans-101\"/>\r\n      <use x=\"113.623047\" xlink:href=\"#DejaVuSans-112\"/>\r\n      <use x=\"177.099609\" xlink:href=\"#DejaVuSans-97\"/>\r\n      <use x=\"238.378906\" xlink:href=\"#DejaVuSans-108\"/>\r\n      <use x=\"266.162109\" xlink:href=\"#DejaVuSans-32\"/>\r\n      <use x=\"297.949219\" xlink:href=\"#DejaVuSans-108\"/>\r\n      <use x=\"325.732422\" xlink:href=\"#DejaVuSans-101\"/>\r\n      <use x=\"387.255859\" xlink:href=\"#DejaVuSans-110\"/>\r\n      <use x=\"450.634766\" xlink:href=\"#DejaVuSans-103\"/>\r\n      <use x=\"514.111328\" xlink:href=\"#DejaVuSans-116\"/>\r\n      <use x=\"553.320312\" xlink:href=\"#DejaVuSans-104\"/>\r\n      <use x=\"616.699219\" xlink:href=\"#DejaVuSans-32\"/>\r\n      <use x=\"648.486328\" xlink:href=\"#DejaVuSans-40\"/>\r\n      <use x=\"687.5\" xlink:href=\"#DejaVuSans-99\"/>\r\n      <use x=\"742.480469\" xlink:href=\"#DejaVuSans-109\"/>\r\n      <use x=\"839.892578\" xlink:href=\"#DejaVuSans-41\"/>\r\n     </g>\r\n    </g>\r\n   </g>\r\n   <g id=\"matplotlib.axis_2\">\r\n    <g id=\"ytick_1\">\r\n     <g id=\"line2d_9\">\r\n      <defs>\r\n       <path d=\"M 0 0 \r\nL -3.5 0 \r\n\" id=\"mae860b7ebf\" style=\"stroke:#000000;stroke-width:0.8;\"/>\r\n      </defs>\r\n      <g>\r\n       <use style=\"stroke:#000000;stroke-width:0.8;\" x=\"34.240625\" xlink:href=\"#mae860b7ebf\" y=\"313.990909\"/>\r\n      </g>\r\n     </g>\r\n     <g id=\"text_10\">\r\n      <!-- 1 -->\r\n      <g transform=\"translate(20.878125 317.790128)scale(0.1 -0.1)\">\r\n       <defs>\r\n        <path d=\"M 12.40625 8.296875 \r\nL 28.515625 8.296875 \r\nL 28.515625 63.921875 \r\nL 10.984375 60.40625 \r\nL 10.984375 69.390625 \r\nL 28.421875 72.90625 \r\nL 38.28125 72.90625 \r\nL 38.28125 8.296875 \r\nL 54.390625 8.296875 \r\nL 54.390625 0 \r\nL 12.40625 0 \r\nz\r\n\" id=\"DejaVuSans-49\"/>\r\n       </defs>\r\n       <use xlink:href=\"#DejaVuSans-49\"/>\r\n      </g>\r\n     </g>\r\n    </g>\r\n    <g id=\"ytick_2\">\r\n     <g id=\"line2d_10\">\r\n      <g>\r\n       <use style=\"stroke:#000000;stroke-width:0.8;\" x=\"34.240625\" xlink:href=\"#mae860b7ebf\" y=\"264.468567\"/>\r\n      </g>\r\n     </g>\r\n     <g id=\"text_11\">\r\n      <!-- 2 -->\r\n      <g transform=\"translate(20.878125 268.267786)scale(0.1 -0.1)\">\r\n       <defs>\r\n        <path d=\"M 19.1875 8.296875 \r\nL 53.609375 8.296875 \r\nL 53.609375 0 \r\nL 7.328125 0 \r\nL 7.328125 8.296875 \r\nQ 12.9375 14.109375 22.625 23.890625 \r\nQ 32.328125 33.6875 34.8125 36.53125 \r\nQ 39.546875 41.84375 41.421875 45.53125 \r\nQ 43.3125 49.21875 43.3125 52.78125 \r\nQ 43.3125 58.59375 39.234375 62.25 \r\nQ 35.15625 65.921875 28.609375 65.921875 \r\nQ 23.96875 65.921875 18.8125 64.3125 \r\nQ 13.671875 62.703125 7.8125 59.421875 \r\nL 7.8125 69.390625 \r\nQ 13.765625 71.78125 18.9375 73 \r\nQ 24.125 74.21875 28.421875 74.21875 \r\nQ 39.75 74.21875 46.484375 68.546875 \r\nQ 53.21875 62.890625 53.21875 53.421875 \r\nQ 53.21875 48.921875 51.53125 44.890625 \r\nQ 49.859375 40.875 45.40625 35.40625 \r\nQ 44.1875 33.984375 37.640625 27.21875 \r\nQ 31.109375 20.453125 19.1875 8.296875 \r\nz\r\n\" id=\"DejaVuSans-50\"/>\r\n       </defs>\r\n       <use xlink:href=\"#DejaVuSans-50\"/>\r\n      </g>\r\n     </g>\r\n    </g>\r\n    <g id=\"ytick_3\">\r\n     <g id=\"line2d_11\">\r\n      <g>\r\n       <use style=\"stroke:#000000;stroke-width:0.8;\" x=\"34.240625\" xlink:href=\"#mae860b7ebf\" y=\"214.946225\"/>\r\n      </g>\r\n     </g>\r\n     <g id=\"text_12\">\r\n      <!-- 3 -->\r\n      <g transform=\"translate(20.878125 218.745444)scale(0.1 -0.1)\">\r\n       <defs>\r\n        <path d=\"M 40.578125 39.3125 \r\nQ 47.65625 37.796875 51.625 33 \r\nQ 55.609375 28.21875 55.609375 21.1875 \r\nQ 55.609375 10.40625 48.1875 4.484375 \r\nQ 40.765625 -1.421875 27.09375 -1.421875 \r\nQ 22.515625 -1.421875 17.65625 -0.515625 \r\nQ 12.796875 0.390625 7.625 2.203125 \r\nL 7.625 11.71875 \r\nQ 11.71875 9.328125 16.59375 8.109375 \r\nQ 21.484375 6.890625 26.8125 6.890625 \r\nQ 36.078125 6.890625 40.9375 10.546875 \r\nQ 45.796875 14.203125 45.796875 21.1875 \r\nQ 45.796875 27.640625 41.28125 31.265625 \r\nQ 36.765625 34.90625 28.71875 34.90625 \r\nL 20.21875 34.90625 \r\nL 20.21875 43.015625 \r\nL 29.109375 43.015625 \r\nQ 36.375 43.015625 40.234375 45.921875 \r\nQ 44.09375 48.828125 44.09375 54.296875 \r\nQ 44.09375 59.90625 40.109375 62.90625 \r\nQ 36.140625 65.921875 28.71875 65.921875 \r\nQ 24.65625 65.921875 20.015625 65.03125 \r\nQ 15.375 64.15625 9.8125 62.3125 \r\nL 9.8125 71.09375 \r\nQ 15.4375 72.65625 20.34375 73.4375 \r\nQ 25.25 74.21875 29.59375 74.21875 \r\nQ 40.828125 74.21875 47.359375 69.109375 \r\nQ 53.90625 64.015625 53.90625 55.328125 \r\nQ 53.90625 49.265625 50.4375 45.09375 \r\nQ 46.96875 40.921875 40.578125 39.3125 \r\nz\r\n\" id=\"DejaVuSans-51\"/>\r\n       </defs>\r\n       <use xlink:href=\"#DejaVuSans-51\"/>\r\n      </g>\r\n     </g>\r\n    </g>\r\n    <g id=\"ytick_4\">\r\n     <g id=\"line2d_12\">\r\n      <g>\r\n       <use style=\"stroke:#000000;stroke-width:0.8;\" x=\"34.240625\" xlink:href=\"#mae860b7ebf\" y=\"165.423883\"/>\r\n      </g>\r\n     </g>\r\n     <g id=\"text_13\">\r\n      <!-- 4 -->\r\n      <g transform=\"translate(20.878125 169.223102)scale(0.1 -0.1)\">\r\n       <use xlink:href=\"#DejaVuSans-52\"/>\r\n      </g>\r\n     </g>\r\n    </g>\r\n    <g id=\"ytick_5\">\r\n     <g id=\"line2d_13\">\r\n      <g>\r\n       <use style=\"stroke:#000000;stroke-width:0.8;\" x=\"34.240625\" xlink:href=\"#mae860b7ebf\" y=\"115.901541\"/>\r\n      </g>\r\n     </g>\r\n     <g id=\"text_14\">\r\n      <!-- 5 -->\r\n      <g transform=\"translate(20.878125 119.70076)scale(0.1 -0.1)\">\r\n       <use xlink:href=\"#DejaVuSans-53\"/>\r\n      </g>\r\n     </g>\r\n    </g>\r\n    <g id=\"ytick_6\">\r\n     <g id=\"line2d_14\">\r\n      <g>\r\n       <use style=\"stroke:#000000;stroke-width:0.8;\" x=\"34.240625\" xlink:href=\"#mae860b7ebf\" y=\"66.379199\"/>\r\n      </g>\r\n     </g>\r\n     <g id=\"text_15\">\r\n      <!-- 6 -->\r\n      <g transform=\"translate(20.878125 70.178418)scale(0.1 -0.1)\">\r\n       <use xlink:href=\"#DejaVuSans-54\"/>\r\n      </g>\r\n     </g>\r\n    </g>\r\n    <g id=\"ytick_7\">\r\n     <g id=\"line2d_15\">\r\n      <g>\r\n       <use style=\"stroke:#000000;stroke-width:0.8;\" x=\"34.240625\" xlink:href=\"#mae860b7ebf\" y=\"16.856857\"/>\r\n      </g>\r\n     </g>\r\n     <g id=\"text_16\">\r\n      <!-- 7 -->\r\n      <g transform=\"translate(20.878125 20.656075)scale(0.1 -0.1)\">\r\n       <use xlink:href=\"#DejaVuSans-55\"/>\r\n      </g>\r\n     </g>\r\n    </g>\r\n    <g id=\"text_17\">\r\n     <!-- petal length (cm) -->\r\n     <g transform=\"translate(14.798438 211.200781)rotate(-90)scale(0.1 -0.1)\">\r\n      <use xlink:href=\"#DejaVuSans-112\"/>\r\n      <use x=\"63.476562\" xlink:href=\"#DejaVuSans-101\"/>\r\n      <use x=\"125\" xlink:href=\"#DejaVuSans-116\"/>\r\n      <use x=\"164.208984\" xlink:href=\"#DejaVuSans-97\"/>\r\n      <use x=\"225.488281\" xlink:href=\"#DejaVuSans-108\"/>\r\n      <use x=\"253.271484\" xlink:href=\"#DejaVuSans-32\"/>\r\n      <use x=\"285.058594\" xlink:href=\"#DejaVuSans-108\"/>\r\n      <use x=\"312.841797\" xlink:href=\"#DejaVuSans-101\"/>\r\n      <use x=\"374.365234\" xlink:href=\"#DejaVuSans-110\"/>\r\n      <use x=\"437.744141\" xlink:href=\"#DejaVuSans-103\"/>\r\n      <use x=\"501.220703\" xlink:href=\"#DejaVuSans-116\"/>\r\n      <use x=\"540.429688\" xlink:href=\"#DejaVuSans-104\"/>\r\n      <use x=\"603.808594\" xlink:href=\"#DejaVuSans-32\"/>\r\n      <use x=\"635.595703\" xlink:href=\"#DejaVuSans-40\"/>\r\n      <use x=\"674.609375\" xlink:href=\"#DejaVuSans-99\"/>\r\n      <use x=\"729.589844\" xlink:href=\"#DejaVuSans-109\"/>\r\n      <use x=\"827.001953\" xlink:href=\"#DejaVuSans-41\"/>\r\n     </g>\r\n    </g>\r\n   </g>\r\n   <g id=\"patch_3\">\r\n    <path d=\"M 34.240625 328.6 \r\nL 34.240625 7.2 \r\n\" style=\"fill:none;stroke:#000000;stroke-linecap:square;stroke-linejoin:miter;stroke-width:0.8;\"/>\r\n   </g>\r\n   <g id=\"patch_4\">\r\n    <path d=\"M 34.240625 328.6 \r\nL 363.196276 328.6 \r\n\" style=\"fill:none;stroke:#000000;stroke-linecap:square;stroke-linejoin:miter;stroke-width:0.8;\"/>\r\n   </g>\r\n  </g>\r\n  <g id=\"legend_1\">\r\n   <g id=\"text_18\">\r\n    <!-- class -->\r\n    <g transform=\"translate(373.202057 163.820312)scale(0.1 -0.1)\">\r\n     <use xlink:href=\"#DejaVuSans-99\"/>\r\n     <use x=\"54.980469\" xlink:href=\"#DejaVuSans-108\"/>\r\n     <use x=\"82.763672\" xlink:href=\"#DejaVuSans-97\"/>\r\n     <use x=\"144.042969\" xlink:href=\"#DejaVuSans-115\"/>\r\n     <use x=\"196.142578\" xlink:href=\"#DejaVuSans-115\"/>\r\n    </g>\r\n   </g>\r\n   <g id=\"PathCollection_5\">\r\n    <defs>\r\n     <path d=\"M 0 3 \r\nC 0.795609 3 1.55874 2.683901 2.12132 2.12132 \r\nC 2.683901 1.55874 3 0.795609 3 0 \r\nC 3 -0.795609 2.683901 -1.55874 2.12132 -2.12132 \r\nC 1.55874 -2.683901 0.795609 -3 0 -3 \r\nC -0.795609 -3 -1.55874 -2.683901 -2.12132 -2.12132 \r\nC -2.683901 -1.55874 -3 -0.795609 -3 0 \r\nC -3 0.795609 -2.683901 1.55874 -2.12132 2.12132 \r\nC -1.55874 2.683901 -0.795609 3 0 3 \r\nz\r\n\" id=\"m2b42c2b10f\" style=\"stroke:#edd1cb;\"/>\r\n    </defs>\r\n    <g>\r\n     <use style=\"fill:#edd1cb;stroke:#edd1cb;\" x=\"378.432526\" xlink:href=\"#m2b42c2b10f\" y=\"175.873437\"/>\r\n    </g>\r\n   </g>\r\n   <g id=\"text_19\">\r\n    <!-- 0 -->\r\n    <g transform=\"translate(396.432526 178.498437)scale(0.1 -0.1)\">\r\n     <use xlink:href=\"#DejaVuSans-48\"/>\r\n    </g>\r\n   </g>\r\n   <g id=\"PathCollection_6\">\r\n    <defs>\r\n     <path d=\"M 0 3 \r\nC 0.795609 3 1.55874 2.683901 2.12132 2.12132 \r\nC 2.683901 1.55874 3 0.795609 3 0 \r\nC 3 -0.795609 2.683901 -1.55874 2.12132 -2.12132 \r\nC 1.55874 -2.683901 0.795609 -3 0 -3 \r\nC -0.795609 -3 -1.55874 -2.683901 -2.12132 -2.12132 \r\nC -2.683901 -1.55874 -3 -0.795609 -3 0 \r\nC -3 0.795609 -2.683901 1.55874 -2.12132 2.12132 \r\nC -1.55874 2.683901 -0.795609 3 0 3 \r\nz\r\n\" id=\"mf239ac241e\" style=\"stroke:#a9678f;\"/>\r\n    </defs>\r\n    <g>\r\n     <use style=\"fill:#a9678f;stroke:#a9678f;\" x=\"378.432526\" xlink:href=\"#mf239ac241e\" y=\"190.551562\"/>\r\n    </g>\r\n   </g>\r\n   <g id=\"text_20\">\r\n    <!-- 1 -->\r\n    <g transform=\"translate(396.432526 193.176562)scale(0.1 -0.1)\">\r\n     <use xlink:href=\"#DejaVuSans-49\"/>\r\n    </g>\r\n   </g>\r\n   <g id=\"PathCollection_7\">\r\n    <defs>\r\n     <path d=\"M 0 3 \r\nC 0.795609 3 1.55874 2.683901 2.12132 2.12132 \r\nC 2.683901 1.55874 3 0.795609 3 0 \r\nC 3 -0.795609 2.683901 -1.55874 2.12132 -2.12132 \r\nC 1.55874 -2.683901 0.795609 -3 0 -3 \r\nC -0.795609 -3 -1.55874 -2.683901 -2.12132 -2.12132 \r\nC -2.683901 -1.55874 -3 -0.795609 -3 0 \r\nC -3 0.795609 -2.683901 1.55874 -2.12132 2.12132 \r\nC -1.55874 2.683901 -0.795609 3 0 3 \r\nz\r\n\" id=\"m45a84a5fe6\" style=\"stroke:#2d1e3e;\"/>\r\n    </defs>\r\n    <g>\r\n     <use style=\"fill:#2d1e3e;stroke:#2d1e3e;\" x=\"378.432526\" xlink:href=\"#m45a84a5fe6\" y=\"205.229687\"/>\r\n    </g>\r\n   </g>\r\n   <g id=\"text_21\">\r\n    <!-- 2 -->\r\n    <g transform=\"translate(396.432526 207.854687)scale(0.1 -0.1)\">\r\n     <use xlink:href=\"#DejaVuSans-50\"/>\r\n    </g>\r\n   </g>\r\n  </g>\r\n </g>\r\n <defs>\r\n  <clipPath id=\"p1e4b6a9588\">\r\n   <rect height=\"321.4\" width=\"328.955651\" x=\"34.240625\" y=\"7.2\"/>\r\n  </clipPath>\r\n </defs>\r\n</svg>\r\n",
      "image/png": "[encoded data removed]"
     },
     "metadata": {
      "needs_background": "light"
     }
    }
   ],
   "source": [
    "import seaborn as sns\n",
    "\n",
    "sns.relplot(x=\"sepal length (cm)\", y=\"petal length (cm)\", data = df3, hue = \"class\")"
   ]
  },
  {
   "cell_type": "code",
   "execution_count": null,
   "metadata": {},
   "outputs": [],
   "source": []
  }
 ]
}