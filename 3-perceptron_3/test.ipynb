{
 "metadata": {
  "language_info": {
   "codemirror_mode": {
    "name": "ipython",
    "version": 3
   },
   "file_extension": ".py",
   "mimetype": "text/x-python",
   "name": "python",
   "nbconvert_exporter": "python",
   "pygments_lexer": "ipython3",
   "version": "3.8.2"
  },
  "orig_nbformat": 2,
  "kernelspec": {
   "name": "pythonjvsc74a57bd07215976ab57f31a6ebec70d3fd758ef1ca3de40a4ca79a502a790142e174e29a",
   "display_name": "Python 3.8.2 64-bit ('venv': venv)"
  },
  "metadata": {
   "interpreter": {
    "hash": "7215976ab57f31a6ebec70d3fd758ef1ca3de40a4ca79a502a790142e174e29a"
   }
  }
 },
 "nbformat": 4,
 "nbformat_minor": 2,
 "cells": [
  {
   "cell_type": "code",
   "execution_count": 2,
   "metadata": {},
   "outputs": [],
   "source": [
    "import numpy as np\n",
    "\n",
    "inputs = np.array([[0, 0], [0, 1], [1, 0], [1, 1]])\n",
    "outputs = np.array([0, 0, 0, 1])\n",
    "weights = np.array([0.0, 0.0])\n",
    "learning_rate = 0.1"
   ]
  },
  {
   "cell_type": "code",
   "execution_count": 1,
   "metadata": {},
   "outputs": [],
   "source": [
    "# Sum function\n",
    "def sum(inputs, weights):\n",
    "    return inputs.dot(weights)"
   ]
  },
  {
   "cell_type": "code",
   "execution_count": 3,
   "metadata": {},
   "outputs": [],
   "source": [
    "# Step function\n",
    "def step_function(sum):\n",
    "    if (sum >= 1):\n",
    "        return 1\n",
    "    return 0"
   ]
  },
  {
   "cell_type": "code",
   "execution_count": 4,
   "metadata": {},
   "outputs": [],
   "source": [
    "# Calculate output\n",
    "def calculate_output(instance):\n",
    "    s = instance.dot(weights)\n",
    "    return step_function(s)"
   ]
  },
  {
   "cell_type": "code",
   "execution_count": 5,
   "metadata": {},
   "outputs": [],
   "source": [
    "# Train\n",
    "def train():\n",
    "    total_error = 1\n",
    "    while (total_error != 0):\n",
    "        total_error = 0\n",
    "        for i in range(len(outputs)):\n",
    "            prediction = calculate_output(inputs[i])\n",
    "            error = abs(outputs[i] - prediction)\n",
    "            total_error += error\n",
    "            if error > 0:\n",
    "                for j in range(len(weights)):\n",
    "                    weights[j] = weights[j] + (learning_rate * inputs[i][j] * error)\n",
    "                    print(f'Weight {j+1} updated: {str(weights[j])}')\n",
    "        print('Total error: ' + str(total_error))"
   ]
  },
  {
   "cell_type": "code",
   "execution_count": 6,
   "metadata": {},
   "outputs": [
    {
     "output_type": "stream",
     "name": "stdout",
     "text": [
      "Weight 1 updated: 0.1\nWeight 2 updated: 0.1\nTotal error: 1\nWeight 1 updated: 0.2\nWeight 2 updated: 0.2\nTotal error: 1\nWeight 1 updated: 0.30000000000000004\nWeight 2 updated: 0.30000000000000004\nTotal error: 1\nWeight 1 updated: 0.4\nWeight 2 updated: 0.4\nTotal error: 1\nWeight 1 updated: 0.5\nWeight 2 updated: 0.5\nTotal error: 1\nTotal error: 0\n"
     ]
    }
   ],
   "source": [
    "train()"
   ]
  },
  {
   "cell_type": "code",
   "execution_count": 7,
   "metadata": {},
   "outputs": [
    {
     "output_type": "execute_result",
     "data": {
      "text/plain": [
       "0"
      ]
     },
     "metadata": {},
     "execution_count": 7
    }
   ],
   "source": [
    "# Classification\n",
    "calculate_output(np.array([0, 0]))"
   ]
  },
  {
   "cell_type": "code",
   "execution_count": 8,
   "metadata": {},
   "outputs": [
    {
     "output_type": "execute_result",
     "data": {
      "text/plain": [
       "0"
      ]
     },
     "metadata": {},
     "execution_count": 8
    }
   ],
   "source": [
    "calculate_output(np.array([0, 1]))"
   ]
  },
  {
   "cell_type": "code",
   "execution_count": 9,
   "metadata": {},
   "outputs": [
    {
     "output_type": "execute_result",
     "data": {
      "text/plain": [
       "0"
      ]
     },
     "metadata": {},
     "execution_count": 9
    }
   ],
   "source": [
    "calculate_output(np.array([1, 0]))"
   ]
  },
  {
   "cell_type": "code",
   "execution_count": 10,
   "metadata": {},
   "outputs": [
    {
     "output_type": "execute_result",
     "data": {
      "text/plain": [
       "1"
      ]
     },
     "metadata": {},
     "execution_count": 10
    }
   ],
   "source": [
    "calculate_output(np.array([1, 1]))"
   ]
  },
  {
   "cell_type": "code",
   "execution_count": null,
   "metadata": {},
   "outputs": [],
   "source": []
  }
 ]
}