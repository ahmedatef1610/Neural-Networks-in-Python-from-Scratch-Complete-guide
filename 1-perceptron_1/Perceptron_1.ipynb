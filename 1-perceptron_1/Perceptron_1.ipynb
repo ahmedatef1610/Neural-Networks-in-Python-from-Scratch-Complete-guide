{
  "nbformat": 4,
  "nbformat_minor": 0,
  "metadata": {
    "colab": {
      "name": "Perceptron 1.ipynb",
      "provenance": [],
      "collapsed_sections": []
    },
    "kernelspec": {
      "name": "python3",
      "display_name": "Python 3"
    }
  },
  "cells": [
    {
      "cell_type": "markdown",
      "metadata": {
        "id": "zGrQyZxaxzW-"
      },
      "source": [
        "# Perceptron 1"
      ]
    },
    {
      "cell_type": "markdown",
      "metadata": {
        "id": "5hNUHxiAx2XE"
      },
      "source": [
        "![alt text](https://drive.google.com/uc?id=1o5DhBusTaqWFEfAxC7v20-jemnKBninM)"
      ]
    },
    {
      "cell_type": "markdown",
      "metadata": {
        "id": "0Zy1NxIgOCnX"
      },
      "source": [
        "## Inputs and weights"
      ]
    },
    {
      "cell_type": "code",
      "metadata": {
        "id": "z-5dEcggSO_S"
      },
      "source": [
        "inputs = [35, 25]"
      ],
      "execution_count": null,
      "outputs": []
    },
    {
      "cell_type": "code",
      "metadata": {
        "id": "iTpWAQDJSf-e",
        "outputId": "d5c98858-598e-43e7-820e-5fb8d0e1935d",
        "colab": {
          "base_uri": "https://localhost:8080/",
          "height": 34
        }
      },
      "source": [
        "type(inputs)"
      ],
      "execution_count": null,
      "outputs": [
        {
          "output_type": "execute_result",
          "data": {
            "text/plain": [
              "list"
            ]
          },
          "metadata": {
            "tags": []
          },
          "execution_count": 2
        }
      ]
    },
    {
      "cell_type": "code",
      "metadata": {
        "id": "FaQu-mJgSo6I",
        "outputId": "4af4a6e7-da17-4058-fff8-c55586971838",
        "colab": {
          "base_uri": "https://localhost:8080/",
          "height": 34
        }
      },
      "source": [
        "inputs[0]"
      ],
      "execution_count": null,
      "outputs": [
        {
          "output_type": "execute_result",
          "data": {
            "text/plain": [
              "35"
            ]
          },
          "metadata": {
            "tags": []
          },
          "execution_count": 3
        }
      ]
    },
    {
      "cell_type": "code",
      "metadata": {
        "id": "ZYmiXB3ESrXO",
        "outputId": "f3a547f4-d136-4924-ed70-54e151f06a64",
        "colab": {
          "base_uri": "https://localhost:8080/",
          "height": 34
        }
      },
      "source": [
        "inputs[1]"
      ],
      "execution_count": null,
      "outputs": [
        {
          "output_type": "execute_result",
          "data": {
            "text/plain": [
              "25"
            ]
          },
          "metadata": {
            "tags": []
          },
          "execution_count": 4
        }
      ]
    },
    {
      "cell_type": "code",
      "metadata": {
        "id": "sUegRBmjSxU_"
      },
      "source": [
        "weights = [-0.8, 0.1]"
      ],
      "execution_count": null,
      "outputs": []
    },
    {
      "cell_type": "markdown",
      "metadata": {
        "id": "b-FFtbMFOHPO"
      },
      "source": [
        "## Sum function"
      ]
    },
    {
      "cell_type": "code",
      "metadata": {
        "id": "1ZFnRkgWS6tF"
      },
      "source": [
        "def sum(inputs, weights):\n",
        "  s = 0\n",
        "  for i in range(2):\n",
        "    #print(i)\n",
        "    #print(inputs[i])\n",
        "    #print(weights[i])\n",
        "    s += inputs[i] * weights[i]\n",
        "  return s"
      ],
      "execution_count": null,
      "outputs": []
    },
    {
      "cell_type": "code",
      "metadata": {
        "id": "-nCHELAjTQw1"
      },
      "source": [
        "s = sum(inputs, weights)"
      ],
      "execution_count": null,
      "outputs": []
    },
    {
      "cell_type": "code",
      "metadata": {
        "id": "Yp7Eo5o5UC9n",
        "outputId": "6dcbc477-7dd3-40ec-9342-7fa505f3b6b6",
        "colab": {
          "base_uri": "https://localhost:8080/",
          "height": 34
        }
      },
      "source": [
        "s"
      ],
      "execution_count": null,
      "outputs": [
        {
          "output_type": "execute_result",
          "data": {
            "text/plain": [
              "-25.5"
            ]
          },
          "metadata": {
            "tags": []
          },
          "execution_count": 22
        }
      ]
    },
    {
      "cell_type": "markdown",
      "metadata": {
        "id": "HnggNLkiOJj2"
      },
      "source": [
        "## Step function"
      ]
    },
    {
      "cell_type": "code",
      "metadata": {
        "id": "tyGCL1jYUS52"
      },
      "source": [
        "def step_function(sum):\n",
        "  if (sum >= 1):\n",
        "    return 1\n",
        "  return 0"
      ],
      "execution_count": null,
      "outputs": []
    },
    {
      "cell_type": "markdown",
      "metadata": {
        "id": "pybCG4h8ONSR"
      },
      "source": [
        "## Final result"
      ]
    },
    {
      "cell_type": "code",
      "metadata": {
        "id": "nISd_PZSUzvI",
        "outputId": "56302a9b-2d9f-4f6a-b5d5-273072b71cd2",
        "colab": {
          "base_uri": "https://localhost:8080/",
          "height": 34
        }
      },
      "source": [
        "step_function(s)"
      ],
      "execution_count": null,
      "outputs": [
        {
          "output_type": "execute_result",
          "data": {
            "text/plain": [
              "0"
            ]
          },
          "metadata": {
            "tags": []
          },
          "execution_count": 23
        }
      ]
    }
  ]
}